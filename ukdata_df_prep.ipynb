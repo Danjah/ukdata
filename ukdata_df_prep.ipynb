{
 "cells": [
  {
   "cell_type": "markdown",
   "metadata": {},
   "source": [
    "# UK Data Analysis Exercise"
   ]
  },
  {
   "cell_type": "markdown",
   "metadata": {},
   "source": [
    "###### <b>"
   ]
  },
  {
   "cell_type": "markdown",
   "metadata": {},
   "source": [
    "## Questions: \n",
    "##### - What Speed Limit Causes the Most Accidents \n",
    "##### - What is the Most Dangerous Time to Drive?\n",
    "##### - What Year, Month Has the Highest Amount of Accidents?\n",
    "##### - What Days of the week has more serious accidents?\n",
    "##### - What Road and Light Conditions influence accidents?\n",
    "##### - Are Fatal Accidents more common in Rural or Urban Areas?"
   ]
  },
  {
   "cell_type": "markdown",
   "metadata": {},
   "source": [
    "#### <b>"
   ]
  },
  {
   "cell_type": "markdown",
   "metadata": {},
   "source": [
    "### Import Modules"
   ]
  },
  {
   "cell_type": "code",
   "execution_count": 1,
   "metadata": {},
   "outputs": [],
   "source": [
    "import pandas as pd\n",
    "import os\n",
    "from datetime import datetime\n",
    "import matplotlib.pyplot as plt\n",
    "import seaborn as sns\n",
    "import cufflinks as cf\n",
    "\n",
    "sns.set(style='darkgrid')\n",
    "sns.set_palette('colorblind')"
   ]
  },
  {
   "cell_type": "markdown",
   "metadata": {},
   "source": [
    "### Convert Excel to CSV reduce workload"
   ]
  },
  {
   "cell_type": "code",
   "execution_count": null,
   "metadata": {},
   "outputs": [],
   "source": [
    "#ukdata = pd.read_excel(r'/Users/danhosanee/Downloads/Dataset.xlsx')"
   ]
  },
  {
   "cell_type": "code",
   "execution_count": null,
   "metadata": {},
   "outputs": [],
   "source": [
    "#ukdata.to_csv('ukdata.csv', encoding='utf-8', index=False)"
   ]
  },
  {
   "cell_type": "markdown",
   "metadata": {},
   "source": [
    "### Set Directory for Dict Folder"
   ]
  },
  {
   "cell_type": "code",
   "execution_count": 2,
   "metadata": {},
   "outputs": [],
   "source": [
    "#Set current dir to dic data folder\n",
    "os.chdir('/Users/danhosanee/Downloads/contextCSVs (accidents)')"
   ]
  },
  {
   "cell_type": "code",
   "execution_count": 3,
   "metadata": {},
   "outputs": [],
   "source": [
    "ukData = pd.read_csv('ukdata.csv')"
   ]
  },
  {
   "cell_type": "markdown",
   "metadata": {},
   "source": [
    "### Check the Data"
   ]
  },
  {
   "cell_type": "code",
   "execution_count": 4,
   "metadata": {},
   "outputs": [
    {
     "name": "stdout",
     "output_type": "stream",
     "text": [
      "<class 'pandas.core.frame.DataFrame'>\n",
      "RangeIndex: 570609 entries, 0 to 570608\n",
      "Data columns (total 28 columns):\n",
      "ID                                             570609 non-null int64\n",
      "Location_Easting_OSGR                          570582 non-null float64\n",
      "Location_Northing_OSGR                         570582 non-null float64\n",
      "Longitude                                      570582 non-null float64\n",
      "Latitude                                       570582 non-null float64\n",
      "Police_Force                                   570609 non-null int64\n",
      "Accident_Severity                              570609 non-null int64\n",
      "Number_of_Vehicles                             570609 non-null int64\n",
      "Number_of_Casualties                           570609 non-null int64\n",
      "Date                                           570609 non-null object\n",
      "Day_of_Week                                    570609 non-null int64\n",
      "Time                                           570578 non-null object\n",
      "Local_Authority_(District)                     570609 non-null int64\n",
      "Local_Authority_(Highway)                      570609 non-null object\n",
      "1st_Road_Class                                 570609 non-null int64\n",
      "1st_Road_Number                                570609 non-null int64\n",
      "Road_Type                                      570609 non-null int64\n",
      "Speed_limit                                    570609 non-null int64\n",
      "Junction_Detail                                570609 non-null int64\n",
      "Junction_Control                               570609 non-null int64\n",
      "2nd_Road_Class                                 570609 non-null int64\n",
      "2nd_Road_Number                                570609 non-null int64\n",
      "Pedestrian_Crossing-Human_Control              570609 non-null int64\n",
      "Pedestrian_Crossing-Physical_Facilities        570609 non-null int64\n",
      "Light_Conditions                               570609 non-null int64\n",
      "Urban_or_Rural_Area                            570609 non-null int64\n",
      "Did_Police_Officer_Attend_Scene_of_Accident    570609 non-null int64\n",
      "LSOA_of_Accident_Location                      532994 non-null object\n",
      "dtypes: float64(4), int64(20), object(4)\n",
      "memory usage: 121.9+ MB\n"
     ]
    }
   ],
   "source": [
    "ukData.info()"
   ]
  },
  {
   "cell_type": "markdown",
   "metadata": {},
   "source": [
    "### Add Data Dictionary for Accident Severity to the DF"
   ]
  },
  {
   "cell_type": "code",
   "execution_count": 5,
   "metadata": {},
   "outputs": [
    {
     "data": {
      "text/html": [
       "<div>\n",
       "<style scoped>\n",
       "    .dataframe tbody tr th:only-of-type {\n",
       "        vertical-align: middle;\n",
       "    }\n",
       "\n",
       "    .dataframe tbody tr th {\n",
       "        vertical-align: top;\n",
       "    }\n",
       "\n",
       "    .dataframe thead th {\n",
       "        text-align: right;\n",
       "    }\n",
       "</style>\n",
       "<table border=\"1\" class=\"dataframe\">\n",
       "  <thead>\n",
       "    <tr style=\"text-align: right;\">\n",
       "      <th></th>\n",
       "      <th>ID</th>\n",
       "      <th>Location_Easting_OSGR</th>\n",
       "      <th>Location_Northing_OSGR</th>\n",
       "      <th>Longitude</th>\n",
       "      <th>Latitude</th>\n",
       "      <th>Police_Force</th>\n",
       "      <th>Accident_Severity</th>\n",
       "      <th>Number_of_Vehicles</th>\n",
       "      <th>Number_of_Casualties</th>\n",
       "      <th>Date</th>\n",
       "      <th>...</th>\n",
       "      <th>2nd_Road_Class</th>\n",
       "      <th>2nd_Road_Number</th>\n",
       "      <th>Pedestrian_Crossing-Human_Control</th>\n",
       "      <th>Pedestrian_Crossing-Physical_Facilities</th>\n",
       "      <th>Light_Conditions</th>\n",
       "      <th>Urban_or_Rural_Area</th>\n",
       "      <th>Did_Police_Officer_Attend_Scene_of_Accident</th>\n",
       "      <th>LSOA_of_Accident_Location</th>\n",
       "      <th>code</th>\n",
       "      <th>Accident_Severity_Label</th>\n",
       "    </tr>\n",
       "  </thead>\n",
       "  <tbody>\n",
       "    <tr>\n",
       "      <th>413260</th>\n",
       "      <td>413261</td>\n",
       "      <td>426110.0</td>\n",
       "      <td>135284.0</td>\n",
       "      <td>-1.628369</td>\n",
       "      <td>51.116197</td>\n",
       "      <td>54</td>\n",
       "      <td>3</td>\n",
       "      <td>2</td>\n",
       "      <td>1</td>\n",
       "      <td>2014-07-01</td>\n",
       "      <td>...</td>\n",
       "      <td>-1</td>\n",
       "      <td>0</td>\n",
       "      <td>0</td>\n",
       "      <td>0</td>\n",
       "      <td>1</td>\n",
       "      <td>2</td>\n",
       "      <td>1</td>\n",
       "      <td>E01032041</td>\n",
       "      <td>3</td>\n",
       "      <td>Slight</td>\n",
       "    </tr>\n",
       "    <tr>\n",
       "      <th>306627</th>\n",
       "      <td>306628</td>\n",
       "      <td>510120.0</td>\n",
       "      <td>187110.0</td>\n",
       "      <td>-0.412420</td>\n",
       "      <td>51.572063</td>\n",
       "      <td>1</td>\n",
       "      <td>3</td>\n",
       "      <td>1</td>\n",
       "      <td>1</td>\n",
       "      <td>2014-02-24</td>\n",
       "      <td>...</td>\n",
       "      <td>6</td>\n",
       "      <td>0</td>\n",
       "      <td>0</td>\n",
       "      <td>1</td>\n",
       "      <td>1</td>\n",
       "      <td>1</td>\n",
       "      <td>1</td>\n",
       "      <td>E01002470</td>\n",
       "      <td>3</td>\n",
       "      <td>Slight</td>\n",
       "    </tr>\n",
       "    <tr>\n",
       "      <th>493072</th>\n",
       "      <td>493073</td>\n",
       "      <td>378038.0</td>\n",
       "      <td>352552.0</td>\n",
       "      <td>-2.329223</td>\n",
       "      <td>53.069748</td>\n",
       "      <td>21</td>\n",
       "      <td>3</td>\n",
       "      <td>3</td>\n",
       "      <td>3</td>\n",
       "      <td>2015-05-14</td>\n",
       "      <td>...</td>\n",
       "      <td>-1</td>\n",
       "      <td>0</td>\n",
       "      <td>0</td>\n",
       "      <td>0</td>\n",
       "      <td>1</td>\n",
       "      <td>2</td>\n",
       "      <td>2</td>\n",
       "      <td>E01029532</td>\n",
       "      <td>3</td>\n",
       "      <td>Slight</td>\n",
       "    </tr>\n",
       "    <tr>\n",
       "      <th>336920</th>\n",
       "      <td>336921</td>\n",
       "      <td>458712.0</td>\n",
       "      <td>404073.0</td>\n",
       "      <td>-1.115730</td>\n",
       "      <td>53.530034</td>\n",
       "      <td>14</td>\n",
       "      <td>3</td>\n",
       "      <td>2</td>\n",
       "      <td>2</td>\n",
       "      <td>2014-06-20</td>\n",
       "      <td>...</td>\n",
       "      <td>6</td>\n",
       "      <td>0</td>\n",
       "      <td>0</td>\n",
       "      <td>0</td>\n",
       "      <td>1</td>\n",
       "      <td>1</td>\n",
       "      <td>1</td>\n",
       "      <td>E01007646</td>\n",
       "      <td>3</td>\n",
       "      <td>Slight</td>\n",
       "    </tr>\n",
       "    <tr>\n",
       "      <th>368301</th>\n",
       "      <td>368302</td>\n",
       "      <td>519920.0</td>\n",
       "      <td>302220.0</td>\n",
       "      <td>-0.230617</td>\n",
       "      <td>52.604507</td>\n",
       "      <td>35</td>\n",
       "      <td>3</td>\n",
       "      <td>2</td>\n",
       "      <td>2</td>\n",
       "      <td>2014-09-08</td>\n",
       "      <td>...</td>\n",
       "      <td>3</td>\n",
       "      <td>15</td>\n",
       "      <td>0</td>\n",
       "      <td>0</td>\n",
       "      <td>1</td>\n",
       "      <td>2</td>\n",
       "      <td>1</td>\n",
       "      <td>E01015657</td>\n",
       "      <td>3</td>\n",
       "      <td>Slight</td>\n",
       "    </tr>\n",
       "  </tbody>\n",
       "</table>\n",
       "<p>5 rows × 30 columns</p>\n",
       "</div>"
      ],
      "text/plain": [
       "            ID  Location_Easting_OSGR  Location_Northing_OSGR  Longitude  \\\n",
       "413260  413261               426110.0                135284.0  -1.628369   \n",
       "306627  306628               510120.0                187110.0  -0.412420   \n",
       "493072  493073               378038.0                352552.0  -2.329223   \n",
       "336920  336921               458712.0                404073.0  -1.115730   \n",
       "368301  368302               519920.0                302220.0  -0.230617   \n",
       "\n",
       "         Latitude  Police_Force  Accident_Severity  Number_of_Vehicles  \\\n",
       "413260  51.116197            54                  3                   2   \n",
       "306627  51.572063             1                  3                   1   \n",
       "493072  53.069748            21                  3                   3   \n",
       "336920  53.530034            14                  3                   2   \n",
       "368301  52.604507            35                  3                   2   \n",
       "\n",
       "        Number_of_Casualties        Date           ...             \\\n",
       "413260                     1  2014-07-01           ...              \n",
       "306627                     1  2014-02-24           ...              \n",
       "493072                     3  2015-05-14           ...              \n",
       "336920                     2  2014-06-20           ...              \n",
       "368301                     2  2014-09-08           ...              \n",
       "\n",
       "        2nd_Road_Class 2nd_Road_Number  Pedestrian_Crossing-Human_Control  \\\n",
       "413260              -1               0                                  0   \n",
       "306627               6               0                                  0   \n",
       "493072              -1               0                                  0   \n",
       "336920               6               0                                  0   \n",
       "368301               3              15                                  0   \n",
       "\n",
       "       Pedestrian_Crossing-Physical_Facilities  Light_Conditions  \\\n",
       "413260                                       0                 1   \n",
       "306627                                       1                 1   \n",
       "493072                                       0                 1   \n",
       "336920                                       0                 1   \n",
       "368301                                       0                 1   \n",
       "\n",
       "        Urban_or_Rural_Area  Did_Police_Officer_Attend_Scene_of_Accident  \\\n",
       "413260                    2                                            1   \n",
       "306627                    1                                            1   \n",
       "493072                    2                                            2   \n",
       "336920                    1                                            1   \n",
       "368301                    2                                            1   \n",
       "\n",
       "        LSOA_of_Accident_Location  code  Accident_Severity_Label  \n",
       "413260                  E01032041     3                   Slight  \n",
       "306627                  E01002470     3                   Slight  \n",
       "493072                  E01029532     3                   Slight  \n",
       "336920                  E01007646     3                   Slight  \n",
       "368301                  E01015657     3                   Slight  \n",
       "\n",
       "[5 rows x 30 columns]"
      ]
     },
     "execution_count": 5,
     "metadata": {},
     "output_type": "execute_result"
    }
   ],
   "source": [
    "#Severity of Accident Caterogies\n",
    "accsev_dic = pd.read_csv('Accident_Severity.csv')\n",
    "\n",
    "#Merge accsev to UkData\n",
    "ukData = ukData.merge(accsev_dic , how ='left', left_on=['Accident_Severity'], right_on=['code'])\n",
    "\n",
    "#Rename label Column \n",
    "ukData = ukData.rename(columns={'label':'Accident_Severity_Label'})\n",
    "\n",
    "#Test\n",
    "ukData.sample(5)"
   ]
  },
  {
   "cell_type": "markdown",
   "metadata": {},
   "source": [
    "## Speed Limit\n",
    "#### What Speed Limit Causes the Most Accidents? \n",
    "###### - Highest No. Accidents occur at 30 Speed Limit \n",
    "###### - Highest Serious and Slight accidents occur at 30 Speed Limit\n",
    "###### - Highest Fatal Accidents occur at roads with a 60 Speed Limit\n",
    "###### <b>"
   ]
  },
  {
   "cell_type": "code",
   "execution_count": 16,
   "metadata": {},
   "outputs": [
    {
     "data": {
      "text/html": [
       "<style  type=\"text/css\" >\n",
       "    #T_a16e989e_81e5_11e9_878e_f45c8991f033row3_col1 {\n",
       "            background-color:  red;\n",
       "        }    #T_a16e989e_81e5_11e9_878e_f45c8991f033row3_col2 {\n",
       "            background-color:  red;\n",
       "        }    #T_a16e989e_81e5_11e9_878e_f45c8991f033row6_col0 {\n",
       "            background-color:  red;\n",
       "        }</style>  \n",
       "<table id=\"T_a16e989e_81e5_11e9_878e_f45c8991f033\" > \n",
       "<thead>    <tr> \n",
       "        <th class=\"index_name level0\" >Accident_Severity_Label</th> \n",
       "        <th class=\"col_heading level0 col0\" >Fatal</th> \n",
       "        <th class=\"col_heading level0 col1\" >Serious</th> \n",
       "        <th class=\"col_heading level0 col2\" >Slight</th> \n",
       "    </tr>    <tr> \n",
       "        <th class=\"index_name level0\" >Speed_limit</th> \n",
       "        <th class=\"blank\" ></th> \n",
       "        <th class=\"blank\" ></th> \n",
       "        <th class=\"blank\" ></th> \n",
       "    </tr></thead> \n",
       "<tbody>    <tr> \n",
       "        <th id=\"T_a16e989e_81e5_11e9_878e_f45c8991f033level0_row0\" class=\"row_heading level0 row0\" >0</th> \n",
       "        <td id=\"T_a16e989e_81e5_11e9_878e_f45c8991f033row0_col0\" class=\"data row0 col0\" >0</td> \n",
       "        <td id=\"T_a16e989e_81e5_11e9_878e_f45c8991f033row0_col1\" class=\"data row0 col1\" >0</td> \n",
       "        <td id=\"T_a16e989e_81e5_11e9_878e_f45c8991f033row0_col2\" class=\"data row0 col2\" >1</td> \n",
       "    </tr>    <tr> \n",
       "        <th id=\"T_a16e989e_81e5_11e9_878e_f45c8991f033level0_row1\" class=\"row_heading level0 row1\" >10</th> \n",
       "        <td id=\"T_a16e989e_81e5_11e9_878e_f45c8991f033row1_col0\" class=\"data row1 col0\" >0</td> \n",
       "        <td id=\"T_a16e989e_81e5_11e9_878e_f45c8991f033row1_col1\" class=\"data row1 col1\" >0</td> \n",
       "        <td id=\"T_a16e989e_81e5_11e9_878e_f45c8991f033row1_col2\" class=\"data row1 col2\" >3</td> \n",
       "    </tr>    <tr> \n",
       "        <th id=\"T_a16e989e_81e5_11e9_878e_f45c8991f033level0_row2\" class=\"row_heading level0 row2\" >20</th> \n",
       "        <td id=\"T_a16e989e_81e5_11e9_878e_f45c8991f033row2_col0\" class=\"data row2 col0\" >55</td> \n",
       "        <td id=\"T_a16e989e_81e5_11e9_878e_f45c8991f033row2_col1\" class=\"data row2 col1\" >1890</td> \n",
       "        <td id=\"T_a16e989e_81e5_11e9_878e_f45c8991f033row2_col2\" class=\"data row2 col2\" >10674</td> \n",
       "    </tr>    <tr> \n",
       "        <th id=\"T_a16e989e_81e5_11e9_878e_f45c8991f033level0_row3\" class=\"row_heading level0 row3\" >30</th> \n",
       "        <td id=\"T_a16e989e_81e5_11e9_878e_f45c8991f033row3_col0\" class=\"data row3 col0\" >2214</td> \n",
       "        <td id=\"T_a16e989e_81e5_11e9_878e_f45c8991f033row3_col1\" class=\"data row3 col1\" >47701</td> \n",
       "        <td id=\"T_a16e989e_81e5_11e9_878e_f45c8991f033row3_col2\" class=\"data row3 col2\" >319183</td> \n",
       "    </tr>    <tr> \n",
       "        <th id=\"T_a16e989e_81e5_11e9_878e_f45c8991f033level0_row4\" class=\"row_heading level0 row4\" >40</th> \n",
       "        <td id=\"T_a16e989e_81e5_11e9_878e_f45c8991f033row4_col0\" class=\"data row4 col0\" >636</td> \n",
       "        <td id=\"T_a16e989e_81e5_11e9_878e_f45c8991f033row4_col1\" class=\"data row4 col1\" >7071</td> \n",
       "        <td id=\"T_a16e989e_81e5_11e9_878e_f45c8991f033row4_col2\" class=\"data row4 col2\" >39518</td> \n",
       "    </tr>    <tr> \n",
       "        <th id=\"T_a16e989e_81e5_11e9_878e_f45c8991f033level0_row5\" class=\"row_heading level0 row5\" >50</th> \n",
       "        <td id=\"T_a16e989e_81e5_11e9_878e_f45c8991f033row5_col0\" class=\"data row5 col0\" >448</td> \n",
       "        <td id=\"T_a16e989e_81e5_11e9_878e_f45c8991f033row5_col1\" class=\"data row5 col1\" >3459</td> \n",
       "        <td id=\"T_a16e989e_81e5_11e9_878e_f45c8991f033row5_col2\" class=\"data row5 col2\" >18075</td> \n",
       "    </tr>    <tr> \n",
       "        <th id=\"T_a16e989e_81e5_11e9_878e_f45c8991f033level0_row6\" class=\"row_heading level0 row6\" >60</th> \n",
       "        <td id=\"T_a16e989e_81e5_11e9_878e_f45c8991f033row6_col0\" class=\"data row6 col0\" >2361</td> \n",
       "        <td id=\"T_a16e989e_81e5_11e9_878e_f45c8991f033row6_col1\" class=\"data row6 col1\" >16193</td> \n",
       "        <td id=\"T_a16e989e_81e5_11e9_878e_f45c8991f033row6_col2\" class=\"data row6 col2\" >61705</td> \n",
       "    </tr>    <tr> \n",
       "        <th id=\"T_a16e989e_81e5_11e9_878e_f45c8991f033level0_row7\" class=\"row_heading level0 row7\" >70</th> \n",
       "        <td id=\"T_a16e989e_81e5_11e9_878e_f45c8991f033row7_col0\" class=\"data row7 col0\" >805</td> \n",
       "        <td id=\"T_a16e989e_81e5_11e9_878e_f45c8991f033row7_col1\" class=\"data row7 col1\" >4925</td> \n",
       "        <td id=\"T_a16e989e_81e5_11e9_878e_f45c8991f033row7_col2\" class=\"data row7 col2\" >33692</td> \n",
       "    </tr></tbody> \n",
       "</table> "
      ],
      "text/plain": [
       "<pandas.io.formats.style.Styler at 0x1a0dc2d5f8>"
      ]
     },
     "execution_count": 16,
     "metadata": {},
     "output_type": "execute_result"
    }
   ],
   "source": [
    "#Create a Grouped DF comparing Speed Limit against Accident_Severity_Label\n",
    "speed_gp = (ukData.groupby(['Accident_Severity_Label','Speed_limit'])['Accident_Severity_Label']\n",
    "            .agg('count').unstack('Accident_Severity_Label').fillna(0))\n",
    "\n",
    "#Highlight Max Values\n",
    "speed_gp.style.highlight_max(color='red')"
   ]
  },
  {
   "cell_type": "code",
   "execution_count": 127,
   "metadata": {},
   "outputs": [
    {
     "data": {
      "text/plain": [
       "<matplotlib.axes._subplots.AxesSubplot at 0x1a15500588>"
      ]
     },
     "execution_count": 127,
     "metadata": {},
     "output_type": "execute_result"
    },
    {
     "data": {
      "image/png": "[encoded data removed]",
      "text/plain": [
       "<matplotlib.figure.Figure at 0x1a155555f8>"
      ]
     },
     "metadata": {},
     "output_type": "display_data"
    }
   ],
   "source": [
    "#Plot Grouped Data Speed by ASL\n",
    "speed_gp.plot(kind='line', title='Accident Severity by Speed Limit',\n",
    "              figsize=(20,10), fontsize=15, sort_columns=True,\n",
    "              yticks=range(0,330000,20000))"
   ]
  },
  {
   "cell_type": "markdown",
   "metadata": {},
   "source": [
    "#### Seasonality: By Year, Weekday, Time of Day | Transform Data to relevant time periods\n"
   ]
  },
  {
   "cell_type": "code",
   "execution_count": 17,
   "metadata": {},
   "outputs": [],
   "source": [
    "#Seasonality, Dict Data\n",
    "dotw_dic = pd.read_csv('Day_of_Week.csv')\n",
    "\n",
    "#Convert Date Object to Datetime \n",
    "ukData['Date'] = pd.to_datetime(ukData['Date'], format='%Y-%m-%d')\n",
    "ukData['Time'] = pd.to_datetime(ukData['Time'], format='%H:%M:%S')\n",
    "\n",
    "#Get the Year only from Date column\n",
    "ukData['Year'] = ukData.Date.dt.year\n",
    "\n",
    "#Get the Month only from Month Column\n",
    "ukData['Month'] = ukData.Date.dt.strftime('%b')\n",
    "\n",
    "#Get the Time in Hour by hours column covert to Int\n",
    "ukData['Hour'] = ukData.Time.dt.hour.fillna(0).astype(int)\n",
    "\n",
    "#Create an instance with the relevant columns to Analyse different seasonal Data\n",
    "season = ukData[['ID','Date', 'Year', 'Month','Day_of_Week','Hour','Accident_Severity_Label']]"
   ]
  },
  {
   "cell_type": "code",
   "execution_count": 18,
   "metadata": {},
   "outputs": [
    {
     "data": {
      "text/html": [
       "<div>\n",
       "<style scoped>\n",
       "    .dataframe tbody tr th:only-of-type {\n",
       "        vertical-align: middle;\n",
       "    }\n",
       "\n",
       "    .dataframe tbody tr th {\n",
       "        vertical-align: top;\n",
       "    }\n",
       "\n",
       "    .dataframe thead th {\n",
       "        text-align: right;\n",
       "    }\n",
       "</style>\n",
       "<table border=\"1\" class=\"dataframe\">\n",
       "  <thead>\n",
       "    <tr style=\"text-align: right;\">\n",
       "      <th></th>\n",
       "      <th>ID</th>\n",
       "      <th>Date</th>\n",
       "      <th>Year</th>\n",
       "      <th>Month</th>\n",
       "      <th>Day_of_Week</th>\n",
       "      <th>label</th>\n",
       "      <th>Hour</th>\n",
       "      <th>Accident_Severity_Label</th>\n",
       "    </tr>\n",
       "  </thead>\n",
       "  <tbody>\n",
       "    <tr>\n",
       "      <th>363147</th>\n",
       "      <td>363148</td>\n",
       "      <td>2014-05-22</td>\n",
       "      <td>2014</td>\n",
       "      <td>May</td>\n",
       "      <td>5</td>\n",
       "      <td>Thursday</td>\n",
       "      <td>10</td>\n",
       "      <td>Slight</td>\n",
       "    </tr>\n",
       "    <tr>\n",
       "      <th>372353</th>\n",
       "      <td>372354</td>\n",
       "      <td>2014-10-19</td>\n",
       "      <td>2014</td>\n",
       "      <td>Oct</td>\n",
       "      <td>1</td>\n",
       "      <td>Sunday</td>\n",
       "      <td>9</td>\n",
       "      <td>Slight</td>\n",
       "    </tr>\n",
       "    <tr>\n",
       "      <th>173726</th>\n",
       "      <td>173727</td>\n",
       "      <td>2013-03-06</td>\n",
       "      <td>2013</td>\n",
       "      <td>Mar</td>\n",
       "      <td>4</td>\n",
       "      <td>Wednesday</td>\n",
       "      <td>7</td>\n",
       "      <td>Serious</td>\n",
       "    </tr>\n",
       "    <tr>\n",
       "      <th>321032</th>\n",
       "      <td>321033</td>\n",
       "      <td>2014-03-30</td>\n",
       "      <td>2014</td>\n",
       "      <td>Mar</td>\n",
       "      <td>1</td>\n",
       "      <td>Sunday</td>\n",
       "      <td>11</td>\n",
       "      <td>Slight</td>\n",
       "    </tr>\n",
       "    <tr>\n",
       "      <th>7341</th>\n",
       "      <td>7342</td>\n",
       "      <td>2012-03-20</td>\n",
       "      <td>2012</td>\n",
       "      <td>Mar</td>\n",
       "      <td>3</td>\n",
       "      <td>Tuesday</td>\n",
       "      <td>14</td>\n",
       "      <td>Slight</td>\n",
       "    </tr>\n",
       "  </tbody>\n",
       "</table>\n",
       "</div>"
      ],
      "text/plain": [
       "            ID       Date  Year Month  Day_of_Week      label  Hour  \\\n",
       "363147  363148 2014-05-22  2014   May            5   Thursday    10   \n",
       "372353  372354 2014-10-19  2014   Oct            1     Sunday     9   \n",
       "173726  173727 2013-03-06  2013   Mar            4  Wednesday     7   \n",
       "321032  321033 2014-03-30  2014   Mar            1     Sunday    11   \n",
       "7341      7342 2012-03-20  2012   Mar            3    Tuesday    14   \n",
       "\n",
       "       Accident_Severity_Label  \n",
       "363147                  Slight  \n",
       "372353                  Slight  \n",
       "173726                 Serious  \n",
       "321032                  Slight  \n",
       "7341                    Slight  "
      ]
     },
     "execution_count": 18,
     "metadata": {},
     "output_type": "execute_result"
    }
   ],
   "source": [
    "#Merge The Dictionary file with the Season Dataframe\n",
    "season = (season.merge(dotw_dic, how ='left', left_on=['Day_of_Week'], right_on=['code'])\n",
    "          .reindex(columns=['ID','Date', 'Year', 'Month','Day_of_Week','label','Hour','Accident_Severity_Label']))\n",
    "\n",
    "season.sample(5)"
   ]
  },
  {
   "cell_type": "code",
   "execution_count": 20,
   "metadata": {},
   "outputs": [
    {
     "data": {
      "text/html": [
       "<div>\n",
       "<style scoped>\n",
       "    .dataframe tbody tr th:only-of-type {\n",
       "        vertical-align: middle;\n",
       "    }\n",
       "\n",
       "    .dataframe tbody tr th {\n",
       "        vertical-align: top;\n",
       "    }\n",
       "\n",
       "    .dataframe thead th {\n",
       "        text-align: right;\n",
       "    }\n",
       "</style>\n",
       "<table border=\"1\" class=\"dataframe\">\n",
       "  <thead>\n",
       "    <tr style=\"text-align: right;\">\n",
       "      <th></th>\n",
       "      <th>ID</th>\n",
       "      <th>Date</th>\n",
       "      <th>Year</th>\n",
       "      <th>Month</th>\n",
       "      <th>Day_of_Week</th>\n",
       "      <th>Day</th>\n",
       "      <th>Hour</th>\n",
       "      <th>Accident_Severity_Label</th>\n",
       "    </tr>\n",
       "  </thead>\n",
       "  <tbody>\n",
       "    <tr>\n",
       "      <th>530760</th>\n",
       "      <td>530761</td>\n",
       "      <td>2015-08-17</td>\n",
       "      <td>2015</td>\n",
       "      <td>Aug</td>\n",
       "      <td>2</td>\n",
       "      <td>Monday</td>\n",
       "      <td>14</td>\n",
       "      <td>Slight</td>\n",
       "    </tr>\n",
       "    <tr>\n",
       "      <th>329966</th>\n",
       "      <td>329967</td>\n",
       "      <td>2014-04-10</td>\n",
       "      <td>2014</td>\n",
       "      <td>Apr</td>\n",
       "      <td>5</td>\n",
       "      <td>Thursday</td>\n",
       "      <td>22</td>\n",
       "      <td>Slight</td>\n",
       "    </tr>\n",
       "    <tr>\n",
       "      <th>529250</th>\n",
       "      <td>529251</td>\n",
       "      <td>2015-04-14</td>\n",
       "      <td>2015</td>\n",
       "      <td>Apr</td>\n",
       "      <td>3</td>\n",
       "      <td>Tuesday</td>\n",
       "      <td>18</td>\n",
       "      <td>Slight</td>\n",
       "    </tr>\n",
       "  </tbody>\n",
       "</table>\n",
       "</div>"
      ],
      "text/plain": [
       "            ID       Date  Year Month  Day_of_Week       Day  Hour  \\\n",
       "530760  530761 2015-08-17  2015   Aug            2    Monday    14   \n",
       "329966  329967 2014-04-10  2014   Apr            5  Thursday    22   \n",
       "529250  529251 2015-04-14  2015   Apr            3   Tuesday    18   \n",
       "\n",
       "       Accident_Severity_Label  \n",
       "530760                  Slight  \n",
       "329966                  Slight  \n",
       "529250                  Slight  "
      ]
     },
     "execution_count": 20,
     "metadata": {},
     "output_type": "execute_result"
    }
   ],
   "source": [
    "#rename label column to Day\n",
    "season =  season.rename(columns={\"label\":\"Day\"})\n",
    "#Test\n",
    "season.sample(3)"
   ]
  },
  {
   "cell_type": "markdown",
   "metadata": {},
   "source": [
    "## Time\n",
    "#### What is the Most Dangerous Time to Drive?\n",
    "###### - 5pm is the Most dangerous time to Drive during the Day\n",
    "###### - The two peaks in no. of Accidents occur at 8am and 5pm "
   ]
  },
  {
   "cell_type": "code",
   "execution_count": 122,
   "metadata": {},
   "outputs": [
    {
     "data": {
      "text/html": [
       "<style  type=\"text/css\" >\n",
       "    #T_4f101364_81ee_11e9_b557_f45c8991f033row17_col0 {\n",
       "            background-color:  red;\n",
       "        }    #T_4f101364_81ee_11e9_b557_f45c8991f033row17_col1 {\n",
       "            background-color:  red;\n",
       "        }    #T_4f101364_81ee_11e9_b557_f45c8991f033row17_col2 {\n",
       "            background-color:  red;\n",
       "        }</style>  \n",
       "<table id=\"T_4f101364_81ee_11e9_b557_f45c8991f033\" > \n",
       "<thead>    <tr> \n",
       "        <th class=\"index_name level0\" >Accident_Severity_Label</th> \n",
       "        <th class=\"col_heading level0 col0\" >Fatal</th> \n",
       "        <th class=\"col_heading level0 col1\" >Serious</th> \n",
       "        <th class=\"col_heading level0 col2\" >Slight</th> \n",
       "    </tr>    <tr> \n",
       "        <th class=\"index_name level0\" >Hour</th> \n",
       "        <th class=\"blank\" ></th> \n",
       "        <th class=\"blank\" ></th> \n",
       "        <th class=\"blank\" ></th> \n",
       "    </tr></thead> \n",
       "<tbody>    <tr> \n",
       "        <th id=\"T_4f101364_81ee_11e9_b557_f45c8991f033level0_row0\" class=\"row_heading level0 row0\" >0</th> \n",
       "        <td id=\"T_4f101364_81ee_11e9_b557_f45c8991f033row0_col0\" class=\"data row0 col0\" >208</td> \n",
       "        <td id=\"T_4f101364_81ee_11e9_b557_f45c8991f033row0_col1\" class=\"data row0 col1\" >1500</td> \n",
       "        <td id=\"T_4f101364_81ee_11e9_b557_f45c8991f033row0_col2\" class=\"data row0 col2\" >6272</td> \n",
       "    </tr>    <tr> \n",
       "        <th id=\"T_4f101364_81ee_11e9_b557_f45c8991f033level0_row1\" class=\"row_heading level0 row1\" >1</th> \n",
       "        <td id=\"T_4f101364_81ee_11e9_b557_f45c8991f033row1_col0\" class=\"data row1 col0\" >160</td> \n",
       "        <td id=\"T_4f101364_81ee_11e9_b557_f45c8991f033row1_col1\" class=\"data row1 col1\" >1125</td> \n",
       "        <td id=\"T_4f101364_81ee_11e9_b557_f45c8991f033row1_col2\" class=\"data row1 col2\" >4485</td> \n",
       "    </tr>    <tr> \n",
       "        <th id=\"T_4f101364_81ee_11e9_b557_f45c8991f033level0_row2\" class=\"row_heading level0 row2\" >2</th> \n",
       "        <td id=\"T_4f101364_81ee_11e9_b557_f45c8991f033row2_col0\" class=\"data row2 col0\" >141</td> \n",
       "        <td id=\"T_4f101364_81ee_11e9_b557_f45c8991f033row2_col1\" class=\"data row2 col1\" >947</td> \n",
       "        <td id=\"T_4f101364_81ee_11e9_b557_f45c8991f033row2_col2\" class=\"data row2 col2\" >3468</td> \n",
       "    </tr>    <tr> \n",
       "        <th id=\"T_4f101364_81ee_11e9_b557_f45c8991f033level0_row3\" class=\"row_heading level0 row3\" >3</th> \n",
       "        <td id=\"T_4f101364_81ee_11e9_b557_f45c8991f033row3_col0\" class=\"data row3 col0\" >133</td> \n",
       "        <td id=\"T_4f101364_81ee_11e9_b557_f45c8991f033row3_col1\" class=\"data row3 col1\" >820</td> \n",
       "        <td id=\"T_4f101364_81ee_11e9_b557_f45c8991f033row3_col2\" class=\"data row3 col2\" >2883</td> \n",
       "    </tr>    <tr> \n",
       "        <th id=\"T_4f101364_81ee_11e9_b557_f45c8991f033level0_row4\" class=\"row_heading level0 row4\" >4</th> \n",
       "        <td id=\"T_4f101364_81ee_11e9_b557_f45c8991f033row4_col0\" class=\"data row4 col0\" >111</td> \n",
       "        <td id=\"T_4f101364_81ee_11e9_b557_f45c8991f033row4_col1\" class=\"data row4 col1\" >607</td> \n",
       "        <td id=\"T_4f101364_81ee_11e9_b557_f45c8991f033row4_col2\" class=\"data row4 col2\" >2455</td> \n",
       "    </tr>    <tr> \n",
       "        <th id=\"T_4f101364_81ee_11e9_b557_f45c8991f033level0_row5\" class=\"row_heading level0 row5\" >5</th> \n",
       "        <td id=\"T_4f101364_81ee_11e9_b557_f45c8991f033row5_col0\" class=\"data row5 col0\" >148</td> \n",
       "        <td id=\"T_4f101364_81ee_11e9_b557_f45c8991f033row5_col1\" class=\"data row5 col1\" >940</td> \n",
       "        <td id=\"T_4f101364_81ee_11e9_b557_f45c8991f033row5_col2\" class=\"data row5 col2\" >3894</td> \n",
       "    </tr>    <tr> \n",
       "        <th id=\"T_4f101364_81ee_11e9_b557_f45c8991f033level0_row6\" class=\"row_heading level0 row6\" >6</th> \n",
       "        <td id=\"T_4f101364_81ee_11e9_b557_f45c8991f033row6_col0\" class=\"data row6 col0\" >175</td> \n",
       "        <td id=\"T_4f101364_81ee_11e9_b557_f45c8991f033row6_col1\" class=\"data row6 col1\" >1763</td> \n",
       "        <td id=\"T_4f101364_81ee_11e9_b557_f45c8991f033row6_col2\" class=\"data row6 col2\" >8918</td> \n",
       "    </tr>    <tr> \n",
       "        <th id=\"T_4f101364_81ee_11e9_b557_f45c8991f033level0_row7\" class=\"row_heading level0 row7\" >7</th> \n",
       "        <td id=\"T_4f101364_81ee_11e9_b557_f45c8991f033row7_col0\" class=\"data row7 col0\" >255</td> \n",
       "        <td id=\"T_4f101364_81ee_11e9_b557_f45c8991f033row7_col1\" class=\"data row7 col1\" >3482</td> \n",
       "        <td id=\"T_4f101364_81ee_11e9_b557_f45c8991f033row7_col2\" class=\"data row7 col2\" >21813</td> \n",
       "    </tr>    <tr> \n",
       "        <th id=\"T_4f101364_81ee_11e9_b557_f45c8991f033level0_row8\" class=\"row_heading level0 row8\" >8</th> \n",
       "        <td id=\"T_4f101364_81ee_11e9_b557_f45c8991f033row8_col0\" class=\"data row8 col0\" >229</td> \n",
       "        <td id=\"T_4f101364_81ee_11e9_b557_f45c8991f033row8_col1\" class=\"data row8 col1\" >4783</td> \n",
       "        <td id=\"T_4f101364_81ee_11e9_b557_f45c8991f033row8_col2\" class=\"data row8 col2\" >37003</td> \n",
       "    </tr>    <tr> \n",
       "        <th id=\"T_4f101364_81ee_11e9_b557_f45c8991f033level0_row9\" class=\"row_heading level0 row9\" >9</th> \n",
       "        <td id=\"T_4f101364_81ee_11e9_b557_f45c8991f033row9_col0\" class=\"data row9 col0\" >223</td> \n",
       "        <td id=\"T_4f101364_81ee_11e9_b557_f45c8991f033row9_col1\" class=\"data row9 col1\" >3439</td> \n",
       "        <td id=\"T_4f101364_81ee_11e9_b557_f45c8991f033row9_col2\" class=\"data row9 col2\" >25021</td> \n",
       "    </tr>    <tr> \n",
       "        <th id=\"T_4f101364_81ee_11e9_b557_f45c8991f033level0_row10\" class=\"row_heading level0 row10\" >10</th> \n",
       "        <td id=\"T_4f101364_81ee_11e9_b557_f45c8991f033row10_col0\" class=\"data row10 col0\" >324</td> \n",
       "        <td id=\"T_4f101364_81ee_11e9_b557_f45c8991f033row10_col1\" class=\"data row10 col1\" >3560</td> \n",
       "        <td id=\"T_4f101364_81ee_11e9_b557_f45c8991f033row10_col2\" class=\"data row10 col2\" >22296</td> \n",
       "    </tr>    <tr> \n",
       "        <th id=\"T_4f101364_81ee_11e9_b557_f45c8991f033level0_row11\" class=\"row_heading level0 row11\" >11</th> \n",
       "        <td id=\"T_4f101364_81ee_11e9_b557_f45c8991f033row11_col0\" class=\"data row11 col0\" >360</td> \n",
       "        <td id=\"T_4f101364_81ee_11e9_b557_f45c8991f033row11_col1\" class=\"data row11 col1\" >4031</td> \n",
       "        <td id=\"T_4f101364_81ee_11e9_b557_f45c8991f033row11_col2\" class=\"data row11 col2\" >25733</td> \n",
       "    </tr>    <tr> \n",
       "        <th id=\"T_4f101364_81ee_11e9_b557_f45c8991f033level0_row12\" class=\"row_heading level0 row12\" >12</th> \n",
       "        <td id=\"T_4f101364_81ee_11e9_b557_f45c8991f033row12_col0\" class=\"data row12 col0\" >306</td> \n",
       "        <td id=\"T_4f101364_81ee_11e9_b557_f45c8991f033row12_col1\" class=\"data row12 col1\" >4495</td> \n",
       "        <td id=\"T_4f101364_81ee_11e9_b557_f45c8991f033row12_col2\" class=\"data row12 col2\" >28922</td> \n",
       "    </tr>    <tr> \n",
       "        <th id=\"T_4f101364_81ee_11e9_b557_f45c8991f033level0_row13\" class=\"row_heading level0 row13\" >13</th> \n",
       "        <td id=\"T_4f101364_81ee_11e9_b557_f45c8991f033row13_col0\" class=\"data row13 col0\" >352</td> \n",
       "        <td id=\"T_4f101364_81ee_11e9_b557_f45c8991f033row13_col1\" class=\"data row13 col1\" >4596</td> \n",
       "        <td id=\"T_4f101364_81ee_11e9_b557_f45c8991f033row13_col2\" class=\"data row13 col2\" >29235</td> \n",
       "    </tr>    <tr> \n",
       "        <th id=\"T_4f101364_81ee_11e9_b557_f45c8991f033level0_row14\" class=\"row_heading level0 row14\" >14</th> \n",
       "        <td id=\"T_4f101364_81ee_11e9_b557_f45c8991f033row14_col0\" class=\"data row14 col0\" >340</td> \n",
       "        <td id=\"T_4f101364_81ee_11e9_b557_f45c8991f033row14_col1\" class=\"data row14 col1\" >4792</td> \n",
       "        <td id=\"T_4f101364_81ee_11e9_b557_f45c8991f033row14_col2\" class=\"data row14 col2\" >29473</td> \n",
       "    </tr>    <tr> \n",
       "        <th id=\"T_4f101364_81ee_11e9_b557_f45c8991f033level0_row15\" class=\"row_heading level0 row15\" >15</th> \n",
       "        <td id=\"T_4f101364_81ee_11e9_b557_f45c8991f033row15_col0\" class=\"data row15 col0\" >416</td> \n",
       "        <td id=\"T_4f101364_81ee_11e9_b557_f45c8991f033row15_col1\" class=\"data row15 col1\" >6183</td> \n",
       "        <td id=\"T_4f101364_81ee_11e9_b557_f45c8991f033row15_col2\" class=\"data row15 col2\" >37555</td> \n",
       "    </tr>    <tr> \n",
       "        <th id=\"T_4f101364_81ee_11e9_b557_f45c8991f033level0_row16\" class=\"row_heading level0 row16\" >16</th> \n",
       "        <td id=\"T_4f101364_81ee_11e9_b557_f45c8991f033row16_col0\" class=\"data row16 col0\" >454</td> \n",
       "        <td id=\"T_4f101364_81ee_11e9_b557_f45c8991f033row16_col1\" class=\"data row16 col1\" >6677</td> \n",
       "        <td id=\"T_4f101364_81ee_11e9_b557_f45c8991f033row16_col2\" class=\"data row16 col2\" >39591</td> \n",
       "    </tr>    <tr> \n",
       "        <th id=\"T_4f101364_81ee_11e9_b557_f45c8991f033level0_row17\" class=\"row_heading level0 row17\" >17</th> \n",
       "        <td id=\"T_4f101364_81ee_11e9_b557_f45c8991f033row17_col0\" class=\"data row17 col0\" >462</td> \n",
       "        <td id=\"T_4f101364_81ee_11e9_b557_f45c8991f033row17_col1\" class=\"data row17 col1\" >7130</td> \n",
       "        <td id=\"T_4f101364_81ee_11e9_b557_f45c8991f033row17_col2\" class=\"data row17 col2\" >44253</td> \n",
       "    </tr>    <tr> \n",
       "        <th id=\"T_4f101364_81ee_11e9_b557_f45c8991f033level0_row18\" class=\"row_heading level0 row18\" >18</th> \n",
       "        <td id=\"T_4f101364_81ee_11e9_b557_f45c8991f033row18_col0\" class=\"data row18 col0\" >363</td> \n",
       "        <td id=\"T_4f101364_81ee_11e9_b557_f45c8991f033row18_col1\" class=\"data row18 col1\" >5817</td> \n",
       "        <td id=\"T_4f101364_81ee_11e9_b557_f45c8991f033row18_col2\" class=\"data row18 col2\" >34327</td> \n",
       "    </tr>    <tr> \n",
       "        <th id=\"T_4f101364_81ee_11e9_b557_f45c8991f033level0_row19\" class=\"row_heading level0 row19\" >19</th> \n",
       "        <td id=\"T_4f101364_81ee_11e9_b557_f45c8991f033row19_col0\" class=\"data row19 col0\" >347</td> \n",
       "        <td id=\"T_4f101364_81ee_11e9_b557_f45c8991f033row19_col1\" class=\"data row19 col1\" >4410</td> \n",
       "        <td id=\"T_4f101364_81ee_11e9_b557_f45c8991f033row19_col2\" class=\"data row19 col2\" >24426</td> \n",
       "    </tr>    <tr> \n",
       "        <th id=\"T_4f101364_81ee_11e9_b557_f45c8991f033level0_row20\" class=\"row_heading level0 row20\" >20</th> \n",
       "        <td id=\"T_4f101364_81ee_11e9_b557_f45c8991f033row20_col0\" class=\"data row20 col0\" >252</td> \n",
       "        <td id=\"T_4f101364_81ee_11e9_b557_f45c8991f033row20_col1\" class=\"data row20 col1\" >3276</td> \n",
       "        <td id=\"T_4f101364_81ee_11e9_b557_f45c8991f033row20_col2\" class=\"data row20 col2\" >17587</td> \n",
       "    </tr>    <tr> \n",
       "        <th id=\"T_4f101364_81ee_11e9_b557_f45c8991f033level0_row21\" class=\"row_heading level0 row21\" >21</th> \n",
       "        <td id=\"T_4f101364_81ee_11e9_b557_f45c8991f033row21_col0\" class=\"data row21 col0\" >257</td> \n",
       "        <td id=\"T_4f101364_81ee_11e9_b557_f45c8991f033row21_col1\" class=\"data row21 col1\" >2683</td> \n",
       "        <td id=\"T_4f101364_81ee_11e9_b557_f45c8991f033row21_col2\" class=\"data row21 col2\" >13254</td> \n",
       "    </tr>    <tr> \n",
       "        <th id=\"T_4f101364_81ee_11e9_b557_f45c8991f033level0_row22\" class=\"row_heading level0 row22\" >22</th> \n",
       "        <td id=\"T_4f101364_81ee_11e9_b557_f45c8991f033row22_col0\" class=\"data row22 col0\" >274</td> \n",
       "        <td id=\"T_4f101364_81ee_11e9_b557_f45c8991f033row22_col1\" class=\"data row22 col1\" >2341</td> \n",
       "        <td id=\"T_4f101364_81ee_11e9_b557_f45c8991f033row22_col2\" class=\"data row22 col2\" >11423</td> \n",
       "    </tr>    <tr> \n",
       "        <th id=\"T_4f101364_81ee_11e9_b557_f45c8991f033level0_row23\" class=\"row_heading level0 row23\" >23</th> \n",
       "        <td id=\"T_4f101364_81ee_11e9_b557_f45c8991f033row23_col0\" class=\"data row23 col0\" >229</td> \n",
       "        <td id=\"T_4f101364_81ee_11e9_b557_f45c8991f033row23_col1\" class=\"data row23 col1\" >1842</td> \n",
       "        <td id=\"T_4f101364_81ee_11e9_b557_f45c8991f033row23_col2\" class=\"data row23 col2\" >8564</td> \n",
       "    </tr></tbody> \n",
       "</table> "
      ],
      "text/plain": [
       "<pandas.io.formats.style.Styler at 0x1a14f9ea20>"
      ]
     },
     "execution_count": 122,
     "metadata": {},
     "output_type": "execute_result"
    }
   ],
   "source": [
    "#Group Data ASL against Hours\n",
    "seasongrphr = (season.groupby(['Accident_Severity_Label','Hour'])['Accident_Severity_Label']\n",
    "               .count().unstack('Accident_Severity_Label'))\n",
    "#View\n",
    "seasongrphr.style.highlight_max(color='red')"
   ]
  },
  {
   "cell_type": "code",
   "execution_count": 26,
   "metadata": {},
   "outputs": [
    {
     "data": {
      "text/plain": [
       "<matplotlib.axes._subplots.AxesSubplot at 0x1a11e734e0>"
      ]
     },
     "execution_count": 26,
     "metadata": {},
     "output_type": "execute_result"
    },
    {
     "data": {
      "image/png": "[encoded data removed]",
      "text/plain": [
       "<matplotlib.figure.Figure at 0x1a0dc756d8>"
      ]
     },
     "metadata": {},
     "output_type": "display_data"
    }
   ],
   "source": [
    "#Plot ASL by Time\n",
    "seasongrphr.plot(kind='line',figsize=(15,7),xticks=range(0,24),yticks=range(0,50000,5000),\n",
    "                 title='Accident Severity By Time',fontsize=15)"
   ]
  },
  {
   "cell_type": "markdown",
   "metadata": {},
   "source": [
    "## By Year\n",
    "####  What Year Has the Highest Amount of Accidents?\n",
    "###### - 2014 had the Most Accidents between 2012-2015\n",
    "###### - 2013 had the Least Accidents between 2012-2015"
   ]
  },
  {
   "cell_type": "code",
   "execution_count": 125,
   "metadata": {},
   "outputs": [
    {
     "data": {
      "text/html": [
       "<style  type=\"text/css\" >\n",
       "    #T_86761826_81ee_11e9_a47c_f45c8991f033row0_col1 {\n",
       "            background-color:  yellow;\n",
       "            : ;\n",
       "        }    #T_86761826_81ee_11e9_a47c_f45c8991f033row1_col0 {\n",
       "            : ;\n",
       "            background-color:  lightgreen;\n",
       "        }    #T_86761826_81ee_11e9_a47c_f45c8991f033row1_col1 {\n",
       "            : ;\n",
       "            background-color:  lightgreen;\n",
       "        }    #T_86761826_81ee_11e9_a47c_f45c8991f033row1_col2 {\n",
       "            : ;\n",
       "            background-color:  lightgreen;\n",
       "        }    #T_86761826_81ee_11e9_a47c_f45c8991f033row2_col0 {\n",
       "            background-color:  yellow;\n",
       "            : ;\n",
       "        }    #T_86761826_81ee_11e9_a47c_f45c8991f033row2_col2 {\n",
       "            background-color:  yellow;\n",
       "            : ;\n",
       "        }</style>  \n",
       "<table id=\"T_86761826_81ee_11e9_a47c_f45c8991f033\" > \n",
       "<thead>    <tr> \n",
       "        <th class=\"index_name level0\" >Accident_Severity_Label</th> \n",
       "        <th class=\"col_heading level0 col0\" >Fatal</th> \n",
       "        <th class=\"col_heading level0 col1\" >Serious</th> \n",
       "        <th class=\"col_heading level0 col2\" >Slight</th> \n",
       "    </tr>    <tr> \n",
       "        <th class=\"index_name level0\" >Year</th> \n",
       "        <th class=\"blank\" ></th> \n",
       "        <th class=\"blank\" ></th> \n",
       "        <th class=\"blank\" ></th> \n",
       "    </tr></thead> \n",
       "<tbody>    <tr> \n",
       "        <th id=\"T_86761826_81ee_11e9_a47c_f45c8991f033level0_row0\" class=\"row_heading level0 row0\" >2012</th> \n",
       "        <td id=\"T_86761826_81ee_11e9_a47c_f45c8991f033row0_col0\" class=\"data row0 col0\" >1637</td> \n",
       "        <td id=\"T_86761826_81ee_11e9_a47c_f45c8991f033row0_col1\" class=\"data row0 col1\" >20901</td> \n",
       "        <td id=\"T_86761826_81ee_11e9_a47c_f45c8991f033row0_col2\" class=\"data row0 col2\" >123033</td> \n",
       "    </tr>    <tr> \n",
       "        <th id=\"T_86761826_81ee_11e9_a47c_f45c8991f033level0_row1\" class=\"row_heading level0 row1\" >2013</th> \n",
       "        <td id=\"T_86761826_81ee_11e9_a47c_f45c8991f033row1_col0\" class=\"data row1 col0\" >1608</td> \n",
       "        <td id=\"T_86761826_81ee_11e9_a47c_f45c8991f033row1_col1\" class=\"data row1 col1\" >19624</td> \n",
       "        <td id=\"T_86761826_81ee_11e9_a47c_f45c8991f033row1_col2\" class=\"data row1 col2\" >117428</td> \n",
       "    </tr>    <tr> \n",
       "        <th id=\"T_86761826_81ee_11e9_a47c_f45c8991f033level0_row2\" class=\"row_heading level0 row2\" >2014</th> \n",
       "        <td id=\"T_86761826_81ee_11e9_a47c_f45c8991f033row2_col0\" class=\"data row2 col0\" >1658</td> \n",
       "        <td id=\"T_86761826_81ee_11e9_a47c_f45c8991f033row2_col1\" class=\"data row2 col1\" >20676</td> \n",
       "        <td id=\"T_86761826_81ee_11e9_a47c_f45c8991f033row2_col2\" class=\"data row2 col2\" >123988</td> \n",
       "    </tr>    <tr> \n",
       "        <th id=\"T_86761826_81ee_11e9_a47c_f45c8991f033level0_row3\" class=\"row_heading level0 row3\" >2015</th> \n",
       "        <td id=\"T_86761826_81ee_11e9_a47c_f45c8991f033row3_col0\" class=\"data row3 col0\" >1616</td> \n",
       "        <td id=\"T_86761826_81ee_11e9_a47c_f45c8991f033row3_col1\" class=\"data row3 col1\" >20038</td> \n",
       "        <td id=\"T_86761826_81ee_11e9_a47c_f45c8991f033row3_col2\" class=\"data row3 col2\" >118402</td> \n",
       "    </tr></tbody> \n",
       "</table> "
      ],
      "text/plain": [
       "<pandas.io.formats.style.Styler at 0x1a14fbf2b0>"
      ]
     },
     "execution_count": 125,
     "metadata": {},
     "output_type": "execute_result"
    }
   ],
   "source": [
    "#Group Data ASL against Year\n",
    "seasongrpyear = (season.groupby(['Accident_Severity_Label','Year'])['ID'].agg('count')\n",
    "                 .unstack('Accident_Severity_Label'))\n",
    "\n",
    "#Highlight Max Values\n",
    "seasongrpyear.style.highlight_max(color='yellow').highlight_min(color='lightgreen')"
   ]
  },
  {
   "cell_type": "code",
   "execution_count": 34,
   "metadata": {},
   "outputs": [
    {
     "data": {
      "text/plain": [
       "<matplotlib.axes._subplots.AxesSubplot at 0x1a12860160>"
      ]
     },
     "execution_count": 34,
     "metadata": {},
     "output_type": "execute_result"
    },
    {
     "data": {
      "image/png": "[encoded data removed]",
      "text/plain": [
       "<matplotlib.figure.Figure at 0x1a128b2080>"
      ]
     },
     "metadata": {},
     "output_type": "display_data"
    }
   ],
   "source": [
    "#Plot Data\n",
    "seasongrpyear.plot(kind='barh',stacked=True, figsize= (22,10)\n",
    "                   ,fontsize=20,title='Accident Severity By Month',\n",
    "                   sharey=True)"
   ]
  },
  {
   "cell_type": "markdown",
   "metadata": {},
   "source": [
    "## Per Month\n",
    "#### What Months has the Highest no. of Accidents?\n",
    "###### - Jul, Oct & Nov are the Months most accidents occur\n",
    "###### - Highest No. of Fatal Accidents were in Dec\n",
    "###### - Highest No. of Serious Accidents were in Jul\n",
    "###### - Highest No. of Slight Accidents were in Oct"
   ]
  },
  {
   "cell_type": "code",
   "execution_count": 134,
   "metadata": {},
   "outputs": [
    {
     "data": {
      "text/html": [
       "<style  type=\"text/css\" >\n",
       "    #T_ef5aaa0c_81f6_11e9_af6a_f45c8991f033row6_col1 {\n",
       "            background-color:  yellow;\n",
       "        }    #T_ef5aaa0c_81f6_11e9_af6a_f45c8991f033row9_col2 {\n",
       "            background-color:  yellow;\n",
       "        }    #T_ef5aaa0c_81f6_11e9_af6a_f45c8991f033row11_col0 {\n",
       "            background-color:  yellow;\n",
       "        }</style>  \n",
       "<table id=\"T_ef5aaa0c_81f6_11e9_af6a_f45c8991f033\" > \n",
       "<thead>    <tr> \n",
       "        <th class=\"index_name level0\" >Accident_Severity_Label</th> \n",
       "        <th class=\"col_heading level0 col0\" >Fatal</th> \n",
       "        <th class=\"col_heading level0 col1\" >Serious</th> \n",
       "        <th class=\"col_heading level0 col2\" >Slight</th> \n",
       "    </tr>    <tr> \n",
       "        <th class=\"index_name level0\" >Month</th> \n",
       "        <th class=\"blank\" ></th> \n",
       "        <th class=\"blank\" ></th> \n",
       "        <th class=\"blank\" ></th> \n",
       "    </tr></thead> \n",
       "<tbody>    <tr> \n",
       "        <th id=\"T_ef5aaa0c_81f6_11e9_af6a_f45c8991f033level0_row0\" class=\"row_heading level0 row0\" >Jan</th> \n",
       "        <td id=\"T_ef5aaa0c_81f6_11e9_af6a_f45c8991f033row0_col0\" class=\"data row0 col0\" >505</td> \n",
       "        <td id=\"T_ef5aaa0c_81f6_11e9_af6a_f45c8991f033row0_col1\" class=\"data row0 col1\" >6065</td> \n",
       "        <td id=\"T_ef5aaa0c_81f6_11e9_af6a_f45c8991f033row0_col2\" class=\"data row0 col2\" >39179</td> \n",
       "    </tr>    <tr> \n",
       "        <th id=\"T_ef5aaa0c_81f6_11e9_af6a_f45c8991f033level0_row1\" class=\"row_heading level0 row1\" >Feb</th> \n",
       "        <td id=\"T_ef5aaa0c_81f6_11e9_af6a_f45c8991f033row1_col0\" class=\"data row1 col0\" >433</td> \n",
       "        <td id=\"T_ef5aaa0c_81f6_11e9_af6a_f45c8991f033row1_col1\" class=\"data row1 col1\" >5622</td> \n",
       "        <td id=\"T_ef5aaa0c_81f6_11e9_af6a_f45c8991f033row1_col2\" class=\"data row1 col2\" >35593</td> \n",
       "    </tr>    <tr> \n",
       "        <th id=\"T_ef5aaa0c_81f6_11e9_af6a_f45c8991f033level0_row2\" class=\"row_heading level0 row2\" >Mar</th> \n",
       "        <td id=\"T_ef5aaa0c_81f6_11e9_af6a_f45c8991f033row2_col0\" class=\"data row2 col0\" >488</td> \n",
       "        <td id=\"T_ef5aaa0c_81f6_11e9_af6a_f45c8991f033row2_col1\" class=\"data row2 col1\" >6295</td> \n",
       "        <td id=\"T_ef5aaa0c_81f6_11e9_af6a_f45c8991f033row2_col2\" class=\"data row2 col2\" >38526</td> \n",
       "    </tr>    <tr> \n",
       "        <th id=\"T_ef5aaa0c_81f6_11e9_af6a_f45c8991f033level0_row3\" class=\"row_heading level0 row3\" >Apr</th> \n",
       "        <td id=\"T_ef5aaa0c_81f6_11e9_af6a_f45c8991f033row3_col0\" class=\"data row3 col0\" >501</td> \n",
       "        <td id=\"T_ef5aaa0c_81f6_11e9_af6a_f45c8991f033row3_col1\" class=\"data row3 col1\" >6070</td> \n",
       "        <td id=\"T_ef5aaa0c_81f6_11e9_af6a_f45c8991f033row3_col2\" class=\"data row3 col2\" >36093</td> \n",
       "    </tr>    <tr> \n",
       "        <th id=\"T_ef5aaa0c_81f6_11e9_af6a_f45c8991f033level0_row4\" class=\"row_heading level0 row4\" >May</th> \n",
       "        <td id=\"T_ef5aaa0c_81f6_11e9_af6a_f45c8991f033row4_col0\" class=\"data row4 col0\" >550</td> \n",
       "        <td id=\"T_ef5aaa0c_81f6_11e9_af6a_f45c8991f033row4_col1\" class=\"data row4 col1\" >7141</td> \n",
       "        <td id=\"T_ef5aaa0c_81f6_11e9_af6a_f45c8991f033row4_col2\" class=\"data row4 col2\" >39941</td> \n",
       "    </tr>    <tr> \n",
       "        <th id=\"T_ef5aaa0c_81f6_11e9_af6a_f45c8991f033level0_row5\" class=\"row_heading level0 row5\" >Jun</th> \n",
       "        <td id=\"T_ef5aaa0c_81f6_11e9_af6a_f45c8991f033row5_col0\" class=\"data row5 col0\" >530</td> \n",
       "        <td id=\"T_ef5aaa0c_81f6_11e9_af6a_f45c8991f033row5_col1\" class=\"data row5 col1\" >7028</td> \n",
       "        <td id=\"T_ef5aaa0c_81f6_11e9_af6a_f45c8991f033row5_col2\" class=\"data row5 col2\" >40345</td> \n",
       "    </tr>    <tr> \n",
       "        <th id=\"T_ef5aaa0c_81f6_11e9_af6a_f45c8991f033level0_row6\" class=\"row_heading level0 row6\" >Jul</th> \n",
       "        <td id=\"T_ef5aaa0c_81f6_11e9_af6a_f45c8991f033row6_col0\" class=\"data row6 col0\" >583</td> \n",
       "        <td id=\"T_ef5aaa0c_81f6_11e9_af6a_f45c8991f033row6_col1\" class=\"data row6 col1\" >7603</td> \n",
       "        <td id=\"T_ef5aaa0c_81f6_11e9_af6a_f45c8991f033row6_col2\" class=\"data row6 col2\" >43441</td> \n",
       "    </tr>    <tr> \n",
       "        <th id=\"T_ef5aaa0c_81f6_11e9_af6a_f45c8991f033level0_row7\" class=\"row_heading level0 row7\" >Aug</th> \n",
       "        <td id=\"T_ef5aaa0c_81f6_11e9_af6a_f45c8991f033row7_col0\" class=\"data row7 col0\" >570</td> \n",
       "        <td id=\"T_ef5aaa0c_81f6_11e9_af6a_f45c8991f033row7_col1\" class=\"data row7 col1\" >7129</td> \n",
       "        <td id=\"T_ef5aaa0c_81f6_11e9_af6a_f45c8991f033row7_col2\" class=\"data row7 col2\" >39531</td> \n",
       "    </tr>    <tr> \n",
       "        <th id=\"T_ef5aaa0c_81f6_11e9_af6a_f45c8991f033level0_row8\" class=\"row_heading level0 row8\" >Sep</th> \n",
       "        <td id=\"T_ef5aaa0c_81f6_11e9_af6a_f45c8991f033row8_col0\" class=\"data row8 col0\" >564</td> \n",
       "        <td id=\"T_ef5aaa0c_81f6_11e9_af6a_f45c8991f033row8_col1\" class=\"data row8 col1\" >7229</td> \n",
       "        <td id=\"T_ef5aaa0c_81f6_11e9_af6a_f45c8991f033row8_col2\" class=\"data row8 col2\" >41318</td> \n",
       "    </tr>    <tr> \n",
       "        <th id=\"T_ef5aaa0c_81f6_11e9_af6a_f45c8991f033level0_row9\" class=\"row_heading level0 row9\" >Oct</th> \n",
       "        <td id=\"T_ef5aaa0c_81f6_11e9_af6a_f45c8991f033row9_col0\" class=\"data row9 col0\" >564</td> \n",
       "        <td id=\"T_ef5aaa0c_81f6_11e9_af6a_f45c8991f033row9_col1\" class=\"data row9 col1\" >7284</td> \n",
       "        <td id=\"T_ef5aaa0c_81f6_11e9_af6a_f45c8991f033row9_col2\" class=\"data row9 col2\" >44453</td> \n",
       "    </tr>    <tr> \n",
       "        <th id=\"T_ef5aaa0c_81f6_11e9_af6a_f45c8991f033level0_row10\" class=\"row_heading level0 row10\" >Nov</th> \n",
       "        <td id=\"T_ef5aaa0c_81f6_11e9_af6a_f45c8991f033row10_col0\" class=\"data row10 col0\" >577</td> \n",
       "        <td id=\"T_ef5aaa0c_81f6_11e9_af6a_f45c8991f033row10_col1\" class=\"data row10 col1\" >7186</td> \n",
       "        <td id=\"T_ef5aaa0c_81f6_11e9_af6a_f45c8991f033row10_col2\" class=\"data row10 col2\" >44334</td> \n",
       "    </tr>    <tr> \n",
       "        <th id=\"T_ef5aaa0c_81f6_11e9_af6a_f45c8991f033level0_row11\" class=\"row_heading level0 row11\" >Dec</th> \n",
       "        <td id=\"T_ef5aaa0c_81f6_11e9_af6a_f45c8991f033row11_col0\" class=\"data row11 col0\" >654</td> \n",
       "        <td id=\"T_ef5aaa0c_81f6_11e9_af6a_f45c8991f033row11_col1\" class=\"data row11 col1\" >6587</td> \n",
       "        <td id=\"T_ef5aaa0c_81f6_11e9_af6a_f45c8991f033row11_col2\" class=\"data row11 col2\" >40097</td> \n",
       "    </tr></tbody> \n",
       "</table> "
      ],
      "text/plain": [
       "<pandas.io.formats.style.Styler at 0x1a15e89358>"
      ]
     },
     "execution_count": 134,
     "metadata": {},
     "output_type": "execute_result"
    }
   ],
   "source": [
    "#Group ASL by Month\n",
    "seasongrpmonth = (season.groupby(['Accident_Severity_Label','Month'])['ID'].agg('count')\n",
    "                                  .unstack('Accident_Severity_Label')\n",
    "                                  .reindex(['Jan','Feb','Mar','Apr','May','Jun','Jul','Aug','Sep','Oct','Nov','Dec']))\n",
    "#Highlight Max Values\n",
    "seasongrpmonth.style.highlight_max(color='yellow')"
   ]
  },
  {
   "cell_type": "code",
   "execution_count": 52,
   "metadata": {},
   "outputs": [
    {
     "data": {
      "text/html": [
       "<style  type=\"text/css\" >\n",
       "    #T_7c13579e_81e8_11e9_9963_f45c8991f033row6_col1 {\n",
       "            background-color:  yellow;\n",
       "        }    #T_7c13579e_81e8_11e9_9963_f45c8991f033row9_col2 {\n",
       "            background-color:  yellow;\n",
       "        }    #T_7c13579e_81e8_11e9_9963_f45c8991f033row11_col0 {\n",
       "            background-color:  yellow;\n",
       "        }</style>  \n",
       "<table id=\"T_7c13579e_81e8_11e9_9963_f45c8991f033\" > \n",
       "<thead>    <tr> \n",
       "        <th class=\"index_name level0\" >Accident_Severity_Label</th> \n",
       "        <th class=\"col_heading level0 col0\" >Fatal</th> \n",
       "        <th class=\"col_heading level0 col1\" >Serious</th> \n",
       "        <th class=\"col_heading level0 col2\" >Slight</th> \n",
       "    </tr>    <tr> \n",
       "        <th class=\"index_name level0\" >Month</th> \n",
       "        <th class=\"blank\" ></th> \n",
       "        <th class=\"blank\" ></th> \n",
       "        <th class=\"blank\" ></th> \n",
       "    </tr></thead> \n",
       "<tbody>    <tr> \n",
       "        <th id=\"T_7c13579e_81e8_11e9_9963_f45c8991f033level0_row0\" class=\"row_heading level0 row0\" >Jan</th> \n",
       "        <td id=\"T_7c13579e_81e8_11e9_9963_f45c8991f033row0_col0\" class=\"data row0 col0\" >8%</td> \n",
       "        <td id=\"T_7c13579e_81e8_11e9_9963_f45c8991f033row0_col1\" class=\"data row0 col1\" >7%</td> \n",
       "        <td id=\"T_7c13579e_81e8_11e9_9963_f45c8991f033row0_col2\" class=\"data row0 col2\" >8%</td> \n",
       "    </tr>    <tr> \n",
       "        <th id=\"T_7c13579e_81e8_11e9_9963_f45c8991f033level0_row1\" class=\"row_heading level0 row1\" >Feb</th> \n",
       "        <td id=\"T_7c13579e_81e8_11e9_9963_f45c8991f033row1_col0\" class=\"data row1 col0\" >7%</td> \n",
       "        <td id=\"T_7c13579e_81e8_11e9_9963_f45c8991f033row1_col1\" class=\"data row1 col1\" >7%</td> \n",
       "        <td id=\"T_7c13579e_81e8_11e9_9963_f45c8991f033row1_col2\" class=\"data row1 col2\" >7%</td> \n",
       "    </tr>    <tr> \n",
       "        <th id=\"T_7c13579e_81e8_11e9_9963_f45c8991f033level0_row2\" class=\"row_heading level0 row2\" >Mar</th> \n",
       "        <td id=\"T_7c13579e_81e8_11e9_9963_f45c8991f033row2_col0\" class=\"data row2 col0\" >7%</td> \n",
       "        <td id=\"T_7c13579e_81e8_11e9_9963_f45c8991f033row2_col1\" class=\"data row2 col1\" >8%</td> \n",
       "        <td id=\"T_7c13579e_81e8_11e9_9963_f45c8991f033row2_col2\" class=\"data row2 col2\" >8%</td> \n",
       "    </tr>    <tr> \n",
       "        <th id=\"T_7c13579e_81e8_11e9_9963_f45c8991f033level0_row3\" class=\"row_heading level0 row3\" >Apr</th> \n",
       "        <td id=\"T_7c13579e_81e8_11e9_9963_f45c8991f033row3_col0\" class=\"data row3 col0\" >8%</td> \n",
       "        <td id=\"T_7c13579e_81e8_11e9_9963_f45c8991f033row3_col1\" class=\"data row3 col1\" >7%</td> \n",
       "        <td id=\"T_7c13579e_81e8_11e9_9963_f45c8991f033row3_col2\" class=\"data row3 col2\" >7%</td> \n",
       "    </tr>    <tr> \n",
       "        <th id=\"T_7c13579e_81e8_11e9_9963_f45c8991f033level0_row4\" class=\"row_heading level0 row4\" >May</th> \n",
       "        <td id=\"T_7c13579e_81e8_11e9_9963_f45c8991f033row4_col0\" class=\"data row4 col0\" >8%</td> \n",
       "        <td id=\"T_7c13579e_81e8_11e9_9963_f45c8991f033row4_col1\" class=\"data row4 col1\" >9%</td> \n",
       "        <td id=\"T_7c13579e_81e8_11e9_9963_f45c8991f033row4_col2\" class=\"data row4 col2\" >8%</td> \n",
       "    </tr>    <tr> \n",
       "        <th id=\"T_7c13579e_81e8_11e9_9963_f45c8991f033level0_row5\" class=\"row_heading level0 row5\" >Jun</th> \n",
       "        <td id=\"T_7c13579e_81e8_11e9_9963_f45c8991f033row5_col0\" class=\"data row5 col0\" >8%</td> \n",
       "        <td id=\"T_7c13579e_81e8_11e9_9963_f45c8991f033row5_col1\" class=\"data row5 col1\" >9%</td> \n",
       "        <td id=\"T_7c13579e_81e8_11e9_9963_f45c8991f033row5_col2\" class=\"data row5 col2\" >8%</td> \n",
       "    </tr>    <tr> \n",
       "        <th id=\"T_7c13579e_81e8_11e9_9963_f45c8991f033level0_row6\" class=\"row_heading level0 row6\" >Jul</th> \n",
       "        <td id=\"T_7c13579e_81e8_11e9_9963_f45c8991f033row6_col0\" class=\"data row6 col0\" >9%</td> \n",
       "        <td id=\"T_7c13579e_81e8_11e9_9963_f45c8991f033row6_col1\" class=\"data row6 col1\" >9%</td> \n",
       "        <td id=\"T_7c13579e_81e8_11e9_9963_f45c8991f033row6_col2\" class=\"data row6 col2\" >9%</td> \n",
       "    </tr>    <tr> \n",
       "        <th id=\"T_7c13579e_81e8_11e9_9963_f45c8991f033level0_row7\" class=\"row_heading level0 row7\" >Aug</th> \n",
       "        <td id=\"T_7c13579e_81e8_11e9_9963_f45c8991f033row7_col0\" class=\"data row7 col0\" >9%</td> \n",
       "        <td id=\"T_7c13579e_81e8_11e9_9963_f45c8991f033row7_col1\" class=\"data row7 col1\" >9%</td> \n",
       "        <td id=\"T_7c13579e_81e8_11e9_9963_f45c8991f033row7_col2\" class=\"data row7 col2\" >8%</td> \n",
       "    </tr>    <tr> \n",
       "        <th id=\"T_7c13579e_81e8_11e9_9963_f45c8991f033level0_row8\" class=\"row_heading level0 row8\" >Sep</th> \n",
       "        <td id=\"T_7c13579e_81e8_11e9_9963_f45c8991f033row8_col0\" class=\"data row8 col0\" >9%</td> \n",
       "        <td id=\"T_7c13579e_81e8_11e9_9963_f45c8991f033row8_col1\" class=\"data row8 col1\" >9%</td> \n",
       "        <td id=\"T_7c13579e_81e8_11e9_9963_f45c8991f033row8_col2\" class=\"data row8 col2\" >9%</td> \n",
       "    </tr>    <tr> \n",
       "        <th id=\"T_7c13579e_81e8_11e9_9963_f45c8991f033level0_row9\" class=\"row_heading level0 row9\" >Oct</th> \n",
       "        <td id=\"T_7c13579e_81e8_11e9_9963_f45c8991f033row9_col0\" class=\"data row9 col0\" >9%</td> \n",
       "        <td id=\"T_7c13579e_81e8_11e9_9963_f45c8991f033row9_col1\" class=\"data row9 col1\" >9%</td> \n",
       "        <td id=\"T_7c13579e_81e8_11e9_9963_f45c8991f033row9_col2\" class=\"data row9 col2\" >9%</td> \n",
       "    </tr>    <tr> \n",
       "        <th id=\"T_7c13579e_81e8_11e9_9963_f45c8991f033level0_row10\" class=\"row_heading level0 row10\" >Nov</th> \n",
       "        <td id=\"T_7c13579e_81e8_11e9_9963_f45c8991f033row10_col0\" class=\"data row10 col0\" >9%</td> \n",
       "        <td id=\"T_7c13579e_81e8_11e9_9963_f45c8991f033row10_col1\" class=\"data row10 col1\" >9%</td> \n",
       "        <td id=\"T_7c13579e_81e8_11e9_9963_f45c8991f033row10_col2\" class=\"data row10 col2\" >9%</td> \n",
       "    </tr>    <tr> \n",
       "        <th id=\"T_7c13579e_81e8_11e9_9963_f45c8991f033level0_row11\" class=\"row_heading level0 row11\" >Dec</th> \n",
       "        <td id=\"T_7c13579e_81e8_11e9_9963_f45c8991f033row11_col0\" class=\"data row11 col0\" >10%</td> \n",
       "        <td id=\"T_7c13579e_81e8_11e9_9963_f45c8991f033row11_col1\" class=\"data row11 col1\" >8%</td> \n",
       "        <td id=\"T_7c13579e_81e8_11e9_9963_f45c8991f033row11_col2\" class=\"data row11 col2\" >8%</td> \n",
       "    </tr></tbody> \n",
       "</table> "
      ],
      "text/plain": [
       "<pandas.io.formats.style.Styler at 0x1a12b75588>"
      ]
     },
     "execution_count": 52,
     "metadata": {},
     "output_type": "execute_result"
    }
   ],
   "source": [
    "#Group ASL and Month & Normalize by ASL\n",
    "((pd.crosstab(season['Month'],season['Accident_Severity_Label'],normalize='columns')*100)\n",
    "    .reindex(['Jan','Feb','Mar','Apr','May','Jun','Jul','Aug','Sep','Oct','Nov','Dec']).style.format('{0:,.0f}%')\n",
    "    .highlight_max(color='yellow'))"
   ]
  },
  {
   "cell_type": "code",
   "execution_count": 36,
   "metadata": {},
   "outputs": [
    {
     "data": {
      "text/plain": [
       "<matplotlib.axes._subplots.AxesSubplot at 0x1a128c3d30>"
      ]
     },
     "execution_count": 36,
     "metadata": {},
     "output_type": "execute_result"
    },
    {
     "data": {
      "image/png": "[encoded data removed]",
      "text/plain": [
       "<matplotlib.figure.Figure at 0x1a128e45f8>"
      ]
     },
     "metadata": {},
     "output_type": "display_data"
    }
   ],
   "source": [
    "#Plot ASL by Month by Count\n",
    "seasongrpmonth.plot(kind='barh',stacked=True, figsize= (20,9),fontsize=20,\n",
    "                    title='Accident Severity By Month',xticks=(range(0,65000,5000)))"
   ]
  },
  {
   "cell_type": "markdown",
   "metadata": {},
   "source": [
    "### Per Day\n",
    "#### What days of the week has more serious accidents?\n",
    "###### - Highest volume of fatal accidents have occurred between Friday to Sunday, with the worst date being Saturday\n",
    "###### - Friday has the highest no. of accidents"
   ]
  },
  {
   "cell_type": "code",
   "execution_count": 57,
   "metadata": {},
   "outputs": [
    {
     "data": {
      "text/html": [
       "<style  type=\"text/css\" >\n",
       "    #T_e3c645e2_81e8_11e9_814c_f45c8991f033row5_col1 {\n",
       "            background-color:  yellow;\n",
       "        }    #T_e3c645e2_81e8_11e9_814c_f45c8991f033row5_col2 {\n",
       "            background-color:  yellow;\n",
       "        }    #T_e3c645e2_81e8_11e9_814c_f45c8991f033row6_col0 {\n",
       "            background-color:  yellow;\n",
       "        }</style>  \n",
       "<table id=\"T_e3c645e2_81e8_11e9_814c_f45c8991f033\" > \n",
       "<thead>    <tr> \n",
       "        <th class=\"index_name level0\" >Accident_Severity_Label</th> \n",
       "        <th class=\"col_heading level0 col0\" >Fatal</th> \n",
       "        <th class=\"col_heading level0 col1\" >Serious</th> \n",
       "        <th class=\"col_heading level0 col2\" >Slight</th> \n",
       "    </tr>    <tr> \n",
       "        <th class=\"index_name level0\" >Day</th> \n",
       "        <th class=\"blank\" ></th> \n",
       "        <th class=\"blank\" ></th> \n",
       "        <th class=\"blank\" ></th> \n",
       "    </tr></thead> \n",
       "<tbody>    <tr> \n",
       "        <th id=\"T_e3c645e2_81e8_11e9_814c_f45c8991f033level0_row0\" class=\"row_heading level0 row0\" >Sunday</th> \n",
       "        <td id=\"T_e3c645e2_81e8_11e9_814c_f45c8991f033row0_col0\" class=\"data row0 col0\" >1041</td> \n",
       "        <td id=\"T_e3c645e2_81e8_11e9_814c_f45c8991f033row0_col1\" class=\"data row0 col1\" >10322</td> \n",
       "        <td id=\"T_e3c645e2_81e8_11e9_814c_f45c8991f033row0_col2\" class=\"data row0 col2\" >50545</td> \n",
       "    </tr>    <tr> \n",
       "        <th id=\"T_e3c645e2_81e8_11e9_814c_f45c8991f033level0_row1\" class=\"row_heading level0 row1\" >Monday</th> \n",
       "        <td id=\"T_e3c645e2_81e8_11e9_814c_f45c8991f033row1_col0\" class=\"data row1 col0\" >848</td> \n",
       "        <td id=\"T_e3c645e2_81e8_11e9_814c_f45c8991f033row1_col1\" class=\"data row1 col1\" >11057</td> \n",
       "        <td id=\"T_e3c645e2_81e8_11e9_814c_f45c8991f033row1_col2\" class=\"data row1 col2\" >69961</td> \n",
       "    </tr>    <tr> \n",
       "        <th id=\"T_e3c645e2_81e8_11e9_814c_f45c8991f033level0_row2\" class=\"row_heading level0 row2\" >Tuesday</th> \n",
       "        <td id=\"T_e3c645e2_81e8_11e9_814c_f45c8991f033row2_col0\" class=\"data row2 col0\" >853</td> \n",
       "        <td id=\"T_e3c645e2_81e8_11e9_814c_f45c8991f033row2_col1\" class=\"data row2 col1\" >11750</td> \n",
       "        <td id=\"T_e3c645e2_81e8_11e9_814c_f45c8991f033row2_col2\" class=\"data row2 col2\" >74064</td> \n",
       "    </tr>    <tr> \n",
       "        <th id=\"T_e3c645e2_81e8_11e9_814c_f45c8991f033level0_row3\" class=\"row_heading level0 row3\" >Wednesday</th> \n",
       "        <td id=\"T_e3c645e2_81e8_11e9_814c_f45c8991f033row3_col0\" class=\"data row3 col0\" >823</td> \n",
       "        <td id=\"T_e3c645e2_81e8_11e9_814c_f45c8991f033row3_col1\" class=\"data row3 col1\" >11685</td> \n",
       "        <td id=\"T_e3c645e2_81e8_11e9_814c_f45c8991f033row3_col2\" class=\"data row3 col2\" >73528</td> \n",
       "    </tr>    <tr> \n",
       "        <th id=\"T_e3c645e2_81e8_11e9_814c_f45c8991f033level0_row4\" class=\"row_heading level0 row4\" >Thursday</th> \n",
       "        <td id=\"T_e3c645e2_81e8_11e9_814c_f45c8991f033row4_col0\" class=\"data row4 col0\" >859</td> \n",
       "        <td id=\"T_e3c645e2_81e8_11e9_814c_f45c8991f033row4_col1\" class=\"data row4 col1\" >11862</td> \n",
       "        <td id=\"T_e3c645e2_81e8_11e9_814c_f45c8991f033row4_col2\" class=\"data row4 col2\" >74058</td> \n",
       "    </tr>    <tr> \n",
       "        <th id=\"T_e3c645e2_81e8_11e9_814c_f45c8991f033level0_row5\" class=\"row_heading level0 row5\" >Friday</th> \n",
       "        <td id=\"T_e3c645e2_81e8_11e9_814c_f45c8991f033row5_col0\" class=\"data row5 col0\" >993</td> \n",
       "        <td id=\"T_e3c645e2_81e8_11e9_814c_f45c8991f033row5_col1\" class=\"data row5 col1\" >12950</td> \n",
       "        <td id=\"T_e3c645e2_81e8_11e9_814c_f45c8991f033row5_col2\" class=\"data row5 col2\" >78946</td> \n",
       "    </tr>    <tr> \n",
       "        <th id=\"T_e3c645e2_81e8_11e9_814c_f45c8991f033level0_row6\" class=\"row_heading level0 row6\" >Saturday</th> \n",
       "        <td id=\"T_e3c645e2_81e8_11e9_814c_f45c8991f033row6_col0\" class=\"data row6 col0\" >1102</td> \n",
       "        <td id=\"T_e3c645e2_81e8_11e9_814c_f45c8991f033row6_col1\" class=\"data row6 col1\" >11613</td> \n",
       "        <td id=\"T_e3c645e2_81e8_11e9_814c_f45c8991f033row6_col2\" class=\"data row6 col2\" >61749</td> \n",
       "    </tr></tbody> \n",
       "</table> "
      ],
      "text/plain": [
       "<pandas.io.formats.style.Styler at 0x1a12b9f630>"
      ]
     },
     "execution_count": 57,
     "metadata": {},
     "output_type": "execute_result"
    }
   ],
   "source": [
    "#Group ASL by Day\n",
    "seasongrpday = (season.groupby(['Accident_Severity_Label','Day'])['Accident_Severity_Label'].agg('count')\n",
    "                .unstack('Accident_Severity_Label').reindex(['Sunday','Monday','Tuesday','Wednesday',\n",
    "                                                                  'Thursday','Friday','Saturday']))\n",
    "#Highlight Max Values\n",
    "seasongrpday.style.highlight_max(color='yellow')"
   ]
  },
  {
   "cell_type": "code",
   "execution_count": 64,
   "metadata": {},
   "outputs": [
    {
     "data": {
      "text/html": [
       "<style  type=\"text/css\" >\n",
       "    #T_37591c0c_81e9_11e9_a71e_f45c8991f033row5_col1 {\n",
       "            background-color:  yellow;\n",
       "        }    #T_37591c0c_81e9_11e9_a71e_f45c8991f033row5_col2 {\n",
       "            background-color:  yellow;\n",
       "        }    #T_37591c0c_81e9_11e9_a71e_f45c8991f033row6_col0 {\n",
       "            background-color:  yellow;\n",
       "        }</style>  \n",
       "<table id=\"T_37591c0c_81e9_11e9_a71e_f45c8991f033\" > \n",
       "<thead>    <tr> \n",
       "        <th class=\"index_name level0\" >Accident_Severity_Label</th> \n",
       "        <th class=\"col_heading level0 col0\" >Fatal</th> \n",
       "        <th class=\"col_heading level0 col1\" >Serious</th> \n",
       "        <th class=\"col_heading level0 col2\" >Slight</th> \n",
       "    </tr>    <tr> \n",
       "        <th class=\"index_name level0\" >Day</th> \n",
       "        <th class=\"blank\" ></th> \n",
       "        <th class=\"blank\" ></th> \n",
       "        <th class=\"blank\" ></th> \n",
       "    </tr></thead> \n",
       "<tbody>    <tr> \n",
       "        <th id=\"T_37591c0c_81e9_11e9_a71e_f45c8991f033level0_row0\" class=\"row_heading level0 row0\" >Sunday</th> \n",
       "        <td id=\"T_37591c0c_81e9_11e9_a71e_f45c8991f033row0_col0\" class=\"data row0 col0\" >16%</td> \n",
       "        <td id=\"T_37591c0c_81e9_11e9_a71e_f45c8991f033row0_col1\" class=\"data row0 col1\" >13%</td> \n",
       "        <td id=\"T_37591c0c_81e9_11e9_a71e_f45c8991f033row0_col2\" class=\"data row0 col2\" >10%</td> \n",
       "    </tr>    <tr> \n",
       "        <th id=\"T_37591c0c_81e9_11e9_a71e_f45c8991f033level0_row1\" class=\"row_heading level0 row1\" >Monday</th> \n",
       "        <td id=\"T_37591c0c_81e9_11e9_a71e_f45c8991f033row1_col0\" class=\"data row1 col0\" >13%</td> \n",
       "        <td id=\"T_37591c0c_81e9_11e9_a71e_f45c8991f033row1_col1\" class=\"data row1 col1\" >14%</td> \n",
       "        <td id=\"T_37591c0c_81e9_11e9_a71e_f45c8991f033row1_col2\" class=\"data row1 col2\" >14%</td> \n",
       "    </tr>    <tr> \n",
       "        <th id=\"T_37591c0c_81e9_11e9_a71e_f45c8991f033level0_row2\" class=\"row_heading level0 row2\" >Tuesday</th> \n",
       "        <td id=\"T_37591c0c_81e9_11e9_a71e_f45c8991f033row2_col0\" class=\"data row2 col0\" >13%</td> \n",
       "        <td id=\"T_37591c0c_81e9_11e9_a71e_f45c8991f033row2_col1\" class=\"data row2 col1\" >14%</td> \n",
       "        <td id=\"T_37591c0c_81e9_11e9_a71e_f45c8991f033row2_col2\" class=\"data row2 col2\" >15%</td> \n",
       "    </tr>    <tr> \n",
       "        <th id=\"T_37591c0c_81e9_11e9_a71e_f45c8991f033level0_row3\" class=\"row_heading level0 row3\" >Wednesday</th> \n",
       "        <td id=\"T_37591c0c_81e9_11e9_a71e_f45c8991f033row3_col0\" class=\"data row3 col0\" >13%</td> \n",
       "        <td id=\"T_37591c0c_81e9_11e9_a71e_f45c8991f033row3_col1\" class=\"data row3 col1\" >14%</td> \n",
       "        <td id=\"T_37591c0c_81e9_11e9_a71e_f45c8991f033row3_col2\" class=\"data row3 col2\" >15%</td> \n",
       "    </tr>    <tr> \n",
       "        <th id=\"T_37591c0c_81e9_11e9_a71e_f45c8991f033level0_row4\" class=\"row_heading level0 row4\" >Thursday</th> \n",
       "        <td id=\"T_37591c0c_81e9_11e9_a71e_f45c8991f033row4_col0\" class=\"data row4 col0\" >13%</td> \n",
       "        <td id=\"T_37591c0c_81e9_11e9_a71e_f45c8991f033row4_col1\" class=\"data row4 col1\" >15%</td> \n",
       "        <td id=\"T_37591c0c_81e9_11e9_a71e_f45c8991f033row4_col2\" class=\"data row4 col2\" >15%</td> \n",
       "    </tr>    <tr> \n",
       "        <th id=\"T_37591c0c_81e9_11e9_a71e_f45c8991f033level0_row5\" class=\"row_heading level0 row5\" >Friday</th> \n",
       "        <td id=\"T_37591c0c_81e9_11e9_a71e_f45c8991f033row5_col0\" class=\"data row5 col0\" >15%</td> \n",
       "        <td id=\"T_37591c0c_81e9_11e9_a71e_f45c8991f033row5_col1\" class=\"data row5 col1\" >16%</td> \n",
       "        <td id=\"T_37591c0c_81e9_11e9_a71e_f45c8991f033row5_col2\" class=\"data row5 col2\" >16%</td> \n",
       "    </tr>    <tr> \n",
       "        <th id=\"T_37591c0c_81e9_11e9_a71e_f45c8991f033level0_row6\" class=\"row_heading level0 row6\" >Saturday</th> \n",
       "        <td id=\"T_37591c0c_81e9_11e9_a71e_f45c8991f033row6_col0\" class=\"data row6 col0\" >17%</td> \n",
       "        <td id=\"T_37591c0c_81e9_11e9_a71e_f45c8991f033row6_col1\" class=\"data row6 col1\" >14%</td> \n",
       "        <td id=\"T_37591c0c_81e9_11e9_a71e_f45c8991f033row6_col2\" class=\"data row6 col2\" >13%</td> \n",
       "    </tr></tbody> \n",
       "</table> "
      ],
      "text/plain": [
       "<pandas.io.formats.style.Styler at 0x1a12bbdbe0>"
      ]
     },
     "execution_count": 64,
     "metadata": {},
     "output_type": "execute_result"
    }
   ],
   "source": [
    "#Group Day by ASL then Normalize, Covert to % and Highlight Max % values\n",
    "seasongrpdayPer=((pd.crosstab(season['Day'],season['Accident_Severity_Label'],normalize='columns')\n",
    "     .reindex(['Sunday','Monday','Tuesday','Wednesday','Thursday','Friday','Saturday'])*100)\n",
    "     .style.format('{0:,.0f}%')\n",
    "     .highlight_max(color='yellow'))\n",
    "\n",
    "seasongrpdayPer"
   ]
  },
  {
   "cell_type": "code",
   "execution_count": 136,
   "metadata": {},
   "outputs": [
    {
     "data": {
      "text/plain": [
       "<matplotlib.axes._subplots.AxesSubplot at 0x1a1630a2b0>"
      ]
     },
     "execution_count": 136,
     "metadata": {},
     "output_type": "execute_result"
    },
    {
     "data": {
      "image/png": "[encoded data removed]",
      "text/plain": [
       "<matplotlib.figure.Figure at 0x1a16328198>"
      ]
     },
     "metadata": {},
     "output_type": "display_data"
    }
   ],
   "source": [
    "#Plot ASL by DOFTW by Count\n",
    "seasongrpday.plot(kind='barh',stacked=True, figsize= (20,9),fontsize=20,\n",
    "                    title='Accident Severity By Day of Week',use_index=True,xticks=range(0,95000,10000))"
   ]
  },
  {
   "cell_type": "markdown",
   "metadata": {},
   "source": [
    "## External Factors\n",
    "#### What Road Types and Light Conditions influnce accidents?\n",
    "###### - Single Carriageway Roads in  Daylight and Lights Lit conditions has the highest no. of accidents\n",
    "###### - Single & Dual Carriageways and Roundabouts in Daylight or Lit conditions are the Top 3 in terms of accidents \n",
    "###### - Carriageways/Roundabout Road Types have a major influnce in no. of accidents\n"
   ]
  },
  {
   "cell_type": "code",
   "execution_count": 66,
   "metadata": {},
   "outputs": [],
   "source": [
    "#External Factors Dict's Import\n",
    "road_dic = pd.read_csv('Road_Type.csv')\n",
    "light_dic = pd.read_csv('Light_Conditions.csv')"
   ]
  },
  {
   "cell_type": "code",
   "execution_count": 67,
   "metadata": {},
   "outputs": [
    {
     "data": {
      "text/html": [
       "<div>\n",
       "<style scoped>\n",
       "    .dataframe tbody tr th:only-of-type {\n",
       "        vertical-align: middle;\n",
       "    }\n",
       "\n",
       "    .dataframe tbody tr th {\n",
       "        vertical-align: top;\n",
       "    }\n",
       "\n",
       "    .dataframe thead th {\n",
       "        text-align: right;\n",
       "    }\n",
       "</style>\n",
       "<table border=\"1\" class=\"dataframe\">\n",
       "  <thead>\n",
       "    <tr style=\"text-align: right;\">\n",
       "      <th></th>\n",
       "      <th>ID</th>\n",
       "      <th>Light_Conditions</th>\n",
       "      <th>Road_Type</th>\n",
       "      <th>Accident_Severity_Label</th>\n",
       "    </tr>\n",
       "  </thead>\n",
       "  <tbody>\n",
       "    <tr>\n",
       "      <th>147951</th>\n",
       "      <td>147952</td>\n",
       "      <td>4</td>\n",
       "      <td>6</td>\n",
       "      <td>Slight</td>\n",
       "    </tr>\n",
       "    <tr>\n",
       "      <th>109760</th>\n",
       "      <td>109761</td>\n",
       "      <td>1</td>\n",
       "      <td>6</td>\n",
       "      <td>Slight</td>\n",
       "    </tr>\n",
       "    <tr>\n",
       "      <th>520552</th>\n",
       "      <td>520553</td>\n",
       "      <td>1</td>\n",
       "      <td>6</td>\n",
       "      <td>Slight</td>\n",
       "    </tr>\n",
       "    <tr>\n",
       "      <th>310483</th>\n",
       "      <td>310484</td>\n",
       "      <td>1</td>\n",
       "      <td>6</td>\n",
       "      <td>Slight</td>\n",
       "    </tr>\n",
       "    <tr>\n",
       "      <th>62202</th>\n",
       "      <td>62203</td>\n",
       "      <td>1</td>\n",
       "      <td>6</td>\n",
       "      <td>Serious</td>\n",
       "    </tr>\n",
       "  </tbody>\n",
       "</table>\n",
       "</div>"
      ],
      "text/plain": [
       "            ID  Light_Conditions  Road_Type Accident_Severity_Label\n",
       "147951  147952                 4          6                  Slight\n",
       "109760  109761                 1          6                  Slight\n",
       "520552  520553                 1          6                  Slight\n",
       "310483  310484                 1          6                  Slight\n",
       "62202    62203                 1          6                 Serious"
      ]
     },
     "execution_count": 67,
     "metadata": {},
     "output_type": "execute_result"
    }
   ],
   "source": [
    "#Create an instance of the ukData and assign to ext_fac to reduce columns\n",
    "ext_fac = ukData[['ID','Light_Conditions','Road_Type','Accident_Severity_Label']]\n",
    "ext_fac.sample(5)"
   ]
  },
  {
   "cell_type": "code",
   "execution_count": 68,
   "metadata": {},
   "outputs": [
    {
     "data": {
      "text/html": [
       "<div>\n",
       "<style scoped>\n",
       "    .dataframe tbody tr th:only-of-type {\n",
       "        vertical-align: middle;\n",
       "    }\n",
       "\n",
       "    .dataframe tbody tr th {\n",
       "        vertical-align: top;\n",
       "    }\n",
       "\n",
       "    .dataframe thead th {\n",
       "        text-align: right;\n",
       "    }\n",
       "</style>\n",
       "<table border=\"1\" class=\"dataframe\">\n",
       "  <thead>\n",
       "    <tr style=\"text-align: right;\">\n",
       "      <th></th>\n",
       "      <th>ID</th>\n",
       "      <th>Light_Conditions</th>\n",
       "      <th>Road_Type</th>\n",
       "      <th>Accident_Severity_Label</th>\n",
       "      <th>code</th>\n",
       "      <th>Road</th>\n",
       "    </tr>\n",
       "  </thead>\n",
       "  <tbody>\n",
       "    <tr>\n",
       "      <th>0</th>\n",
       "      <td>1</td>\n",
       "      <td>4</td>\n",
       "      <td>6</td>\n",
       "      <td>Slight</td>\n",
       "      <td>6</td>\n",
       "      <td>Single carriageway</td>\n",
       "    </tr>\n",
       "    <tr>\n",
       "      <th>1</th>\n",
       "      <td>2</td>\n",
       "      <td>4</td>\n",
       "      <td>6</td>\n",
       "      <td>Slight</td>\n",
       "      <td>6</td>\n",
       "      <td>Single carriageway</td>\n",
       "    </tr>\n",
       "    <tr>\n",
       "      <th>2</th>\n",
       "      <td>3</td>\n",
       "      <td>1</td>\n",
       "      <td>2</td>\n",
       "      <td>Slight</td>\n",
       "      <td>2</td>\n",
       "      <td>One way street</td>\n",
       "    </tr>\n",
       "    <tr>\n",
       "      <th>3</th>\n",
       "      <td>4</td>\n",
       "      <td>1</td>\n",
       "      <td>6</td>\n",
       "      <td>Slight</td>\n",
       "      <td>6</td>\n",
       "      <td>Single carriageway</td>\n",
       "    </tr>\n",
       "    <tr>\n",
       "      <th>4</th>\n",
       "      <td>5</td>\n",
       "      <td>4</td>\n",
       "      <td>6</td>\n",
       "      <td>Slight</td>\n",
       "      <td>6</td>\n",
       "      <td>Single carriageway</td>\n",
       "    </tr>\n",
       "  </tbody>\n",
       "</table>\n",
       "</div>"
      ],
      "text/plain": [
       "   ID  Light_Conditions  Road_Type Accident_Severity_Label  code  \\\n",
       "0   1                 4          6                  Slight     6   \n",
       "1   2                 4          6                  Slight     6   \n",
       "2   3                 1          2                  Slight     2   \n",
       "3   4                 1          6                  Slight     6   \n",
       "4   5                 4          6                  Slight     6   \n",
       "\n",
       "                 Road  \n",
       "0  Single carriageway  \n",
       "1  Single carriageway  \n",
       "2      One way street  \n",
       "3  Single carriageway  \n",
       "4  Single carriageway  "
      ]
     },
     "execution_count": 68,
     "metadata": {},
     "output_type": "execute_result"
    }
   ],
   "source": [
    "#Merge Data with Road_Type Dic File\n",
    "ext_fac = (ext_fac.merge(road_dic, how ='left', left_on=['Road_Type'], right_on=['code']))\n",
    "ext_fac = ext_fac.rename(columns={'label':'Road'})\n",
    "ext_fac.head()"
   ]
  },
  {
   "cell_type": "code",
   "execution_count": 69,
   "metadata": {},
   "outputs": [
    {
     "data": {
      "text/html": [
       "<div>\n",
       "<style scoped>\n",
       "    .dataframe tbody tr th:only-of-type {\n",
       "        vertical-align: middle;\n",
       "    }\n",
       "\n",
       "    .dataframe tbody tr th {\n",
       "        vertical-align: top;\n",
       "    }\n",
       "\n",
       "    .dataframe thead th {\n",
       "        text-align: right;\n",
       "    }\n",
       "</style>\n",
       "<table border=\"1\" class=\"dataframe\">\n",
       "  <thead>\n",
       "    <tr style=\"text-align: right;\">\n",
       "      <th></th>\n",
       "      <th>ID</th>\n",
       "      <th>Light_Conditions</th>\n",
       "      <th>Road_Type</th>\n",
       "      <th>Accident_Severity_Label</th>\n",
       "      <th>code_x</th>\n",
       "      <th>Road</th>\n",
       "      <th>code_y</th>\n",
       "      <th>Light</th>\n",
       "    </tr>\n",
       "  </thead>\n",
       "  <tbody>\n",
       "    <tr>\n",
       "      <th>0</th>\n",
       "      <td>1</td>\n",
       "      <td>4</td>\n",
       "      <td>6</td>\n",
       "      <td>Slight</td>\n",
       "      <td>6</td>\n",
       "      <td>Single carriageway</td>\n",
       "      <td>4</td>\n",
       "      <td>Darkness - lights lit</td>\n",
       "    </tr>\n",
       "    <tr>\n",
       "      <th>1</th>\n",
       "      <td>2</td>\n",
       "      <td>4</td>\n",
       "      <td>6</td>\n",
       "      <td>Slight</td>\n",
       "      <td>6</td>\n",
       "      <td>Single carriageway</td>\n",
       "      <td>4</td>\n",
       "      <td>Darkness - lights lit</td>\n",
       "    </tr>\n",
       "    <tr>\n",
       "      <th>2</th>\n",
       "      <td>3</td>\n",
       "      <td>1</td>\n",
       "      <td>2</td>\n",
       "      <td>Slight</td>\n",
       "      <td>2</td>\n",
       "      <td>One way street</td>\n",
       "      <td>1</td>\n",
       "      <td>Daylight</td>\n",
       "    </tr>\n",
       "    <tr>\n",
       "      <th>3</th>\n",
       "      <td>4</td>\n",
       "      <td>1</td>\n",
       "      <td>6</td>\n",
       "      <td>Slight</td>\n",
       "      <td>6</td>\n",
       "      <td>Single carriageway</td>\n",
       "      <td>1</td>\n",
       "      <td>Daylight</td>\n",
       "    </tr>\n",
       "    <tr>\n",
       "      <th>4</th>\n",
       "      <td>5</td>\n",
       "      <td>4</td>\n",
       "      <td>6</td>\n",
       "      <td>Slight</td>\n",
       "      <td>6</td>\n",
       "      <td>Single carriageway</td>\n",
       "      <td>4</td>\n",
       "      <td>Darkness - lights lit</td>\n",
       "    </tr>\n",
       "  </tbody>\n",
       "</table>\n",
       "</div>"
      ],
      "text/plain": [
       "   ID  Light_Conditions  Road_Type Accident_Severity_Label  code_x  \\\n",
       "0   1                 4          6                  Slight       6   \n",
       "1   2                 4          6                  Slight       6   \n",
       "2   3                 1          2                  Slight       2   \n",
       "3   4                 1          6                  Slight       6   \n",
       "4   5                 4          6                  Slight       6   \n",
       "\n",
       "                 Road  code_y                  Light  \n",
       "0  Single carriageway       4  Darkness - lights lit  \n",
       "1  Single carriageway       4  Darkness - lights lit  \n",
       "2      One way street       1               Daylight  \n",
       "3  Single carriageway       1               Daylight  \n",
       "4  Single carriageway       4  Darkness - lights lit  "
      ]
     },
     "execution_count": 69,
     "metadata": {},
     "output_type": "execute_result"
    }
   ],
   "source": [
    "#Merge Data with Light Conditions\n",
    "ext_fac = (ext_fac.merge(light_dic, how='left', left_on=['Light_Conditions'], right_on=['code']))\n",
    "ext_fac = ext_fac.rename(columns={'label':'Light'})\n",
    "ext_fac.head()"
   ]
  },
  {
   "cell_type": "markdown",
   "metadata": {},
   "source": [
    "##### View the Dic Data for Road and Light Factors"
   ]
  },
  {
   "cell_type": "code",
   "execution_count": 70,
   "metadata": {},
   "outputs": [
    {
     "data": {
      "text/html": [
       "<div>\n",
       "<style scoped>\n",
       "    .dataframe tbody tr th:only-of-type {\n",
       "        vertical-align: middle;\n",
       "    }\n",
       "\n",
       "    .dataframe tbody tr th {\n",
       "        vertical-align: top;\n",
       "    }\n",
       "\n",
       "    .dataframe thead th {\n",
       "        text-align: right;\n",
       "    }\n",
       "</style>\n",
       "<table border=\"1\" class=\"dataframe\">\n",
       "  <thead>\n",
       "    <tr style=\"text-align: right;\">\n",
       "      <th></th>\n",
       "      <th>ID</th>\n",
       "      <th>Accident_Severity_Label</th>\n",
       "      <th>Road</th>\n",
       "      <th>Light</th>\n",
       "    </tr>\n",
       "  </thead>\n",
       "  <tbody>\n",
       "    <tr>\n",
       "      <th>0</th>\n",
       "      <td>1</td>\n",
       "      <td>Slight</td>\n",
       "      <td>Single carriageway</td>\n",
       "      <td>Darkness - lights lit</td>\n",
       "    </tr>\n",
       "    <tr>\n",
       "      <th>1</th>\n",
       "      <td>2</td>\n",
       "      <td>Slight</td>\n",
       "      <td>Single carriageway</td>\n",
       "      <td>Darkness - lights lit</td>\n",
       "    </tr>\n",
       "    <tr>\n",
       "      <th>2</th>\n",
       "      <td>3</td>\n",
       "      <td>Slight</td>\n",
       "      <td>One way street</td>\n",
       "      <td>Daylight</td>\n",
       "    </tr>\n",
       "    <tr>\n",
       "      <th>3</th>\n",
       "      <td>4</td>\n",
       "      <td>Slight</td>\n",
       "      <td>Single carriageway</td>\n",
       "      <td>Daylight</td>\n",
       "    </tr>\n",
       "    <tr>\n",
       "      <th>4</th>\n",
       "      <td>5</td>\n",
       "      <td>Slight</td>\n",
       "      <td>Single carriageway</td>\n",
       "      <td>Darkness - lights lit</td>\n",
       "    </tr>\n",
       "  </tbody>\n",
       "</table>\n",
       "</div>"
      ],
      "text/plain": [
       "   ID Accident_Severity_Label                Road                  Light\n",
       "0   1                  Slight  Single carriageway  Darkness - lights lit\n",
       "1   2                  Slight  Single carriageway  Darkness - lights lit\n",
       "2   3                  Slight      One way street               Daylight\n",
       "3   4                  Slight  Single carriageway               Daylight\n",
       "4   5                  Slight  Single carriageway  Darkness - lights lit"
      ]
     },
     "execution_count": 70,
     "metadata": {},
     "output_type": "execute_result"
    }
   ],
   "source": [
    "#Create Instance with Columns being used for Groupby\n",
    "ext_fac_fin = ext_fac.reindex(columns=['ID','Accident_Severity_Label','Road','Light'])\n",
    "#Test\n",
    "ext_fac_fin.head()"
   ]
  },
  {
   "cell_type": "code",
   "execution_count": 71,
   "metadata": {},
   "outputs": [
    {
     "data": {
      "text/html": [
       "<div>\n",
       "<style scoped>\n",
       "    .dataframe tbody tr th:only-of-type {\n",
       "        vertical-align: middle;\n",
       "    }\n",
       "\n",
       "    .dataframe tbody tr th {\n",
       "        vertical-align: top;\n",
       "    }\n",
       "\n",
       "    .dataframe thead th {\n",
       "        text-align: right;\n",
       "    }\n",
       "</style>\n",
       "<table border=\"1\" class=\"dataframe\">\n",
       "  <thead>\n",
       "    <tr style=\"text-align: right;\">\n",
       "      <th></th>\n",
       "      <th>Accident_Severity_Label</th>\n",
       "      <th>Fatal</th>\n",
       "      <th>Serious</th>\n",
       "      <th>Slight</th>\n",
       "      <th>Total</th>\n",
       "    </tr>\n",
       "    <tr>\n",
       "      <th>Road</th>\n",
       "      <th>Light</th>\n",
       "      <th></th>\n",
       "      <th></th>\n",
       "      <th></th>\n",
       "      <th></th>\n",
       "    </tr>\n",
       "  </thead>\n",
       "  <tbody>\n",
       "    <tr>\n",
       "      <th rowspan=\"5\" valign=\"top\">Dual carriageway</th>\n",
       "      <th>Darkness - lighting unknown</th>\n",
       "      <td>24</td>\n",
       "      <td>122</td>\n",
       "      <td>992</td>\n",
       "      <td>1138</td>\n",
       "    </tr>\n",
       "    <tr>\n",
       "      <th>Darkness - lights lit</th>\n",
       "      <td>274</td>\n",
       "      <td>2244</td>\n",
       "      <td>13623</td>\n",
       "      <td>16141</td>\n",
       "    </tr>\n",
       "    <tr>\n",
       "      <th>Darkness - lights unlit</th>\n",
       "      <td>17</td>\n",
       "      <td>83</td>\n",
       "      <td>469</td>\n",
       "      <td>569</td>\n",
       "    </tr>\n",
       "    <tr>\n",
       "      <th>Darkness - no lighting</th>\n",
       "      <td>305</td>\n",
       "      <td>993</td>\n",
       "      <td>4727</td>\n",
       "      <td>6025</td>\n",
       "    </tr>\n",
       "    <tr>\n",
       "      <th>Daylight</th>\n",
       "      <td>638</td>\n",
       "      <td>6675</td>\n",
       "      <td>50226</td>\n",
       "      <td>57539</td>\n",
       "    </tr>\n",
       "  </tbody>\n",
       "</table>\n",
       "</div>"
      ],
      "text/plain": [
       "Accident_Severity_Label                       Fatal  Serious  Slight  Total\n",
       "Road             Light                                                     \n",
       "Dual carriageway Darkness - lighting unknown     24      122     992   1138\n",
       "                 Darkness - lights lit          274     2244   13623  16141\n",
       "                 Darkness - lights unlit         17       83     469    569\n",
       "                 Darkness - no lighting         305      993    4727   6025\n",
       "                 Daylight                       638     6675   50226  57539"
      ]
     },
     "execution_count": 71,
     "metadata": {},
     "output_type": "execute_result"
    }
   ],
   "source": [
    "#Group Road, Light against ASL\n",
    "ext_fac_plt = pd.crosstab([ext_fac_fin['Road'],ext_fac_fin['Light']],ext_fac_fin['Accident_Severity_Label'],\n",
    "                          margins=True, margins_name='Total')\n",
    "ext_fac_plt.head()"
   ]
  },
  {
   "cell_type": "code",
   "execution_count": 72,
   "metadata": {},
   "outputs": [
    {
     "data": {
      "text/plain": [
       "Text(0.5,1,'Accident Severity By External Factors')"
      ]
     },
     "execution_count": 72,
     "metadata": {},
     "output_type": "execute_result"
    },
    {
     "data": {
      "image/png": "[encoded data removed]",
      "text/plain": [
       "<matplotlib.figure.Figure at 0x1a12bbd198>"
      ]
     },
     "metadata": {},
     "output_type": "display_data"
    }
   ],
   "source": [
    "#Plot a HeatMap of Road,Light and ASL\n",
    "f, ax = plt.subplots(figsize=(10, 15))\n",
    "sns.heatmap(ext_fac_plt,cmap='Blues', annot=True, cbar=True, fmt='0,g', ax=ax, linewidths=0.5,vmax=570000) \n",
    "ax.set_title('Accident Severity By External Factors', loc='center',fontsize=20)"
   ]
  },
  {
   "cell_type": "markdown",
   "metadata": {},
   "source": [
    "## Geographic\n",
    "#### Are Fatal Accidents more common in Rural or Urban Areas?\n",
    "##### - Fatal Accidents have occurred more in Rural than Urban Areas\n",
    "##### - 64% of fatal accidents have occurred in Rural Areas"
   ]
  },
  {
   "cell_type": "code",
   "execution_count": 90,
   "metadata": {},
   "outputs": [
    {
     "data": {
      "text/html": [
       "<div>\n",
       "<style scoped>\n",
       "    .dataframe tbody tr th:only-of-type {\n",
       "        vertical-align: middle;\n",
       "    }\n",
       "\n",
       "    .dataframe tbody tr th {\n",
       "        vertical-align: top;\n",
       "    }\n",
       "\n",
       "    .dataframe thead th {\n",
       "        text-align: right;\n",
       "    }\n",
       "</style>\n",
       "<table border=\"1\" class=\"dataframe\">\n",
       "  <thead>\n",
       "    <tr style=\"text-align: right;\">\n",
       "      <th></th>\n",
       "      <th>code</th>\n",
       "      <th>label</th>\n",
       "    </tr>\n",
       "  </thead>\n",
       "  <tbody>\n",
       "    <tr>\n",
       "      <th>0</th>\n",
       "      <td>1</td>\n",
       "      <td>Urban</td>\n",
       "    </tr>\n",
       "    <tr>\n",
       "      <th>1</th>\n",
       "      <td>2</td>\n",
       "      <td>Rural</td>\n",
       "    </tr>\n",
       "    <tr>\n",
       "      <th>2</th>\n",
       "      <td>3</td>\n",
       "      <td>Unallocated</td>\n",
       "    </tr>\n",
       "  </tbody>\n",
       "</table>\n",
       "</div>"
      ],
      "text/plain": [
       "   code        label\n",
       "0     1        Urban\n",
       "1     2        Rural\n",
       "2     3  Unallocated"
      ]
     },
     "execution_count": 90,
     "metadata": {},
     "output_type": "execute_result"
    }
   ],
   "source": [
    "#Geography Dictionary assign to a variable\n",
    "urban_rural_dic = pd.read_csv('Urban_Rural.csv')\n",
    "urban_rural_dic.head(3)"
   ]
  },
  {
   "cell_type": "code",
   "execution_count": 91,
   "metadata": {},
   "outputs": [
    {
     "data": {
      "text/html": [
       "<div>\n",
       "<style scoped>\n",
       "    .dataframe tbody tr th:only-of-type {\n",
       "        vertical-align: middle;\n",
       "    }\n",
       "\n",
       "    .dataframe tbody tr th {\n",
       "        vertical-align: top;\n",
       "    }\n",
       "\n",
       "    .dataframe thead th {\n",
       "        text-align: right;\n",
       "    }\n",
       "</style>\n",
       "<table border=\"1\" class=\"dataframe\">\n",
       "  <thead>\n",
       "    <tr style=\"text-align: right;\">\n",
       "      <th></th>\n",
       "      <th>ID</th>\n",
       "      <th>Urban_or_Rural_Area</th>\n",
       "      <th>Accident_Severity_Label</th>\n",
       "    </tr>\n",
       "  </thead>\n",
       "  <tbody>\n",
       "    <tr>\n",
       "      <th>75698</th>\n",
       "      <td>75699</td>\n",
       "      <td>2</td>\n",
       "      <td>Slight</td>\n",
       "    </tr>\n",
       "    <tr>\n",
       "      <th>539890</th>\n",
       "      <td>539891</td>\n",
       "      <td>1</td>\n",
       "      <td>Slight</td>\n",
       "    </tr>\n",
       "    <tr>\n",
       "      <th>422949</th>\n",
       "      <td>422950</td>\n",
       "      <td>1</td>\n",
       "      <td>Slight</td>\n",
       "    </tr>\n",
       "    <tr>\n",
       "      <th>277780</th>\n",
       "      <td>277781</td>\n",
       "      <td>2</td>\n",
       "      <td>Slight</td>\n",
       "    </tr>\n",
       "    <tr>\n",
       "      <th>155127</th>\n",
       "      <td>155128</td>\n",
       "      <td>1</td>\n",
       "      <td>Serious</td>\n",
       "    </tr>\n",
       "  </tbody>\n",
       "</table>\n",
       "</div>"
      ],
      "text/plain": [
       "            ID  Urban_or_Rural_Area Accident_Severity_Label\n",
       "75698    75699                    2                  Slight\n",
       "539890  539891                    1                  Slight\n",
       "422949  422950                    1                  Slight\n",
       "277780  277781                    2                  Slight\n",
       "155127  155128                    1                 Serious"
      ]
     },
     "execution_count": 91,
     "metadata": {},
     "output_type": "execute_result"
    }
   ],
   "source": [
    "#Create an instance of ukData \n",
    "geo_area = ukData[['ID','Urban_or_Rural_Area','Accident_Severity_Label']]\n",
    "#Test\n",
    "geo_area.sample(5)"
   ]
  },
  {
   "cell_type": "code",
   "execution_count": 92,
   "metadata": {},
   "outputs": [
    {
     "data": {
      "text/html": [
       "<div>\n",
       "<style scoped>\n",
       "    .dataframe tbody tr th:only-of-type {\n",
       "        vertical-align: middle;\n",
       "    }\n",
       "\n",
       "    .dataframe tbody tr th {\n",
       "        vertical-align: top;\n",
       "    }\n",
       "\n",
       "    .dataframe thead th {\n",
       "        text-align: right;\n",
       "    }\n",
       "</style>\n",
       "<table border=\"1\" class=\"dataframe\">\n",
       "  <thead>\n",
       "    <tr style=\"text-align: right;\">\n",
       "      <th></th>\n",
       "      <th>ID</th>\n",
       "      <th>Urban_or_Rural_Area</th>\n",
       "      <th>Accident_Severity_Label</th>\n",
       "      <th>code</th>\n",
       "      <th>label</th>\n",
       "    </tr>\n",
       "  </thead>\n",
       "  <tbody>\n",
       "    <tr>\n",
       "      <th>255562</th>\n",
       "      <td>255563</td>\n",
       "      <td>2</td>\n",
       "      <td>Serious</td>\n",
       "      <td>2</td>\n",
       "      <td>Rural</td>\n",
       "    </tr>\n",
       "    <tr>\n",
       "      <th>280090</th>\n",
       "      <td>280091</td>\n",
       "      <td>1</td>\n",
       "      <td>Slight</td>\n",
       "      <td>1</td>\n",
       "      <td>Urban</td>\n",
       "    </tr>\n",
       "    <tr>\n",
       "      <th>166924</th>\n",
       "      <td>166925</td>\n",
       "      <td>1</td>\n",
       "      <td>Slight</td>\n",
       "      <td>1</td>\n",
       "      <td>Urban</td>\n",
       "    </tr>\n",
       "    <tr>\n",
       "      <th>359531</th>\n",
       "      <td>359532</td>\n",
       "      <td>1</td>\n",
       "      <td>Slight</td>\n",
       "      <td>1</td>\n",
       "      <td>Urban</td>\n",
       "    </tr>\n",
       "    <tr>\n",
       "      <th>243003</th>\n",
       "      <td>243004</td>\n",
       "      <td>1</td>\n",
       "      <td>Slight</td>\n",
       "      <td>1</td>\n",
       "      <td>Urban</td>\n",
       "    </tr>\n",
       "  </tbody>\n",
       "</table>\n",
       "</div>"
      ],
      "text/plain": [
       "            ID  Urban_or_Rural_Area Accident_Severity_Label  code  label\n",
       "255562  255563                    2                 Serious     2  Rural\n",
       "280090  280091                    1                  Slight     1  Urban\n",
       "166924  166925                    1                  Slight     1  Urban\n",
       "359531  359532                    1                  Slight     1  Urban\n",
       "243003  243004                    1                  Slight     1  Urban"
      ]
     },
     "execution_count": 92,
     "metadata": {},
     "output_type": "execute_result"
    }
   ],
   "source": [
    "#Merge Data to Dic Values\n",
    "geo_area = geo_area.merge(urban_rural_dic,how='left',left_on=['Urban_or_Rural_Area'], right_on=['code'])\n",
    "#Test\n",
    "geo_area.sample(5)"
   ]
  },
  {
   "cell_type": "code",
   "execution_count": 94,
   "metadata": {},
   "outputs": [],
   "source": [
    "#Rename Label as Geography\n",
    "geo_area = (geo_area.rename(columns={'label':'Geography'})\n",
    "            .reindex(columns=['ID','Accident_Severity_Label','Geography']))"
   ]
  },
  {
   "cell_type": "code",
   "execution_count": 95,
   "metadata": {},
   "outputs": [
    {
     "data": {
      "text/html": [
       "<div>\n",
       "<style scoped>\n",
       "    .dataframe tbody tr th:only-of-type {\n",
       "        vertical-align: middle;\n",
       "    }\n",
       "\n",
       "    .dataframe tbody tr th {\n",
       "        vertical-align: top;\n",
       "    }\n",
       "\n",
       "    .dataframe thead th {\n",
       "        text-align: right;\n",
       "    }\n",
       "</style>\n",
       "<table border=\"1\" class=\"dataframe\">\n",
       "  <thead>\n",
       "    <tr style=\"text-align: right;\">\n",
       "      <th>Accident_Severity_Label</th>\n",
       "      <th>Fatal</th>\n",
       "      <th>Serious</th>\n",
       "      <th>Slight</th>\n",
       "      <th>All</th>\n",
       "    </tr>\n",
       "    <tr>\n",
       "      <th>Geography</th>\n",
       "      <th></th>\n",
       "      <th></th>\n",
       "      <th></th>\n",
       "      <th></th>\n",
       "    </tr>\n",
       "  </thead>\n",
       "  <tbody>\n",
       "    <tr>\n",
       "      <th>Rural</th>\n",
       "      <td>4165</td>\n",
       "      <td>33546</td>\n",
       "      <td>159177</td>\n",
       "      <td>196888</td>\n",
       "    </tr>\n",
       "    <tr>\n",
       "      <th>Urban</th>\n",
       "      <td>2354</td>\n",
       "      <td>47693</td>\n",
       "      <td>323674</td>\n",
       "      <td>373721</td>\n",
       "    </tr>\n",
       "    <tr>\n",
       "      <th>All</th>\n",
       "      <td>6519</td>\n",
       "      <td>81239</td>\n",
       "      <td>482851</td>\n",
       "      <td>570609</td>\n",
       "    </tr>\n",
       "  </tbody>\n",
       "</table>\n",
       "</div>"
      ],
      "text/plain": [
       "Accident_Severity_Label  Fatal  Serious  Slight     All\n",
       "Geography                                              \n",
       "Rural                     4165    33546  159177  196888\n",
       "Urban                     2354    47693  323674  373721\n",
       "All                       6519    81239  482851  570609"
      ]
     },
     "execution_count": 95,
     "metadata": {},
     "output_type": "execute_result"
    }
   ],
   "source": [
    "#Group ASL by Geography\n",
    "geo_area_plt = pd.crosstab(geo_area['Geography'],geo_area['Accident_Severity_Label'],margins=True)\n",
    "geo_area_plt.style.format(highlight)"
   ]
  },
  {
   "cell_type": "code",
   "execution_count": 113,
   "metadata": {},
   "outputs": [],
   "source": [
    "#group ASL by Geo in % Terms based on ASL eg. 64% of fatal accidents are in rural areas\n",
    "geo_area_plt_per = pd.crosstab(geo_area['Geography'],geo_area['Accident_Severity_Label'],normalize='columns')\n",
    "\n",
    "#group ASL by Geo via Count\n",
    "geo_area_plt = pd.crosstab(geo_area['Geography'],geo_area['Accident_Severity_Label'])\n"
   ]
  },
  {
   "cell_type": "code",
   "execution_count": 114,
   "metadata": {},
   "outputs": [
    {
     "data": {
      "text/html": [
       "<style  type=\"text/css\" >\n",
       "    #T_b40dff9a_81eb_11e9_8c71_f45c8991f033row0_col0 {\n",
       "            background-color:  yellow;\n",
       "        }    #T_b40dff9a_81eb_11e9_8c71_f45c8991f033row1_col1 {\n",
       "            background-color:  yellow;\n",
       "        }    #T_b40dff9a_81eb_11e9_8c71_f45c8991f033row1_col2 {\n",
       "            background-color:  yellow;\n",
       "        }</style>  \n",
       "<table id=\"T_b40dff9a_81eb_11e9_8c71_f45c8991f033\" > \n",
       "<thead>    <tr> \n",
       "        <th class=\"index_name level0\" >Accident_Severity_Label</th> \n",
       "        <th class=\"col_heading level0 col0\" >Fatal</th> \n",
       "        <th class=\"col_heading level0 col1\" >Serious</th> \n",
       "        <th class=\"col_heading level0 col2\" >Slight</th> \n",
       "    </tr>    <tr> \n",
       "        <th class=\"index_name level0\" >Geography</th> \n",
       "        <th class=\"blank\" ></th> \n",
       "        <th class=\"blank\" ></th> \n",
       "        <th class=\"blank\" ></th> \n",
       "    </tr></thead> \n",
       "<tbody>    <tr> \n",
       "        <th id=\"T_b40dff9a_81eb_11e9_8c71_f45c8991f033level0_row0\" class=\"row_heading level0 row0\" >Rural</th> \n",
       "        <td id=\"T_b40dff9a_81eb_11e9_8c71_f45c8991f033row0_col0\" class=\"data row0 col0\" >4165</td> \n",
       "        <td id=\"T_b40dff9a_81eb_11e9_8c71_f45c8991f033row0_col1\" class=\"data row0 col1\" >33546</td> \n",
       "        <td id=\"T_b40dff9a_81eb_11e9_8c71_f45c8991f033row0_col2\" class=\"data row0 col2\" >159177</td> \n",
       "    </tr>    <tr> \n",
       "        <th id=\"T_b40dff9a_81eb_11e9_8c71_f45c8991f033level0_row1\" class=\"row_heading level0 row1\" >Urban</th> \n",
       "        <td id=\"T_b40dff9a_81eb_11e9_8c71_f45c8991f033row1_col0\" class=\"data row1 col0\" >2354</td> \n",
       "        <td id=\"T_b40dff9a_81eb_11e9_8c71_f45c8991f033row1_col1\" class=\"data row1 col1\" >47693</td> \n",
       "        <td id=\"T_b40dff9a_81eb_11e9_8c71_f45c8991f033row1_col2\" class=\"data row1 col2\" >323674</td> \n",
       "    </tr></tbody> \n",
       "</table> "
      ],
      "text/plain": [
       "<pandas.io.formats.style.Styler at 0x1a12bc0cf8>"
      ]
     },
     "execution_count": 114,
     "metadata": {},
     "output_type": "execute_result"
    }
   ],
   "source": [
    "#View by Count\n",
    "geo_area_plt.style.highlight_max(color='yellow')"
   ]
  },
  {
   "cell_type": "code",
   "execution_count": 115,
   "metadata": {},
   "outputs": [
    {
     "data": {
      "text/html": [
       "<style  type=\"text/css\" >\n",
       "    #T_b44acbd2_81eb_11e9_8097_f45c8991f033row0_col0 {\n",
       "            background-color:  yellow;\n",
       "        }    #T_b44acbd2_81eb_11e9_8097_f45c8991f033row1_col1 {\n",
       "            background-color:  yellow;\n",
       "        }    #T_b44acbd2_81eb_11e9_8097_f45c8991f033row1_col2 {\n",
       "            background-color:  yellow;\n",
       "        }</style>  \n",
       "<table id=\"T_b44acbd2_81eb_11e9_8097_f45c8991f033\" > \n",
       "<thead>    <tr> \n",
       "        <th class=\"index_name level0\" >Accident_Severity_Label</th> \n",
       "        <th class=\"col_heading level0 col0\" >Fatal</th> \n",
       "        <th class=\"col_heading level0 col1\" >Serious</th> \n",
       "        <th class=\"col_heading level0 col2\" >Slight</th> \n",
       "    </tr>    <tr> \n",
       "        <th class=\"index_name level0\" >Geography</th> \n",
       "        <th class=\"blank\" ></th> \n",
       "        <th class=\"blank\" ></th> \n",
       "        <th class=\"blank\" ></th> \n",
       "    </tr></thead> \n",
       "<tbody>    <tr> \n",
       "        <th id=\"T_b44acbd2_81eb_11e9_8097_f45c8991f033level0_row0\" class=\"row_heading level0 row0\" >Rural</th> \n",
       "        <td id=\"T_b44acbd2_81eb_11e9_8097_f45c8991f033row0_col0\" class=\"data row0 col0\" >64%</td> \n",
       "        <td id=\"T_b44acbd2_81eb_11e9_8097_f45c8991f033row0_col1\" class=\"data row0 col1\" >41%</td> \n",
       "        <td id=\"T_b44acbd2_81eb_11e9_8097_f45c8991f033row0_col2\" class=\"data row0 col2\" >33%</td> \n",
       "    </tr>    <tr> \n",
       "        <th id=\"T_b44acbd2_81eb_11e9_8097_f45c8991f033level0_row1\" class=\"row_heading level0 row1\" >Urban</th> \n",
       "        <td id=\"T_b44acbd2_81eb_11e9_8097_f45c8991f033row1_col0\" class=\"data row1 col0\" >36%</td> \n",
       "        <td id=\"T_b44acbd2_81eb_11e9_8097_f45c8991f033row1_col1\" class=\"data row1 col1\" >59%</td> \n",
       "        <td id=\"T_b44acbd2_81eb_11e9_8097_f45c8991f033row1_col2\" class=\"data row1 col2\" >67%</td> \n",
       "    </tr></tbody> \n",
       "</table> "
      ],
      "text/plain": [
       "<pandas.io.formats.style.Styler at 0x1a1379ff98>"
      ]
     },
     "execution_count": 115,
     "metadata": {},
     "output_type": "execute_result"
    }
   ],
   "source": [
    "#ASL by Geo in % Terms based on ASL eg. 64% of fatal accidents are in rural areas\n",
    "(geo_area_plt_per*100).style.format('{0:,.0f}%').highlight_max(color='yellow')"
   ]
  },
  {
   "cell_type": "code",
   "execution_count": 120,
   "metadata": {},
   "outputs": [
    {
     "data": {
      "text/plain": [
       "<matplotlib.axes._subplots.AxesSubplot at 0x1a14ba8ac8>"
      ]
     },
     "execution_count": 120,
     "metadata": {},
     "output_type": "execute_result"
    },
    {
     "data": {
      "image/png": "[encoded data removed]",
      "text/plain": [
       "<matplotlib.figure.Figure at 0x1a14bac0f0>"
      ]
     },
     "metadata": {},
     "output_type": "display_data"
    }
   ],
   "source": [
    "#ASL by Geo in % Terms based on ASL eg. 64% of fatal accidents are in rural areas - Plot\n",
    "geo_area_plt_per.plot(kind='barh',stacked=False, figsize= (15,5),fontsize=15,\n",
    "                    title='Accident Severity By Geography %',use_index=True)"
   ]
  },
  {
   "cell_type": "code",
   "execution_count": 133,
   "metadata": {},
   "outputs": [
    {
     "data": {
      "text/plain": [
       "<matplotlib.axes._subplots.AxesSubplot at 0x1a156cfe10>"
      ]
     },
     "execution_count": 133,
     "metadata": {},
     "output_type": "execute_result"
    },
    {
     "data": {
      "image/png": "[encoded data removed]",
      "text/plain": [
       "<matplotlib.figure.Figure at 0x1a156fa470>"
      ]
     },
     "metadata": {},
     "output_type": "display_data"
    }
   ],
   "source": [
    "#ASL by Geo via Count\n",
    "geo_area_plt.plot(kind='barh',stacked=True, figsize= (15,5),fontsize=15,\n",
    "                    title='Accident Severity By Geography (Count)',use_index=True)"
   ]
  },
  {
   "cell_type": "raw",
   "metadata": {},
   "source": []
  }
 ],
 "metadata": {
  "kernelspec": {
   "display_name": "Python 3",
   "language": "python",
   "name": "python3"
  },
  "language_info": {
   "codemirror_mode": {
    "name": "ipython",
    "version": 3
   },
   "file_extension": ".py",
   "mimetype": "text/x-python",
   "name": "python",
   "nbconvert_exporter": "python",
   "pygments_lexer": "ipython3",
   "version": "3.6.4"
  }
 },
 "nbformat": 4,
 "nbformat_minor": 2
}
