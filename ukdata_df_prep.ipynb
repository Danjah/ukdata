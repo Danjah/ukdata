{
 "cells": [
  {
   "cell_type": "markdown",
   "metadata": {},
   "source": [
    "# UK Data Analysis Exercise"
   ]
  },
  {
   "cell_type": "markdown",
   "metadata": {},
   "source": [
    "###### <b>"
   ]
  },
  {
   "cell_type": "markdown",
   "metadata": {},
   "source": [
    "## Questions: \n",
    "##### - What Speed Limit Causes the Most Accidents \n",
    "##### - What is the Most Dangerous Time to Drive?\n",
    "##### - What Year, Month Has the Highest Amount of Accidents?\n",
    "##### - What Days of the week has more serious accidents?\n",
    "##### - What Road and Light Conditions influence accidents?\n",
    "##### - Are Fatal Accidents more common in Rural or Urban Areas?"
   ]
  },
  {
   "cell_type": "markdown",
   "metadata": {},
   "source": [
    "#### <b>"
   ]
  },
  {
   "cell_type": "markdown",
   "metadata": {},
   "source": [
    "### Import Modules"
   ]
  },
  {
   "cell_type": "code",
   "execution_count": 2,
   "metadata": {},
   "outputs": [
    {
     "data": {
      "text/html": [
       "<script>requirejs.config({paths: { 'plotly': ['https://cdn.plot.ly/plotly-latest.min']},});if(!window.Plotly) {{require(['plotly'],function(plotly) {window.Plotly=plotly;});}}</script>"
      ],
      "text/vnd.plotly.v1+html": [
       "<script>requirejs.config({paths: { 'plotly': ['https://cdn.plot.ly/plotly-latest.min']},});if(!window.Plotly) {{require(['plotly'],function(plotly) {window.Plotly=plotly;});}}</script>"
      ]
     },
     "metadata": {},
     "output_type": "display_data"
    }
   ],
   "source": [
    "import pandas as pd\n",
    "import os\n",
    "from datetime import datetime\n",
    "import matplotlib.pyplot as plt\n",
    "import seaborn as sns\n",
    "import cufflinks as cf\n",
    "from plotly.offline import iplot\n",
    "\n",
    "cf.go_offline()\n",
    "sns.set(style='darkgrid')\n",
    "sns.set_palette('colorblind')"
   ]
  },
  {
   "cell_type": "markdown",
   "metadata": {},
   "source": [
    "### Convert Excel to CSV reduce workload"
   ]
  },
  {
   "cell_type": "code",
   "execution_count": 3,
   "metadata": {},
   "outputs": [],
   "source": [
    "#ukdata = pd.read_excel(r'/Users/danhosanee/Downloads/Dataset.xlsx')"
   ]
  },
  {
   "cell_type": "code",
   "execution_count": 4,
   "metadata": {},
   "outputs": [],
   "source": [
    "#ukdata.to_csv('ukdata.csv', encoding='utf-8', index=False)"
   ]
  },
  {
   "cell_type": "markdown",
   "metadata": {},
   "source": [
    "### Set Directory for Dict Folder"
   ]
  },
  {
   "cell_type": "code",
   "execution_count": 5,
   "metadata": {},
   "outputs": [],
   "source": [
    "#Set current dir to dic data folder\n",
    "os.chdir('/Users/danhosanee/Downloads/contextCSVs (accidents)')"
   ]
  },
  {
   "cell_type": "code",
   "execution_count": 6,
   "metadata": {},
   "outputs": [],
   "source": [
    "ukData = pd.read_csv('ukdata.csv')"
   ]
  },
  {
   "cell_type": "markdown",
   "metadata": {},
   "source": [
    "### Check the Data"
   ]
  },
  {
   "cell_type": "code",
   "execution_count": 7,
   "metadata": {},
   "outputs": [
    {
     "name": "stdout",
     "output_type": "stream",
     "text": [
      "<class 'pandas.core.frame.DataFrame'>\n",
      "RangeIndex: 570609 entries, 0 to 570608\n",
      "Data columns (total 28 columns):\n",
      "ID                                             570609 non-null int64\n",
      "Location_Easting_OSGR                          570582 non-null float64\n",
      "Location_Northing_OSGR                         570582 non-null float64\n",
      "Longitude                                      570582 non-null float64\n",
      "Latitude                                       570582 non-null float64\n",
      "Police_Force                                   570609 non-null int64\n",
      "Accident_Severity                              570609 non-null int64\n",
      "Number_of_Vehicles                             570609 non-null int64\n",
      "Number_of_Casualties                           570609 non-null int64\n",
      "Date                                           570609 non-null object\n",
      "Day_of_Week                                    570609 non-null int64\n",
      "Time                                           570578 non-null object\n",
      "Local_Authority_(District)                     570609 non-null int64\n",
      "Local_Authority_(Highway)                      570609 non-null object\n",
      "1st_Road_Class                                 570609 non-null int64\n",
      "1st_Road_Number                                570609 non-null int64\n",
      "Road_Type                                      570609 non-null int64\n",
      "Speed_limit                                    570609 non-null int64\n",
      "Junction_Detail                                570609 non-null int64\n",
      "Junction_Control                               570609 non-null int64\n",
      "2nd_Road_Class                                 570609 non-null int64\n",
      "2nd_Road_Number                                570609 non-null int64\n",
      "Pedestrian_Crossing-Human_Control              570609 non-null int64\n",
      "Pedestrian_Crossing-Physical_Facilities        570609 non-null int64\n",
      "Light_Conditions                               570609 non-null int64\n",
      "Urban_or_Rural_Area                            570609 non-null int64\n",
      "Did_Police_Officer_Attend_Scene_of_Accident    570609 non-null int64\n",
      "LSOA_of_Accident_Location                      532994 non-null object\n",
      "dtypes: float64(4), int64(20), object(4)\n",
      "memory usage: 121.9+ MB\n"
     ]
    }
   ],
   "source": [
    "ukData.info()"
   ]
  },
  {
   "cell_type": "markdown",
   "metadata": {},
   "source": [
    "### Add Data Dictionary for Accident Severity to the DF"
   ]
  },
  {
   "cell_type": "code",
   "execution_count": 8,
   "metadata": {},
   "outputs": [
    {
     "data": {
      "text/html": [
       "<div>\n",
       "<style scoped>\n",
       "    .dataframe tbody tr th:only-of-type {\n",
       "        vertical-align: middle;\n",
       "    }\n",
       "\n",
       "    .dataframe tbody tr th {\n",
       "        vertical-align: top;\n",
       "    }\n",
       "\n",
       "    .dataframe thead th {\n",
       "        text-align: right;\n",
       "    }\n",
       "</style>\n",
       "<table border=\"1\" class=\"dataframe\">\n",
       "  <thead>\n",
       "    <tr style=\"text-align: right;\">\n",
       "      <th></th>\n",
       "      <th>ID</th>\n",
       "      <th>Location_Easting_OSGR</th>\n",
       "      <th>Location_Northing_OSGR</th>\n",
       "      <th>Longitude</th>\n",
       "      <th>Latitude</th>\n",
       "      <th>Police_Force</th>\n",
       "      <th>Accident_Severity</th>\n",
       "      <th>Number_of_Vehicles</th>\n",
       "      <th>Number_of_Casualties</th>\n",
       "      <th>Date</th>\n",
       "      <th>...</th>\n",
       "      <th>2nd_Road_Class</th>\n",
       "      <th>2nd_Road_Number</th>\n",
       "      <th>Pedestrian_Crossing-Human_Control</th>\n",
       "      <th>Pedestrian_Crossing-Physical_Facilities</th>\n",
       "      <th>Light_Conditions</th>\n",
       "      <th>Urban_or_Rural_Area</th>\n",
       "      <th>Did_Police_Officer_Attend_Scene_of_Accident</th>\n",
       "      <th>LSOA_of_Accident_Location</th>\n",
       "      <th>code</th>\n",
       "      <th>Accident_Severity_Label</th>\n",
       "    </tr>\n",
       "  </thead>\n",
       "  <tbody>\n",
       "    <tr>\n",
       "      <th>188231</th>\n",
       "      <td>188232</td>\n",
       "      <td>461648.0</td>\n",
       "      <td>432379.0</td>\n",
       "      <td>-1.065836</td>\n",
       "      <td>53.784089</td>\n",
       "      <td>12</td>\n",
       "      <td>3</td>\n",
       "      <td>1</td>\n",
       "      <td>1</td>\n",
       "      <td>2013-08-16</td>\n",
       "      <td>...</td>\n",
       "      <td>-1</td>\n",
       "      <td>0</td>\n",
       "      <td>0</td>\n",
       "      <td>0</td>\n",
       "      <td>4</td>\n",
       "      <td>1</td>\n",
       "      <td>2</td>\n",
       "      <td>E01027909</td>\n",
       "      <td>3</td>\n",
       "      <td>Slight</td>\n",
       "    </tr>\n",
       "    <tr>\n",
       "      <th>340162</th>\n",
       "      <td>340163</td>\n",
       "      <td>529974.0</td>\n",
       "      <td>409181.0</td>\n",
       "      <td>-0.039033</td>\n",
       "      <td>53.563143</td>\n",
       "      <td>16</td>\n",
       "      <td>3</td>\n",
       "      <td>1</td>\n",
       "      <td>1</td>\n",
       "      <td>2014-07-08</td>\n",
       "      <td>...</td>\n",
       "      <td>-1</td>\n",
       "      <td>0</td>\n",
       "      <td>0</td>\n",
       "      <td>0</td>\n",
       "      <td>1</td>\n",
       "      <td>1</td>\n",
       "      <td>2</td>\n",
       "      <td>E01013198</td>\n",
       "      <td>3</td>\n",
       "      <td>Slight</td>\n",
       "    </tr>\n",
       "    <tr>\n",
       "      <th>142283</th>\n",
       "      <td>142284</td>\n",
       "      <td>262610.0</td>\n",
       "      <td>669500.0</td>\n",
       "      <td>-4.198916</td>\n",
       "      <td>55.898998</td>\n",
       "      <td>97</td>\n",
       "      <td>3</td>\n",
       "      <td>2</td>\n",
       "      <td>2</td>\n",
       "      <td>2012-03-08</td>\n",
       "      <td>...</td>\n",
       "      <td>6</td>\n",
       "      <td>0</td>\n",
       "      <td>0</td>\n",
       "      <td>0</td>\n",
       "      <td>1</td>\n",
       "      <td>1</td>\n",
       "      <td>1</td>\n",
       "      <td>NaN</td>\n",
       "      <td>3</td>\n",
       "      <td>Slight</td>\n",
       "    </tr>\n",
       "    <tr>\n",
       "      <th>491775</th>\n",
       "      <td>491776</td>\n",
       "      <td>412430.0</td>\n",
       "      <td>288410.0</td>\n",
       "      <td>-1.818353</td>\n",
       "      <td>52.493461</td>\n",
       "      <td>20</td>\n",
       "      <td>3</td>\n",
       "      <td>2</td>\n",
       "      <td>2</td>\n",
       "      <td>2015-07-22</td>\n",
       "      <td>...</td>\n",
       "      <td>4</td>\n",
       "      <td>4114</td>\n",
       "      <td>0</td>\n",
       "      <td>5</td>\n",
       "      <td>1</td>\n",
       "      <td>1</td>\n",
       "      <td>1</td>\n",
       "      <td>E01009481</td>\n",
       "      <td>3</td>\n",
       "      <td>Slight</td>\n",
       "    </tr>\n",
       "    <tr>\n",
       "      <th>124744</th>\n",
       "      <td>124745</td>\n",
       "      <td>359210.0</td>\n",
       "      <td>168950.0</td>\n",
       "      <td>-2.587996</td>\n",
       "      <td>51.418037</td>\n",
       "      <td>52</td>\n",
       "      <td>2</td>\n",
       "      <td>1</td>\n",
       "      <td>1</td>\n",
       "      <td>2012-09-20</td>\n",
       "      <td>...</td>\n",
       "      <td>6</td>\n",
       "      <td>0</td>\n",
       "      <td>0</td>\n",
       "      <td>5</td>\n",
       "      <td>4</td>\n",
       "      <td>1</td>\n",
       "      <td>2</td>\n",
       "      <td>E01014607</td>\n",
       "      <td>2</td>\n",
       "      <td>Serious</td>\n",
       "    </tr>\n",
       "  </tbody>\n",
       "</table>\n",
       "<p>5 rows × 30 columns</p>\n",
       "</div>"
      ],
      "text/plain": [
       "            ID  Location_Easting_OSGR  Location_Northing_OSGR  Longitude  \\\n",
       "188231  188232               461648.0                432379.0  -1.065836   \n",
       "340162  340163               529974.0                409181.0  -0.039033   \n",
       "142283  142284               262610.0                669500.0  -4.198916   \n",
       "491775  491776               412430.0                288410.0  -1.818353   \n",
       "124744  124745               359210.0                168950.0  -2.587996   \n",
       "\n",
       "         Latitude  Police_Force  Accident_Severity  Number_of_Vehicles  \\\n",
       "188231  53.784089            12                  3                   1   \n",
       "340162  53.563143            16                  3                   1   \n",
       "142283  55.898998            97                  3                   2   \n",
       "491775  52.493461            20                  3                   2   \n",
       "124744  51.418037            52                  2                   1   \n",
       "\n",
       "        Number_of_Casualties        Date           ...             \\\n",
       "188231                     1  2013-08-16           ...              \n",
       "340162                     1  2014-07-08           ...              \n",
       "142283                     2  2012-03-08           ...              \n",
       "491775                     2  2015-07-22           ...              \n",
       "124744                     1  2012-09-20           ...              \n",
       "\n",
       "        2nd_Road_Class 2nd_Road_Number  Pedestrian_Crossing-Human_Control  \\\n",
       "188231              -1               0                                  0   \n",
       "340162              -1               0                                  0   \n",
       "142283               6               0                                  0   \n",
       "491775               4            4114                                  0   \n",
       "124744               6               0                                  0   \n",
       "\n",
       "       Pedestrian_Crossing-Physical_Facilities  Light_Conditions  \\\n",
       "188231                                       0                 4   \n",
       "340162                                       0                 1   \n",
       "142283                                       0                 1   \n",
       "491775                                       5                 1   \n",
       "124744                                       5                 4   \n",
       "\n",
       "        Urban_or_Rural_Area  Did_Police_Officer_Attend_Scene_of_Accident  \\\n",
       "188231                    1                                            2   \n",
       "340162                    1                                            2   \n",
       "142283                    1                                            1   \n",
       "491775                    1                                            1   \n",
       "124744                    1                                            2   \n",
       "\n",
       "        LSOA_of_Accident_Location  code  Accident_Severity_Label  \n",
       "188231                  E01027909     3                   Slight  \n",
       "340162                  E01013198     3                   Slight  \n",
       "142283                        NaN     3                   Slight  \n",
       "491775                  E01009481     3                   Slight  \n",
       "124744                  E01014607     2                  Serious  \n",
       "\n",
       "[5 rows x 30 columns]"
      ]
     },
     "execution_count": 8,
     "metadata": {},
     "output_type": "execute_result"
    }
   ],
   "source": [
    "#Severity of Accident Caterogies\n",
    "accsev_dic = pd.read_csv('Accident_Severity.csv')\n",
    "\n",
    "#Merge accsev to UkData\n",
    "ukData = ukData.merge(accsev_dic , how ='left', left_on=['Accident_Severity'], right_on=['code'])\n",
    "\n",
    "#Rename label Column \n",
    "ukData = ukData.rename(columns={'label':'Accident_Severity_Label'})\n",
    "\n",
    "#Test\n",
    "ukData.sample(5)"
   ]
  },
  {
   "cell_type": "markdown",
   "metadata": {},
   "source": [
    "## Speed Limit\n",
    "#### What Speed Limit Causes the Most Accidents? \n",
    "###### - Highest No. Accidents occur at 30 Speed Limit \n",
    "###### - Highest Serious and Slight accidents occur at 30 Speed Limit\n",
    "###### - Highest Fatal Accidents occur at roads with a 60 Speed Limit\n",
    "###### <b>"
   ]
  },
  {
   "cell_type": "code",
   "execution_count": 95,
   "metadata": {},
   "outputs": [
    {
     "data": {
      "text/html": [
       "<style  type=\"text/css\" >\n",
       "    #T_0b683206_82e8_11e9_ad1e_f45c8991f033row3_col1 {\n",
       "            background-color:  red;\n",
       "        }    #T_0b683206_82e8_11e9_ad1e_f45c8991f033row3_col2 {\n",
       "            background-color:  red;\n",
       "        }    #T_0b683206_82e8_11e9_ad1e_f45c8991f033row6_col0 {\n",
       "            background-color:  red;\n",
       "        }</style>  \n",
       "<table id=\"T_0b683206_82e8_11e9_ad1e_f45c8991f033\" > \n",
       "<thead>    <tr> \n",
       "        <th class=\"index_name level0\" >Accident_Severity_Label</th> \n",
       "        <th class=\"col_heading level0 col0\" >Fatal</th> \n",
       "        <th class=\"col_heading level0 col1\" >Serious</th> \n",
       "        <th class=\"col_heading level0 col2\" >Slight</th> \n",
       "    </tr>    <tr> \n",
       "        <th class=\"index_name level0\" >Speed_limit</th> \n",
       "        <th class=\"blank\" ></th> \n",
       "        <th class=\"blank\" ></th> \n",
       "        <th class=\"blank\" ></th> \n",
       "    </tr></thead> \n",
       "<tbody>    <tr> \n",
       "        <th id=\"T_0b683206_82e8_11e9_ad1e_f45c8991f033level0_row0\" class=\"row_heading level0 row0\" >0</th> \n",
       "        <td id=\"T_0b683206_82e8_11e9_ad1e_f45c8991f033row0_col0\" class=\"data row0 col0\" >0</td> \n",
       "        <td id=\"T_0b683206_82e8_11e9_ad1e_f45c8991f033row0_col1\" class=\"data row0 col1\" >0</td> \n",
       "        <td id=\"T_0b683206_82e8_11e9_ad1e_f45c8991f033row0_col2\" class=\"data row0 col2\" >1</td> \n",
       "    </tr>    <tr> \n",
       "        <th id=\"T_0b683206_82e8_11e9_ad1e_f45c8991f033level0_row1\" class=\"row_heading level0 row1\" >10</th> \n",
       "        <td id=\"T_0b683206_82e8_11e9_ad1e_f45c8991f033row1_col0\" class=\"data row1 col0\" >0</td> \n",
       "        <td id=\"T_0b683206_82e8_11e9_ad1e_f45c8991f033row1_col1\" class=\"data row1 col1\" >0</td> \n",
       "        <td id=\"T_0b683206_82e8_11e9_ad1e_f45c8991f033row1_col2\" class=\"data row1 col2\" >3</td> \n",
       "    </tr>    <tr> \n",
       "        <th id=\"T_0b683206_82e8_11e9_ad1e_f45c8991f033level0_row2\" class=\"row_heading level0 row2\" >20</th> \n",
       "        <td id=\"T_0b683206_82e8_11e9_ad1e_f45c8991f033row2_col0\" class=\"data row2 col0\" >55</td> \n",
       "        <td id=\"T_0b683206_82e8_11e9_ad1e_f45c8991f033row2_col1\" class=\"data row2 col1\" >1890</td> \n",
       "        <td id=\"T_0b683206_82e8_11e9_ad1e_f45c8991f033row2_col2\" class=\"data row2 col2\" >10674</td> \n",
       "    </tr>    <tr> \n",
       "        <th id=\"T_0b683206_82e8_11e9_ad1e_f45c8991f033level0_row3\" class=\"row_heading level0 row3\" >30</th> \n",
       "        <td id=\"T_0b683206_82e8_11e9_ad1e_f45c8991f033row3_col0\" class=\"data row3 col0\" >2214</td> \n",
       "        <td id=\"T_0b683206_82e8_11e9_ad1e_f45c8991f033row3_col1\" class=\"data row3 col1\" >47701</td> \n",
       "        <td id=\"T_0b683206_82e8_11e9_ad1e_f45c8991f033row3_col2\" class=\"data row3 col2\" >319183</td> \n",
       "    </tr>    <tr> \n",
       "        <th id=\"T_0b683206_82e8_11e9_ad1e_f45c8991f033level0_row4\" class=\"row_heading level0 row4\" >40</th> \n",
       "        <td id=\"T_0b683206_82e8_11e9_ad1e_f45c8991f033row4_col0\" class=\"data row4 col0\" >636</td> \n",
       "        <td id=\"T_0b683206_82e8_11e9_ad1e_f45c8991f033row4_col1\" class=\"data row4 col1\" >7071</td> \n",
       "        <td id=\"T_0b683206_82e8_11e9_ad1e_f45c8991f033row4_col2\" class=\"data row4 col2\" >39518</td> \n",
       "    </tr>    <tr> \n",
       "        <th id=\"T_0b683206_82e8_11e9_ad1e_f45c8991f033level0_row5\" class=\"row_heading level0 row5\" >50</th> \n",
       "        <td id=\"T_0b683206_82e8_11e9_ad1e_f45c8991f033row5_col0\" class=\"data row5 col0\" >448</td> \n",
       "        <td id=\"T_0b683206_82e8_11e9_ad1e_f45c8991f033row5_col1\" class=\"data row5 col1\" >3459</td> \n",
       "        <td id=\"T_0b683206_82e8_11e9_ad1e_f45c8991f033row5_col2\" class=\"data row5 col2\" >18075</td> \n",
       "    </tr>    <tr> \n",
       "        <th id=\"T_0b683206_82e8_11e9_ad1e_f45c8991f033level0_row6\" class=\"row_heading level0 row6\" >60</th> \n",
       "        <td id=\"T_0b683206_82e8_11e9_ad1e_f45c8991f033row6_col0\" class=\"data row6 col0\" >2361</td> \n",
       "        <td id=\"T_0b683206_82e8_11e9_ad1e_f45c8991f033row6_col1\" class=\"data row6 col1\" >16193</td> \n",
       "        <td id=\"T_0b683206_82e8_11e9_ad1e_f45c8991f033row6_col2\" class=\"data row6 col2\" >61705</td> \n",
       "    </tr>    <tr> \n",
       "        <th id=\"T_0b683206_82e8_11e9_ad1e_f45c8991f033level0_row7\" class=\"row_heading level0 row7\" >70</th> \n",
       "        <td id=\"T_0b683206_82e8_11e9_ad1e_f45c8991f033row7_col0\" class=\"data row7 col0\" >805</td> \n",
       "        <td id=\"T_0b683206_82e8_11e9_ad1e_f45c8991f033row7_col1\" class=\"data row7 col1\" >4925</td> \n",
       "        <td id=\"T_0b683206_82e8_11e9_ad1e_f45c8991f033row7_col2\" class=\"data row7 col2\" >33692</td> \n",
       "    </tr></tbody> \n",
       "</table> "
      ],
      "text/plain": [
       "<pandas.io.formats.style.Styler at 0x1a1c3bf630>"
      ]
     },
     "execution_count": 95,
     "metadata": {},
     "output_type": "execute_result"
    }
   ],
   "source": [
    "#Create a Grouped DF comparing Speed Limit against Accident_Severity_Label\n",
    "speed_gp = (ukData.groupby(['Accident_Severity_Label','Speed_limit'])['Accident_Severity_Label']\n",
    "            .agg('count').unstack('Accident_Severity_Label').fillna(0))\n",
    "\n",
    "#Highlight Max Values\n",
    "speed_gp.style.highlight_max(color='red')"
   ]
  },
  {
   "cell_type": "code",
   "execution_count": 97,
   "metadata": {},
   "outputs": [
    {
     "data": {
      "application/vnd.plotly.v1+json": {
       "data": [
        {
         "line": {
          "color": "rgba(255, 153, 51, 1.0)",
          "dash": "solid",
          "shape": "linear",
          "width": 1.3
         },
         "mode": "lines",
         "name": "Fatal",
         "text": "",
         "type": "scatter",
         "uid": "36df681c-82e8-11e9-b464-f45c8991f033",
         "x": [
          0,
          10,
          20,
          30,
          40,
          50,
          60,
          70
         ],
         "y": [
          0,
          0,
          55,
          2214,
          636,
          448,
          2361,
          805
         ]
        },
        {
         "line": {
          "color": "rgba(55, 128, 191, 1.0)",
          "dash": "solid",
          "shape": "linear",
          "width": 1.3
         },
         "mode": "lines",
         "name": "Serious",
         "text": "",
         "type": "scatter",
         "uid": "36df6b14-82e8-11e9-9573-f45c8991f033",
         "x": [
          0,
          10,
          20,
          30,
          40,
          50,
          60,
          70
         ],
         "y": [
          0,
          0,
          1890,
          47701,
          7071,
          3459,
          16193,
          4925
         ]
        },
        {
         "line": {
          "color": "rgba(50, 171, 96, 1.0)",
          "dash": "solid",
          "shape": "linear",
          "width": 1.3
         },
         "mode": "lines",
         "name": "Slight",
         "text": "",
         "type": "scatter",
         "uid": "36df6d76-82e8-11e9-a498-f45c8991f033",
         "x": [
          0,
          10,
          20,
          30,
          40,
          50,
          60,
          70
         ],
         "y": [
          1,
          3,
          10674,
          319183,
          39518,
          18075,
          61705,
          33692
         ]
        }
       ],
       "layout": {
        "autosize": true,
        "legend": {
         "bgcolor": "#F5F6F9",
         "font": {
          "color": "#4D5663"
         }
        },
        "paper_bgcolor": "#F5F6F9",
        "plot_bgcolor": "#F5F6F9",
        "title": "Accident Severity by Speed Limit",
        "titlefont": {
         "color": "#4D5663"
        },
        "xaxis": {
         "autorange": true,
         "gridcolor": "#E1E5ED",
         "range": [
          0,
          70
         ],
         "showgrid": true,
         "tickfont": {
          "color": "#4D5663"
         },
         "title": "Speed limit",
         "titlefont": {
          "color": "#4D5663"
         },
         "type": "linear",
         "zerolinecolor": "#E1E5ED"
        },
        "yaxis": {
         "autorange": true,
         "gridcolor": "#E1E5ED",
         "range": [
          -17732.38888888889,
          336915.3888888889
         ],
         "showgrid": true,
         "tickfont": {
          "color": "#4D5663"
         },
         "title": "No. of Accidents",
         "titlefont": {
          "color": "#4D5663"
         },
         "type": "linear",
         "zerolinecolor": "#E1E5ED"
        }
       }
      },
      "image/png": "[encoded data removed]",
      "text/html": [
       "<div id=\"90576a9b-e4af-4ec4-8e8d-980810defc35\" style=\"height: 525px; width: 100%;\" class=\"plotly-graph-div\"></div><script type=\"text/javascript\">require([\"plotly\"], function(Plotly) { window.PLOTLYENV=window.PLOTLYENV || {};window.PLOTLYENV.BASE_URL=\"https://plot.ly\";Plotly.newPlot(\"90576a9b-e4af-4ec4-8e8d-980810defc35\", [{\"line\": {\"color\": \"rgba(255, 153, 51, 1.0)\", \"dash\": \"solid\", \"shape\": \"linear\", \"width\": 1.3}, \"mode\": \"lines\", \"name\": \"Fatal\", \"text\": \"\", \"x\": [0, 10, 20, 30, 40, 50, 60, 70], \"y\": [0.0, 0.0, 55.0, 2214.0, 636.0, 448.0, 2361.0, 805.0], \"type\": \"scatter\", \"uid\": \"36e3d534-82e8-11e9-b6ff-f45c8991f033\"}, {\"line\": {\"color\": \"rgba(55, 128, 191, 1.0)\", \"dash\": \"solid\", \"shape\": \"linear\", \"width\": 1.3}, \"mode\": \"lines\", \"name\": \"Serious\", \"text\": \"\", \"x\": [0, 10, 20, 30, 40, 50, 60, 70], \"y\": [0.0, 0.0, 1890.0, 47701.0, 7071.0, 3459.0, 16193.0, 4925.0], \"type\": \"scatter\", \"uid\": \"36e3d6d8-82e8-11e9-8064-f45c8991f033\"}, {\"line\": {\"color\": \"rgba(50, 171, 96, 1.0)\", \"dash\": \"solid\", \"shape\": \"linear\", \"width\": 1.3}, \"mode\": \"lines\", \"name\": \"Slight\", \"text\": \"\", \"x\": [0, 10, 20, 30, 40, 50, 60, 70], \"y\": [1.0, 3.0, 10674.0, 319183.0, 39518.0, 18075.0, 61705.0, 33692.0], \"type\": \"scatter\", \"uid\": \"36e3d78a-82e8-11e9-bf45-f45c8991f033\"}], {\"legend\": {\"bgcolor\": \"#F5F6F9\", \"font\": {\"color\": \"#4D5663\"}}, \"paper_bgcolor\": \"#F5F6F9\", \"plot_bgcolor\": \"#F5F6F9\", \"title\": \"Accident Severity by Speed Limit\", \"titlefont\": {\"color\": \"#4D5663\"}, \"xaxis\": {\"gridcolor\": \"#E1E5ED\", \"showgrid\": true, \"tickfont\": {\"color\": \"#4D5663\"}, \"title\": \"Speed limit\", \"titlefont\": {\"color\": \"#4D5663\"}, \"zerolinecolor\": \"#E1E5ED\"}, \"yaxis\": {\"gridcolor\": \"#E1E5ED\", \"showgrid\": true, \"tickfont\": {\"color\": \"#4D5663\"}, \"title\": \"No. of Accidents\", \"titlefont\": {\"color\": \"#4D5663\"}, \"zerolinecolor\": \"#E1E5ED\"}}, {\"showLink\": true, \"linkText\": \"Export to plot.ly\"})});</script>"
      ],
      "text/vnd.plotly.v1+html": [
       "<div id=\"90576a9b-e4af-4ec4-8e8d-980810defc35\" style=\"height: 525px; width: 100%;\" class=\"plotly-graph-div\"></div><script type=\"text/javascript\">require([\"plotly\"], function(Plotly) { window.PLOTLYENV=window.PLOTLYENV || {};window.PLOTLYENV.BASE_URL=\"https://plot.ly\";Plotly.newPlot(\"90576a9b-e4af-4ec4-8e8d-980810defc35\", [{\"line\": {\"color\": \"rgba(255, 153, 51, 1.0)\", \"dash\": \"solid\", \"shape\": \"linear\", \"width\": 1.3}, \"mode\": \"lines\", \"name\": \"Fatal\", \"text\": \"\", \"x\": [0, 10, 20, 30, 40, 50, 60, 70], \"y\": [0.0, 0.0, 55.0, 2214.0, 636.0, 448.0, 2361.0, 805.0], \"type\": \"scatter\", \"uid\": \"36e3d534-82e8-11e9-b6ff-f45c8991f033\"}, {\"line\": {\"color\": \"rgba(55, 128, 191, 1.0)\", \"dash\": \"solid\", \"shape\": \"linear\", \"width\": 1.3}, \"mode\": \"lines\", \"name\": \"Serious\", \"text\": \"\", \"x\": [0, 10, 20, 30, 40, 50, 60, 70], \"y\": [0.0, 0.0, 1890.0, 47701.0, 7071.0, 3459.0, 16193.0, 4925.0], \"type\": \"scatter\", \"uid\": \"36e3d6d8-82e8-11e9-8064-f45c8991f033\"}, {\"line\": {\"color\": \"rgba(50, 171, 96, 1.0)\", \"dash\": \"solid\", \"shape\": \"linear\", \"width\": 1.3}, \"mode\": \"lines\", \"name\": \"Slight\", \"text\": \"\", \"x\": [0, 10, 20, 30, 40, 50, 60, 70], \"y\": [1.0, 3.0, 10674.0, 319183.0, 39518.0, 18075.0, 61705.0, 33692.0], \"type\": \"scatter\", \"uid\": \"36e3d78a-82e8-11e9-bf45-f45c8991f033\"}], {\"legend\": {\"bgcolor\": \"#F5F6F9\", \"font\": {\"color\": \"#4D5663\"}}, \"paper_bgcolor\": \"#F5F6F9\", \"plot_bgcolor\": \"#F5F6F9\", \"title\": \"Accident Severity by Speed Limit\", \"titlefont\": {\"color\": \"#4D5663\"}, \"xaxis\": {\"gridcolor\": \"#E1E5ED\", \"showgrid\": true, \"tickfont\": {\"color\": \"#4D5663\"}, \"title\": \"Speed limit\", \"titlefont\": {\"color\": \"#4D5663\"}, \"zerolinecolor\": \"#E1E5ED\"}, \"yaxis\": {\"gridcolor\": \"#E1E5ED\", \"showgrid\": true, \"tickfont\": {\"color\": \"#4D5663\"}, \"title\": \"No. of Accidents\", \"titlefont\": {\"color\": \"#4D5663\"}, \"zerolinecolor\": \"#E1E5ED\"}}, {\"showLink\": true, \"linkText\": \"Export to plot.ly\"})});</script>"
      ]
     },
     "metadata": {},
     "output_type": "display_data"
    }
   ],
   "source": [
    "speed_gp.iplot(kind='line', title='Accident Severity by Speed Limit',xTitle='Speed limit', yTitle='No. of Accidents')"
   ]
  },
  {
   "cell_type": "markdown",
   "metadata": {},
   "source": [
    "#### Seasonality: By Year, Weekday, Time of Day | Transform Data to relevant time periods\n"
   ]
  },
  {
   "cell_type": "code",
   "execution_count": 11,
   "metadata": {},
   "outputs": [],
   "source": [
    "#Seasonality, Dict Data\n",
    "dotw_dic = pd.read_csv('Day_of_Week.csv')\n",
    "\n",
    "#Convert Date Object to Datetime \n",
    "ukData['Date'] = pd.to_datetime(ukData['Date'], format='%Y-%m-%d')\n",
    "ukData['Time'] = pd.to_datetime(ukData['Time'], format='%H:%M:%S')\n",
    "\n",
    "#Get the Year only from Date column\n",
    "ukData['Year'] = ukData.Date.dt.year\n",
    "\n",
    "#Get the Month only from Month Column\n",
    "ukData['Month'] = ukData.Date.dt.strftime('%b')\n",
    "\n",
    "#Get the Time in Hour by hours column covert to Int\n",
    "ukData['Hour'] = ukData.Time.dt.hour.fillna(0).astype(int)\n",
    "\n",
    "#Create an instance with the relevant columns to Analyse different seasonal Data\n",
    "season = ukData[['ID','Date', 'Year', 'Month','Day_of_Week','Hour','Accident_Severity_Label']]"
   ]
  },
  {
   "cell_type": "code",
   "execution_count": 12,
   "metadata": {},
   "outputs": [
    {
     "data": {
      "text/html": [
       "<div>\n",
       "<style scoped>\n",
       "    .dataframe tbody tr th:only-of-type {\n",
       "        vertical-align: middle;\n",
       "    }\n",
       "\n",
       "    .dataframe tbody tr th {\n",
       "        vertical-align: top;\n",
       "    }\n",
       "\n",
       "    .dataframe thead th {\n",
       "        text-align: right;\n",
       "    }\n",
       "</style>\n",
       "<table border=\"1\" class=\"dataframe\">\n",
       "  <thead>\n",
       "    <tr style=\"text-align: right;\">\n",
       "      <th></th>\n",
       "      <th>ID</th>\n",
       "      <th>Date</th>\n",
       "      <th>Year</th>\n",
       "      <th>Month</th>\n",
       "      <th>Day_of_Week</th>\n",
       "      <th>label</th>\n",
       "      <th>Hour</th>\n",
       "      <th>Accident_Severity_Label</th>\n",
       "    </tr>\n",
       "  </thead>\n",
       "  <tbody>\n",
       "    <tr>\n",
       "      <th>552756</th>\n",
       "      <td>552757</td>\n",
       "      <td>2015-06-03</td>\n",
       "      <td>2015</td>\n",
       "      <td>Jun</td>\n",
       "      <td>4</td>\n",
       "      <td>Wednesday</td>\n",
       "      <td>1</td>\n",
       "      <td>Slight</td>\n",
       "    </tr>\n",
       "    <tr>\n",
       "      <th>185445</th>\n",
       "      <td>185446</td>\n",
       "      <td>2013-12-02</td>\n",
       "      <td>2013</td>\n",
       "      <td>Dec</td>\n",
       "      <td>2</td>\n",
       "      <td>Monday</td>\n",
       "      <td>7</td>\n",
       "      <td>Slight</td>\n",
       "    </tr>\n",
       "    <tr>\n",
       "      <th>283940</th>\n",
       "      <td>283941</td>\n",
       "      <td>2013-02-19</td>\n",
       "      <td>2013</td>\n",
       "      <td>Feb</td>\n",
       "      <td>3</td>\n",
       "      <td>Tuesday</td>\n",
       "      <td>13</td>\n",
       "      <td>Serious</td>\n",
       "    </tr>\n",
       "    <tr>\n",
       "      <th>233155</th>\n",
       "      <td>233156</td>\n",
       "      <td>2013-05-14</td>\n",
       "      <td>2013</td>\n",
       "      <td>May</td>\n",
       "      <td>3</td>\n",
       "      <td>Tuesday</td>\n",
       "      <td>16</td>\n",
       "      <td>Slight</td>\n",
       "    </tr>\n",
       "    <tr>\n",
       "      <th>217085</th>\n",
       "      <td>217086</td>\n",
       "      <td>2013-05-10</td>\n",
       "      <td>2013</td>\n",
       "      <td>May</td>\n",
       "      <td>6</td>\n",
       "      <td>Friday</td>\n",
       "      <td>16</td>\n",
       "      <td>Slight</td>\n",
       "    </tr>\n",
       "  </tbody>\n",
       "</table>\n",
       "</div>"
      ],
      "text/plain": [
       "            ID       Date  Year Month  Day_of_Week      label  Hour  \\\n",
       "552756  552757 2015-06-03  2015   Jun            4  Wednesday     1   \n",
       "185445  185446 2013-12-02  2013   Dec            2     Monday     7   \n",
       "283940  283941 2013-02-19  2013   Feb            3    Tuesday    13   \n",
       "233155  233156 2013-05-14  2013   May            3    Tuesday    16   \n",
       "217085  217086 2013-05-10  2013   May            6     Friday    16   \n",
       "\n",
       "       Accident_Severity_Label  \n",
       "552756                  Slight  \n",
       "185445                  Slight  \n",
       "283940                 Serious  \n",
       "233155                  Slight  \n",
       "217085                  Slight  "
      ]
     },
     "execution_count": 12,
     "metadata": {},
     "output_type": "execute_result"
    }
   ],
   "source": [
    "#Merge The Dictionary file with the Season Dataframe\n",
    "season = (season.merge(dotw_dic, how ='left', left_on=['Day_of_Week'], right_on=['code'])\n",
    "          .reindex(columns=['ID','Date', 'Year', 'Month','Day_of_Week','label','Hour','Accident_Severity_Label']))\n",
    "\n",
    "season.sample(5)"
   ]
  },
  {
   "cell_type": "code",
   "execution_count": 13,
   "metadata": {},
   "outputs": [
    {
     "data": {
      "text/html": [
       "<div>\n",
       "<style scoped>\n",
       "    .dataframe tbody tr th:only-of-type {\n",
       "        vertical-align: middle;\n",
       "    }\n",
       "\n",
       "    .dataframe tbody tr th {\n",
       "        vertical-align: top;\n",
       "    }\n",
       "\n",
       "    .dataframe thead th {\n",
       "        text-align: right;\n",
       "    }\n",
       "</style>\n",
       "<table border=\"1\" class=\"dataframe\">\n",
       "  <thead>\n",
       "    <tr style=\"text-align: right;\">\n",
       "      <th></th>\n",
       "      <th>ID</th>\n",
       "      <th>Date</th>\n",
       "      <th>Year</th>\n",
       "      <th>Month</th>\n",
       "      <th>Day_of_Week</th>\n",
       "      <th>Day</th>\n",
       "      <th>Hour</th>\n",
       "      <th>Accident_Severity_Label</th>\n",
       "    </tr>\n",
       "  </thead>\n",
       "  <tbody>\n",
       "    <tr>\n",
       "      <th>385398</th>\n",
       "      <td>385399</td>\n",
       "      <td>2014-07-16</td>\n",
       "      <td>2014</td>\n",
       "      <td>Jul</td>\n",
       "      <td>4</td>\n",
       "      <td>Wednesday</td>\n",
       "      <td>11</td>\n",
       "      <td>Serious</td>\n",
       "    </tr>\n",
       "    <tr>\n",
       "      <th>287032</th>\n",
       "      <td>287033</td>\n",
       "      <td>2014-03-15</td>\n",
       "      <td>2014</td>\n",
       "      <td>Mar</td>\n",
       "      <td>7</td>\n",
       "      <td>Saturday</td>\n",
       "      <td>19</td>\n",
       "      <td>Slight</td>\n",
       "    </tr>\n",
       "    <tr>\n",
       "      <th>388279</th>\n",
       "      <td>388280</td>\n",
       "      <td>2014-06-04</td>\n",
       "      <td>2014</td>\n",
       "      <td>Jun</td>\n",
       "      <td>4</td>\n",
       "      <td>Wednesday</td>\n",
       "      <td>15</td>\n",
       "      <td>Slight</td>\n",
       "    </tr>\n",
       "  </tbody>\n",
       "</table>\n",
       "</div>"
      ],
      "text/plain": [
       "            ID       Date  Year Month  Day_of_Week        Day  Hour  \\\n",
       "385398  385399 2014-07-16  2014   Jul            4  Wednesday    11   \n",
       "287032  287033 2014-03-15  2014   Mar            7   Saturday    19   \n",
       "388279  388280 2014-06-04  2014   Jun            4  Wednesday    15   \n",
       "\n",
       "       Accident_Severity_Label  \n",
       "385398                 Serious  \n",
       "287032                  Slight  \n",
       "388279                  Slight  "
      ]
     },
     "execution_count": 13,
     "metadata": {},
     "output_type": "execute_result"
    }
   ],
   "source": [
    "#rename label column to Day\n",
    "season =  season.rename(columns={\"label\":\"Day\"})\n",
    "#Test\n",
    "season.sample(3)"
   ]
  },
  {
   "cell_type": "markdown",
   "metadata": {},
   "source": [
    "## Time\n",
    "#### What is the Most Dangerous Time to Drive?\n",
    "###### - 5pm is the Most dangerous time to Drive during the Day\n",
    "###### - The two peaks in no. of Accidents occur at 8am and 5pm "
   ]
  },
  {
   "cell_type": "code",
   "execution_count": 14,
   "metadata": {},
   "outputs": [
    {
     "data": {
      "text/html": [
       "<style  type=\"text/css\" >\n",
       "    #T_647c1b10_82e5_11e9_9a34_f45c8991f033row17_col0 {\n",
       "            background-color:  red;\n",
       "        }    #T_647c1b10_82e5_11e9_9a34_f45c8991f033row17_col1 {\n",
       "            background-color:  red;\n",
       "        }    #T_647c1b10_82e5_11e9_9a34_f45c8991f033row17_col2 {\n",
       "            background-color:  red;\n",
       "        }</style>  \n",
       "<table id=\"T_647c1b10_82e5_11e9_9a34_f45c8991f033\" > \n",
       "<thead>    <tr> \n",
       "        <th class=\"index_name level0\" >Accident_Severity_Label</th> \n",
       "        <th class=\"col_heading level0 col0\" >Fatal</th> \n",
       "        <th class=\"col_heading level0 col1\" >Serious</th> \n",
       "        <th class=\"col_heading level0 col2\" >Slight</th> \n",
       "    </tr>    <tr> \n",
       "        <th class=\"index_name level0\" >Hour</th> \n",
       "        <th class=\"blank\" ></th> \n",
       "        <th class=\"blank\" ></th> \n",
       "        <th class=\"blank\" ></th> \n",
       "    </tr></thead> \n",
       "<tbody>    <tr> \n",
       "        <th id=\"T_647c1b10_82e5_11e9_9a34_f45c8991f033level0_row0\" class=\"row_heading level0 row0\" >0</th> \n",
       "        <td id=\"T_647c1b10_82e5_11e9_9a34_f45c8991f033row0_col0\" class=\"data row0 col0\" >208</td> \n",
       "        <td id=\"T_647c1b10_82e5_11e9_9a34_f45c8991f033row0_col1\" class=\"data row0 col1\" >1500</td> \n",
       "        <td id=\"T_647c1b10_82e5_11e9_9a34_f45c8991f033row0_col2\" class=\"data row0 col2\" >6272</td> \n",
       "    </tr>    <tr> \n",
       "        <th id=\"T_647c1b10_82e5_11e9_9a34_f45c8991f033level0_row1\" class=\"row_heading level0 row1\" >1</th> \n",
       "        <td id=\"T_647c1b10_82e5_11e9_9a34_f45c8991f033row1_col0\" class=\"data row1 col0\" >160</td> \n",
       "        <td id=\"T_647c1b10_82e5_11e9_9a34_f45c8991f033row1_col1\" class=\"data row1 col1\" >1125</td> \n",
       "        <td id=\"T_647c1b10_82e5_11e9_9a34_f45c8991f033row1_col2\" class=\"data row1 col2\" >4485</td> \n",
       "    </tr>    <tr> \n",
       "        <th id=\"T_647c1b10_82e5_11e9_9a34_f45c8991f033level0_row2\" class=\"row_heading level0 row2\" >2</th> \n",
       "        <td id=\"T_647c1b10_82e5_11e9_9a34_f45c8991f033row2_col0\" class=\"data row2 col0\" >141</td> \n",
       "        <td id=\"T_647c1b10_82e5_11e9_9a34_f45c8991f033row2_col1\" class=\"data row2 col1\" >947</td> \n",
       "        <td id=\"T_647c1b10_82e5_11e9_9a34_f45c8991f033row2_col2\" class=\"data row2 col2\" >3468</td> \n",
       "    </tr>    <tr> \n",
       "        <th id=\"T_647c1b10_82e5_11e9_9a34_f45c8991f033level0_row3\" class=\"row_heading level0 row3\" >3</th> \n",
       "        <td id=\"T_647c1b10_82e5_11e9_9a34_f45c8991f033row3_col0\" class=\"data row3 col0\" >133</td> \n",
       "        <td id=\"T_647c1b10_82e5_11e9_9a34_f45c8991f033row3_col1\" class=\"data row3 col1\" >820</td> \n",
       "        <td id=\"T_647c1b10_82e5_11e9_9a34_f45c8991f033row3_col2\" class=\"data row3 col2\" >2883</td> \n",
       "    </tr>    <tr> \n",
       "        <th id=\"T_647c1b10_82e5_11e9_9a34_f45c8991f033level0_row4\" class=\"row_heading level0 row4\" >4</th> \n",
       "        <td id=\"T_647c1b10_82e5_11e9_9a34_f45c8991f033row4_col0\" class=\"data row4 col0\" >111</td> \n",
       "        <td id=\"T_647c1b10_82e5_11e9_9a34_f45c8991f033row4_col1\" class=\"data row4 col1\" >607</td> \n",
       "        <td id=\"T_647c1b10_82e5_11e9_9a34_f45c8991f033row4_col2\" class=\"data row4 col2\" >2455</td> \n",
       "    </tr>    <tr> \n",
       "        <th id=\"T_647c1b10_82e5_11e9_9a34_f45c8991f033level0_row5\" class=\"row_heading level0 row5\" >5</th> \n",
       "        <td id=\"T_647c1b10_82e5_11e9_9a34_f45c8991f033row5_col0\" class=\"data row5 col0\" >148</td> \n",
       "        <td id=\"T_647c1b10_82e5_11e9_9a34_f45c8991f033row5_col1\" class=\"data row5 col1\" >940</td> \n",
       "        <td id=\"T_647c1b10_82e5_11e9_9a34_f45c8991f033row5_col2\" class=\"data row5 col2\" >3894</td> \n",
       "    </tr>    <tr> \n",
       "        <th id=\"T_647c1b10_82e5_11e9_9a34_f45c8991f033level0_row6\" class=\"row_heading level0 row6\" >6</th> \n",
       "        <td id=\"T_647c1b10_82e5_11e9_9a34_f45c8991f033row6_col0\" class=\"data row6 col0\" >175</td> \n",
       "        <td id=\"T_647c1b10_82e5_11e9_9a34_f45c8991f033row6_col1\" class=\"data row6 col1\" >1763</td> \n",
       "        <td id=\"T_647c1b10_82e5_11e9_9a34_f45c8991f033row6_col2\" class=\"data row6 col2\" >8918</td> \n",
       "    </tr>    <tr> \n",
       "        <th id=\"T_647c1b10_82e5_11e9_9a34_f45c8991f033level0_row7\" class=\"row_heading level0 row7\" >7</th> \n",
       "        <td id=\"T_647c1b10_82e5_11e9_9a34_f45c8991f033row7_col0\" class=\"data row7 col0\" >255</td> \n",
       "        <td id=\"T_647c1b10_82e5_11e9_9a34_f45c8991f033row7_col1\" class=\"data row7 col1\" >3482</td> \n",
       "        <td id=\"T_647c1b10_82e5_11e9_9a34_f45c8991f033row7_col2\" class=\"data row7 col2\" >21813</td> \n",
       "    </tr>    <tr> \n",
       "        <th id=\"T_647c1b10_82e5_11e9_9a34_f45c8991f033level0_row8\" class=\"row_heading level0 row8\" >8</th> \n",
       "        <td id=\"T_647c1b10_82e5_11e9_9a34_f45c8991f033row8_col0\" class=\"data row8 col0\" >229</td> \n",
       "        <td id=\"T_647c1b10_82e5_11e9_9a34_f45c8991f033row8_col1\" class=\"data row8 col1\" >4783</td> \n",
       "        <td id=\"T_647c1b10_82e5_11e9_9a34_f45c8991f033row8_col2\" class=\"data row8 col2\" >37003</td> \n",
       "    </tr>    <tr> \n",
       "        <th id=\"T_647c1b10_82e5_11e9_9a34_f45c8991f033level0_row9\" class=\"row_heading level0 row9\" >9</th> \n",
       "        <td id=\"T_647c1b10_82e5_11e9_9a34_f45c8991f033row9_col0\" class=\"data row9 col0\" >223</td> \n",
       "        <td id=\"T_647c1b10_82e5_11e9_9a34_f45c8991f033row9_col1\" class=\"data row9 col1\" >3439</td> \n",
       "        <td id=\"T_647c1b10_82e5_11e9_9a34_f45c8991f033row9_col2\" class=\"data row9 col2\" >25021</td> \n",
       "    </tr>    <tr> \n",
       "        <th id=\"T_647c1b10_82e5_11e9_9a34_f45c8991f033level0_row10\" class=\"row_heading level0 row10\" >10</th> \n",
       "        <td id=\"T_647c1b10_82e5_11e9_9a34_f45c8991f033row10_col0\" class=\"data row10 col0\" >324</td> \n",
       "        <td id=\"T_647c1b10_82e5_11e9_9a34_f45c8991f033row10_col1\" class=\"data row10 col1\" >3560</td> \n",
       "        <td id=\"T_647c1b10_82e5_11e9_9a34_f45c8991f033row10_col2\" class=\"data row10 col2\" >22296</td> \n",
       "    </tr>    <tr> \n",
       "        <th id=\"T_647c1b10_82e5_11e9_9a34_f45c8991f033level0_row11\" class=\"row_heading level0 row11\" >11</th> \n",
       "        <td id=\"T_647c1b10_82e5_11e9_9a34_f45c8991f033row11_col0\" class=\"data row11 col0\" >360</td> \n",
       "        <td id=\"T_647c1b10_82e5_11e9_9a34_f45c8991f033row11_col1\" class=\"data row11 col1\" >4031</td> \n",
       "        <td id=\"T_647c1b10_82e5_11e9_9a34_f45c8991f033row11_col2\" class=\"data row11 col2\" >25733</td> \n",
       "    </tr>    <tr> \n",
       "        <th id=\"T_647c1b10_82e5_11e9_9a34_f45c8991f033level0_row12\" class=\"row_heading level0 row12\" >12</th> \n",
       "        <td id=\"T_647c1b10_82e5_11e9_9a34_f45c8991f033row12_col0\" class=\"data row12 col0\" >306</td> \n",
       "        <td id=\"T_647c1b10_82e5_11e9_9a34_f45c8991f033row12_col1\" class=\"data row12 col1\" >4495</td> \n",
       "        <td id=\"T_647c1b10_82e5_11e9_9a34_f45c8991f033row12_col2\" class=\"data row12 col2\" >28922</td> \n",
       "    </tr>    <tr> \n",
       "        <th id=\"T_647c1b10_82e5_11e9_9a34_f45c8991f033level0_row13\" class=\"row_heading level0 row13\" >13</th> \n",
       "        <td id=\"T_647c1b10_82e5_11e9_9a34_f45c8991f033row13_col0\" class=\"data row13 col0\" >352</td> \n",
       "        <td id=\"T_647c1b10_82e5_11e9_9a34_f45c8991f033row13_col1\" class=\"data row13 col1\" >4596</td> \n",
       "        <td id=\"T_647c1b10_82e5_11e9_9a34_f45c8991f033row13_col2\" class=\"data row13 col2\" >29235</td> \n",
       "    </tr>    <tr> \n",
       "        <th id=\"T_647c1b10_82e5_11e9_9a34_f45c8991f033level0_row14\" class=\"row_heading level0 row14\" >14</th> \n",
       "        <td id=\"T_647c1b10_82e5_11e9_9a34_f45c8991f033row14_col0\" class=\"data row14 col0\" >340</td> \n",
       "        <td id=\"T_647c1b10_82e5_11e9_9a34_f45c8991f033row14_col1\" class=\"data row14 col1\" >4792</td> \n",
       "        <td id=\"T_647c1b10_82e5_11e9_9a34_f45c8991f033row14_col2\" class=\"data row14 col2\" >29473</td> \n",
       "    </tr>    <tr> \n",
       "        <th id=\"T_647c1b10_82e5_11e9_9a34_f45c8991f033level0_row15\" class=\"row_heading level0 row15\" >15</th> \n",
       "        <td id=\"T_647c1b10_82e5_11e9_9a34_f45c8991f033row15_col0\" class=\"data row15 col0\" >416</td> \n",
       "        <td id=\"T_647c1b10_82e5_11e9_9a34_f45c8991f033row15_col1\" class=\"data row15 col1\" >6183</td> \n",
       "        <td id=\"T_647c1b10_82e5_11e9_9a34_f45c8991f033row15_col2\" class=\"data row15 col2\" >37555</td> \n",
       "    </tr>    <tr> \n",
       "        <th id=\"T_647c1b10_82e5_11e9_9a34_f45c8991f033level0_row16\" class=\"row_heading level0 row16\" >16</th> \n",
       "        <td id=\"T_647c1b10_82e5_11e9_9a34_f45c8991f033row16_col0\" class=\"data row16 col0\" >454</td> \n",
       "        <td id=\"T_647c1b10_82e5_11e9_9a34_f45c8991f033row16_col1\" class=\"data row16 col1\" >6677</td> \n",
       "        <td id=\"T_647c1b10_82e5_11e9_9a34_f45c8991f033row16_col2\" class=\"data row16 col2\" >39591</td> \n",
       "    </tr>    <tr> \n",
       "        <th id=\"T_647c1b10_82e5_11e9_9a34_f45c8991f033level0_row17\" class=\"row_heading level0 row17\" >17</th> \n",
       "        <td id=\"T_647c1b10_82e5_11e9_9a34_f45c8991f033row17_col0\" class=\"data row17 col0\" >462</td> \n",
       "        <td id=\"T_647c1b10_82e5_11e9_9a34_f45c8991f033row17_col1\" class=\"data row17 col1\" >7130</td> \n",
       "        <td id=\"T_647c1b10_82e5_11e9_9a34_f45c8991f033row17_col2\" class=\"data row17 col2\" >44253</td> \n",
       "    </tr>    <tr> \n",
       "        <th id=\"T_647c1b10_82e5_11e9_9a34_f45c8991f033level0_row18\" class=\"row_heading level0 row18\" >18</th> \n",
       "        <td id=\"T_647c1b10_82e5_11e9_9a34_f45c8991f033row18_col0\" class=\"data row18 col0\" >363</td> \n",
       "        <td id=\"T_647c1b10_82e5_11e9_9a34_f45c8991f033row18_col1\" class=\"data row18 col1\" >5817</td> \n",
       "        <td id=\"T_647c1b10_82e5_11e9_9a34_f45c8991f033row18_col2\" class=\"data row18 col2\" >34327</td> \n",
       "    </tr>    <tr> \n",
       "        <th id=\"T_647c1b10_82e5_11e9_9a34_f45c8991f033level0_row19\" class=\"row_heading level0 row19\" >19</th> \n",
       "        <td id=\"T_647c1b10_82e5_11e9_9a34_f45c8991f033row19_col0\" class=\"data row19 col0\" >347</td> \n",
       "        <td id=\"T_647c1b10_82e5_11e9_9a34_f45c8991f033row19_col1\" class=\"data row19 col1\" >4410</td> \n",
       "        <td id=\"T_647c1b10_82e5_11e9_9a34_f45c8991f033row19_col2\" class=\"data row19 col2\" >24426</td> \n",
       "    </tr>    <tr> \n",
       "        <th id=\"T_647c1b10_82e5_11e9_9a34_f45c8991f033level0_row20\" class=\"row_heading level0 row20\" >20</th> \n",
       "        <td id=\"T_647c1b10_82e5_11e9_9a34_f45c8991f033row20_col0\" class=\"data row20 col0\" >252</td> \n",
       "        <td id=\"T_647c1b10_82e5_11e9_9a34_f45c8991f033row20_col1\" class=\"data row20 col1\" >3276</td> \n",
       "        <td id=\"T_647c1b10_82e5_11e9_9a34_f45c8991f033row20_col2\" class=\"data row20 col2\" >17587</td> \n",
       "    </tr>    <tr> \n",
       "        <th id=\"T_647c1b10_82e5_11e9_9a34_f45c8991f033level0_row21\" class=\"row_heading level0 row21\" >21</th> \n",
       "        <td id=\"T_647c1b10_82e5_11e9_9a34_f45c8991f033row21_col0\" class=\"data row21 col0\" >257</td> \n",
       "        <td id=\"T_647c1b10_82e5_11e9_9a34_f45c8991f033row21_col1\" class=\"data row21 col1\" >2683</td> \n",
       "        <td id=\"T_647c1b10_82e5_11e9_9a34_f45c8991f033row21_col2\" class=\"data row21 col2\" >13254</td> \n",
       "    </tr>    <tr> \n",
       "        <th id=\"T_647c1b10_82e5_11e9_9a34_f45c8991f033level0_row22\" class=\"row_heading level0 row22\" >22</th> \n",
       "        <td id=\"T_647c1b10_82e5_11e9_9a34_f45c8991f033row22_col0\" class=\"data row22 col0\" >274</td> \n",
       "        <td id=\"T_647c1b10_82e5_11e9_9a34_f45c8991f033row22_col1\" class=\"data row22 col1\" >2341</td> \n",
       "        <td id=\"T_647c1b10_82e5_11e9_9a34_f45c8991f033row22_col2\" class=\"data row22 col2\" >11423</td> \n",
       "    </tr>    <tr> \n",
       "        <th id=\"T_647c1b10_82e5_11e9_9a34_f45c8991f033level0_row23\" class=\"row_heading level0 row23\" >23</th> \n",
       "        <td id=\"T_647c1b10_82e5_11e9_9a34_f45c8991f033row23_col0\" class=\"data row23 col0\" >229</td> \n",
       "        <td id=\"T_647c1b10_82e5_11e9_9a34_f45c8991f033row23_col1\" class=\"data row23 col1\" >1842</td> \n",
       "        <td id=\"T_647c1b10_82e5_11e9_9a34_f45c8991f033row23_col2\" class=\"data row23 col2\" >8564</td> \n",
       "    </tr></tbody> \n",
       "</table> "
      ],
      "text/plain": [
       "<pandas.io.formats.style.Styler at 0x1a178a3c88>"
      ]
     },
     "execution_count": 14,
     "metadata": {},
     "output_type": "execute_result"
    }
   ],
   "source": [
    "#Group Data ASL against Hours\n",
    "seasongrphr = (season.groupby(['Accident_Severity_Label','Hour'])['Accident_Severity_Label']\n",
    "               .count().unstack('Accident_Severity_Label'))\n",
    "#View\n",
    "seasongrphr.style.highlight_max(color='red')"
   ]
  },
  {
   "cell_type": "code",
   "execution_count": 96,
   "metadata": {},
   "outputs": [
    {
     "data": {
      "application/vnd.plotly.v1+json": {
       "data": [
        {
         "line": {
          "color": "rgba(255, 153, 51, 1.0)",
          "dash": "solid",
          "shape": "linear",
          "width": 1.3
         },
         "mode": "lines",
         "name": "Fatal",
         "text": "",
         "type": "scatter",
         "uid": "1c83d228-82e8-11e9-8b27-f45c8991f033",
         "x": [
          0,
          1,
          2,
          3,
          4,
          5,
          6,
          7,
          8,
          9,
          10,
          11,
          12,
          13,
          14,
          15,
          16,
          17,
          18,
          19,
          20,
          21,
          22,
          23
         ],
         "y": [
          208,
          160,
          141,
          133,
          111,
          148,
          175,
          255,
          229,
          223,
          324,
          360,
          306,
          352,
          340,
          416,
          454,
          462,
          363,
          347,
          252,
          257,
          274,
          229
         ]
        },
        {
         "line": {
          "color": "rgba(55, 128, 191, 1.0)",
          "dash": "solid",
          "shape": "linear",
          "width": 1.3
         },
         "mode": "lines",
         "name": "Serious",
         "text": "",
         "type": "scatter",
         "uid": "1c83d43a-82e8-11e9-92c1-f45c8991f033",
         "x": [
          0,
          1,
          2,
          3,
          4,
          5,
          6,
          7,
          8,
          9,
          10,
          11,
          12,
          13,
          14,
          15,
          16,
          17,
          18,
          19,
          20,
          21,
          22,
          23
         ],
         "y": [
          1500,
          1125,
          947,
          820,
          607,
          940,
          1763,
          3482,
          4783,
          3439,
          3560,
          4031,
          4495,
          4596,
          4792,
          6183,
          6677,
          7130,
          5817,
          4410,
          3276,
          2683,
          2341,
          1842
         ]
        },
        {
         "line": {
          "color": "rgba(50, 171, 96, 1.0)",
          "dash": "solid",
          "shape": "linear",
          "width": 1.3
         },
         "mode": "lines",
         "name": "Slight",
         "text": "",
         "type": "scatter",
         "uid": "1c83d502-82e8-11e9-8ef7-f45c8991f033",
         "x": [
          0,
          1,
          2,
          3,
          4,
          5,
          6,
          7,
          8,
          9,
          10,
          11,
          12,
          13,
          14,
          15,
          16,
          17,
          18,
          19,
          20,
          21,
          22,
          23
         ],
         "y": [
          6272,
          4485,
          3468,
          2883,
          2455,
          3894,
          8918,
          21813,
          37003,
          25021,
          22296,
          25733,
          28922,
          29235,
          29473,
          37555,
          39591,
          44253,
          34327,
          24426,
          17587,
          13254,
          11423,
          8564
         ]
        }
       ],
       "layout": {
        "autosize": true,
        "legend": {
         "bgcolor": "#F5F6F9",
         "font": {
          "color": "#4D5663"
         }
        },
        "paper_bgcolor": "#F5F6F9",
        "plot_bgcolor": "#F5F6F9",
        "title": "Accident Severity By Time",
        "titlefont": {
         "color": "#4D5663"
        },
        "xaxis": {
         "autorange": true,
         "gridcolor": "#E1E5ED",
         "range": [
          0,
          23
         ],
         "showgrid": true,
         "tickfont": {
          "color": "#4D5663"
         },
         "title": "Time of Day",
         "titlefont": {
          "color": "#4D5663"
         },
         "type": "linear",
         "zerolinecolor": "#E1E5ED"
        },
        "yaxis": {
         "autorange": true,
         "gridcolor": "#E1E5ED",
         "range": [
          -2341.3333333333335,
          46705.333333333336
         ],
         "showgrid": true,
         "tickfont": {
          "color": "#4D5663"
         },
         "title": "No. of Accidents",
         "titlefont": {
          "color": "#4D5663"
         },
         "type": "linear",
         "zerolinecolor": "#E1E5ED"
        }
       }
      },
      "image/png": "[encoded data removed]",
      "text/html": [
       "<div id=\"4bed5822-7682-4639-884e-37bd5edb809d\" style=\"height: 525px; width: 100%;\" class=\"plotly-graph-div\"></div><script type=\"text/javascript\">require([\"plotly\"], function(Plotly) { window.PLOTLYENV=window.PLOTLYENV || {};window.PLOTLYENV.BASE_URL=\"https://plot.ly\";Plotly.newPlot(\"4bed5822-7682-4639-884e-37bd5edb809d\", [{\"line\": {\"color\": \"rgba(255, 153, 51, 1.0)\", \"dash\": \"solid\", \"shape\": \"linear\", \"width\": 1.3}, \"mode\": \"lines\", \"name\": \"Fatal\", \"text\": \"\", \"x\": [0, 1, 2, 3, 4, 5, 6, 7, 8, 9, 10, 11, 12, 13, 14, 15, 16, 17, 18, 19, 20, 21, 22, 23], \"y\": [208, 160, 141, 133, 111, 148, 175, 255, 229, 223, 324, 360, 306, 352, 340, 416, 454, 462, 363, 347, 252, 257, 274, 229], \"type\": \"scatter\", \"uid\": \"1c875a10-82e8-11e9-a5cd-f45c8991f033\"}, {\"line\": {\"color\": \"rgba(55, 128, 191, 1.0)\", \"dash\": \"solid\", \"shape\": \"linear\", \"width\": 1.3}, \"mode\": \"lines\", \"name\": \"Serious\", \"text\": \"\", \"x\": [0, 1, 2, 3, 4, 5, 6, 7, 8, 9, 10, 11, 12, 13, 14, 15, 16, 17, 18, 19, 20, 21, 22, 23], \"y\": [1500, 1125, 947, 820, 607, 940, 1763, 3482, 4783, 3439, 3560, 4031, 4495, 4596, 4792, 6183, 6677, 7130, 5817, 4410, 3276, 2683, 2341, 1842], \"type\": \"scatter\", \"uid\": \"1c875bbe-82e8-11e9-983e-f45c8991f033\"}, {\"line\": {\"color\": \"rgba(50, 171, 96, 1.0)\", \"dash\": \"solid\", \"shape\": \"linear\", \"width\": 1.3}, \"mode\": \"lines\", \"name\": \"Slight\", \"text\": \"\", \"x\": [0, 1, 2, 3, 4, 5, 6, 7, 8, 9, 10, 11, 12, 13, 14, 15, 16, 17, 18, 19, 20, 21, 22, 23], \"y\": [6272, 4485, 3468, 2883, 2455, 3894, 8918, 21813, 37003, 25021, 22296, 25733, 28922, 29235, 29473, 37555, 39591, 44253, 34327, 24426, 17587, 13254, 11423, 8564], \"type\": \"scatter\", \"uid\": \"1c875c74-82e8-11e9-888a-f45c8991f033\"}], {\"legend\": {\"bgcolor\": \"#F5F6F9\", \"font\": {\"color\": \"#4D5663\"}}, \"paper_bgcolor\": \"#F5F6F9\", \"plot_bgcolor\": \"#F5F6F9\", \"title\": \"Accident Severity By Time\", \"titlefont\": {\"color\": \"#4D5663\"}, \"xaxis\": {\"gridcolor\": \"#E1E5ED\", \"showgrid\": true, \"tickfont\": {\"color\": \"#4D5663\"}, \"title\": \"Time of Day\", \"titlefont\": {\"color\": \"#4D5663\"}, \"zerolinecolor\": \"#E1E5ED\"}, \"yaxis\": {\"gridcolor\": \"#E1E5ED\", \"showgrid\": true, \"tickfont\": {\"color\": \"#4D5663\"}, \"title\": \"No. of Accidents\", \"titlefont\": {\"color\": \"#4D5663\"}, \"zerolinecolor\": \"#E1E5ED\"}}, {\"showLink\": true, \"linkText\": \"Export to plot.ly\"})});</script>"
      ],
      "text/vnd.plotly.v1+html": [
       "<div id=\"4bed5822-7682-4639-884e-37bd5edb809d\" style=\"height: 525px; width: 100%;\" class=\"plotly-graph-div\"></div><script type=\"text/javascript\">require([\"plotly\"], function(Plotly) { window.PLOTLYENV=window.PLOTLYENV || {};window.PLOTLYENV.BASE_URL=\"https://plot.ly\";Plotly.newPlot(\"4bed5822-7682-4639-884e-37bd5edb809d\", [{\"line\": {\"color\": \"rgba(255, 153, 51, 1.0)\", \"dash\": \"solid\", \"shape\": \"linear\", \"width\": 1.3}, \"mode\": \"lines\", \"name\": \"Fatal\", \"text\": \"\", \"x\": [0, 1, 2, 3, 4, 5, 6, 7, 8, 9, 10, 11, 12, 13, 14, 15, 16, 17, 18, 19, 20, 21, 22, 23], \"y\": [208, 160, 141, 133, 111, 148, 175, 255, 229, 223, 324, 360, 306, 352, 340, 416, 454, 462, 363, 347, 252, 257, 274, 229], \"type\": \"scatter\", \"uid\": \"1c875a10-82e8-11e9-a5cd-f45c8991f033\"}, {\"line\": {\"color\": \"rgba(55, 128, 191, 1.0)\", \"dash\": \"solid\", \"shape\": \"linear\", \"width\": 1.3}, \"mode\": \"lines\", \"name\": \"Serious\", \"text\": \"\", \"x\": [0, 1, 2, 3, 4, 5, 6, 7, 8, 9, 10, 11, 12, 13, 14, 15, 16, 17, 18, 19, 20, 21, 22, 23], \"y\": [1500, 1125, 947, 820, 607, 940, 1763, 3482, 4783, 3439, 3560, 4031, 4495, 4596, 4792, 6183, 6677, 7130, 5817, 4410, 3276, 2683, 2341, 1842], \"type\": \"scatter\", \"uid\": \"1c875bbe-82e8-11e9-983e-f45c8991f033\"}, {\"line\": {\"color\": \"rgba(50, 171, 96, 1.0)\", \"dash\": \"solid\", \"shape\": \"linear\", \"width\": 1.3}, \"mode\": \"lines\", \"name\": \"Slight\", \"text\": \"\", \"x\": [0, 1, 2, 3, 4, 5, 6, 7, 8, 9, 10, 11, 12, 13, 14, 15, 16, 17, 18, 19, 20, 21, 22, 23], \"y\": [6272, 4485, 3468, 2883, 2455, 3894, 8918, 21813, 37003, 25021, 22296, 25733, 28922, 29235, 29473, 37555, 39591, 44253, 34327, 24426, 17587, 13254, 11423, 8564], \"type\": \"scatter\", \"uid\": \"1c875c74-82e8-11e9-888a-f45c8991f033\"}], {\"legend\": {\"bgcolor\": \"#F5F6F9\", \"font\": {\"color\": \"#4D5663\"}}, \"paper_bgcolor\": \"#F5F6F9\", \"plot_bgcolor\": \"#F5F6F9\", \"title\": \"Accident Severity By Time\", \"titlefont\": {\"color\": \"#4D5663\"}, \"xaxis\": {\"gridcolor\": \"#E1E5ED\", \"showgrid\": true, \"tickfont\": {\"color\": \"#4D5663\"}, \"title\": \"Time of Day\", \"titlefont\": {\"color\": \"#4D5663\"}, \"zerolinecolor\": \"#E1E5ED\"}, \"yaxis\": {\"gridcolor\": \"#E1E5ED\", \"showgrid\": true, \"tickfont\": {\"color\": \"#4D5663\"}, \"title\": \"No. of Accidents\", \"titlefont\": {\"color\": \"#4D5663\"}, \"zerolinecolor\": \"#E1E5ED\"}}, {\"showLink\": true, \"linkText\": \"Export to plot.ly\"})});</script>"
      ]
     },
     "metadata": {},
     "output_type": "display_data"
    }
   ],
   "source": [
    "seasongrphr.iplot(kind='line', xTitle='Time of Day', yTitle='No. of Accidents', title='Accident Severity By Time')"
   ]
  },
  {
   "cell_type": "markdown",
   "metadata": {},
   "source": [
    "## By Year\n",
    "####  What Year Has the Highest Amount of Accidents?\n",
    "###### - 2014 had the Most Accidents between 2012-2015\n",
    "###### - 2013 had the Least Accidents between 2012-2015"
   ]
  },
  {
   "cell_type": "code",
   "execution_count": 16,
   "metadata": {},
   "outputs": [
    {
     "data": {
      "text/html": [
       "<style  type=\"text/css\" >\n",
       "    #T_64980906_82e5_11e9_b89a_f45c8991f033row0_col1 {\n",
       "            background-color:  yellow;\n",
       "            : ;\n",
       "        }    #T_64980906_82e5_11e9_b89a_f45c8991f033row1_col0 {\n",
       "            : ;\n",
       "            background-color:  lightgreen;\n",
       "        }    #T_64980906_82e5_11e9_b89a_f45c8991f033row1_col1 {\n",
       "            : ;\n",
       "            background-color:  lightgreen;\n",
       "        }    #T_64980906_82e5_11e9_b89a_f45c8991f033row1_col2 {\n",
       "            : ;\n",
       "            background-color:  lightgreen;\n",
       "        }    #T_64980906_82e5_11e9_b89a_f45c8991f033row2_col0 {\n",
       "            background-color:  yellow;\n",
       "            : ;\n",
       "        }    #T_64980906_82e5_11e9_b89a_f45c8991f033row2_col2 {\n",
       "            background-color:  yellow;\n",
       "            : ;\n",
       "        }</style>  \n",
       "<table id=\"T_64980906_82e5_11e9_b89a_f45c8991f033\" > \n",
       "<thead>    <tr> \n",
       "        <th class=\"index_name level0\" >Accident_Severity_Label</th> \n",
       "        <th class=\"col_heading level0 col0\" >Fatal</th> \n",
       "        <th class=\"col_heading level0 col1\" >Serious</th> \n",
       "        <th class=\"col_heading level0 col2\" >Slight</th> \n",
       "    </tr>    <tr> \n",
       "        <th class=\"index_name level0\" >Year</th> \n",
       "        <th class=\"blank\" ></th> \n",
       "        <th class=\"blank\" ></th> \n",
       "        <th class=\"blank\" ></th> \n",
       "    </tr></thead> \n",
       "<tbody>    <tr> \n",
       "        <th id=\"T_64980906_82e5_11e9_b89a_f45c8991f033level0_row0\" class=\"row_heading level0 row0\" >2012</th> \n",
       "        <td id=\"T_64980906_82e5_11e9_b89a_f45c8991f033row0_col0\" class=\"data row0 col0\" >1637</td> \n",
       "        <td id=\"T_64980906_82e5_11e9_b89a_f45c8991f033row0_col1\" class=\"data row0 col1\" >20901</td> \n",
       "        <td id=\"T_64980906_82e5_11e9_b89a_f45c8991f033row0_col2\" class=\"data row0 col2\" >123033</td> \n",
       "    </tr>    <tr> \n",
       "        <th id=\"T_64980906_82e5_11e9_b89a_f45c8991f033level0_row1\" class=\"row_heading level0 row1\" >2013</th> \n",
       "        <td id=\"T_64980906_82e5_11e9_b89a_f45c8991f033row1_col0\" class=\"data row1 col0\" >1608</td> \n",
       "        <td id=\"T_64980906_82e5_11e9_b89a_f45c8991f033row1_col1\" class=\"data row1 col1\" >19624</td> \n",
       "        <td id=\"T_64980906_82e5_11e9_b89a_f45c8991f033row1_col2\" class=\"data row1 col2\" >117428</td> \n",
       "    </tr>    <tr> \n",
       "        <th id=\"T_64980906_82e5_11e9_b89a_f45c8991f033level0_row2\" class=\"row_heading level0 row2\" >2014</th> \n",
       "        <td id=\"T_64980906_82e5_11e9_b89a_f45c8991f033row2_col0\" class=\"data row2 col0\" >1658</td> \n",
       "        <td id=\"T_64980906_82e5_11e9_b89a_f45c8991f033row2_col1\" class=\"data row2 col1\" >20676</td> \n",
       "        <td id=\"T_64980906_82e5_11e9_b89a_f45c8991f033row2_col2\" class=\"data row2 col2\" >123988</td> \n",
       "    </tr>    <tr> \n",
       "        <th id=\"T_64980906_82e5_11e9_b89a_f45c8991f033level0_row3\" class=\"row_heading level0 row3\" >2015</th> \n",
       "        <td id=\"T_64980906_82e5_11e9_b89a_f45c8991f033row3_col0\" class=\"data row3 col0\" >1616</td> \n",
       "        <td id=\"T_64980906_82e5_11e9_b89a_f45c8991f033row3_col1\" class=\"data row3 col1\" >20038</td> \n",
       "        <td id=\"T_64980906_82e5_11e9_b89a_f45c8991f033row3_col2\" class=\"data row3 col2\" >118402</td> \n",
       "    </tr></tbody> \n",
       "</table> "
      ],
      "text/plain": [
       "<pandas.io.formats.style.Styler at 0x1a178efa90>"
      ]
     },
     "execution_count": 16,
     "metadata": {},
     "output_type": "execute_result"
    }
   ],
   "source": [
    "#Group Data ASL against Year\n",
    "seasongrpyear = (season.groupby(['Accident_Severity_Label','Year'])['ID'].agg('count')\n",
    "                 .unstack('Accident_Severity_Label'))\n",
    "\n",
    "#Highlight Max Values\n",
    "seasongrpyear.style.highlight_max(color='yellow').highlight_min(color='lightgreen')"
   ]
  },
  {
   "cell_type": "code",
   "execution_count": 98,
   "metadata": {},
   "outputs": [
    {
     "data": {
      "application/vnd.plotly.v1+json": {
       "data": [
        {
         "marker": {
          "color": "rgba(255, 153, 51, 0.6)",
          "line": {
           "color": "rgba(255, 153, 51, 1.0)",
           "width": 1
          }
         },
         "name": "Fatal",
         "orientation": "h",
         "text": "",
         "type": "bar",
         "uid": "3fd23d82-82e8-11e9-9e8e-f45c8991f033",
         "x": [
          1637,
          1608,
          1658,
          1616
         ],
         "y": [
          2012,
          2013,
          2014,
          2015
         ]
        },
        {
         "marker": {
          "color": "rgba(55, 128, 191, 0.6)",
          "line": {
           "color": "rgba(55, 128, 191, 1.0)",
           "width": 1
          }
         },
         "name": "Serious",
         "orientation": "h",
         "text": "",
         "type": "bar",
         "uid": "3fd23f3a-82e8-11e9-a91b-f45c8991f033",
         "x": [
          20901,
          19624,
          20676,
          20038
         ],
         "y": [
          2012,
          2013,
          2014,
          2015
         ]
        },
        {
         "marker": {
          "color": "rgba(50, 171, 96, 0.6)",
          "line": {
           "color": "rgba(50, 171, 96, 1.0)",
           "width": 1
          }
         },
         "name": "Slight",
         "orientation": "h",
         "text": "",
         "type": "bar",
         "uid": "3fd23ff8-82e8-11e9-b4f6-f45c8991f033",
         "x": [
          123033,
          117428,
          123988,
          118402
         ],
         "y": [
          2012,
          2013,
          2014,
          2015
         ]
        }
       ],
       "layout": {
        "autosize": true,
        "legend": {
         "bgcolor": "#F5F6F9",
         "font": {
          "color": "#4D5663"
         }
        },
        "paper_bgcolor": "#F5F6F9",
        "plot_bgcolor": "#F5F6F9",
        "title": "Accident Severity By Year",
        "titlefont": {
         "color": "#4D5663"
        },
        "xaxis": {
         "autorange": true,
         "gridcolor": "#E1E5ED",
         "range": [
          0,
          130513.68421052632
         ],
         "showgrid": true,
         "tickfont": {
          "color": "#4D5663"
         },
         "title": "No of Accidents",
         "titlefont": {
          "color": "#4D5663"
         },
         "type": "linear",
         "zerolinecolor": "#E1E5ED"
        },
        "yaxis": {
         "autorange": true,
         "gridcolor": "#E1E5ED",
         "range": [
          2011.5,
          2015.5
         ],
         "showgrid": true,
         "tickfont": {
          "color": "#4D5663"
         },
         "title": "Year",
         "titlefont": {
          "color": "#4D5663"
         },
         "type": "linear",
         "zerolinecolor": "#E1E5ED"
        }
       }
      },
      "image/png": "[encoded data removed]",
      "text/html": [
       "<div id=\"41d96fa4-0ad7-466e-acbc-263c1e7839b4\" style=\"height: 525px; width: 100%;\" class=\"plotly-graph-div\"></div><script type=\"text/javascript\">require([\"plotly\"], function(Plotly) { window.PLOTLYENV=window.PLOTLYENV || {};window.PLOTLYENV.BASE_URL=\"https://plot.ly\";Plotly.newPlot(\"41d96fa4-0ad7-466e-acbc-263c1e7839b4\", [{\"marker\": {\"color\": \"rgba(255, 153, 51, 0.6)\", \"line\": {\"color\": \"rgba(255, 153, 51, 1.0)\", \"width\": 1}}, \"name\": \"Fatal\", \"orientation\": \"h\", \"text\": \"\", \"x\": [1637, 1608, 1658, 1616], \"y\": [2012, 2013, 2014, 2015], \"type\": \"bar\", \"uid\": \"3fd618c6-82e8-11e9-974a-f45c8991f033\"}, {\"marker\": {\"color\": \"rgba(55, 128, 191, 0.6)\", \"line\": {\"color\": \"rgba(55, 128, 191, 1.0)\", \"width\": 1}}, \"name\": \"Serious\", \"orientation\": \"h\", \"text\": \"\", \"x\": [20901, 19624, 20676, 20038], \"y\": [2012, 2013, 2014, 2015], \"type\": \"bar\", \"uid\": \"3fd61a2e-82e8-11e9-b102-f45c8991f033\"}, {\"marker\": {\"color\": \"rgba(50, 171, 96, 0.6)\", \"line\": {\"color\": \"rgba(50, 171, 96, 1.0)\", \"width\": 1}}, \"name\": \"Slight\", \"orientation\": \"h\", \"text\": \"\", \"x\": [123033, 117428, 123988, 118402], \"y\": [2012, 2013, 2014, 2015], \"type\": \"bar\", \"uid\": \"3fd61aec-82e8-11e9-8539-f45c8991f033\"}], {\"legend\": {\"bgcolor\": \"#F5F6F9\", \"font\": {\"color\": \"#4D5663\"}}, \"paper_bgcolor\": \"#F5F6F9\", \"plot_bgcolor\": \"#F5F6F9\", \"title\": \"Accident Severity By Year\", \"titlefont\": {\"color\": \"#4D5663\"}, \"xaxis\": {\"gridcolor\": \"#E1E5ED\", \"showgrid\": true, \"tickfont\": {\"color\": \"#4D5663\"}, \"title\": \"No of Accidents\", \"titlefont\": {\"color\": \"#4D5663\"}, \"zerolinecolor\": \"#E1E5ED\"}, \"yaxis\": {\"gridcolor\": \"#E1E5ED\", \"showgrid\": true, \"tickfont\": {\"color\": \"#4D5663\"}, \"title\": \"Year\", \"titlefont\": {\"color\": \"#4D5663\"}, \"zerolinecolor\": \"#E1E5ED\"}}, {\"showLink\": true, \"linkText\": \"Export to plot.ly\"})});</script>"
      ],
      "text/vnd.plotly.v1+html": [
       "<div id=\"41d96fa4-0ad7-466e-acbc-263c1e7839b4\" style=\"height: 525px; width: 100%;\" class=\"plotly-graph-div\"></div><script type=\"text/javascript\">require([\"plotly\"], function(Plotly) { window.PLOTLYENV=window.PLOTLYENV || {};window.PLOTLYENV.BASE_URL=\"https://plot.ly\";Plotly.newPlot(\"41d96fa4-0ad7-466e-acbc-263c1e7839b4\", [{\"marker\": {\"color\": \"rgba(255, 153, 51, 0.6)\", \"line\": {\"color\": \"rgba(255, 153, 51, 1.0)\", \"width\": 1}}, \"name\": \"Fatal\", \"orientation\": \"h\", \"text\": \"\", \"x\": [1637, 1608, 1658, 1616], \"y\": [2012, 2013, 2014, 2015], \"type\": \"bar\", \"uid\": \"3fd618c6-82e8-11e9-974a-f45c8991f033\"}, {\"marker\": {\"color\": \"rgba(55, 128, 191, 0.6)\", \"line\": {\"color\": \"rgba(55, 128, 191, 1.0)\", \"width\": 1}}, \"name\": \"Serious\", \"orientation\": \"h\", \"text\": \"\", \"x\": [20901, 19624, 20676, 20038], \"y\": [2012, 2013, 2014, 2015], \"type\": \"bar\", \"uid\": \"3fd61a2e-82e8-11e9-b102-f45c8991f033\"}, {\"marker\": {\"color\": \"rgba(50, 171, 96, 0.6)\", \"line\": {\"color\": \"rgba(50, 171, 96, 1.0)\", \"width\": 1}}, \"name\": \"Slight\", \"orientation\": \"h\", \"text\": \"\", \"x\": [123033, 117428, 123988, 118402], \"y\": [2012, 2013, 2014, 2015], \"type\": \"bar\", \"uid\": \"3fd61aec-82e8-11e9-8539-f45c8991f033\"}], {\"legend\": {\"bgcolor\": \"#F5F6F9\", \"font\": {\"color\": \"#4D5663\"}}, \"paper_bgcolor\": \"#F5F6F9\", \"plot_bgcolor\": \"#F5F6F9\", \"title\": \"Accident Severity By Year\", \"titlefont\": {\"color\": \"#4D5663\"}, \"xaxis\": {\"gridcolor\": \"#E1E5ED\", \"showgrid\": true, \"tickfont\": {\"color\": \"#4D5663\"}, \"title\": \"No of Accidents\", \"titlefont\": {\"color\": \"#4D5663\"}, \"zerolinecolor\": \"#E1E5ED\"}, \"yaxis\": {\"gridcolor\": \"#E1E5ED\", \"showgrid\": true, \"tickfont\": {\"color\": \"#4D5663\"}, \"title\": \"Year\", \"titlefont\": {\"color\": \"#4D5663\"}, \"zerolinecolor\": \"#E1E5ED\"}}, {\"showLink\": true, \"linkText\": \"Export to plot.ly\"})});</script>"
      ]
     },
     "metadata": {},
     "output_type": "display_data"
    }
   ],
   "source": [
    "seasongrpyear.iplot(kind='barh', xTitle='No of Accidents', yTitle='Year',title='Accident Severity By Year')"
   ]
  },
  {
   "cell_type": "markdown",
   "metadata": {},
   "source": [
    "## Per Month\n",
    "#### What Months has the Highest no. of Accidents?\n",
    "###### - Jul, Oct & Nov are the Months most accidents occur\n",
    "###### - Highest No. of Fatal Accidents were in Dec\n",
    "###### - Highest No. of Serious Accidents were in Jul\n",
    "###### - Highest No. of Slight Accidents were in Oct"
   ]
  },
  {
   "cell_type": "code",
   "execution_count": 18,
   "metadata": {},
   "outputs": [
    {
     "data": {
      "text/html": [
       "<style  type=\"text/css\" >\n",
       "    #T_64db5c24_82e5_11e9_978b_f45c8991f033row6_col1 {\n",
       "            background-color:  yellow;\n",
       "        }    #T_64db5c24_82e5_11e9_978b_f45c8991f033row9_col2 {\n",
       "            background-color:  yellow;\n",
       "        }    #T_64db5c24_82e5_11e9_978b_f45c8991f033row11_col0 {\n",
       "            background-color:  yellow;\n",
       "        }</style>  \n",
       "<table id=\"T_64db5c24_82e5_11e9_978b_f45c8991f033\" > \n",
       "<thead>    <tr> \n",
       "        <th class=\"index_name level0\" >Accident_Severity_Label</th> \n",
       "        <th class=\"col_heading level0 col0\" >Fatal</th> \n",
       "        <th class=\"col_heading level0 col1\" >Serious</th> \n",
       "        <th class=\"col_heading level0 col2\" >Slight</th> \n",
       "    </tr>    <tr> \n",
       "        <th class=\"index_name level0\" >Month</th> \n",
       "        <th class=\"blank\" ></th> \n",
       "        <th class=\"blank\" ></th> \n",
       "        <th class=\"blank\" ></th> \n",
       "    </tr></thead> \n",
       "<tbody>    <tr> \n",
       "        <th id=\"T_64db5c24_82e5_11e9_978b_f45c8991f033level0_row0\" class=\"row_heading level0 row0\" >Jan</th> \n",
       "        <td id=\"T_64db5c24_82e5_11e9_978b_f45c8991f033row0_col0\" class=\"data row0 col0\" >505</td> \n",
       "        <td id=\"T_64db5c24_82e5_11e9_978b_f45c8991f033row0_col1\" class=\"data row0 col1\" >6065</td> \n",
       "        <td id=\"T_64db5c24_82e5_11e9_978b_f45c8991f033row0_col2\" class=\"data row0 col2\" >39179</td> \n",
       "    </tr>    <tr> \n",
       "        <th id=\"T_64db5c24_82e5_11e9_978b_f45c8991f033level0_row1\" class=\"row_heading level0 row1\" >Feb</th> \n",
       "        <td id=\"T_64db5c24_82e5_11e9_978b_f45c8991f033row1_col0\" class=\"data row1 col0\" >433</td> \n",
       "        <td id=\"T_64db5c24_82e5_11e9_978b_f45c8991f033row1_col1\" class=\"data row1 col1\" >5622</td> \n",
       "        <td id=\"T_64db5c24_82e5_11e9_978b_f45c8991f033row1_col2\" class=\"data row1 col2\" >35593</td> \n",
       "    </tr>    <tr> \n",
       "        <th id=\"T_64db5c24_82e5_11e9_978b_f45c8991f033level0_row2\" class=\"row_heading level0 row2\" >Mar</th> \n",
       "        <td id=\"T_64db5c24_82e5_11e9_978b_f45c8991f033row2_col0\" class=\"data row2 col0\" >488</td> \n",
       "        <td id=\"T_64db5c24_82e5_11e9_978b_f45c8991f033row2_col1\" class=\"data row2 col1\" >6295</td> \n",
       "        <td id=\"T_64db5c24_82e5_11e9_978b_f45c8991f033row2_col2\" class=\"data row2 col2\" >38526</td> \n",
       "    </tr>    <tr> \n",
       "        <th id=\"T_64db5c24_82e5_11e9_978b_f45c8991f033level0_row3\" class=\"row_heading level0 row3\" >Apr</th> \n",
       "        <td id=\"T_64db5c24_82e5_11e9_978b_f45c8991f033row3_col0\" class=\"data row3 col0\" >501</td> \n",
       "        <td id=\"T_64db5c24_82e5_11e9_978b_f45c8991f033row3_col1\" class=\"data row3 col1\" >6070</td> \n",
       "        <td id=\"T_64db5c24_82e5_11e9_978b_f45c8991f033row3_col2\" class=\"data row3 col2\" >36093</td> \n",
       "    </tr>    <tr> \n",
       "        <th id=\"T_64db5c24_82e5_11e9_978b_f45c8991f033level0_row4\" class=\"row_heading level0 row4\" >May</th> \n",
       "        <td id=\"T_64db5c24_82e5_11e9_978b_f45c8991f033row4_col0\" class=\"data row4 col0\" >550</td> \n",
       "        <td id=\"T_64db5c24_82e5_11e9_978b_f45c8991f033row4_col1\" class=\"data row4 col1\" >7141</td> \n",
       "        <td id=\"T_64db5c24_82e5_11e9_978b_f45c8991f033row4_col2\" class=\"data row4 col2\" >39941</td> \n",
       "    </tr>    <tr> \n",
       "        <th id=\"T_64db5c24_82e5_11e9_978b_f45c8991f033level0_row5\" class=\"row_heading level0 row5\" >Jun</th> \n",
       "        <td id=\"T_64db5c24_82e5_11e9_978b_f45c8991f033row5_col0\" class=\"data row5 col0\" >530</td> \n",
       "        <td id=\"T_64db5c24_82e5_11e9_978b_f45c8991f033row5_col1\" class=\"data row5 col1\" >7028</td> \n",
       "        <td id=\"T_64db5c24_82e5_11e9_978b_f45c8991f033row5_col2\" class=\"data row5 col2\" >40345</td> \n",
       "    </tr>    <tr> \n",
       "        <th id=\"T_64db5c24_82e5_11e9_978b_f45c8991f033level0_row6\" class=\"row_heading level0 row6\" >Jul</th> \n",
       "        <td id=\"T_64db5c24_82e5_11e9_978b_f45c8991f033row6_col0\" class=\"data row6 col0\" >583</td> \n",
       "        <td id=\"T_64db5c24_82e5_11e9_978b_f45c8991f033row6_col1\" class=\"data row6 col1\" >7603</td> \n",
       "        <td id=\"T_64db5c24_82e5_11e9_978b_f45c8991f033row6_col2\" class=\"data row6 col2\" >43441</td> \n",
       "    </tr>    <tr> \n",
       "        <th id=\"T_64db5c24_82e5_11e9_978b_f45c8991f033level0_row7\" class=\"row_heading level0 row7\" >Aug</th> \n",
       "        <td id=\"T_64db5c24_82e5_11e9_978b_f45c8991f033row7_col0\" class=\"data row7 col0\" >570</td> \n",
       "        <td id=\"T_64db5c24_82e5_11e9_978b_f45c8991f033row7_col1\" class=\"data row7 col1\" >7129</td> \n",
       "        <td id=\"T_64db5c24_82e5_11e9_978b_f45c8991f033row7_col2\" class=\"data row7 col2\" >39531</td> \n",
       "    </tr>    <tr> \n",
       "        <th id=\"T_64db5c24_82e5_11e9_978b_f45c8991f033level0_row8\" class=\"row_heading level0 row8\" >Sep</th> \n",
       "        <td id=\"T_64db5c24_82e5_11e9_978b_f45c8991f033row8_col0\" class=\"data row8 col0\" >564</td> \n",
       "        <td id=\"T_64db5c24_82e5_11e9_978b_f45c8991f033row8_col1\" class=\"data row8 col1\" >7229</td> \n",
       "        <td id=\"T_64db5c24_82e5_11e9_978b_f45c8991f033row8_col2\" class=\"data row8 col2\" >41318</td> \n",
       "    </tr>    <tr> \n",
       "        <th id=\"T_64db5c24_82e5_11e9_978b_f45c8991f033level0_row9\" class=\"row_heading level0 row9\" >Oct</th> \n",
       "        <td id=\"T_64db5c24_82e5_11e9_978b_f45c8991f033row9_col0\" class=\"data row9 col0\" >564</td> \n",
       "        <td id=\"T_64db5c24_82e5_11e9_978b_f45c8991f033row9_col1\" class=\"data row9 col1\" >7284</td> \n",
       "        <td id=\"T_64db5c24_82e5_11e9_978b_f45c8991f033row9_col2\" class=\"data row9 col2\" >44453</td> \n",
       "    </tr>    <tr> \n",
       "        <th id=\"T_64db5c24_82e5_11e9_978b_f45c8991f033level0_row10\" class=\"row_heading level0 row10\" >Nov</th> \n",
       "        <td id=\"T_64db5c24_82e5_11e9_978b_f45c8991f033row10_col0\" class=\"data row10 col0\" >577</td> \n",
       "        <td id=\"T_64db5c24_82e5_11e9_978b_f45c8991f033row10_col1\" class=\"data row10 col1\" >7186</td> \n",
       "        <td id=\"T_64db5c24_82e5_11e9_978b_f45c8991f033row10_col2\" class=\"data row10 col2\" >44334</td> \n",
       "    </tr>    <tr> \n",
       "        <th id=\"T_64db5c24_82e5_11e9_978b_f45c8991f033level0_row11\" class=\"row_heading level0 row11\" >Dec</th> \n",
       "        <td id=\"T_64db5c24_82e5_11e9_978b_f45c8991f033row11_col0\" class=\"data row11 col0\" >654</td> \n",
       "        <td id=\"T_64db5c24_82e5_11e9_978b_f45c8991f033row11_col1\" class=\"data row11 col1\" >6587</td> \n",
       "        <td id=\"T_64db5c24_82e5_11e9_978b_f45c8991f033row11_col2\" class=\"data row11 col2\" >40097</td> \n",
       "    </tr></tbody> \n",
       "</table> "
      ],
      "text/plain": [
       "<pandas.io.formats.style.Styler at 0x1a1ac51f60>"
      ]
     },
     "execution_count": 18,
     "metadata": {},
     "output_type": "execute_result"
    }
   ],
   "source": [
    "#Group ASL by Month\n",
    "seasongrpmonth = (season.groupby(['Accident_Severity_Label','Month'])['ID'].agg('count')\n",
    "                                  .unstack('Accident_Severity_Label')\n",
    "                                  .reindex(['Jan','Feb','Mar','Apr','May','Jun','Jul','Aug','Sep','Oct','Nov','Dec']))\n",
    "#Highlight Max Values\n",
    "seasongrpmonth.style.highlight_max(color='yellow')"
   ]
  },
  {
   "cell_type": "code",
   "execution_count": 42,
   "metadata": {},
   "outputs": [
    {
     "data": {
      "text/html": [
       "<style  type=\"text/css\" >\n",
       "    #T_ae493282_82e5_11e9_b7cd_f45c8991f033row6_col1 {\n",
       "            background-color:  yellow;\n",
       "        }    #T_ae493282_82e5_11e9_b7cd_f45c8991f033row9_col2 {\n",
       "            background-color:  yellow;\n",
       "        }    #T_ae493282_82e5_11e9_b7cd_f45c8991f033row11_col0 {\n",
       "            background-color:  yellow;\n",
       "        }</style>  \n",
       "<table id=\"T_ae493282_82e5_11e9_b7cd_f45c8991f033\" > \n",
       "<thead>    <tr> \n",
       "        <th class=\"index_name level0\" >Accident_Severity_Label</th> \n",
       "        <th class=\"col_heading level0 col0\" >Fatal</th> \n",
       "        <th class=\"col_heading level0 col1\" >Serious</th> \n",
       "        <th class=\"col_heading level0 col2\" >Slight</th> \n",
       "    </tr>    <tr> \n",
       "        <th class=\"index_name level0\" >Month</th> \n",
       "        <th class=\"blank\" ></th> \n",
       "        <th class=\"blank\" ></th> \n",
       "        <th class=\"blank\" ></th> \n",
       "    </tr></thead> \n",
       "<tbody>    <tr> \n",
       "        <th id=\"T_ae493282_82e5_11e9_b7cd_f45c8991f033level0_row0\" class=\"row_heading level0 row0\" >Jan</th> \n",
       "        <td id=\"T_ae493282_82e5_11e9_b7cd_f45c8991f033row0_col0\" class=\"data row0 col0\" >8%</td> \n",
       "        <td id=\"T_ae493282_82e5_11e9_b7cd_f45c8991f033row0_col1\" class=\"data row0 col1\" >7%</td> \n",
       "        <td id=\"T_ae493282_82e5_11e9_b7cd_f45c8991f033row0_col2\" class=\"data row0 col2\" >8%</td> \n",
       "    </tr>    <tr> \n",
       "        <th id=\"T_ae493282_82e5_11e9_b7cd_f45c8991f033level0_row1\" class=\"row_heading level0 row1\" >Feb</th> \n",
       "        <td id=\"T_ae493282_82e5_11e9_b7cd_f45c8991f033row1_col0\" class=\"data row1 col0\" >7%</td> \n",
       "        <td id=\"T_ae493282_82e5_11e9_b7cd_f45c8991f033row1_col1\" class=\"data row1 col1\" >7%</td> \n",
       "        <td id=\"T_ae493282_82e5_11e9_b7cd_f45c8991f033row1_col2\" class=\"data row1 col2\" >7%</td> \n",
       "    </tr>    <tr> \n",
       "        <th id=\"T_ae493282_82e5_11e9_b7cd_f45c8991f033level0_row2\" class=\"row_heading level0 row2\" >Mar</th> \n",
       "        <td id=\"T_ae493282_82e5_11e9_b7cd_f45c8991f033row2_col0\" class=\"data row2 col0\" >7%</td> \n",
       "        <td id=\"T_ae493282_82e5_11e9_b7cd_f45c8991f033row2_col1\" class=\"data row2 col1\" >8%</td> \n",
       "        <td id=\"T_ae493282_82e5_11e9_b7cd_f45c8991f033row2_col2\" class=\"data row2 col2\" >8%</td> \n",
       "    </tr>    <tr> \n",
       "        <th id=\"T_ae493282_82e5_11e9_b7cd_f45c8991f033level0_row3\" class=\"row_heading level0 row3\" >Apr</th> \n",
       "        <td id=\"T_ae493282_82e5_11e9_b7cd_f45c8991f033row3_col0\" class=\"data row3 col0\" >8%</td> \n",
       "        <td id=\"T_ae493282_82e5_11e9_b7cd_f45c8991f033row3_col1\" class=\"data row3 col1\" >7%</td> \n",
       "        <td id=\"T_ae493282_82e5_11e9_b7cd_f45c8991f033row3_col2\" class=\"data row3 col2\" >7%</td> \n",
       "    </tr>    <tr> \n",
       "        <th id=\"T_ae493282_82e5_11e9_b7cd_f45c8991f033level0_row4\" class=\"row_heading level0 row4\" >May</th> \n",
       "        <td id=\"T_ae493282_82e5_11e9_b7cd_f45c8991f033row4_col0\" class=\"data row4 col0\" >8%</td> \n",
       "        <td id=\"T_ae493282_82e5_11e9_b7cd_f45c8991f033row4_col1\" class=\"data row4 col1\" >9%</td> \n",
       "        <td id=\"T_ae493282_82e5_11e9_b7cd_f45c8991f033row4_col2\" class=\"data row4 col2\" >8%</td> \n",
       "    </tr>    <tr> \n",
       "        <th id=\"T_ae493282_82e5_11e9_b7cd_f45c8991f033level0_row5\" class=\"row_heading level0 row5\" >Jun</th> \n",
       "        <td id=\"T_ae493282_82e5_11e9_b7cd_f45c8991f033row5_col0\" class=\"data row5 col0\" >8%</td> \n",
       "        <td id=\"T_ae493282_82e5_11e9_b7cd_f45c8991f033row5_col1\" class=\"data row5 col1\" >9%</td> \n",
       "        <td id=\"T_ae493282_82e5_11e9_b7cd_f45c8991f033row5_col2\" class=\"data row5 col2\" >8%</td> \n",
       "    </tr>    <tr> \n",
       "        <th id=\"T_ae493282_82e5_11e9_b7cd_f45c8991f033level0_row6\" class=\"row_heading level0 row6\" >Jul</th> \n",
       "        <td id=\"T_ae493282_82e5_11e9_b7cd_f45c8991f033row6_col0\" class=\"data row6 col0\" >9%</td> \n",
       "        <td id=\"T_ae493282_82e5_11e9_b7cd_f45c8991f033row6_col1\" class=\"data row6 col1\" >9%</td> \n",
       "        <td id=\"T_ae493282_82e5_11e9_b7cd_f45c8991f033row6_col2\" class=\"data row6 col2\" >9%</td> \n",
       "    </tr>    <tr> \n",
       "        <th id=\"T_ae493282_82e5_11e9_b7cd_f45c8991f033level0_row7\" class=\"row_heading level0 row7\" >Aug</th> \n",
       "        <td id=\"T_ae493282_82e5_11e9_b7cd_f45c8991f033row7_col0\" class=\"data row7 col0\" >9%</td> \n",
       "        <td id=\"T_ae493282_82e5_11e9_b7cd_f45c8991f033row7_col1\" class=\"data row7 col1\" >9%</td> \n",
       "        <td id=\"T_ae493282_82e5_11e9_b7cd_f45c8991f033row7_col2\" class=\"data row7 col2\" >8%</td> \n",
       "    </tr>    <tr> \n",
       "        <th id=\"T_ae493282_82e5_11e9_b7cd_f45c8991f033level0_row8\" class=\"row_heading level0 row8\" >Sep</th> \n",
       "        <td id=\"T_ae493282_82e5_11e9_b7cd_f45c8991f033row8_col0\" class=\"data row8 col0\" >9%</td> \n",
       "        <td id=\"T_ae493282_82e5_11e9_b7cd_f45c8991f033row8_col1\" class=\"data row8 col1\" >9%</td> \n",
       "        <td id=\"T_ae493282_82e5_11e9_b7cd_f45c8991f033row8_col2\" class=\"data row8 col2\" >9%</td> \n",
       "    </tr>    <tr> \n",
       "        <th id=\"T_ae493282_82e5_11e9_b7cd_f45c8991f033level0_row9\" class=\"row_heading level0 row9\" >Oct</th> \n",
       "        <td id=\"T_ae493282_82e5_11e9_b7cd_f45c8991f033row9_col0\" class=\"data row9 col0\" >9%</td> \n",
       "        <td id=\"T_ae493282_82e5_11e9_b7cd_f45c8991f033row9_col1\" class=\"data row9 col1\" >9%</td> \n",
       "        <td id=\"T_ae493282_82e5_11e9_b7cd_f45c8991f033row9_col2\" class=\"data row9 col2\" >9%</td> \n",
       "    </tr>    <tr> \n",
       "        <th id=\"T_ae493282_82e5_11e9_b7cd_f45c8991f033level0_row10\" class=\"row_heading level0 row10\" >Nov</th> \n",
       "        <td id=\"T_ae493282_82e5_11e9_b7cd_f45c8991f033row10_col0\" class=\"data row10 col0\" >9%</td> \n",
       "        <td id=\"T_ae493282_82e5_11e9_b7cd_f45c8991f033row10_col1\" class=\"data row10 col1\" >9%</td> \n",
       "        <td id=\"T_ae493282_82e5_11e9_b7cd_f45c8991f033row10_col2\" class=\"data row10 col2\" >9%</td> \n",
       "    </tr>    <tr> \n",
       "        <th id=\"T_ae493282_82e5_11e9_b7cd_f45c8991f033level0_row11\" class=\"row_heading level0 row11\" >Dec</th> \n",
       "        <td id=\"T_ae493282_82e5_11e9_b7cd_f45c8991f033row11_col0\" class=\"data row11 col0\" >10%</td> \n",
       "        <td id=\"T_ae493282_82e5_11e9_b7cd_f45c8991f033row11_col1\" class=\"data row11 col1\" >8%</td> \n",
       "        <td id=\"T_ae493282_82e5_11e9_b7cd_f45c8991f033row11_col2\" class=\"data row11 col2\" >8%</td> \n",
       "    </tr></tbody> \n",
       "</table> "
      ],
      "text/plain": [
       "<pandas.io.formats.style.Styler at 0x1a1b1b6710>"
      ]
     },
     "execution_count": 42,
     "metadata": {},
     "output_type": "execute_result"
    }
   ],
   "source": [
    "#Group ASL and Month & Normalize by ASL\n",
    "((pd.crosstab(season['Month'],season['Accident_Severity_Label'],normalize='columns')*100)\n",
    "    .reindex(['Jan','Feb','Mar','Apr','May','Jun','Jul','Aug','Sep','Oct','Nov','Dec']).style.format('{0:,.0f}%')\n",
    "    .highlight_max(color='yellow'))"
   ]
  },
  {
   "cell_type": "code",
   "execution_count": 43,
   "metadata": {},
   "outputs": [
    {
     "data": {
      "application/vnd.plotly.v1+json": {
       "data": [
        {
         "marker": {
          "color": "rgba(255, 153, 51, 0.6)",
          "line": {
           "color": "rgba(255, 153, 51, 1.0)",
           "width": 1
          }
         },
         "name": "Fatal",
         "orientation": "h",
         "text": "",
         "type": "bar",
         "uid": "b020d928-82e5-11e9-bd2f-f45c8991f033",
         "x": [
          505,
          433,
          488,
          501,
          550,
          530,
          583,
          570,
          564,
          564,
          577,
          654
         ],
         "y": [
          "Jan",
          "Feb",
          "Mar",
          "Apr",
          "May",
          "Jun",
          "Jul",
          "Aug",
          "Sep",
          "Oct",
          "Nov",
          "Dec"
         ]
        },
        {
         "marker": {
          "color": "rgba(55, 128, 191, 0.6)",
          "line": {
           "color": "rgba(55, 128, 191, 1.0)",
           "width": 1
          }
         },
         "name": "Serious",
         "orientation": "h",
         "text": "",
         "type": "bar",
         "uid": "b020dacc-82e5-11e9-9ed3-f45c8991f033",
         "x": [
          6065,
          5622,
          6295,
          6070,
          7141,
          7028,
          7603,
          7129,
          7229,
          7284,
          7186,
          6587
         ],
         "y": [
          "Jan",
          "Feb",
          "Mar",
          "Apr",
          "May",
          "Jun",
          "Jul",
          "Aug",
          "Sep",
          "Oct",
          "Nov",
          "Dec"
         ]
        },
        {
         "marker": {
          "color": "rgba(50, 171, 96, 0.6)",
          "line": {
           "color": "rgba(50, 171, 96, 1.0)",
           "width": 1
          }
         },
         "name": "Slight",
         "orientation": "h",
         "text": "",
         "type": "bar",
         "uid": "b020db9e-82e5-11e9-8c89-f45c8991f033",
         "x": [
          39179,
          35593,
          38526,
          36093,
          39941,
          40345,
          43441,
          39531,
          41318,
          44453,
          44334,
          40097
         ],
         "y": [
          "Jan",
          "Feb",
          "Mar",
          "Apr",
          "May",
          "Jun",
          "Jul",
          "Aug",
          "Sep",
          "Oct",
          "Nov",
          "Dec"
         ]
        }
       ],
       "layout": {
        "autosize": true,
        "barmode": "stack",
        "legend": {
         "bgcolor": "#F5F6F9",
         "font": {
          "color": "#4D5663"
         },
         "traceorder": "normal"
        },
        "paper_bgcolor": "#F5F6F9",
        "plot_bgcolor": "#F5F6F9",
        "title": "Accident Severity By Month",
        "titlefont": {
         "color": "#4D5663"
        },
        "xaxis": {
         "autorange": true,
         "gridcolor": "#E1E5ED",
         "range": [
          0,
          55053.68421052631
         ],
         "showgrid": true,
         "tickfont": {
          "color": "#4D5663"
         },
         "title": "No. of Accidents",
         "titlefont": {
          "color": "#4D5663"
         },
         "type": "linear",
         "zerolinecolor": "#E1E5ED"
        },
        "yaxis": {
         "autorange": true,
         "gridcolor": "#E1E5ED",
         "range": [
          -0.5,
          11.5
         ],
         "showgrid": true,
         "tickfont": {
          "color": "#4D5663"
         },
         "title": "Month",
         "titlefont": {
          "color": "#4D5663"
         },
         "type": "category",
         "zerolinecolor": "#E1E5ED"
        }
       }
      },
      "image/png": "[encoded data removed]",
      "text/html": [
       "<div id=\"5c0600a5-a9c9-4147-b2de-a1b993646f46\" style=\"height: 525px; width: 100%;\" class=\"plotly-graph-div\"></div><script type=\"text/javascript\">require([\"plotly\"], function(Plotly) { window.PLOTLYENV=window.PLOTLYENV || {};window.PLOTLYENV.BASE_URL=\"https://plot.ly\";Plotly.newPlot(\"5c0600a5-a9c9-4147-b2de-a1b993646f46\", [{\"marker\": {\"color\": \"rgba(255, 153, 51, 0.6)\", \"line\": {\"color\": \"rgba(255, 153, 51, 1.0)\", \"width\": 1}}, \"name\": \"Fatal\", \"orientation\": \"h\", \"text\": \"\", \"x\": [505, 433, 488, 501, 550, 530, 583, 570, 564, 564, 577, 654], \"y\": [\"Jan\", \"Feb\", \"Mar\", \"Apr\", \"May\", \"Jun\", \"Jul\", \"Aug\", \"Sep\", \"Oct\", \"Nov\", \"Dec\"], \"type\": \"bar\", \"uid\": \"b0252228-82e5-11e9-bf25-f45c8991f033\"}, {\"marker\": {\"color\": \"rgba(55, 128, 191, 0.6)\", \"line\": {\"color\": \"rgba(55, 128, 191, 1.0)\", \"width\": 1}}, \"name\": \"Serious\", \"orientation\": \"h\", \"text\": \"\", \"x\": [6065, 5622, 6295, 6070, 7141, 7028, 7603, 7129, 7229, 7284, 7186, 6587], \"y\": [\"Jan\", \"Feb\", \"Mar\", \"Apr\", \"May\", \"Jun\", \"Jul\", \"Aug\", \"Sep\", \"Oct\", \"Nov\", \"Dec\"], \"type\": \"bar\", \"uid\": \"b02523f4-82e5-11e9-86c9-f45c8991f033\"}, {\"marker\": {\"color\": \"rgba(50, 171, 96, 0.6)\", \"line\": {\"color\": \"rgba(50, 171, 96, 1.0)\", \"width\": 1}}, \"name\": \"Slight\", \"orientation\": \"h\", \"text\": \"\", \"x\": [39179, 35593, 38526, 36093, 39941, 40345, 43441, 39531, 41318, 44453, 44334, 40097], \"y\": [\"Jan\", \"Feb\", \"Mar\", \"Apr\", \"May\", \"Jun\", \"Jul\", \"Aug\", \"Sep\", \"Oct\", \"Nov\", \"Dec\"], \"type\": \"bar\", \"uid\": \"b02524ba-82e5-11e9-b0c4-f45c8991f033\"}], {\"barmode\": \"stack\", \"legend\": {\"bgcolor\": \"#F5F6F9\", \"font\": {\"color\": \"#4D5663\"}, \"traceorder\": \"normal\"}, \"paper_bgcolor\": \"#F5F6F9\", \"plot_bgcolor\": \"#F5F6F9\", \"title\": \"Accident Severity By Month\", \"titlefont\": {\"color\": \"#4D5663\"}, \"xaxis\": {\"gridcolor\": \"#E1E5ED\", \"showgrid\": true, \"tickfont\": {\"color\": \"#4D5663\"}, \"title\": \"No. of Accidents\", \"titlefont\": {\"color\": \"#4D5663\"}, \"zerolinecolor\": \"#E1E5ED\"}, \"yaxis\": {\"gridcolor\": \"#E1E5ED\", \"showgrid\": true, \"tickfont\": {\"color\": \"#4D5663\"}, \"title\": \"Month\", \"titlefont\": {\"color\": \"#4D5663\"}, \"zerolinecolor\": \"#E1E5ED\"}}, {\"showLink\": true, \"linkText\": \"Export to plot.ly\"})});</script>"
      ],
      "text/vnd.plotly.v1+html": [
       "<div id=\"5c0600a5-a9c9-4147-b2de-a1b993646f46\" style=\"height: 525px; width: 100%;\" class=\"plotly-graph-div\"></div><script type=\"text/javascript\">require([\"plotly\"], function(Plotly) { window.PLOTLYENV=window.PLOTLYENV || {};window.PLOTLYENV.BASE_URL=\"https://plot.ly\";Plotly.newPlot(\"5c0600a5-a9c9-4147-b2de-a1b993646f46\", [{\"marker\": {\"color\": \"rgba(255, 153, 51, 0.6)\", \"line\": {\"color\": \"rgba(255, 153, 51, 1.0)\", \"width\": 1}}, \"name\": \"Fatal\", \"orientation\": \"h\", \"text\": \"\", \"x\": [505, 433, 488, 501, 550, 530, 583, 570, 564, 564, 577, 654], \"y\": [\"Jan\", \"Feb\", \"Mar\", \"Apr\", \"May\", \"Jun\", \"Jul\", \"Aug\", \"Sep\", \"Oct\", \"Nov\", \"Dec\"], \"type\": \"bar\", \"uid\": \"b0252228-82e5-11e9-bf25-f45c8991f033\"}, {\"marker\": {\"color\": \"rgba(55, 128, 191, 0.6)\", \"line\": {\"color\": \"rgba(55, 128, 191, 1.0)\", \"width\": 1}}, \"name\": \"Serious\", \"orientation\": \"h\", \"text\": \"\", \"x\": [6065, 5622, 6295, 6070, 7141, 7028, 7603, 7129, 7229, 7284, 7186, 6587], \"y\": [\"Jan\", \"Feb\", \"Mar\", \"Apr\", \"May\", \"Jun\", \"Jul\", \"Aug\", \"Sep\", \"Oct\", \"Nov\", \"Dec\"], \"type\": \"bar\", \"uid\": \"b02523f4-82e5-11e9-86c9-f45c8991f033\"}, {\"marker\": {\"color\": \"rgba(50, 171, 96, 0.6)\", \"line\": {\"color\": \"rgba(50, 171, 96, 1.0)\", \"width\": 1}}, \"name\": \"Slight\", \"orientation\": \"h\", \"text\": \"\", \"x\": [39179, 35593, 38526, 36093, 39941, 40345, 43441, 39531, 41318, 44453, 44334, 40097], \"y\": [\"Jan\", \"Feb\", \"Mar\", \"Apr\", \"May\", \"Jun\", \"Jul\", \"Aug\", \"Sep\", \"Oct\", \"Nov\", \"Dec\"], \"type\": \"bar\", \"uid\": \"b02524ba-82e5-11e9-b0c4-f45c8991f033\"}], {\"barmode\": \"stack\", \"legend\": {\"bgcolor\": \"#F5F6F9\", \"font\": {\"color\": \"#4D5663\"}, \"traceorder\": \"normal\"}, \"paper_bgcolor\": \"#F5F6F9\", \"plot_bgcolor\": \"#F5F6F9\", \"title\": \"Accident Severity By Month\", \"titlefont\": {\"color\": \"#4D5663\"}, \"xaxis\": {\"gridcolor\": \"#E1E5ED\", \"showgrid\": true, \"tickfont\": {\"color\": \"#4D5663\"}, \"title\": \"No. of Accidents\", \"titlefont\": {\"color\": \"#4D5663\"}, \"zerolinecolor\": \"#E1E5ED\"}, \"yaxis\": {\"gridcolor\": \"#E1E5ED\", \"showgrid\": true, \"tickfont\": {\"color\": \"#4D5663\"}, \"title\": \"Month\", \"titlefont\": {\"color\": \"#4D5663\"}, \"zerolinecolor\": \"#E1E5ED\"}}, {\"showLink\": true, \"linkText\": \"Export to plot.ly\"})});</script>"
      ]
     },
     "metadata": {},
     "output_type": "display_data"
    }
   ],
   "source": [
    "seasongrpmonth.iplot(kind='barh', barmode='stack',\n",
    "                     title='Accident Severity By Month',\n",
    "                     xTitle='No. of Accidents',\n",
    "                     yTitle='Month')"
   ]
  },
  {
   "cell_type": "markdown",
   "metadata": {},
   "source": [
    "### Per Day\n",
    "#### What days of the week has more serious accidents?\n",
    "###### - Highest volume of fatal accidents have occurred between Friday to Sunday, with the worst date being Saturday\n",
    "###### - Friday has the highest no. of accidents"
   ]
  },
  {
   "cell_type": "code",
   "execution_count": 58,
   "metadata": {},
   "outputs": [
    {
     "data": {
      "text/html": [
       "<style  type=\"text/css\" >\n",
       "    #T_38e19698_82e6_11e9_a381_f45c8991f033row5_col1 {\n",
       "            background-color:  yellow;\n",
       "        }    #T_38e19698_82e6_11e9_a381_f45c8991f033row5_col2 {\n",
       "            background-color:  yellow;\n",
       "        }    #T_38e19698_82e6_11e9_a381_f45c8991f033row6_col0 {\n",
       "            background-color:  yellow;\n",
       "        }</style>  \n",
       "<table id=\"T_38e19698_82e6_11e9_a381_f45c8991f033\" > \n",
       "<thead>    <tr> \n",
       "        <th class=\"index_name level0\" >Accident_Severity_Label</th> \n",
       "        <th class=\"col_heading level0 col0\" >Fatal</th> \n",
       "        <th class=\"col_heading level0 col1\" >Serious</th> \n",
       "        <th class=\"col_heading level0 col2\" >Slight</th> \n",
       "    </tr>    <tr> \n",
       "        <th class=\"index_name level0\" >Day</th> \n",
       "        <th class=\"blank\" ></th> \n",
       "        <th class=\"blank\" ></th> \n",
       "        <th class=\"blank\" ></th> \n",
       "    </tr></thead> \n",
       "<tbody>    <tr> \n",
       "        <th id=\"T_38e19698_82e6_11e9_a381_f45c8991f033level0_row0\" class=\"row_heading level0 row0\" >Sunday</th> \n",
       "        <td id=\"T_38e19698_82e6_11e9_a381_f45c8991f033row0_col0\" class=\"data row0 col0\" >1041</td> \n",
       "        <td id=\"T_38e19698_82e6_11e9_a381_f45c8991f033row0_col1\" class=\"data row0 col1\" >10322</td> \n",
       "        <td id=\"T_38e19698_82e6_11e9_a381_f45c8991f033row0_col2\" class=\"data row0 col2\" >50545</td> \n",
       "    </tr>    <tr> \n",
       "        <th id=\"T_38e19698_82e6_11e9_a381_f45c8991f033level0_row1\" class=\"row_heading level0 row1\" >Monday</th> \n",
       "        <td id=\"T_38e19698_82e6_11e9_a381_f45c8991f033row1_col0\" class=\"data row1 col0\" >848</td> \n",
       "        <td id=\"T_38e19698_82e6_11e9_a381_f45c8991f033row1_col1\" class=\"data row1 col1\" >11057</td> \n",
       "        <td id=\"T_38e19698_82e6_11e9_a381_f45c8991f033row1_col2\" class=\"data row1 col2\" >69961</td> \n",
       "    </tr>    <tr> \n",
       "        <th id=\"T_38e19698_82e6_11e9_a381_f45c8991f033level0_row2\" class=\"row_heading level0 row2\" >Tuesday</th> \n",
       "        <td id=\"T_38e19698_82e6_11e9_a381_f45c8991f033row2_col0\" class=\"data row2 col0\" >853</td> \n",
       "        <td id=\"T_38e19698_82e6_11e9_a381_f45c8991f033row2_col1\" class=\"data row2 col1\" >11750</td> \n",
       "        <td id=\"T_38e19698_82e6_11e9_a381_f45c8991f033row2_col2\" class=\"data row2 col2\" >74064</td> \n",
       "    </tr>    <tr> \n",
       "        <th id=\"T_38e19698_82e6_11e9_a381_f45c8991f033level0_row3\" class=\"row_heading level0 row3\" >Wednesday</th> \n",
       "        <td id=\"T_38e19698_82e6_11e9_a381_f45c8991f033row3_col0\" class=\"data row3 col0\" >823</td> \n",
       "        <td id=\"T_38e19698_82e6_11e9_a381_f45c8991f033row3_col1\" class=\"data row3 col1\" >11685</td> \n",
       "        <td id=\"T_38e19698_82e6_11e9_a381_f45c8991f033row3_col2\" class=\"data row3 col2\" >73528</td> \n",
       "    </tr>    <tr> \n",
       "        <th id=\"T_38e19698_82e6_11e9_a381_f45c8991f033level0_row4\" class=\"row_heading level0 row4\" >Thursday</th> \n",
       "        <td id=\"T_38e19698_82e6_11e9_a381_f45c8991f033row4_col0\" class=\"data row4 col0\" >859</td> \n",
       "        <td id=\"T_38e19698_82e6_11e9_a381_f45c8991f033row4_col1\" class=\"data row4 col1\" >11862</td> \n",
       "        <td id=\"T_38e19698_82e6_11e9_a381_f45c8991f033row4_col2\" class=\"data row4 col2\" >74058</td> \n",
       "    </tr>    <tr> \n",
       "        <th id=\"T_38e19698_82e6_11e9_a381_f45c8991f033level0_row5\" class=\"row_heading level0 row5\" >Friday</th> \n",
       "        <td id=\"T_38e19698_82e6_11e9_a381_f45c8991f033row5_col0\" class=\"data row5 col0\" >993</td> \n",
       "        <td id=\"T_38e19698_82e6_11e9_a381_f45c8991f033row5_col1\" class=\"data row5 col1\" >12950</td> \n",
       "        <td id=\"T_38e19698_82e6_11e9_a381_f45c8991f033row5_col2\" class=\"data row5 col2\" >78946</td> \n",
       "    </tr>    <tr> \n",
       "        <th id=\"T_38e19698_82e6_11e9_a381_f45c8991f033level0_row6\" class=\"row_heading level0 row6\" >Saturday</th> \n",
       "        <td id=\"T_38e19698_82e6_11e9_a381_f45c8991f033row6_col0\" class=\"data row6 col0\" >1102</td> \n",
       "        <td id=\"T_38e19698_82e6_11e9_a381_f45c8991f033row6_col1\" class=\"data row6 col1\" >11613</td> \n",
       "        <td id=\"T_38e19698_82e6_11e9_a381_f45c8991f033row6_col2\" class=\"data row6 col2\" >61749</td> \n",
       "    </tr></tbody> \n",
       "</table> "
      ],
      "text/plain": [
       "<pandas.io.formats.style.Styler at 0x1a1c1fd278>"
      ]
     },
     "execution_count": 58,
     "metadata": {},
     "output_type": "execute_result"
    }
   ],
   "source": [
    "#Group ASL by Day\n",
    "seasongrpday = (season.groupby(['Accident_Severity_Label','Day'])['Accident_Severity_Label'].agg('count')\n",
    "                .unstack('Accident_Severity_Label').reindex(['Sunday','Monday','Tuesday','Wednesday',\n",
    "                                                                  'Thursday','Friday','Saturday']))\n",
    "#Highlight Max Values\n",
    "seasongrpday.style.highlight_max(color='yellow')"
   ]
  },
  {
   "cell_type": "code",
   "execution_count": 60,
   "metadata": {},
   "outputs": [
    {
     "data": {
      "text/html": [
       "<style  type=\"text/css\" >\n",
       "    #T_4211e6d0_82e6_11e9_b325_f45c8991f033row5_col1 {\n",
       "            background-color:  yellow;\n",
       "        }    #T_4211e6d0_82e6_11e9_b325_f45c8991f033row5_col2 {\n",
       "            background-color:  yellow;\n",
       "        }    #T_4211e6d0_82e6_11e9_b325_f45c8991f033row6_col0 {\n",
       "            background-color:  yellow;\n",
       "        }</style>  \n",
       "<table id=\"T_4211e6d0_82e6_11e9_b325_f45c8991f033\" > \n",
       "<thead>    <tr> \n",
       "        <th class=\"index_name level0\" >Accident_Severity_Label</th> \n",
       "        <th class=\"col_heading level0 col0\" >Fatal</th> \n",
       "        <th class=\"col_heading level0 col1\" >Serious</th> \n",
       "        <th class=\"col_heading level0 col2\" >Slight</th> \n",
       "    </tr>    <tr> \n",
       "        <th class=\"index_name level0\" >Day</th> \n",
       "        <th class=\"blank\" ></th> \n",
       "        <th class=\"blank\" ></th> \n",
       "        <th class=\"blank\" ></th> \n",
       "    </tr></thead> \n",
       "<tbody>    <tr> \n",
       "        <th id=\"T_4211e6d0_82e6_11e9_b325_f45c8991f033level0_row0\" class=\"row_heading level0 row0\" >Sunday</th> \n",
       "        <td id=\"T_4211e6d0_82e6_11e9_b325_f45c8991f033row0_col0\" class=\"data row0 col0\" >16%</td> \n",
       "        <td id=\"T_4211e6d0_82e6_11e9_b325_f45c8991f033row0_col1\" class=\"data row0 col1\" >13%</td> \n",
       "        <td id=\"T_4211e6d0_82e6_11e9_b325_f45c8991f033row0_col2\" class=\"data row0 col2\" >10%</td> \n",
       "    </tr>    <tr> \n",
       "        <th id=\"T_4211e6d0_82e6_11e9_b325_f45c8991f033level0_row1\" class=\"row_heading level0 row1\" >Monday</th> \n",
       "        <td id=\"T_4211e6d0_82e6_11e9_b325_f45c8991f033row1_col0\" class=\"data row1 col0\" >13%</td> \n",
       "        <td id=\"T_4211e6d0_82e6_11e9_b325_f45c8991f033row1_col1\" class=\"data row1 col1\" >14%</td> \n",
       "        <td id=\"T_4211e6d0_82e6_11e9_b325_f45c8991f033row1_col2\" class=\"data row1 col2\" >14%</td> \n",
       "    </tr>    <tr> \n",
       "        <th id=\"T_4211e6d0_82e6_11e9_b325_f45c8991f033level0_row2\" class=\"row_heading level0 row2\" >Tuesday</th> \n",
       "        <td id=\"T_4211e6d0_82e6_11e9_b325_f45c8991f033row2_col0\" class=\"data row2 col0\" >13%</td> \n",
       "        <td id=\"T_4211e6d0_82e6_11e9_b325_f45c8991f033row2_col1\" class=\"data row2 col1\" >14%</td> \n",
       "        <td id=\"T_4211e6d0_82e6_11e9_b325_f45c8991f033row2_col2\" class=\"data row2 col2\" >15%</td> \n",
       "    </tr>    <tr> \n",
       "        <th id=\"T_4211e6d0_82e6_11e9_b325_f45c8991f033level0_row3\" class=\"row_heading level0 row3\" >Wednesday</th> \n",
       "        <td id=\"T_4211e6d0_82e6_11e9_b325_f45c8991f033row3_col0\" class=\"data row3 col0\" >13%</td> \n",
       "        <td id=\"T_4211e6d0_82e6_11e9_b325_f45c8991f033row3_col1\" class=\"data row3 col1\" >14%</td> \n",
       "        <td id=\"T_4211e6d0_82e6_11e9_b325_f45c8991f033row3_col2\" class=\"data row3 col2\" >15%</td> \n",
       "    </tr>    <tr> \n",
       "        <th id=\"T_4211e6d0_82e6_11e9_b325_f45c8991f033level0_row4\" class=\"row_heading level0 row4\" >Thursday</th> \n",
       "        <td id=\"T_4211e6d0_82e6_11e9_b325_f45c8991f033row4_col0\" class=\"data row4 col0\" >13%</td> \n",
       "        <td id=\"T_4211e6d0_82e6_11e9_b325_f45c8991f033row4_col1\" class=\"data row4 col1\" >15%</td> \n",
       "        <td id=\"T_4211e6d0_82e6_11e9_b325_f45c8991f033row4_col2\" class=\"data row4 col2\" >15%</td> \n",
       "    </tr>    <tr> \n",
       "        <th id=\"T_4211e6d0_82e6_11e9_b325_f45c8991f033level0_row5\" class=\"row_heading level0 row5\" >Friday</th> \n",
       "        <td id=\"T_4211e6d0_82e6_11e9_b325_f45c8991f033row5_col0\" class=\"data row5 col0\" >15%</td> \n",
       "        <td id=\"T_4211e6d0_82e6_11e9_b325_f45c8991f033row5_col1\" class=\"data row5 col1\" >16%</td> \n",
       "        <td id=\"T_4211e6d0_82e6_11e9_b325_f45c8991f033row5_col2\" class=\"data row5 col2\" >16%</td> \n",
       "    </tr>    <tr> \n",
       "        <th id=\"T_4211e6d0_82e6_11e9_b325_f45c8991f033level0_row6\" class=\"row_heading level0 row6\" >Saturday</th> \n",
       "        <td id=\"T_4211e6d0_82e6_11e9_b325_f45c8991f033row6_col0\" class=\"data row6 col0\" >17%</td> \n",
       "        <td id=\"T_4211e6d0_82e6_11e9_b325_f45c8991f033row6_col1\" class=\"data row6 col1\" >14%</td> \n",
       "        <td id=\"T_4211e6d0_82e6_11e9_b325_f45c8991f033row6_col2\" class=\"data row6 col2\" >13%</td> \n",
       "    </tr></tbody> \n",
       "</table> "
      ],
      "text/plain": [
       "<pandas.io.formats.style.Styler at 0x1a1c0aba90>"
      ]
     },
     "execution_count": 60,
     "metadata": {},
     "output_type": "execute_result"
    }
   ],
   "source": [
    "#Group Day by ASL then Normalize, Covert to % and Highlight Max % values\n",
    "seasongrpdayPer=((pd.crosstab(season['Day'],season['Accident_Severity_Label'],normalize='columns')\n",
    "     .reindex(['Sunday','Monday','Tuesday','Wednesday','Thursday','Friday','Saturday'])*100)\n",
    "     .style.format('{0:,.0f}%')\n",
    "     .highlight_max(color='yellow'))\n",
    "\n",
    "seasongrpdayPer"
   ]
  },
  {
   "cell_type": "code",
   "execution_count": 23,
   "metadata": {},
   "outputs": [
    {
     "data": {
      "application/vnd.plotly.v1+json": {
       "data": [
        {
         "marker": {
          "color": "rgba(255, 153, 51, 0.6)",
          "line": {
           "color": "rgba(255, 153, 51, 1.0)",
           "width": 1
          }
         },
         "name": "Fatal",
         "orientation": "v",
         "text": "",
         "type": "bar",
         "uid": "654a44cc-82e5-11e9-b778-f45c8991f033",
         "x": [
          "Sunday",
          "Monday",
          "Tuesday",
          "Wednesday",
          "Thursday",
          "Friday",
          "Saturday"
         ],
         "y": [
          1041,
          848,
          853,
          823,
          859,
          993,
          1102
         ]
        },
        {
         "marker": {
          "color": "rgba(55, 128, 191, 0.6)",
          "line": {
           "color": "rgba(55, 128, 191, 1.0)",
           "width": 1
          }
         },
         "name": "Serious",
         "orientation": "v",
         "text": "",
         "type": "bar",
         "uid": "654a47c6-82e5-11e9-9ec3-f45c8991f033",
         "x": [
          "Sunday",
          "Monday",
          "Tuesday",
          "Wednesday",
          "Thursday",
          "Friday",
          "Saturday"
         ],
         "y": [
          10322,
          11057,
          11750,
          11685,
          11862,
          12950,
          11613
         ]
        },
        {
         "marker": {
          "color": "rgba(50, 171, 96, 0.6)",
          "line": {
           "color": "rgba(50, 171, 96, 1.0)",
           "width": 1
          }
         },
         "name": "Slight",
         "orientation": "v",
         "text": "",
         "type": "bar",
         "uid": "654a49e8-82e5-11e9-be27-f45c8991f033",
         "x": [
          "Sunday",
          "Monday",
          "Tuesday",
          "Wednesday",
          "Thursday",
          "Friday",
          "Saturday"
         ],
         "y": [
          50545,
          69961,
          74064,
          73528,
          74058,
          78946,
          61749
         ]
        }
       ],
       "layout": {
        "autosize": true,
        "barmode": "stack",
        "legend": {
         "bgcolor": "#F5F6F9",
         "font": {
          "color": "#4D5663"
         },
         "traceorder": "normal"
        },
        "paper_bgcolor": "#F5F6F9",
        "plot_bgcolor": "#F5F6F9",
        "title": "Accident Severity by Day",
        "titlefont": {
         "color": "#4D5663"
        },
        "xaxis": {
         "autorange": true,
         "gridcolor": "#E1E5ED",
         "range": [
          -0.5,
          6.5
         ],
         "showgrid": true,
         "tickfont": {
          "color": "#4D5663"
         },
         "title": "Days of the Week",
         "titlefont": {
          "color": "#4D5663"
         },
         "type": "category",
         "zerolinecolor": "#E1E5ED"
        },
        "yaxis": {
         "autorange": true,
         "gridcolor": "#E1E5ED",
         "range": [
          0,
          97777.8947368421
         ],
         "showgrid": true,
         "tickfont": {
          "color": "#4D5663"
         },
         "title": "No. of Accidents",
         "titlefont": {
          "color": "#4D5663"
         },
         "type": "linear",
         "zerolinecolor": "#E1E5ED"
        }
       }
      },
      "image/png": "[encoded data removed]",
      "text/html": [
       "<div id=\"7f23b224-e03f-459a-8434-ce18afb6d84a\" style=\"height: 525px; width: 100%;\" class=\"plotly-graph-div\"></div><script type=\"text/javascript\">require([\"plotly\"], function(Plotly) { window.PLOTLYENV=window.PLOTLYENV || {};window.PLOTLYENV.BASE_URL=\"https://plot.ly\";Plotly.newPlot(\"7f23b224-e03f-459a-8434-ce18afb6d84a\", [{\"marker\": {\"color\": \"rgba(255, 153, 51, 0.6)\", \"line\": {\"color\": \"rgba(255, 153, 51, 1.0)\", \"width\": 1}}, \"name\": \"Fatal\", \"orientation\": \"v\", \"text\": \"\", \"x\": [\"Sunday\", \"Monday\", \"Tuesday\", \"Wednesday\", \"Thursday\", \"Friday\", \"Saturday\"], \"y\": [1041, 848, 853, 823, 859, 993, 1102], \"type\": \"bar\", \"uid\": \"654fa1a6-82e5-11e9-bf98-f45c8991f033\"}, {\"marker\": {\"color\": \"rgba(55, 128, 191, 0.6)\", \"line\": {\"color\": \"rgba(55, 128, 191, 1.0)\", \"width\": 1}}, \"name\": \"Serious\", \"orientation\": \"v\", \"text\": \"\", \"x\": [\"Sunday\", \"Monday\", \"Tuesday\", \"Wednesday\", \"Thursday\", \"Friday\", \"Saturday\"], \"y\": [10322, 11057, 11750, 11685, 11862, 12950, 11613], \"type\": \"bar\", \"uid\": \"654fa3e2-82e5-11e9-9bb6-f45c8991f033\"}, {\"marker\": {\"color\": \"rgba(50, 171, 96, 0.6)\", \"line\": {\"color\": \"rgba(50, 171, 96, 1.0)\", \"width\": 1}}, \"name\": \"Slight\", \"orientation\": \"v\", \"text\": \"\", \"x\": [\"Sunday\", \"Monday\", \"Tuesday\", \"Wednesday\", \"Thursday\", \"Friday\", \"Saturday\"], \"y\": [50545, 69961, 74064, 73528, 74058, 78946, 61749], \"type\": \"bar\", \"uid\": \"654fa4d0-82e5-11e9-bd28-f45c8991f033\"}], {\"barmode\": \"stack\", \"legend\": {\"bgcolor\": \"#F5F6F9\", \"font\": {\"color\": \"#4D5663\"}, \"traceorder\": \"normal\"}, \"paper_bgcolor\": \"#F5F6F9\", \"plot_bgcolor\": \"#F5F6F9\", \"title\": \"Accident Severity by Day\", \"titlefont\": {\"color\": \"#4D5663\"}, \"xaxis\": {\"gridcolor\": \"#E1E5ED\", \"showgrid\": true, \"tickfont\": {\"color\": \"#4D5663\"}, \"title\": \"Days of the Week\", \"titlefont\": {\"color\": \"#4D5663\"}, \"zerolinecolor\": \"#E1E5ED\"}, \"yaxis\": {\"gridcolor\": \"#E1E5ED\", \"showgrid\": true, \"tickfont\": {\"color\": \"#4D5663\"}, \"title\": \"No. of Accidents\", \"titlefont\": {\"color\": \"#4D5663\"}, \"zerolinecolor\": \"#E1E5ED\"}}, {\"showLink\": true, \"linkText\": \"Export to plot.ly\"})});</script>"
      ],
      "text/vnd.plotly.v1+html": [
       "<div id=\"7f23b224-e03f-459a-8434-ce18afb6d84a\" style=\"height: 525px; width: 100%;\" class=\"plotly-graph-div\"></div><script type=\"text/javascript\">require([\"plotly\"], function(Plotly) { window.PLOTLYENV=window.PLOTLYENV || {};window.PLOTLYENV.BASE_URL=\"https://plot.ly\";Plotly.newPlot(\"7f23b224-e03f-459a-8434-ce18afb6d84a\", [{\"marker\": {\"color\": \"rgba(255, 153, 51, 0.6)\", \"line\": {\"color\": \"rgba(255, 153, 51, 1.0)\", \"width\": 1}}, \"name\": \"Fatal\", \"orientation\": \"v\", \"text\": \"\", \"x\": [\"Sunday\", \"Monday\", \"Tuesday\", \"Wednesday\", \"Thursday\", \"Friday\", \"Saturday\"], \"y\": [1041, 848, 853, 823, 859, 993, 1102], \"type\": \"bar\", \"uid\": \"654fa1a6-82e5-11e9-bf98-f45c8991f033\"}, {\"marker\": {\"color\": \"rgba(55, 128, 191, 0.6)\", \"line\": {\"color\": \"rgba(55, 128, 191, 1.0)\", \"width\": 1}}, \"name\": \"Serious\", \"orientation\": \"v\", \"text\": \"\", \"x\": [\"Sunday\", \"Monday\", \"Tuesday\", \"Wednesday\", \"Thursday\", \"Friday\", \"Saturday\"], \"y\": [10322, 11057, 11750, 11685, 11862, 12950, 11613], \"type\": \"bar\", \"uid\": \"654fa3e2-82e5-11e9-9bb6-f45c8991f033\"}, {\"marker\": {\"color\": \"rgba(50, 171, 96, 0.6)\", \"line\": {\"color\": \"rgba(50, 171, 96, 1.0)\", \"width\": 1}}, \"name\": \"Slight\", \"orientation\": \"v\", \"text\": \"\", \"x\": [\"Sunday\", \"Monday\", \"Tuesday\", \"Wednesday\", \"Thursday\", \"Friday\", \"Saturday\"], \"y\": [50545, 69961, 74064, 73528, 74058, 78946, 61749], \"type\": \"bar\", \"uid\": \"654fa4d0-82e5-11e9-bd28-f45c8991f033\"}], {\"barmode\": \"stack\", \"legend\": {\"bgcolor\": \"#F5F6F9\", \"font\": {\"color\": \"#4D5663\"}, \"traceorder\": \"normal\"}, \"paper_bgcolor\": \"#F5F6F9\", \"plot_bgcolor\": \"#F5F6F9\", \"title\": \"Accident Severity by Day\", \"titlefont\": {\"color\": \"#4D5663\"}, \"xaxis\": {\"gridcolor\": \"#E1E5ED\", \"showgrid\": true, \"tickfont\": {\"color\": \"#4D5663\"}, \"title\": \"Days of the Week\", \"titlefont\": {\"color\": \"#4D5663\"}, \"zerolinecolor\": \"#E1E5ED\"}, \"yaxis\": {\"gridcolor\": \"#E1E5ED\", \"showgrid\": true, \"tickfont\": {\"color\": \"#4D5663\"}, \"title\": \"No. of Accidents\", \"titlefont\": {\"color\": \"#4D5663\"}, \"zerolinecolor\": \"#E1E5ED\"}}, {\"showLink\": true, \"linkText\": \"Export to plot.ly\"})});</script>"
      ]
     },
     "metadata": {},
     "output_type": "display_data"
    }
   ],
   "source": [
    "seasongrpday.iplot(kind='bar', barmode='stack',\n",
    "                   title='Accident Severity by Day',\n",
    "                   xTitle='Days of the Week',\n",
    "                   yTitle='No. of Accidents')"
   ]
  },
  {
   "cell_type": "markdown",
   "metadata": {},
   "source": [
    "## External Factors\n",
    "#### What Road Types and Light Conditions influnce accidents?\n",
    "###### - Single Carriageway Roads in  Daylight and Lights Lit conditions has the highest no. of accidents\n",
    "###### - Single & Dual Carriageways and Roundabouts in Daylight or Lit conditions are the Top 3 in terms of accidents \n",
    "###### - Carriageways/Roundabout Road Types have a major influnce in no. of accidents\n"
   ]
  },
  {
   "cell_type": "code",
   "execution_count": 24,
   "metadata": {},
   "outputs": [],
   "source": [
    "#External Factors Dict's Import\n",
    "road_dic = pd.read_csv('Road_Type.csv')\n",
    "light_dic = pd.read_csv('Light_Conditions.csv')"
   ]
  },
  {
   "cell_type": "code",
   "execution_count": 25,
   "metadata": {},
   "outputs": [
    {
     "data": {
      "text/html": [
       "<div>\n",
       "<style scoped>\n",
       "    .dataframe tbody tr th:only-of-type {\n",
       "        vertical-align: middle;\n",
       "    }\n",
       "\n",
       "    .dataframe tbody tr th {\n",
       "        vertical-align: top;\n",
       "    }\n",
       "\n",
       "    .dataframe thead th {\n",
       "        text-align: right;\n",
       "    }\n",
       "</style>\n",
       "<table border=\"1\" class=\"dataframe\">\n",
       "  <thead>\n",
       "    <tr style=\"text-align: right;\">\n",
       "      <th></th>\n",
       "      <th>ID</th>\n",
       "      <th>Light_Conditions</th>\n",
       "      <th>Road_Type</th>\n",
       "      <th>Accident_Severity_Label</th>\n",
       "    </tr>\n",
       "  </thead>\n",
       "  <tbody>\n",
       "    <tr>\n",
       "      <th>352867</th>\n",
       "      <td>352868</td>\n",
       "      <td>1</td>\n",
       "      <td>6</td>\n",
       "      <td>Slight</td>\n",
       "    </tr>\n",
       "    <tr>\n",
       "      <th>120376</th>\n",
       "      <td>120377</td>\n",
       "      <td>1</td>\n",
       "      <td>6</td>\n",
       "      <td>Slight</td>\n",
       "    </tr>\n",
       "    <tr>\n",
       "      <th>70558</th>\n",
       "      <td>70559</td>\n",
       "      <td>6</td>\n",
       "      <td>6</td>\n",
       "      <td>Serious</td>\n",
       "    </tr>\n",
       "    <tr>\n",
       "      <th>394248</th>\n",
       "      <td>394249</td>\n",
       "      <td>1</td>\n",
       "      <td>6</td>\n",
       "      <td>Slight</td>\n",
       "    </tr>\n",
       "    <tr>\n",
       "      <th>450327</th>\n",
       "      <td>450328</td>\n",
       "      <td>1</td>\n",
       "      <td>6</td>\n",
       "      <td>Slight</td>\n",
       "    </tr>\n",
       "  </tbody>\n",
       "</table>\n",
       "</div>"
      ],
      "text/plain": [
       "            ID  Light_Conditions  Road_Type Accident_Severity_Label\n",
       "352867  352868                 1          6                  Slight\n",
       "120376  120377                 1          6                  Slight\n",
       "70558    70559                 6          6                 Serious\n",
       "394248  394249                 1          6                  Slight\n",
       "450327  450328                 1          6                  Slight"
      ]
     },
     "execution_count": 25,
     "metadata": {},
     "output_type": "execute_result"
    }
   ],
   "source": [
    "#Create an instance of the ukData and assign to ext_fac to reduce columns\n",
    "ext_fac = ukData[['ID','Light_Conditions','Road_Type','Accident_Severity_Label']]\n",
    "ext_fac.sample(5)"
   ]
  },
  {
   "cell_type": "code",
   "execution_count": 26,
   "metadata": {},
   "outputs": [
    {
     "data": {
      "text/html": [
       "<div>\n",
       "<style scoped>\n",
       "    .dataframe tbody tr th:only-of-type {\n",
       "        vertical-align: middle;\n",
       "    }\n",
       "\n",
       "    .dataframe tbody tr th {\n",
       "        vertical-align: top;\n",
       "    }\n",
       "\n",
       "    .dataframe thead th {\n",
       "        text-align: right;\n",
       "    }\n",
       "</style>\n",
       "<table border=\"1\" class=\"dataframe\">\n",
       "  <thead>\n",
       "    <tr style=\"text-align: right;\">\n",
       "      <th></th>\n",
       "      <th>ID</th>\n",
       "      <th>Light_Conditions</th>\n",
       "      <th>Road_Type</th>\n",
       "      <th>Accident_Severity_Label</th>\n",
       "      <th>code</th>\n",
       "      <th>Road</th>\n",
       "    </tr>\n",
       "  </thead>\n",
       "  <tbody>\n",
       "    <tr>\n",
       "      <th>0</th>\n",
       "      <td>1</td>\n",
       "      <td>4</td>\n",
       "      <td>6</td>\n",
       "      <td>Slight</td>\n",
       "      <td>6</td>\n",
       "      <td>Single carriageway</td>\n",
       "    </tr>\n",
       "    <tr>\n",
       "      <th>1</th>\n",
       "      <td>2</td>\n",
       "      <td>4</td>\n",
       "      <td>6</td>\n",
       "      <td>Slight</td>\n",
       "      <td>6</td>\n",
       "      <td>Single carriageway</td>\n",
       "    </tr>\n",
       "    <tr>\n",
       "      <th>2</th>\n",
       "      <td>3</td>\n",
       "      <td>1</td>\n",
       "      <td>2</td>\n",
       "      <td>Slight</td>\n",
       "      <td>2</td>\n",
       "      <td>One way street</td>\n",
       "    </tr>\n",
       "    <tr>\n",
       "      <th>3</th>\n",
       "      <td>4</td>\n",
       "      <td>1</td>\n",
       "      <td>6</td>\n",
       "      <td>Slight</td>\n",
       "      <td>6</td>\n",
       "      <td>Single carriageway</td>\n",
       "    </tr>\n",
       "    <tr>\n",
       "      <th>4</th>\n",
       "      <td>5</td>\n",
       "      <td>4</td>\n",
       "      <td>6</td>\n",
       "      <td>Slight</td>\n",
       "      <td>6</td>\n",
       "      <td>Single carriageway</td>\n",
       "    </tr>\n",
       "  </tbody>\n",
       "</table>\n",
       "</div>"
      ],
      "text/plain": [
       "   ID  Light_Conditions  Road_Type Accident_Severity_Label  code  \\\n",
       "0   1                 4          6                  Slight     6   \n",
       "1   2                 4          6                  Slight     6   \n",
       "2   3                 1          2                  Slight     2   \n",
       "3   4                 1          6                  Slight     6   \n",
       "4   5                 4          6                  Slight     6   \n",
       "\n",
       "                 Road  \n",
       "0  Single carriageway  \n",
       "1  Single carriageway  \n",
       "2      One way street  \n",
       "3  Single carriageway  \n",
       "4  Single carriageway  "
      ]
     },
     "execution_count": 26,
     "metadata": {},
     "output_type": "execute_result"
    }
   ],
   "source": [
    "#Merge Data with Road_Type Dic File\n",
    "ext_fac = (ext_fac.merge(road_dic, how ='left', left_on=['Road_Type'], right_on=['code']))\n",
    "ext_fac = ext_fac.rename(columns={'label':'Road'})\n",
    "ext_fac.head()"
   ]
  },
  {
   "cell_type": "code",
   "execution_count": 27,
   "metadata": {},
   "outputs": [
    {
     "data": {
      "text/html": [
       "<div>\n",
       "<style scoped>\n",
       "    .dataframe tbody tr th:only-of-type {\n",
       "        vertical-align: middle;\n",
       "    }\n",
       "\n",
       "    .dataframe tbody tr th {\n",
       "        vertical-align: top;\n",
       "    }\n",
       "\n",
       "    .dataframe thead th {\n",
       "        text-align: right;\n",
       "    }\n",
       "</style>\n",
       "<table border=\"1\" class=\"dataframe\">\n",
       "  <thead>\n",
       "    <tr style=\"text-align: right;\">\n",
       "      <th></th>\n",
       "      <th>ID</th>\n",
       "      <th>Light_Conditions</th>\n",
       "      <th>Road_Type</th>\n",
       "      <th>Accident_Severity_Label</th>\n",
       "      <th>code_x</th>\n",
       "      <th>Road</th>\n",
       "      <th>code_y</th>\n",
       "      <th>Light</th>\n",
       "    </tr>\n",
       "  </thead>\n",
       "  <tbody>\n",
       "    <tr>\n",
       "      <th>0</th>\n",
       "      <td>1</td>\n",
       "      <td>4</td>\n",
       "      <td>6</td>\n",
       "      <td>Slight</td>\n",
       "      <td>6</td>\n",
       "      <td>Single carriageway</td>\n",
       "      <td>4</td>\n",
       "      <td>Darkness - lights lit</td>\n",
       "    </tr>\n",
       "    <tr>\n",
       "      <th>1</th>\n",
       "      <td>2</td>\n",
       "      <td>4</td>\n",
       "      <td>6</td>\n",
       "      <td>Slight</td>\n",
       "      <td>6</td>\n",
       "      <td>Single carriageway</td>\n",
       "      <td>4</td>\n",
       "      <td>Darkness - lights lit</td>\n",
       "    </tr>\n",
       "    <tr>\n",
       "      <th>2</th>\n",
       "      <td>3</td>\n",
       "      <td>1</td>\n",
       "      <td>2</td>\n",
       "      <td>Slight</td>\n",
       "      <td>2</td>\n",
       "      <td>One way street</td>\n",
       "      <td>1</td>\n",
       "      <td>Daylight</td>\n",
       "    </tr>\n",
       "    <tr>\n",
       "      <th>3</th>\n",
       "      <td>4</td>\n",
       "      <td>1</td>\n",
       "      <td>6</td>\n",
       "      <td>Slight</td>\n",
       "      <td>6</td>\n",
       "      <td>Single carriageway</td>\n",
       "      <td>1</td>\n",
       "      <td>Daylight</td>\n",
       "    </tr>\n",
       "    <tr>\n",
       "      <th>4</th>\n",
       "      <td>5</td>\n",
       "      <td>4</td>\n",
       "      <td>6</td>\n",
       "      <td>Slight</td>\n",
       "      <td>6</td>\n",
       "      <td>Single carriageway</td>\n",
       "      <td>4</td>\n",
       "      <td>Darkness - lights lit</td>\n",
       "    </tr>\n",
       "  </tbody>\n",
       "</table>\n",
       "</div>"
      ],
      "text/plain": [
       "   ID  Light_Conditions  Road_Type Accident_Severity_Label  code_x  \\\n",
       "0   1                 4          6                  Slight       6   \n",
       "1   2                 4          6                  Slight       6   \n",
       "2   3                 1          2                  Slight       2   \n",
       "3   4                 1          6                  Slight       6   \n",
       "4   5                 4          6                  Slight       6   \n",
       "\n",
       "                 Road  code_y                  Light  \n",
       "0  Single carriageway       4  Darkness - lights lit  \n",
       "1  Single carriageway       4  Darkness - lights lit  \n",
       "2      One way street       1               Daylight  \n",
       "3  Single carriageway       1               Daylight  \n",
       "4  Single carriageway       4  Darkness - lights lit  "
      ]
     },
     "execution_count": 27,
     "metadata": {},
     "output_type": "execute_result"
    }
   ],
   "source": [
    "#Merge Data with Light Conditions\n",
    "ext_fac = (ext_fac.merge(light_dic, how='left', left_on=['Light_Conditions'], right_on=['code']))\n",
    "ext_fac = ext_fac.rename(columns={'label':'Light'})\n",
    "ext_fac.head()"
   ]
  },
  {
   "cell_type": "markdown",
   "metadata": {},
   "source": [
    "##### View the Dic Data for Road and Light Factors"
   ]
  },
  {
   "cell_type": "code",
   "execution_count": 28,
   "metadata": {},
   "outputs": [
    {
     "data": {
      "text/html": [
       "<div>\n",
       "<style scoped>\n",
       "    .dataframe tbody tr th:only-of-type {\n",
       "        vertical-align: middle;\n",
       "    }\n",
       "\n",
       "    .dataframe tbody tr th {\n",
       "        vertical-align: top;\n",
       "    }\n",
       "\n",
       "    .dataframe thead th {\n",
       "        text-align: right;\n",
       "    }\n",
       "</style>\n",
       "<table border=\"1\" class=\"dataframe\">\n",
       "  <thead>\n",
       "    <tr style=\"text-align: right;\">\n",
       "      <th></th>\n",
       "      <th>ID</th>\n",
       "      <th>Accident_Severity_Label</th>\n",
       "      <th>Road</th>\n",
       "      <th>Light</th>\n",
       "    </tr>\n",
       "  </thead>\n",
       "  <tbody>\n",
       "    <tr>\n",
       "      <th>0</th>\n",
       "      <td>1</td>\n",
       "      <td>Slight</td>\n",
       "      <td>Single carriageway</td>\n",
       "      <td>Darkness - lights lit</td>\n",
       "    </tr>\n",
       "    <tr>\n",
       "      <th>1</th>\n",
       "      <td>2</td>\n",
       "      <td>Slight</td>\n",
       "      <td>Single carriageway</td>\n",
       "      <td>Darkness - lights lit</td>\n",
       "    </tr>\n",
       "    <tr>\n",
       "      <th>2</th>\n",
       "      <td>3</td>\n",
       "      <td>Slight</td>\n",
       "      <td>One way street</td>\n",
       "      <td>Daylight</td>\n",
       "    </tr>\n",
       "    <tr>\n",
       "      <th>3</th>\n",
       "      <td>4</td>\n",
       "      <td>Slight</td>\n",
       "      <td>Single carriageway</td>\n",
       "      <td>Daylight</td>\n",
       "    </tr>\n",
       "    <tr>\n",
       "      <th>4</th>\n",
       "      <td>5</td>\n",
       "      <td>Slight</td>\n",
       "      <td>Single carriageway</td>\n",
       "      <td>Darkness - lights lit</td>\n",
       "    </tr>\n",
       "  </tbody>\n",
       "</table>\n",
       "</div>"
      ],
      "text/plain": [
       "   ID Accident_Severity_Label                Road                  Light\n",
       "0   1                  Slight  Single carriageway  Darkness - lights lit\n",
       "1   2                  Slight  Single carriageway  Darkness - lights lit\n",
       "2   3                  Slight      One way street               Daylight\n",
       "3   4                  Slight  Single carriageway               Daylight\n",
       "4   5                  Slight  Single carriageway  Darkness - lights lit"
      ]
     },
     "execution_count": 28,
     "metadata": {},
     "output_type": "execute_result"
    }
   ],
   "source": [
    "#Create Instance with Columns being used for Groupby\n",
    "ext_fac_fin = ext_fac.reindex(columns=['ID','Accident_Severity_Label','Road','Light'])\n",
    "#Test\n",
    "ext_fac_fin.head()"
   ]
  },
  {
   "cell_type": "code",
   "execution_count": 81,
   "metadata": {},
   "outputs": [
    {
     "data": {
      "text/html": [
       "<div>\n",
       "<style scoped>\n",
       "    .dataframe tbody tr th:only-of-type {\n",
       "        vertical-align: middle;\n",
       "    }\n",
       "\n",
       "    .dataframe tbody tr th {\n",
       "        vertical-align: top;\n",
       "    }\n",
       "\n",
       "    .dataframe thead th {\n",
       "        text-align: right;\n",
       "    }\n",
       "</style>\n",
       "<table border=\"1\" class=\"dataframe\">\n",
       "  <thead>\n",
       "    <tr style=\"text-align: right;\">\n",
       "      <th></th>\n",
       "      <th>Accident_Severity_Label</th>\n",
       "      <th>Fatal</th>\n",
       "      <th>Serious</th>\n",
       "      <th>Slight</th>\n",
       "      <th>Total</th>\n",
       "    </tr>\n",
       "    <tr>\n",
       "      <th>Road</th>\n",
       "      <th>Light</th>\n",
       "      <th></th>\n",
       "      <th></th>\n",
       "      <th></th>\n",
       "      <th></th>\n",
       "    </tr>\n",
       "  </thead>\n",
       "  <tbody>\n",
       "    <tr>\n",
       "      <th rowspan=\"5\" valign=\"top\">Dual carriageway</th>\n",
       "      <th>Darkness - lighting unknown</th>\n",
       "      <td>24</td>\n",
       "      <td>122</td>\n",
       "      <td>992</td>\n",
       "      <td>1138</td>\n",
       "    </tr>\n",
       "    <tr>\n",
       "      <th>Darkness - lights lit</th>\n",
       "      <td>274</td>\n",
       "      <td>2244</td>\n",
       "      <td>13623</td>\n",
       "      <td>16141</td>\n",
       "    </tr>\n",
       "    <tr>\n",
       "      <th>Darkness - lights unlit</th>\n",
       "      <td>17</td>\n",
       "      <td>83</td>\n",
       "      <td>469</td>\n",
       "      <td>569</td>\n",
       "    </tr>\n",
       "    <tr>\n",
       "      <th>Darkness - no lighting</th>\n",
       "      <td>305</td>\n",
       "      <td>993</td>\n",
       "      <td>4727</td>\n",
       "      <td>6025</td>\n",
       "    </tr>\n",
       "    <tr>\n",
       "      <th>Daylight</th>\n",
       "      <td>638</td>\n",
       "      <td>6675</td>\n",
       "      <td>50226</td>\n",
       "      <td>57539</td>\n",
       "    </tr>\n",
       "  </tbody>\n",
       "</table>\n",
       "</div>"
      ],
      "text/plain": [
       "Accident_Severity_Label                       Fatal  Serious  Slight  Total\n",
       "Road             Light                                                     \n",
       "Dual carriageway Darkness - lighting unknown     24      122     992   1138\n",
       "                 Darkness - lights lit          274     2244   13623  16141\n",
       "                 Darkness - lights unlit         17       83     469    569\n",
       "                 Darkness - no lighting         305      993    4727   6025\n",
       "                 Daylight                       638     6675   50226  57539"
      ]
     },
     "execution_count": 81,
     "metadata": {},
     "output_type": "execute_result"
    }
   ],
   "source": [
    "#Group Road, Light against ASL\n",
    "ext_fac_plt = pd.crosstab([ext_fac_fin['Road'],ext_fac_fin['Light']],ext_fac_fin['Accident_Severity_Label'],\n",
    "                          margins=True, margins_name='Total')\n",
    "ext_fac_plt.head(5)"
   ]
  },
  {
   "cell_type": "code",
   "execution_count": 47,
   "metadata": {},
   "outputs": [
    {
     "data": {
      "text/plain": [
       "Text(0.5,1,'Accident Severity By External Factors')"
      ]
     },
     "execution_count": 47,
     "metadata": {},
     "output_type": "execute_result"
    },
    {
     "data": {
      "image/png": "[encoded data removed]",
      "text/plain": [
       "<matplotlib.figure.Figure at 0x1a1b51af98>"
      ]
     },
     "metadata": {},
     "output_type": "display_data"
    }
   ],
   "source": [
    "#Plot a HeatMap of Road,Light and ASL\n",
    "f, ax = plt.subplots(figsize=(10, 15))\n",
    "sns.heatmap(ext_fac_plt,cmap='Blues', annot=True, cbar=True, fmt='0,g', ax=ax, linewidths=0.5,vmax=570000) \n",
    "ax.set_title('Accident Severity By External Factors', loc='center',fontsize=20)"
   ]
  },
  {
   "cell_type": "markdown",
   "metadata": {},
   "source": [
    "## Geographic\n",
    "#### Are Fatal Accidents more common in Rural or Urban Areas?\n",
    "##### - Fatal Accidents have occurred more in Rural than Urban Areas\n",
    "##### - 64% of fatal accidents have occurred in Rural Areas"
   ]
  },
  {
   "cell_type": "code",
   "execution_count": 32,
   "metadata": {},
   "outputs": [
    {
     "data": {
      "text/html": [
       "<div>\n",
       "<style scoped>\n",
       "    .dataframe tbody tr th:only-of-type {\n",
       "        vertical-align: middle;\n",
       "    }\n",
       "\n",
       "    .dataframe tbody tr th {\n",
       "        vertical-align: top;\n",
       "    }\n",
       "\n",
       "    .dataframe thead th {\n",
       "        text-align: right;\n",
       "    }\n",
       "</style>\n",
       "<table border=\"1\" class=\"dataframe\">\n",
       "  <thead>\n",
       "    <tr style=\"text-align: right;\">\n",
       "      <th></th>\n",
       "      <th>code</th>\n",
       "      <th>label</th>\n",
       "    </tr>\n",
       "  </thead>\n",
       "  <tbody>\n",
       "    <tr>\n",
       "      <th>0</th>\n",
       "      <td>1</td>\n",
       "      <td>Urban</td>\n",
       "    </tr>\n",
       "    <tr>\n",
       "      <th>1</th>\n",
       "      <td>2</td>\n",
       "      <td>Rural</td>\n",
       "    </tr>\n",
       "    <tr>\n",
       "      <th>2</th>\n",
       "      <td>3</td>\n",
       "      <td>Unallocated</td>\n",
       "    </tr>\n",
       "  </tbody>\n",
       "</table>\n",
       "</div>"
      ],
      "text/plain": [
       "   code        label\n",
       "0     1        Urban\n",
       "1     2        Rural\n",
       "2     3  Unallocated"
      ]
     },
     "execution_count": 32,
     "metadata": {},
     "output_type": "execute_result"
    }
   ],
   "source": [
    "#Geography Dictionary assign to a variable\n",
    "urban_rural_dic = pd.read_csv('Urban_Rural.csv')\n",
    "urban_rural_dic.head(3)"
   ]
  },
  {
   "cell_type": "code",
   "execution_count": 33,
   "metadata": {},
   "outputs": [
    {
     "data": {
      "text/html": [
       "<div>\n",
       "<style scoped>\n",
       "    .dataframe tbody tr th:only-of-type {\n",
       "        vertical-align: middle;\n",
       "    }\n",
       "\n",
       "    .dataframe tbody tr th {\n",
       "        vertical-align: top;\n",
       "    }\n",
       "\n",
       "    .dataframe thead th {\n",
       "        text-align: right;\n",
       "    }\n",
       "</style>\n",
       "<table border=\"1\" class=\"dataframe\">\n",
       "  <thead>\n",
       "    <tr style=\"text-align: right;\">\n",
       "      <th></th>\n",
       "      <th>ID</th>\n",
       "      <th>Urban_or_Rural_Area</th>\n",
       "      <th>Accident_Severity_Label</th>\n",
       "    </tr>\n",
       "  </thead>\n",
       "  <tbody>\n",
       "    <tr>\n",
       "      <th>386912</th>\n",
       "      <td>386913</td>\n",
       "      <td>1</td>\n",
       "      <td>Slight</td>\n",
       "    </tr>\n",
       "    <tr>\n",
       "      <th>50442</th>\n",
       "      <td>50443</td>\n",
       "      <td>1</td>\n",
       "      <td>Slight</td>\n",
       "    </tr>\n",
       "    <tr>\n",
       "      <th>3065</th>\n",
       "      <td>3066</td>\n",
       "      <td>1</td>\n",
       "      <td>Slight</td>\n",
       "    </tr>\n",
       "    <tr>\n",
       "      <th>227653</th>\n",
       "      <td>227654</td>\n",
       "      <td>2</td>\n",
       "      <td>Slight</td>\n",
       "    </tr>\n",
       "    <tr>\n",
       "      <th>247309</th>\n",
       "      <td>247310</td>\n",
       "      <td>1</td>\n",
       "      <td>Slight</td>\n",
       "    </tr>\n",
       "  </tbody>\n",
       "</table>\n",
       "</div>"
      ],
      "text/plain": [
       "            ID  Urban_or_Rural_Area Accident_Severity_Label\n",
       "386912  386913                    1                  Slight\n",
       "50442    50443                    1                  Slight\n",
       "3065      3066                    1                  Slight\n",
       "227653  227654                    2                  Slight\n",
       "247309  247310                    1                  Slight"
      ]
     },
     "execution_count": 33,
     "metadata": {},
     "output_type": "execute_result"
    }
   ],
   "source": [
    "#Create an instance of ukData \n",
    "geo_area = ukData[['ID','Urban_or_Rural_Area','Accident_Severity_Label']]\n",
    "#Test\n",
    "geo_area.sample(5)"
   ]
  },
  {
   "cell_type": "code",
   "execution_count": 34,
   "metadata": {},
   "outputs": [
    {
     "data": {
      "text/html": [
       "<div>\n",
       "<style scoped>\n",
       "    .dataframe tbody tr th:only-of-type {\n",
       "        vertical-align: middle;\n",
       "    }\n",
       "\n",
       "    .dataframe tbody tr th {\n",
       "        vertical-align: top;\n",
       "    }\n",
       "\n",
       "    .dataframe thead th {\n",
       "        text-align: right;\n",
       "    }\n",
       "</style>\n",
       "<table border=\"1\" class=\"dataframe\">\n",
       "  <thead>\n",
       "    <tr style=\"text-align: right;\">\n",
       "      <th></th>\n",
       "      <th>ID</th>\n",
       "      <th>Urban_or_Rural_Area</th>\n",
       "      <th>Accident_Severity_Label</th>\n",
       "      <th>code</th>\n",
       "      <th>label</th>\n",
       "    </tr>\n",
       "  </thead>\n",
       "  <tbody>\n",
       "    <tr>\n",
       "      <th>187765</th>\n",
       "      <td>187766</td>\n",
       "      <td>2</td>\n",
       "      <td>Slight</td>\n",
       "      <td>2</td>\n",
       "      <td>Rural</td>\n",
       "    </tr>\n",
       "    <tr>\n",
       "      <th>519801</th>\n",
       "      <td>519802</td>\n",
       "      <td>1</td>\n",
       "      <td>Slight</td>\n",
       "      <td>1</td>\n",
       "      <td>Urban</td>\n",
       "    </tr>\n",
       "    <tr>\n",
       "      <th>107770</th>\n",
       "      <td>107771</td>\n",
       "      <td>2</td>\n",
       "      <td>Slight</td>\n",
       "      <td>2</td>\n",
       "      <td>Rural</td>\n",
       "    </tr>\n",
       "    <tr>\n",
       "      <th>302732</th>\n",
       "      <td>302733</td>\n",
       "      <td>1</td>\n",
       "      <td>Slight</td>\n",
       "      <td>1</td>\n",
       "      <td>Urban</td>\n",
       "    </tr>\n",
       "    <tr>\n",
       "      <th>211723</th>\n",
       "      <td>211724</td>\n",
       "      <td>1</td>\n",
       "      <td>Serious</td>\n",
       "      <td>1</td>\n",
       "      <td>Urban</td>\n",
       "    </tr>\n",
       "  </tbody>\n",
       "</table>\n",
       "</div>"
      ],
      "text/plain": [
       "            ID  Urban_or_Rural_Area Accident_Severity_Label  code  label\n",
       "187765  187766                    2                  Slight     2  Rural\n",
       "519801  519802                    1                  Slight     1  Urban\n",
       "107770  107771                    2                  Slight     2  Rural\n",
       "302732  302733                    1                  Slight     1  Urban\n",
       "211723  211724                    1                 Serious     1  Urban"
      ]
     },
     "execution_count": 34,
     "metadata": {},
     "output_type": "execute_result"
    }
   ],
   "source": [
    "#Merge Data to Dic Values\n",
    "geo_area = geo_area.merge(urban_rural_dic,how='left',left_on=['Urban_or_Rural_Area'], right_on=['code'])\n",
    "#Test\n",
    "geo_area.sample(5)"
   ]
  },
  {
   "cell_type": "code",
   "execution_count": 35,
   "metadata": {},
   "outputs": [],
   "source": [
    "#Rename Label as Geography\n",
    "geo_area = (geo_area.rename(columns={'label':'Geography'})\n",
    "            .reindex(columns=['ID','Accident_Severity_Label','Geography']))"
   ]
  },
  {
   "cell_type": "code",
   "execution_count": 84,
   "metadata": {},
   "outputs": [
    {
     "data": {
      "text/html": [
       "<div>\n",
       "<style scoped>\n",
       "    .dataframe tbody tr th:only-of-type {\n",
       "        vertical-align: middle;\n",
       "    }\n",
       "\n",
       "    .dataframe tbody tr th {\n",
       "        vertical-align: top;\n",
       "    }\n",
       "\n",
       "    .dataframe thead th {\n",
       "        text-align: right;\n",
       "    }\n",
       "</style>\n",
       "<table border=\"1\" class=\"dataframe\">\n",
       "  <thead>\n",
       "    <tr style=\"text-align: right;\">\n",
       "      <th>Accident_Severity_Label</th>\n",
       "      <th>Fatal</th>\n",
       "      <th>Serious</th>\n",
       "      <th>Slight</th>\n",
       "    </tr>\n",
       "    <tr>\n",
       "      <th>Geography</th>\n",
       "      <th></th>\n",
       "      <th></th>\n",
       "      <th></th>\n",
       "    </tr>\n",
       "  </thead>\n",
       "  <tbody>\n",
       "    <tr>\n",
       "      <th>Rural</th>\n",
       "      <td>4165</td>\n",
       "      <td>33546</td>\n",
       "      <td>159177</td>\n",
       "    </tr>\n",
       "    <tr>\n",
       "      <th>Urban</th>\n",
       "      <td>2354</td>\n",
       "      <td>47693</td>\n",
       "      <td>323674</td>\n",
       "    </tr>\n",
       "  </tbody>\n",
       "</table>\n",
       "</div>"
      ],
      "text/plain": [
       "Accident_Severity_Label  Fatal  Serious  Slight\n",
       "Geography                                      \n",
       "Rural                     4165    33546  159177\n",
       "Urban                     2354    47693  323674"
      ]
     },
     "execution_count": 84,
     "metadata": {},
     "output_type": "execute_result"
    }
   ],
   "source": [
    "#Group ASL by Geography\n",
    "geo_area_plt = pd.crosstab(geo_area['Geography'],geo_area['Accident_Severity_Label'],margins=False)\n",
    "geo_area_plt"
   ]
  },
  {
   "cell_type": "code",
   "execution_count": 85,
   "metadata": {},
   "outputs": [],
   "source": [
    "#group ASL by Geo in % Terms based on ASL eg. 64% of fatal accidents are in rural areas\n",
    "geo_area_plt_per = pd.crosstab(geo_area['Geography'],geo_area['Accident_Severity_Label'],normalize='columns')\n",
    "\n",
    "#group ASL by Geo via Count\n",
    "geo_area_plt = pd.crosstab(geo_area['Geography'],geo_area['Accident_Severity_Label'])\n"
   ]
  },
  {
   "cell_type": "code",
   "execution_count": 86,
   "metadata": {},
   "outputs": [
    {
     "data": {
      "text/html": [
       "<style  type=\"text/css\" >\n",
       "    #T_911dae18_82e7_11e9_88c4_f45c8991f033row0_col0 {\n",
       "            background-color:  yellow;\n",
       "        }    #T_911dae18_82e7_11e9_88c4_f45c8991f033row1_col1 {\n",
       "            background-color:  yellow;\n",
       "        }    #T_911dae18_82e7_11e9_88c4_f45c8991f033row1_col2 {\n",
       "            background-color:  yellow;\n",
       "        }</style>  \n",
       "<table id=\"T_911dae18_82e7_11e9_88c4_f45c8991f033\" > \n",
       "<thead>    <tr> \n",
       "        <th class=\"index_name level0\" >Accident_Severity_Label</th> \n",
       "        <th class=\"col_heading level0 col0\" >Fatal</th> \n",
       "        <th class=\"col_heading level0 col1\" >Serious</th> \n",
       "        <th class=\"col_heading level0 col2\" >Slight</th> \n",
       "    </tr>    <tr> \n",
       "        <th class=\"index_name level0\" >Geography</th> \n",
       "        <th class=\"blank\" ></th> \n",
       "        <th class=\"blank\" ></th> \n",
       "        <th class=\"blank\" ></th> \n",
       "    </tr></thead> \n",
       "<tbody>    <tr> \n",
       "        <th id=\"T_911dae18_82e7_11e9_88c4_f45c8991f033level0_row0\" class=\"row_heading level0 row0\" >Rural</th> \n",
       "        <td id=\"T_911dae18_82e7_11e9_88c4_f45c8991f033row0_col0\" class=\"data row0 col0\" >4165</td> \n",
       "        <td id=\"T_911dae18_82e7_11e9_88c4_f45c8991f033row0_col1\" class=\"data row0 col1\" >33546</td> \n",
       "        <td id=\"T_911dae18_82e7_11e9_88c4_f45c8991f033row0_col2\" class=\"data row0 col2\" >159177</td> \n",
       "    </tr>    <tr> \n",
       "        <th id=\"T_911dae18_82e7_11e9_88c4_f45c8991f033level0_row1\" class=\"row_heading level0 row1\" >Urban</th> \n",
       "        <td id=\"T_911dae18_82e7_11e9_88c4_f45c8991f033row1_col0\" class=\"data row1 col0\" >2354</td> \n",
       "        <td id=\"T_911dae18_82e7_11e9_88c4_f45c8991f033row1_col1\" class=\"data row1 col1\" >47693</td> \n",
       "        <td id=\"T_911dae18_82e7_11e9_88c4_f45c8991f033row1_col2\" class=\"data row1 col2\" >323674</td> \n",
       "    </tr></tbody> \n",
       "</table> "
      ],
      "text/plain": [
       "<pandas.io.formats.style.Styler at 0x1a1bed5eb8>"
      ]
     },
     "execution_count": 86,
     "metadata": {},
     "output_type": "execute_result"
    }
   ],
   "source": [
    "#View by Count\n",
    "geo_area_plt.style.highlight_max(color='yellow')"
   ]
  },
  {
   "cell_type": "code",
   "execution_count": 87,
   "metadata": {},
   "outputs": [
    {
     "data": {
      "text/html": [
       "<style  type=\"text/css\" >\n",
       "    #T_916817d0_82e7_11e9_8357_f45c8991f033row0_col0 {\n",
       "            background-color:  yellow;\n",
       "        }    #T_916817d0_82e7_11e9_8357_f45c8991f033row1_col1 {\n",
       "            background-color:  yellow;\n",
       "        }    #T_916817d0_82e7_11e9_8357_f45c8991f033row1_col2 {\n",
       "            background-color:  yellow;\n",
       "        }</style>  \n",
       "<table id=\"T_916817d0_82e7_11e9_8357_f45c8991f033\" > \n",
       "<thead>    <tr> \n",
       "        <th class=\"index_name level0\" >Accident_Severity_Label</th> \n",
       "        <th class=\"col_heading level0 col0\" >Fatal</th> \n",
       "        <th class=\"col_heading level0 col1\" >Serious</th> \n",
       "        <th class=\"col_heading level0 col2\" >Slight</th> \n",
       "    </tr>    <tr> \n",
       "        <th class=\"index_name level0\" >Geography</th> \n",
       "        <th class=\"blank\" ></th> \n",
       "        <th class=\"blank\" ></th> \n",
       "        <th class=\"blank\" ></th> \n",
       "    </tr></thead> \n",
       "<tbody>    <tr> \n",
       "        <th id=\"T_916817d0_82e7_11e9_8357_f45c8991f033level0_row0\" class=\"row_heading level0 row0\" >Rural</th> \n",
       "        <td id=\"T_916817d0_82e7_11e9_8357_f45c8991f033row0_col0\" class=\"data row0 col0\" >64%</td> \n",
       "        <td id=\"T_916817d0_82e7_11e9_8357_f45c8991f033row0_col1\" class=\"data row0 col1\" >41%</td> \n",
       "        <td id=\"T_916817d0_82e7_11e9_8357_f45c8991f033row0_col2\" class=\"data row0 col2\" >33%</td> \n",
       "    </tr>    <tr> \n",
       "        <th id=\"T_916817d0_82e7_11e9_8357_f45c8991f033level0_row1\" class=\"row_heading level0 row1\" >Urban</th> \n",
       "        <td id=\"T_916817d0_82e7_11e9_8357_f45c8991f033row1_col0\" class=\"data row1 col0\" >36%</td> \n",
       "        <td id=\"T_916817d0_82e7_11e9_8357_f45c8991f033row1_col1\" class=\"data row1 col1\" >59%</td> \n",
       "        <td id=\"T_916817d0_82e7_11e9_8357_f45c8991f033row1_col2\" class=\"data row1 col2\" >67%</td> \n",
       "    </tr></tbody> \n",
       "</table> "
      ],
      "text/plain": [
       "<pandas.io.formats.style.Styler at 0x1a1c08a5f8>"
      ]
     },
     "execution_count": 87,
     "metadata": {},
     "output_type": "execute_result"
    }
   ],
   "source": [
    "#ASL by Geo in % Terms based on ASL eg. 64% of fatal accidents are in rural areas\n",
    "(geo_area_plt_per*100).style.format('{0:,.0f}%').highlight_max(color='yellow')"
   ]
  },
  {
   "cell_type": "code",
   "execution_count": 91,
   "metadata": {},
   "outputs": [
    {
     "data": {
      "application/vnd.plotly.v1+json": {
       "data": [
        {
         "marker": {
          "color": "rgba(255, 153, 51, 0.6)",
          "line": {
           "color": "rgba(255, 153, 51, 1.0)",
           "width": 1
          }
         },
         "name": "Fatal",
         "orientation": "h",
         "text": "",
         "type": "bar",
         "uid": "a1351794-82e7-11e9-84c2-f45c8991f033",
         "x": [
          0.6389016720355882,
          0.3610983279644117
         ],
         "y": [
          "Rural",
          "Urban"
         ]
        },
        {
         "marker": {
          "color": "rgba(55, 128, 191, 0.6)",
          "line": {
           "color": "rgba(55, 128, 191, 1.0)",
           "width": 1
          }
         },
         "name": "Serious",
         "orientation": "h",
         "text": "",
         "type": "bar",
         "uid": "a135194c-82e7-11e9-bfee-f45c8991f033",
         "x": [
          0.41292975048929703,
          0.587070249510703
         ],
         "y": [
          "Rural",
          "Urban"
         ]
        },
        {
         "marker": {
          "color": "rgba(50, 171, 96, 0.6)",
          "line": {
           "color": "rgba(50, 171, 96, 1.0)",
           "width": 1
          }
         },
         "name": "Slight",
         "orientation": "h",
         "text": "",
         "type": "bar",
         "uid": "a1351a0a-82e7-11e9-a3d6-f45c8991f033",
         "x": [
          0.32966070278408866,
          0.6703392972159113
         ],
         "y": [
          "Rural",
          "Urban"
         ]
        }
       ],
       "layout": {
        "autosize": true,
        "legend": {
         "bgcolor": "#F5F6F9",
         "font": {
          "color": "#4D5663"
         }
        },
        "paper_bgcolor": "#F5F6F9",
        "plot_bgcolor": "#F5F6F9",
        "title": "Accident Severity by Geography",
        "titlefont": {
         "color": "#4D5663"
        },
        "xaxis": {
         "autorange": true,
         "gridcolor": "#E1E5ED",
         "range": [
          0,
          0.7056203128588541
         ],
         "showgrid": true,
         "tickfont": {
          "color": "#4D5663"
         },
         "title": "% of Accident Severity",
         "titlefont": {
          "color": "#4D5663"
         },
         "type": "linear",
         "zerolinecolor": "#E1E5ED"
        },
        "yaxis": {
         "autorange": true,
         "gridcolor": "#E1E5ED",
         "range": [
          -0.5,
          1.5
         ],
         "showgrid": true,
         "tickfont": {
          "color": "#4D5663"
         },
         "title": "Geography",
         "titlefont": {
          "color": "#4D5663"
         },
         "type": "category",
         "zerolinecolor": "#E1E5ED"
        }
       }
      },
      "image/png": "[encoded data removed]",
      "text/html": [
       "<div id=\"7a962723-16ec-4e0e-a483-f3dbaa2d5a39\" style=\"height: 525px; width: 100%;\" class=\"plotly-graph-div\"></div><script type=\"text/javascript\">require([\"plotly\"], function(Plotly) { window.PLOTLYENV=window.PLOTLYENV || {};window.PLOTLYENV.BASE_URL=\"https://plot.ly\";Plotly.newPlot(\"7a962723-16ec-4e0e-a483-f3dbaa2d5a39\", [{\"marker\": {\"color\": \"rgba(255, 153, 51, 0.6)\", \"line\": {\"color\": \"rgba(255, 153, 51, 1.0)\", \"width\": 1}}, \"name\": \"Fatal\", \"orientation\": \"h\", \"text\": \"\", \"x\": [0.6389016720355882, 0.3610983279644117], \"y\": [\"Rural\", \"Urban\"], \"type\": \"bar\", \"uid\": \"a1391600-82e7-11e9-9004-f45c8991f033\"}, {\"marker\": {\"color\": \"rgba(55, 128, 191, 0.6)\", \"line\": {\"color\": \"rgba(55, 128, 191, 1.0)\", \"width\": 1}}, \"name\": \"Serious\", \"orientation\": \"h\", \"text\": \"\", \"x\": [0.41292975048929703, 0.587070249510703], \"y\": [\"Rural\", \"Urban\"], \"type\": \"bar\", \"uid\": \"a139177a-82e7-11e9-935f-f45c8991f033\"}, {\"marker\": {\"color\": \"rgba(50, 171, 96, 0.6)\", \"line\": {\"color\": \"rgba(50, 171, 96, 1.0)\", \"width\": 1}}, \"name\": \"Slight\", \"orientation\": \"h\", \"text\": \"\", \"x\": [0.32966070278408866, 0.6703392972159113], \"y\": [\"Rural\", \"Urban\"], \"type\": \"bar\", \"uid\": \"a139183a-82e7-11e9-8a7b-f45c8991f033\"}], {\"legend\": {\"bgcolor\": \"#F5F6F9\", \"font\": {\"color\": \"#4D5663\"}}, \"paper_bgcolor\": \"#F5F6F9\", \"plot_bgcolor\": \"#F5F6F9\", \"title\": \"Accident Severity by Geography\", \"titlefont\": {\"color\": \"#4D5663\"}, \"xaxis\": {\"gridcolor\": \"#E1E5ED\", \"showgrid\": true, \"tickfont\": {\"color\": \"#4D5663\"}, \"title\": \"% of Accident Severity\", \"titlefont\": {\"color\": \"#4D5663\"}, \"zerolinecolor\": \"#E1E5ED\"}, \"yaxis\": {\"gridcolor\": \"#E1E5ED\", \"showgrid\": true, \"tickfont\": {\"color\": \"#4D5663\"}, \"title\": \"Geography\", \"titlefont\": {\"color\": \"#4D5663\"}, \"zerolinecolor\": \"#E1E5ED\"}}, {\"showLink\": true, \"linkText\": \"Export to plot.ly\"})});</script>"
      ],
      "text/vnd.plotly.v1+html": [
       "<div id=\"7a962723-16ec-4e0e-a483-f3dbaa2d5a39\" style=\"height: 525px; width: 100%;\" class=\"plotly-graph-div\"></div><script type=\"text/javascript\">require([\"plotly\"], function(Plotly) { window.PLOTLYENV=window.PLOTLYENV || {};window.PLOTLYENV.BASE_URL=\"https://plot.ly\";Plotly.newPlot(\"7a962723-16ec-4e0e-a483-f3dbaa2d5a39\", [{\"marker\": {\"color\": \"rgba(255, 153, 51, 0.6)\", \"line\": {\"color\": \"rgba(255, 153, 51, 1.0)\", \"width\": 1}}, \"name\": \"Fatal\", \"orientation\": \"h\", \"text\": \"\", \"x\": [0.6389016720355882, 0.3610983279644117], \"y\": [\"Rural\", \"Urban\"], \"type\": \"bar\", \"uid\": \"a1391600-82e7-11e9-9004-f45c8991f033\"}, {\"marker\": {\"color\": \"rgba(55, 128, 191, 0.6)\", \"line\": {\"color\": \"rgba(55, 128, 191, 1.0)\", \"width\": 1}}, \"name\": \"Serious\", \"orientation\": \"h\", \"text\": \"\", \"x\": [0.41292975048929703, 0.587070249510703], \"y\": [\"Rural\", \"Urban\"], \"type\": \"bar\", \"uid\": \"a139177a-82e7-11e9-935f-f45c8991f033\"}, {\"marker\": {\"color\": \"rgba(50, 171, 96, 0.6)\", \"line\": {\"color\": \"rgba(50, 171, 96, 1.0)\", \"width\": 1}}, \"name\": \"Slight\", \"orientation\": \"h\", \"text\": \"\", \"x\": [0.32966070278408866, 0.6703392972159113], \"y\": [\"Rural\", \"Urban\"], \"type\": \"bar\", \"uid\": \"a139183a-82e7-11e9-8a7b-f45c8991f033\"}], {\"legend\": {\"bgcolor\": \"#F5F6F9\", \"font\": {\"color\": \"#4D5663\"}}, \"paper_bgcolor\": \"#F5F6F9\", \"plot_bgcolor\": \"#F5F6F9\", \"title\": \"Accident Severity by Geography\", \"titlefont\": {\"color\": \"#4D5663\"}, \"xaxis\": {\"gridcolor\": \"#E1E5ED\", \"showgrid\": true, \"tickfont\": {\"color\": \"#4D5663\"}, \"title\": \"% of Accident Severity\", \"titlefont\": {\"color\": \"#4D5663\"}, \"zerolinecolor\": \"#E1E5ED\"}, \"yaxis\": {\"gridcolor\": \"#E1E5ED\", \"showgrid\": true, \"tickfont\": {\"color\": \"#4D5663\"}, \"title\": \"Geography\", \"titlefont\": {\"color\": \"#4D5663\"}, \"zerolinecolor\": \"#E1E5ED\"}}, {\"showLink\": true, \"linkText\": \"Export to plot.ly\"})});</script>"
      ]
     },
     "metadata": {},
     "output_type": "display_data"
    }
   ],
   "source": [
    "geo_area_plt_per.iplot(kind='barh',title='Accident Severity by Geography',xTitle='% of Accident Severity',yTitle='Geography')"
   ]
  },
  {
   "cell_type": "code",
   "execution_count": 92,
   "metadata": {},
   "outputs": [
    {
     "data": {
      "application/vnd.plotly.v1+json": {
       "data": [
        {
         "marker": {
          "color": "rgba(255, 153, 51, 0.6)",
          "line": {
           "color": "rgba(255, 153, 51, 1.0)",
           "width": 1
          }
         },
         "name": "Fatal",
         "orientation": "h",
         "text": "",
         "type": "bar",
         "uid": "be6871da-82e7-11e9-9f0b-f45c8991f033",
         "visible": true,
         "x": [
          4165,
          2354
         ],
         "y": [
          "Rural",
          "Urban"
         ]
        },
        {
         "marker": {
          "color": "rgba(55, 128, 191, 0.6)",
          "line": {
           "color": "rgba(55, 128, 191, 1.0)",
           "width": 1
          }
         },
         "name": "Serious",
         "orientation": "h",
         "text": "",
         "type": "bar",
         "uid": "be68739c-82e7-11e9-b2ed-f45c8991f033",
         "visible": true,
         "x": [
          33546,
          47693
         ],
         "y": [
          "Rural",
          "Urban"
         ]
        },
        {
         "marker": {
          "color": "rgba(50, 171, 96, 0.6)",
          "line": {
           "color": "rgba(50, 171, 96, 1.0)",
           "width": 1
          }
         },
         "name": "Slight",
         "orientation": "h",
         "text": "",
         "type": "bar",
         "uid": "be68746e-82e7-11e9-8c24-f45c8991f033",
         "visible": true,
         "x": [
          159177,
          323674
         ],
         "y": [
          "Rural",
          "Urban"
         ]
        }
       ],
       "layout": {
        "autosize": true,
        "legend": {
         "bgcolor": "#F5F6F9",
         "font": {
          "color": "#4D5663"
         }
        },
        "paper_bgcolor": "#F5F6F9",
        "plot_bgcolor": "#F5F6F9",
        "title": "Accident Severity by Geography",
        "titlefont": {
         "color": "#4D5663"
        },
        "xaxis": {
         "autorange": true,
         "gridcolor": "#E1E5ED",
         "range": [
          0,
          340709.4736842105
         ],
         "showgrid": true,
         "tickfont": {
          "color": "#4D5663"
         },
         "title": "No. of Accidents",
         "titlefont": {
          "color": "#4D5663"
         },
         "type": "linear",
         "zerolinecolor": "#E1E5ED"
        },
        "yaxis": {
         "autorange": true,
         "gridcolor": "#E1E5ED",
         "range": [
          -0.5,
          1.5
         ],
         "showgrid": true,
         "tickfont": {
          "color": "#4D5663"
         },
         "title": "Geography",
         "titlefont": {
          "color": "#4D5663"
         },
         "type": "category",
         "zerolinecolor": "#E1E5ED"
        }
       }
      },
      "image/png": "[encoded data removed]",
      "text/html": [
       "<div id=\"dfe50a2f-a8f5-4270-9a92-7d52eb1cd021\" style=\"height: 525px; width: 100%;\" class=\"plotly-graph-div\"></div><script type=\"text/javascript\">require([\"plotly\"], function(Plotly) { window.PLOTLYENV=window.PLOTLYENV || {};window.PLOTLYENV.BASE_URL=\"https://plot.ly\";Plotly.newPlot(\"dfe50a2f-a8f5-4270-9a92-7d52eb1cd021\", [{\"marker\": {\"color\": \"rgba(255, 153, 51, 0.6)\", \"line\": {\"color\": \"rgba(255, 153, 51, 1.0)\", \"width\": 1}}, \"name\": \"Fatal\", \"orientation\": \"h\", \"text\": \"\", \"x\": [4165, 2354], \"y\": [\"Rural\", \"Urban\"], \"type\": \"bar\", \"uid\": \"be6c69d4-82e7-11e9-aae2-f45c8991f033\"}, {\"marker\": {\"color\": \"rgba(55, 128, 191, 0.6)\", \"line\": {\"color\": \"rgba(55, 128, 191, 1.0)\", \"width\": 1}}, \"name\": \"Serious\", \"orientation\": \"h\", \"text\": \"\", \"x\": [33546, 47693], \"y\": [\"Rural\", \"Urban\"], \"type\": \"bar\", \"uid\": \"be6c6b82-82e7-11e9-92a6-f45c8991f033\"}, {\"marker\": {\"color\": \"rgba(50, 171, 96, 0.6)\", \"line\": {\"color\": \"rgba(50, 171, 96, 1.0)\", \"width\": 1}}, \"name\": \"Slight\", \"orientation\": \"h\", \"text\": \"\", \"x\": [159177, 323674], \"y\": [\"Rural\", \"Urban\"], \"type\": \"bar\", \"uid\": \"be6c6c4a-82e7-11e9-b08f-f45c8991f033\"}], {\"legend\": {\"bgcolor\": \"#F5F6F9\", \"font\": {\"color\": \"#4D5663\"}}, \"paper_bgcolor\": \"#F5F6F9\", \"plot_bgcolor\": \"#F5F6F9\", \"title\": \"Accident Severity by Geography\", \"titlefont\": {\"color\": \"#4D5663\"}, \"xaxis\": {\"gridcolor\": \"#E1E5ED\", \"showgrid\": true, \"tickfont\": {\"color\": \"#4D5663\"}, \"title\": \"No. of Accidents\", \"titlefont\": {\"color\": \"#4D5663\"}, \"zerolinecolor\": \"#E1E5ED\"}, \"yaxis\": {\"gridcolor\": \"#E1E5ED\", \"showgrid\": true, \"tickfont\": {\"color\": \"#4D5663\"}, \"title\": \"Geography\", \"titlefont\": {\"color\": \"#4D5663\"}, \"zerolinecolor\": \"#E1E5ED\"}}, {\"showLink\": true, \"linkText\": \"Export to plot.ly\"})});</script>"
      ],
      "text/vnd.plotly.v1+html": [
       "<div id=\"dfe50a2f-a8f5-4270-9a92-7d52eb1cd021\" style=\"height: 525px; width: 100%;\" class=\"plotly-graph-div\"></div><script type=\"text/javascript\">require([\"plotly\"], function(Plotly) { window.PLOTLYENV=window.PLOTLYENV || {};window.PLOTLYENV.BASE_URL=\"https://plot.ly\";Plotly.newPlot(\"dfe50a2f-a8f5-4270-9a92-7d52eb1cd021\", [{\"marker\": {\"color\": \"rgba(255, 153, 51, 0.6)\", \"line\": {\"color\": \"rgba(255, 153, 51, 1.0)\", \"width\": 1}}, \"name\": \"Fatal\", \"orientation\": \"h\", \"text\": \"\", \"x\": [4165, 2354], \"y\": [\"Rural\", \"Urban\"], \"type\": \"bar\", \"uid\": \"be6c69d4-82e7-11e9-aae2-f45c8991f033\"}, {\"marker\": {\"color\": \"rgba(55, 128, 191, 0.6)\", \"line\": {\"color\": \"rgba(55, 128, 191, 1.0)\", \"width\": 1}}, \"name\": \"Serious\", \"orientation\": \"h\", \"text\": \"\", \"x\": [33546, 47693], \"y\": [\"Rural\", \"Urban\"], \"type\": \"bar\", \"uid\": \"be6c6b82-82e7-11e9-92a6-f45c8991f033\"}, {\"marker\": {\"color\": \"rgba(50, 171, 96, 0.6)\", \"line\": {\"color\": \"rgba(50, 171, 96, 1.0)\", \"width\": 1}}, \"name\": \"Slight\", \"orientation\": \"h\", \"text\": \"\", \"x\": [159177, 323674], \"y\": [\"Rural\", \"Urban\"], \"type\": \"bar\", \"uid\": \"be6c6c4a-82e7-11e9-b08f-f45c8991f033\"}], {\"legend\": {\"bgcolor\": \"#F5F6F9\", \"font\": {\"color\": \"#4D5663\"}}, \"paper_bgcolor\": \"#F5F6F9\", \"plot_bgcolor\": \"#F5F6F9\", \"title\": \"Accident Severity by Geography\", \"titlefont\": {\"color\": \"#4D5663\"}, \"xaxis\": {\"gridcolor\": \"#E1E5ED\", \"showgrid\": true, \"tickfont\": {\"color\": \"#4D5663\"}, \"title\": \"No. of Accidents\", \"titlefont\": {\"color\": \"#4D5663\"}, \"zerolinecolor\": \"#E1E5ED\"}, \"yaxis\": {\"gridcolor\": \"#E1E5ED\", \"showgrid\": true, \"tickfont\": {\"color\": \"#4D5663\"}, \"title\": \"Geography\", \"titlefont\": {\"color\": \"#4D5663\"}, \"zerolinecolor\": \"#E1E5ED\"}}, {\"showLink\": true, \"linkText\": \"Export to plot.ly\"})});</script>"
      ]
     },
     "metadata": {},
     "output_type": "display_data"
    }
   ],
   "source": [
    "geo_area_plt.iplot(kind='barh',title='Accident Severity by Geography',xTitle='No. of Accidents',yTitle='Geography')"
   ]
  }
 ],
 "metadata": {
  "kernelspec": {
   "display_name": "Python 3",
   "language": "python",
   "name": "python3"
  },
  "language_info": {
   "codemirror_mode": {
    "name": "ipython",
    "version": 3
   },
   "file_extension": ".py",
   "mimetype": "text/x-python",
   "name": "python",
   "nbconvert_exporter": "python",
   "pygments_lexer": "ipython3",
   "version": "3.6.4"
  }
 },
 "nbformat": 4,
 "nbformat_minor": 2
}
