{
 "cells": [
  {
   "cell_type": "markdown",
   "metadata": {
    "slideshow": {
     "slide_type": "-"
    }
   },
   "source": [
    "# UK Data Analysis Exercise"
   ]
  },
  {
   "cell_type": "markdown",
   "metadata": {},
   "source": [
    "## Summary:\n",
    "\n",
    "##### Purpose is to explore and analyse the no. Accidents in the UK from 2012 - 2015 where we:\n",
    "<p> \n",
    "- Assess which speed limit causes highest no. of accidents <br>\n",
    "- Look at Seasonal movements by Hour, Day, Month, Year <br>\n",
    "- Add in external factors such as Road Types and Light Conditions <br>\n",
    "- Compare Rural and Urban Areas <br> \n",
    "\n",
    "</p>\n",
    "\n",
    "\n"
   ]
  },
  {
   "cell_type": "markdown",
   "metadata": {},
   "source": [
    "### Questions: \n",
    "<p>\n",
    "- What Speed Limit Causes the Most Accidents? <br>\n",
    "- What is the Most Dangerous Time to Drive? <br>\n",
    "- What Year, Month Has the Highest Amount of Accidents? <br>\n",
    "- What Days of the week has more serious accidents? <br>\n",
    "- What Road and Light Conditions influence accidents? <br>\n",
    "- Are Fatal Accidents more common in Rural or Urban Areas? <br>\n",
    "    \n",
    "</p>"
   ]
  },
  {
   "cell_type": "markdown",
   "metadata": {},
   "source": [
    "### Import Modules:"
   ]
  },
  {
   "cell_type": "code",
   "execution_count": 1,
   "metadata": {
    "scrolled": false
   },
   "outputs": [
    {
     "data": {
      "text/html": [
       "<script>requirejs.config({paths: { 'plotly': ['https://cdn.plot.ly/plotly-latest.min']},});if(!window.Plotly) {{require(['plotly'],function(plotly) {window.Plotly=plotly;});}}</script>"
      ],
      "text/vnd.plotly.v1+html": [
       "<script>requirejs.config({paths: { 'plotly': ['https://cdn.plot.ly/plotly-latest.min']},});if(!window.Plotly) {{require(['plotly'],function(plotly) {window.Plotly=plotly;});}}</script>"
      ]
     },
     "metadata": {},
     "output_type": "display_data"
    }
   ],
   "source": [
    "import pandas as pd\n",
    "import os\n",
    "from datetime import datetime\n",
    "import matplotlib.pyplot as plt\n",
    "import seaborn as sns\n",
    "import cufflinks as cf\n",
    "from plotly.offline import iplot\n",
    "from ipywidgets import IntSlider\n",
    "\n",
    "cf.go_offline()\n",
    "sns.set(style='darkgrid')\n",
    "sns.set_palette('colorblind')"
   ]
  },
  {
   "cell_type": "code",
   "execution_count": 2,
   "metadata": {},
   "outputs": [
    {
     "data": {
      "application/vnd.jupyter.widget-view+json": {
       "model_id": "8a040996b8e240b5b56ddc223968bdf5",
       "version_major": 2,
       "version_minor": 0
      },
      "text/plain": [
       "IntSlider(value=50)"
      ]
     },
     "metadata": {},
     "output_type": "display_data"
    }
   ],
   "source": [
    "slider = IntSlider(value=50)\n",
    "slider"
   ]
  },
  {
   "cell_type": "markdown",
   "metadata": {},
   "source": [
    "### Convert Excel to CSV reduce workload:"
   ]
  },
  {
   "cell_type": "code",
   "execution_count": 3,
   "metadata": {},
   "outputs": [],
   "source": [
    "#ukdata = pd.read_excel(r'/Users/danhosanee/Downloads/Dataset.xlsx')"
   ]
  },
  {
   "cell_type": "code",
   "execution_count": 4,
   "metadata": {
    "scrolled": false
   },
   "outputs": [],
   "source": [
    "#ukdata.to_csv('ukdata.csv', encoding='utf-8', index=False)"
   ]
  },
  {
   "cell_type": "markdown",
   "metadata": {},
   "source": [
    "### Set Directory for Dict Folder"
   ]
  },
  {
   "cell_type": "code",
   "execution_count": 5,
   "metadata": {
    "scrolled": false
   },
   "outputs": [],
   "source": [
    "#Set current dir to dic data folder\n",
    "os.chdir('/Users/danhosanee/Downloads/contextCSVs (accidents)')"
   ]
  },
  {
   "cell_type": "code",
   "execution_count": 6,
   "metadata": {
    "scrolled": false
   },
   "outputs": [],
   "source": [
    "ukData = pd.read_csv('ukdata.csv')"
   ]
  },
  {
   "cell_type": "markdown",
   "metadata": {},
   "source": [
    "### Check the Data"
   ]
  },
  {
   "cell_type": "code",
   "execution_count": 7,
   "metadata": {
    "scrolled": false
   },
   "outputs": [
    {
     "name": "stdout",
     "output_type": "stream",
     "text": [
      "<class 'pandas.core.frame.DataFrame'>\n",
      "RangeIndex: 570609 entries, 0 to 570608\n",
      "Data columns (total 28 columns):\n",
      "ID                                             570609 non-null int64\n",
      "Location_Easting_OSGR                          570582 non-null float64\n",
      "Location_Northing_OSGR                         570582 non-null float64\n",
      "Longitude                                      570582 non-null float64\n",
      "Latitude                                       570582 non-null float64\n",
      "Police_Force                                   570609 non-null int64\n",
      "Accident_Severity                              570609 non-null int64\n",
      "Number_of_Vehicles                             570609 non-null int64\n",
      "Number_of_Casualties                           570609 non-null int64\n",
      "Date                                           570609 non-null object\n",
      "Day_of_Week                                    570609 non-null int64\n",
      "Time                                           570578 non-null object\n",
      "Local_Authority_(District)                     570609 non-null int64\n",
      "Local_Authority_(Highway)                      570609 non-null object\n",
      "1st_Road_Class                                 570609 non-null int64\n",
      "1st_Road_Number                                570609 non-null int64\n",
      "Road_Type                                      570609 non-null int64\n",
      "Speed_limit                                    570609 non-null int64\n",
      "Junction_Detail                                570609 non-null int64\n",
      "Junction_Control                               570609 non-null int64\n",
      "2nd_Road_Class                                 570609 non-null int64\n",
      "2nd_Road_Number                                570609 non-null int64\n",
      "Pedestrian_Crossing-Human_Control              570609 non-null int64\n",
      "Pedestrian_Crossing-Physical_Facilities        570609 non-null int64\n",
      "Light_Conditions                               570609 non-null int64\n",
      "Urban_or_Rural_Area                            570609 non-null int64\n",
      "Did_Police_Officer_Attend_Scene_of_Accident    570609 non-null int64\n",
      "LSOA_of_Accident_Location                      532994 non-null object\n",
      "dtypes: float64(4), int64(20), object(4)\n",
      "memory usage: 121.9+ MB\n"
     ]
    }
   ],
   "source": [
    "ukData.info()"
   ]
  },
  {
   "cell_type": "markdown",
   "metadata": {},
   "source": [
    "### Add Data Dictionary for Accident Severity to the DF"
   ]
  },
  {
   "cell_type": "code",
   "execution_count": 8,
   "metadata": {
    "scrolled": false
   },
   "outputs": [
    {
     "data": {
      "text/html": [
       "<div>\n",
       "<style scoped>\n",
       "    .dataframe tbody tr th:only-of-type {\n",
       "        vertical-align: middle;\n",
       "    }\n",
       "\n",
       "    .dataframe tbody tr th {\n",
       "        vertical-align: top;\n",
       "    }\n",
       "\n",
       "    .dataframe thead th {\n",
       "        text-align: right;\n",
       "    }\n",
       "</style>\n",
       "<table border=\"1\" class=\"dataframe\">\n",
       "  <thead>\n",
       "    <tr style=\"text-align: right;\">\n",
       "      <th></th>\n",
       "      <th>ID</th>\n",
       "      <th>Location_Easting_OSGR</th>\n",
       "      <th>Location_Northing_OSGR</th>\n",
       "      <th>Longitude</th>\n",
       "      <th>Latitude</th>\n",
       "      <th>Police_Force</th>\n",
       "      <th>Accident_Severity</th>\n",
       "      <th>Number_of_Vehicles</th>\n",
       "      <th>Number_of_Casualties</th>\n",
       "      <th>Date</th>\n",
       "      <th>...</th>\n",
       "      <th>2nd_Road_Class</th>\n",
       "      <th>2nd_Road_Number</th>\n",
       "      <th>Pedestrian_Crossing-Human_Control</th>\n",
       "      <th>Pedestrian_Crossing-Physical_Facilities</th>\n",
       "      <th>Light_Conditions</th>\n",
       "      <th>Urban_or_Rural_Area</th>\n",
       "      <th>Did_Police_Officer_Attend_Scene_of_Accident</th>\n",
       "      <th>LSOA_of_Accident_Location</th>\n",
       "      <th>code</th>\n",
       "      <th>Accident_Severity_Label</th>\n",
       "    </tr>\n",
       "  </thead>\n",
       "  <tbody>\n",
       "    <tr>\n",
       "      <th>24128</th>\n",
       "      <td>24129</td>\n",
       "      <td>304920.0</td>\n",
       "      <td>518860.0</td>\n",
       "      <td>-3.471719</td>\n",
       "      <td>54.556031</td>\n",
       "      <td>3</td>\n",
       "      <td>3</td>\n",
       "      <td>3</td>\n",
       "      <td>1</td>\n",
       "      <td>2012-01-10</td>\n",
       "      <td>...</td>\n",
       "      <td>-1</td>\n",
       "      <td>0</td>\n",
       "      <td>0</td>\n",
       "      <td>0</td>\n",
       "      <td>1</td>\n",
       "      <td>2</td>\n",
       "      <td>1</td>\n",
       "      <td>E01019256</td>\n",
       "      <td>3</td>\n",
       "      <td>Slight</td>\n",
       "    </tr>\n",
       "    <tr>\n",
       "      <th>129548</th>\n",
       "      <td>129549</td>\n",
       "      <td>367310.0</td>\n",
       "      <td>101470.0</td>\n",
       "      <td>-2.465381</td>\n",
       "      <td>50.811787</td>\n",
       "      <td>55</td>\n",
       "      <td>3</td>\n",
       "      <td>2</td>\n",
       "      <td>1</td>\n",
       "      <td>2012-08-15</td>\n",
       "      <td>...</td>\n",
       "      <td>-1</td>\n",
       "      <td>0</td>\n",
       "      <td>0</td>\n",
       "      <td>0</td>\n",
       "      <td>1</td>\n",
       "      <td>2</td>\n",
       "      <td>1</td>\n",
       "      <td>E01020509</td>\n",
       "      <td>3</td>\n",
       "      <td>Slight</td>\n",
       "    </tr>\n",
       "    <tr>\n",
       "      <th>503160</th>\n",
       "      <td>503161</td>\n",
       "      <td>457061.0</td>\n",
       "      <td>338994.0</td>\n",
       "      <td>-1.152280</td>\n",
       "      <td>52.945308</td>\n",
       "      <td>31</td>\n",
       "      <td>3</td>\n",
       "      <td>2</td>\n",
       "      <td>1</td>\n",
       "      <td>2015-07-11</td>\n",
       "      <td>...</td>\n",
       "      <td>6</td>\n",
       "      <td>0</td>\n",
       "      <td>0</td>\n",
       "      <td>5</td>\n",
       "      <td>1</td>\n",
       "      <td>1</td>\n",
       "      <td>1</td>\n",
       "      <td>E01013871</td>\n",
       "      <td>3</td>\n",
       "      <td>Slight</td>\n",
       "    </tr>\n",
       "    <tr>\n",
       "      <th>543732</th>\n",
       "      <td>543733</td>\n",
       "      <td>518873.0</td>\n",
       "      <td>133399.0</td>\n",
       "      <td>-0.304096</td>\n",
       "      <td>51.087598</td>\n",
       "      <td>47</td>\n",
       "      <td>2</td>\n",
       "      <td>2</td>\n",
       "      <td>1</td>\n",
       "      <td>2015-08-07</td>\n",
       "      <td>...</td>\n",
       "      <td>6</td>\n",
       "      <td>0</td>\n",
       "      <td>0</td>\n",
       "      <td>0</td>\n",
       "      <td>1</td>\n",
       "      <td>2</td>\n",
       "      <td>1</td>\n",
       "      <td>E01031646</td>\n",
       "      <td>2</td>\n",
       "      <td>Serious</td>\n",
       "    </tr>\n",
       "    <tr>\n",
       "      <th>206612</th>\n",
       "      <td>206613</td>\n",
       "      <td>425760.0</td>\n",
       "      <td>323175.0</td>\n",
       "      <td>-1.619323</td>\n",
       "      <td>52.805494</td>\n",
       "      <td>21</td>\n",
       "      <td>3</td>\n",
       "      <td>2</td>\n",
       "      <td>1</td>\n",
       "      <td>2013-05-18</td>\n",
       "      <td>...</td>\n",
       "      <td>3</td>\n",
       "      <td>511</td>\n",
       "      <td>0</td>\n",
       "      <td>4</td>\n",
       "      <td>1</td>\n",
       "      <td>2</td>\n",
       "      <td>2</td>\n",
       "      <td>E01029471</td>\n",
       "      <td>3</td>\n",
       "      <td>Slight</td>\n",
       "    </tr>\n",
       "  </tbody>\n",
       "</table>\n",
       "<p>5 rows × 30 columns</p>\n",
       "</div>"
      ],
      "text/plain": [
       "            ID  Location_Easting_OSGR  Location_Northing_OSGR  Longitude  \\\n",
       "24128    24129               304920.0                518860.0  -3.471719   \n",
       "129548  129549               367310.0                101470.0  -2.465381   \n",
       "503160  503161               457061.0                338994.0  -1.152280   \n",
       "543732  543733               518873.0                133399.0  -0.304096   \n",
       "206612  206613               425760.0                323175.0  -1.619323   \n",
       "\n",
       "         Latitude  Police_Force  Accident_Severity  Number_of_Vehicles  \\\n",
       "24128   54.556031             3                  3                   3   \n",
       "129548  50.811787            55                  3                   2   \n",
       "503160  52.945308            31                  3                   2   \n",
       "543732  51.087598            47                  2                   2   \n",
       "206612  52.805494            21                  3                   2   \n",
       "\n",
       "        Number_of_Casualties        Date           ...             \\\n",
       "24128                      1  2012-01-10           ...              \n",
       "129548                     1  2012-08-15           ...              \n",
       "503160                     1  2015-07-11           ...              \n",
       "543732                     1  2015-08-07           ...              \n",
       "206612                     1  2013-05-18           ...              \n",
       "\n",
       "        2nd_Road_Class 2nd_Road_Number  Pedestrian_Crossing-Human_Control  \\\n",
       "24128               -1               0                                  0   \n",
       "129548              -1               0                                  0   \n",
       "503160               6               0                                  0   \n",
       "543732               6               0                                  0   \n",
       "206612               3             511                                  0   \n",
       "\n",
       "       Pedestrian_Crossing-Physical_Facilities  Light_Conditions  \\\n",
       "24128                                        0                 1   \n",
       "129548                                       0                 1   \n",
       "503160                                       5                 1   \n",
       "543732                                       0                 1   \n",
       "206612                                       4                 1   \n",
       "\n",
       "        Urban_or_Rural_Area  Did_Police_Officer_Attend_Scene_of_Accident  \\\n",
       "24128                     2                                            1   \n",
       "129548                    2                                            1   \n",
       "503160                    1                                            1   \n",
       "543732                    2                                            1   \n",
       "206612                    2                                            2   \n",
       "\n",
       "        LSOA_of_Accident_Location  code  Accident_Severity_Label  \n",
       "24128                   E01019256     3                   Slight  \n",
       "129548                  E01020509     3                   Slight  \n",
       "503160                  E01013871     3                   Slight  \n",
       "543732                  E01031646     2                  Serious  \n",
       "206612                  E01029471     3                   Slight  \n",
       "\n",
       "[5 rows x 30 columns]"
      ]
     },
     "execution_count": 8,
     "metadata": {},
     "output_type": "execute_result"
    }
   ],
   "source": [
    "#Severity of Accident Caterogies\n",
    "accsev_dic = pd.read_csv('Accident_Severity.csv')\n",
    "\n",
    "#Merge accsev to UkData\n",
    "ukData = ukData.merge(accsev_dic , how ='left', left_on=['Accident_Severity'], right_on=['code'])\n",
    "\n",
    "#Rename label Column \n",
    "ukData = ukData.rename(columns={'label':'Accident_Severity_Label'})\n",
    "\n",
    "#Test\n",
    "ukData.sample(5)"
   ]
  },
  {
   "cell_type": "markdown",
   "metadata": {},
   "source": [
    "## Speed Limit\n"
   ]
  },
  {
   "cell_type": "code",
   "execution_count": 9,
   "metadata": {
    "scrolled": false
   },
   "outputs": [
    {
     "data": {
      "text/html": [
       "<style  type=\"text/css\" >\n",
       "    #T_734bcd80_8834_11e9_9cf5_f45c8991f033row8_col0 {\n",
       "            background-color:  lightblue;\n",
       "        }    #T_734bcd80_8834_11e9_9cf5_f45c8991f033row8_col1 {\n",
       "            background-color:  lightblue;\n",
       "        }    #T_734bcd80_8834_11e9_9cf5_f45c8991f033row8_col2 {\n",
       "            background-color:  lightblue;\n",
       "        }    #T_734bcd80_8834_11e9_9cf5_f45c8991f033row8_col3 {\n",
       "            background-color:  lightblue;\n",
       "        }</style>  \n",
       "<table id=\"T_734bcd80_8834_11e9_9cf5_f45c8991f033\" > \n",
       "<thead>    <tr> \n",
       "        <th class=\"index_name level0\" >Accident_Severity_Label</th> \n",
       "        <th class=\"col_heading level0 col0\" >Fatal</th> \n",
       "        <th class=\"col_heading level0 col1\" >Serious</th> \n",
       "        <th class=\"col_heading level0 col2\" >Slight</th> \n",
       "        <th class=\"col_heading level0 col3\" >Total</th> \n",
       "    </tr>    <tr> \n",
       "        <th class=\"index_name level0\" >Speed_limit</th> \n",
       "        <th class=\"blank\" ></th> \n",
       "        <th class=\"blank\" ></th> \n",
       "        <th class=\"blank\" ></th> \n",
       "        <th class=\"blank\" ></th> \n",
       "    </tr></thead> \n",
       "<tbody>    <tr> \n",
       "        <th id=\"T_734bcd80_8834_11e9_9cf5_f45c8991f033level0_row0\" class=\"row_heading level0 row0\" >0</th> \n",
       "        <td id=\"T_734bcd80_8834_11e9_9cf5_f45c8991f033row0_col0\" class=\"data row0 col0\" >0</td> \n",
       "        <td id=\"T_734bcd80_8834_11e9_9cf5_f45c8991f033row0_col1\" class=\"data row0 col1\" >0</td> \n",
       "        <td id=\"T_734bcd80_8834_11e9_9cf5_f45c8991f033row0_col2\" class=\"data row0 col2\" >1</td> \n",
       "        <td id=\"T_734bcd80_8834_11e9_9cf5_f45c8991f033row0_col3\" class=\"data row0 col3\" >1</td> \n",
       "    </tr>    <tr> \n",
       "        <th id=\"T_734bcd80_8834_11e9_9cf5_f45c8991f033level0_row1\" class=\"row_heading level0 row1\" >10</th> \n",
       "        <td id=\"T_734bcd80_8834_11e9_9cf5_f45c8991f033row1_col0\" class=\"data row1 col0\" >0</td> \n",
       "        <td id=\"T_734bcd80_8834_11e9_9cf5_f45c8991f033row1_col1\" class=\"data row1 col1\" >0</td> \n",
       "        <td id=\"T_734bcd80_8834_11e9_9cf5_f45c8991f033row1_col2\" class=\"data row1 col2\" >3</td> \n",
       "        <td id=\"T_734bcd80_8834_11e9_9cf5_f45c8991f033row1_col3\" class=\"data row1 col3\" >3</td> \n",
       "    </tr>    <tr> \n",
       "        <th id=\"T_734bcd80_8834_11e9_9cf5_f45c8991f033level0_row2\" class=\"row_heading level0 row2\" >20</th> \n",
       "        <td id=\"T_734bcd80_8834_11e9_9cf5_f45c8991f033row2_col0\" class=\"data row2 col0\" >55</td> \n",
       "        <td id=\"T_734bcd80_8834_11e9_9cf5_f45c8991f033row2_col1\" class=\"data row2 col1\" >1890</td> \n",
       "        <td id=\"T_734bcd80_8834_11e9_9cf5_f45c8991f033row2_col2\" class=\"data row2 col2\" >10674</td> \n",
       "        <td id=\"T_734bcd80_8834_11e9_9cf5_f45c8991f033row2_col3\" class=\"data row2 col3\" >12619</td> \n",
       "    </tr>    <tr> \n",
       "        <th id=\"T_734bcd80_8834_11e9_9cf5_f45c8991f033level0_row3\" class=\"row_heading level0 row3\" >30</th> \n",
       "        <td id=\"T_734bcd80_8834_11e9_9cf5_f45c8991f033row3_col0\" class=\"data row3 col0\" >2214</td> \n",
       "        <td id=\"T_734bcd80_8834_11e9_9cf5_f45c8991f033row3_col1\" class=\"data row3 col1\" >47701</td> \n",
       "        <td id=\"T_734bcd80_8834_11e9_9cf5_f45c8991f033row3_col2\" class=\"data row3 col2\" >319183</td> \n",
       "        <td id=\"T_734bcd80_8834_11e9_9cf5_f45c8991f033row3_col3\" class=\"data row3 col3\" >369098</td> \n",
       "    </tr>    <tr> \n",
       "        <th id=\"T_734bcd80_8834_11e9_9cf5_f45c8991f033level0_row4\" class=\"row_heading level0 row4\" >40</th> \n",
       "        <td id=\"T_734bcd80_8834_11e9_9cf5_f45c8991f033row4_col0\" class=\"data row4 col0\" >636</td> \n",
       "        <td id=\"T_734bcd80_8834_11e9_9cf5_f45c8991f033row4_col1\" class=\"data row4 col1\" >7071</td> \n",
       "        <td id=\"T_734bcd80_8834_11e9_9cf5_f45c8991f033row4_col2\" class=\"data row4 col2\" >39518</td> \n",
       "        <td id=\"T_734bcd80_8834_11e9_9cf5_f45c8991f033row4_col3\" class=\"data row4 col3\" >47225</td> \n",
       "    </tr>    <tr> \n",
       "        <th id=\"T_734bcd80_8834_11e9_9cf5_f45c8991f033level0_row5\" class=\"row_heading level0 row5\" >50</th> \n",
       "        <td id=\"T_734bcd80_8834_11e9_9cf5_f45c8991f033row5_col0\" class=\"data row5 col0\" >448</td> \n",
       "        <td id=\"T_734bcd80_8834_11e9_9cf5_f45c8991f033row5_col1\" class=\"data row5 col1\" >3459</td> \n",
       "        <td id=\"T_734bcd80_8834_11e9_9cf5_f45c8991f033row5_col2\" class=\"data row5 col2\" >18075</td> \n",
       "        <td id=\"T_734bcd80_8834_11e9_9cf5_f45c8991f033row5_col3\" class=\"data row5 col3\" >21982</td> \n",
       "    </tr>    <tr> \n",
       "        <th id=\"T_734bcd80_8834_11e9_9cf5_f45c8991f033level0_row6\" class=\"row_heading level0 row6\" >60</th> \n",
       "        <td id=\"T_734bcd80_8834_11e9_9cf5_f45c8991f033row6_col0\" class=\"data row6 col0\" >2361</td> \n",
       "        <td id=\"T_734bcd80_8834_11e9_9cf5_f45c8991f033row6_col1\" class=\"data row6 col1\" >16193</td> \n",
       "        <td id=\"T_734bcd80_8834_11e9_9cf5_f45c8991f033row6_col2\" class=\"data row6 col2\" >61705</td> \n",
       "        <td id=\"T_734bcd80_8834_11e9_9cf5_f45c8991f033row6_col3\" class=\"data row6 col3\" >80259</td> \n",
       "    </tr>    <tr> \n",
       "        <th id=\"T_734bcd80_8834_11e9_9cf5_f45c8991f033level0_row7\" class=\"row_heading level0 row7\" >70</th> \n",
       "        <td id=\"T_734bcd80_8834_11e9_9cf5_f45c8991f033row7_col0\" class=\"data row7 col0\" >805</td> \n",
       "        <td id=\"T_734bcd80_8834_11e9_9cf5_f45c8991f033row7_col1\" class=\"data row7 col1\" >4925</td> \n",
       "        <td id=\"T_734bcd80_8834_11e9_9cf5_f45c8991f033row7_col2\" class=\"data row7 col2\" >33692</td> \n",
       "        <td id=\"T_734bcd80_8834_11e9_9cf5_f45c8991f033row7_col3\" class=\"data row7 col3\" >39422</td> \n",
       "    </tr>    <tr> \n",
       "        <th id=\"T_734bcd80_8834_11e9_9cf5_f45c8991f033level0_row8\" class=\"row_heading level0 row8\" >Total</th> \n",
       "        <td id=\"T_734bcd80_8834_11e9_9cf5_f45c8991f033row8_col0\" class=\"data row8 col0\" >6519</td> \n",
       "        <td id=\"T_734bcd80_8834_11e9_9cf5_f45c8991f033row8_col1\" class=\"data row8 col1\" >81239</td> \n",
       "        <td id=\"T_734bcd80_8834_11e9_9cf5_f45c8991f033row8_col2\" class=\"data row8 col2\" >482851</td> \n",
       "        <td id=\"T_734bcd80_8834_11e9_9cf5_f45c8991f033row8_col3\" class=\"data row8 col3\" >570609</td> \n",
       "    </tr></tbody> \n",
       "</table> "
      ],
      "text/plain": [
       "<pandas.io.formats.style.Styler at 0x1a11d37cf8>"
      ]
     },
     "execution_count": 9,
     "metadata": {},
     "output_type": "execute_result"
    }
   ],
   "source": [
    "#Create a Grouped DF comparing Speed Limit against Accident_Severity_Label\n",
    "speed_gp = pd.crosstab(ukData.Speed_limit,ukData.Accident_Severity_Label, margins=True, margins_name='Total')\n",
    "\n",
    "#Avg Accidents that occur at the differnet speed Limits\n",
    "speed_gp_avg = pd.crosstab(ukData.Speed_limit,ukData.Accident_Severity_Label).mean(axis=1)\n",
    "\n",
    "#Highlight Max Values\n",
    "speed_gp.style.highlight_max(color='lightblue')"
   ]
  },
  {
   "cell_type": "code",
   "execution_count": 10,
   "metadata": {
    "scrolled": false
   },
   "outputs": [
    {
     "name": "stdout",
     "output_type": "stream",
     "text": [
      "% of Accidents at Speed Limits\n"
     ]
    },
    {
     "data": {
      "text/plain": [
       "30    0.65\n",
       "60    0.14\n",
       "40    0.08\n",
       "70    0.07\n",
       "50    0.04\n",
       "20    0.02\n",
       "10    0.00\n",
       "0     0.00\n",
       "Name: Speed_limit, dtype: float64"
      ]
     },
     "execution_count": 10,
     "metadata": {},
     "output_type": "execute_result"
    }
   ],
   "source": [
    "print(\"% of Accidents at Speed Limits\")\n",
    "ukData.Speed_limit.value_counts(normalize=True).round(2)"
   ]
  },
  {
   "cell_type": "code",
   "execution_count": 11,
   "metadata": {
    "scrolled": false,
    "slideshow": {
     "slide_type": "-"
    }
   },
   "outputs": [
    {
     "data": {
      "application/vnd.plotly.v1+json": {
       "data": [
        {
         "line": {
          "color": "rgba(255, 153, 51, 1.0)",
          "dash": "solid",
          "shape": "linear",
          "width": 1.3
         },
         "mode": "lines",
         "name": "Fatal",
         "text": "",
         "type": "scatter",
         "uid": "738556e2-8834-11e9-8b2f-f45c8991f033",
         "x": [
          0,
          10,
          20,
          30,
          40,
          50,
          60,
          70,
          "Total"
         ],
         "y": [
          0,
          0,
          55,
          2214,
          636,
          448,
          2361,
          805,
          6519
         ]
        },
        {
         "line": {
          "color": "rgba(55, 128, 191, 1.0)",
          "dash": "solid",
          "shape": "linear",
          "width": 1.3
         },
         "mode": "lines",
         "name": "Serious",
         "text": "",
         "type": "scatter",
         "uid": "73855b22-8834-11e9-8b80-f45c8991f033",
         "x": [
          0,
          10,
          20,
          30,
          40,
          50,
          60,
          70,
          "Total"
         ],
         "y": [
          0,
          0,
          1890,
          47701,
          7071,
          3459,
          16193,
          4925,
          81239
         ]
        },
        {
         "line": {
          "color": "rgba(50, 171, 96, 1.0)",
          "dash": "solid",
          "shape": "linear",
          "width": 1.3
         },
         "mode": "lines",
         "name": "Slight",
         "text": "",
         "type": "scatter",
         "uid": "73855be2-8834-11e9-9936-f45c8991f033",
         "x": [
          0,
          10,
          20,
          30,
          40,
          50,
          60,
          70,
          "Total"
         ],
         "y": [
          1,
          3,
          10674,
          319183,
          39518,
          18075,
          61705,
          33692,
          482851
         ]
        },
        {
         "line": {
          "color": "rgba(128, 0, 128, 1.0)",
          "dash": "solid",
          "shape": "linear",
          "width": 1.3
         },
         "mode": "lines",
         "name": "Total",
         "text": "",
         "type": "scatter",
         "uid": "73855c76-8834-11e9-aaad-f45c8991f033",
         "x": [
          0,
          10,
          20,
          30,
          40,
          50,
          60,
          70,
          "Total"
         ],
         "y": [
          1,
          3,
          12619,
          369098,
          47225,
          21982,
          80259,
          39422,
          570609
         ]
        }
       ],
       "layout": {
        "autosize": true,
        "legend": {
         "bgcolor": "#F5F6F9",
         "font": {
          "color": "#4D5663"
         }
        },
        "paper_bgcolor": "#F5F6F9",
        "plot_bgcolor": "#F5F6F9",
        "title": "Accident Severity at Speed Limit",
        "titlefont": {
         "color": "#4D5663"
        },
        "xaxis": {
         "autorange": true,
         "gridcolor": "#E1E5ED",
         "range": [
          0,
          70
         ],
         "showgrid": true,
         "tickfont": {
          "color": "#4D5663"
         },
         "title": "Speed limit",
         "titlefont": {
          "color": "#4D5663"
         },
         "type": "linear",
         "zerolinecolor": "#E1E5ED"
        },
        "yaxis": {
         "autorange": true,
         "gridcolor": "#E1E5ED",
         "range": [
          -31700.5,
          602309.5
         ],
         "showgrid": true,
         "tickfont": {
          "color": "#4D5663"
         },
         "title": "No. of Accidents",
         "titlefont": {
          "color": "#4D5663"
         },
         "type": "linear",
         "zerolinecolor": "#E1E5ED"
        }
       }
      },
      "image/png": "[encoded data removed]",
      "text/html": [
       "<div id=\"25cb645a-0d92-46e9-9f1a-fd731ba24240\" style=\"height: 525px; width: 100%;\" class=\"plotly-graph-div\"></div><script type=\"text/javascript\">require([\"plotly\"], function(Plotly) { window.PLOTLYENV=window.PLOTLYENV || {};window.PLOTLYENV.BASE_URL=\"https://plot.ly\";Plotly.newPlot(\"25cb645a-0d92-46e9-9f1a-fd731ba24240\", [{\"line\": {\"color\": \"rgba(255, 153, 51, 1.0)\", \"dash\": \"solid\", \"shape\": \"linear\", \"width\": 1.3}, \"mode\": \"lines\", \"name\": \"Fatal\", \"text\": \"\", \"x\": [0, 10, 20, 30, 40, 50, 60, 70, \"Total\"], \"y\": [0, 0, 55, 2214, 636, 448, 2361, 805, 6519], \"type\": \"scatter\", \"uid\": \"73ca8300-8834-11e9-9726-f45c8991f033\"}, {\"line\": {\"color\": \"rgba(55, 128, 191, 1.0)\", \"dash\": \"solid\", \"shape\": \"linear\", \"width\": 1.3}, \"mode\": \"lines\", \"name\": \"Serious\", \"text\": \"\", \"x\": [0, 10, 20, 30, 40, 50, 60, 70, \"Total\"], \"y\": [0, 0, 1890, 47701, 7071, 3459, 16193, 4925, 81239], \"type\": \"scatter\", \"uid\": \"73ca8486-8834-11e9-b560-f45c8991f033\"}, {\"line\": {\"color\": \"rgba(50, 171, 96, 1.0)\", \"dash\": \"solid\", \"shape\": \"linear\", \"width\": 1.3}, \"mode\": \"lines\", \"name\": \"Slight\", \"text\": \"\", \"x\": [0, 10, 20, 30, 40, 50, 60, 70, \"Total\"], \"y\": [1, 3, 10674, 319183, 39518, 18075, 61705, 33692, 482851], \"type\": \"scatter\", \"uid\": \"73ca8530-8834-11e9-b405-f45c8991f033\"}, {\"line\": {\"color\": \"rgba(128, 0, 128, 1.0)\", \"dash\": \"solid\", \"shape\": \"linear\", \"width\": 1.3}, \"mode\": \"lines\", \"name\": \"Total\", \"text\": \"\", \"x\": [0, 10, 20, 30, 40, 50, 60, 70, \"Total\"], \"y\": [1, 3, 12619, 369098, 47225, 21982, 80259, 39422, 570609], \"type\": \"scatter\", \"uid\": \"73ca85c6-8834-11e9-bcb8-f45c8991f033\"}], {\"legend\": {\"bgcolor\": \"#F5F6F9\", \"font\": {\"color\": \"#4D5663\"}}, \"paper_bgcolor\": \"#F5F6F9\", \"plot_bgcolor\": \"#F5F6F9\", \"title\": \"Accident Severity at Speed Limit\", \"titlefont\": {\"color\": \"#4D5663\"}, \"xaxis\": {\"gridcolor\": \"#E1E5ED\", \"showgrid\": true, \"tickfont\": {\"color\": \"#4D5663\"}, \"title\": \"Speed limit\", \"titlefont\": {\"color\": \"#4D5663\"}, \"zerolinecolor\": \"#E1E5ED\"}, \"yaxis\": {\"gridcolor\": \"#E1E5ED\", \"showgrid\": true, \"tickfont\": {\"color\": \"#4D5663\"}, \"title\": \"No. of Accidents\", \"titlefont\": {\"color\": \"#4D5663\"}, \"zerolinecolor\": \"#E1E5ED\"}}, {\"showLink\": true, \"linkText\": \"Export to plot.ly\"})});</script>"
      ],
      "text/vnd.plotly.v1+html": [
       "<div id=\"25cb645a-0d92-46e9-9f1a-fd731ba24240\" style=\"height: 525px; width: 100%;\" class=\"plotly-graph-div\"></div><script type=\"text/javascript\">require([\"plotly\"], function(Plotly) { window.PLOTLYENV=window.PLOTLYENV || {};window.PLOTLYENV.BASE_URL=\"https://plot.ly\";Plotly.newPlot(\"25cb645a-0d92-46e9-9f1a-fd731ba24240\", [{\"line\": {\"color\": \"rgba(255, 153, 51, 1.0)\", \"dash\": \"solid\", \"shape\": \"linear\", \"width\": 1.3}, \"mode\": \"lines\", \"name\": \"Fatal\", \"text\": \"\", \"x\": [0, 10, 20, 30, 40, 50, 60, 70, \"Total\"], \"y\": [0, 0, 55, 2214, 636, 448, 2361, 805, 6519], \"type\": \"scatter\", \"uid\": \"73ca8300-8834-11e9-9726-f45c8991f033\"}, {\"line\": {\"color\": \"rgba(55, 128, 191, 1.0)\", \"dash\": \"solid\", \"shape\": \"linear\", \"width\": 1.3}, \"mode\": \"lines\", \"name\": \"Serious\", \"text\": \"\", \"x\": [0, 10, 20, 30, 40, 50, 60, 70, \"Total\"], \"y\": [0, 0, 1890, 47701, 7071, 3459, 16193, 4925, 81239], \"type\": \"scatter\", \"uid\": \"73ca8486-8834-11e9-b560-f45c8991f033\"}, {\"line\": {\"color\": \"rgba(50, 171, 96, 1.0)\", \"dash\": \"solid\", \"shape\": \"linear\", \"width\": 1.3}, \"mode\": \"lines\", \"name\": \"Slight\", \"text\": \"\", \"x\": [0, 10, 20, 30, 40, 50, 60, 70, \"Total\"], \"y\": [1, 3, 10674, 319183, 39518, 18075, 61705, 33692, 482851], \"type\": \"scatter\", \"uid\": \"73ca8530-8834-11e9-b405-f45c8991f033\"}, {\"line\": {\"color\": \"rgba(128, 0, 128, 1.0)\", \"dash\": \"solid\", \"shape\": \"linear\", \"width\": 1.3}, \"mode\": \"lines\", \"name\": \"Total\", \"text\": \"\", \"x\": [0, 10, 20, 30, 40, 50, 60, 70, \"Total\"], \"y\": [1, 3, 12619, 369098, 47225, 21982, 80259, 39422, 570609], \"type\": \"scatter\", \"uid\": \"73ca85c6-8834-11e9-bcb8-f45c8991f033\"}], {\"legend\": {\"bgcolor\": \"#F5F6F9\", \"font\": {\"color\": \"#4D5663\"}}, \"paper_bgcolor\": \"#F5F6F9\", \"plot_bgcolor\": \"#F5F6F9\", \"title\": \"Accident Severity at Speed Limit\", \"titlefont\": {\"color\": \"#4D5663\"}, \"xaxis\": {\"gridcolor\": \"#E1E5ED\", \"showgrid\": true, \"tickfont\": {\"color\": \"#4D5663\"}, \"title\": \"Speed limit\", \"titlefont\": {\"color\": \"#4D5663\"}, \"zerolinecolor\": \"#E1E5ED\"}, \"yaxis\": {\"gridcolor\": \"#E1E5ED\", \"showgrid\": true, \"tickfont\": {\"color\": \"#4D5663\"}, \"title\": \"No. of Accidents\", \"titlefont\": {\"color\": \"#4D5663\"}, \"zerolinecolor\": \"#E1E5ED\"}}, {\"showLink\": true, \"linkText\": \"Export to plot.ly\"})});</script>"
      ]
     },
     "metadata": {},
     "output_type": "display_data"
    }
   ],
   "source": [
    "#Plot Accident Severity by Speed Limit\n",
    "speed_gp.iplot(kind='line', title='Accident Severity at Speed Limit',\n",
    "               xTitle='Speed limit', yTitle='No. of Accidents', fill=False)"
   ]
  },
  {
   "cell_type": "markdown",
   "metadata": {},
   "source": [
    "<p> \n",
    "- Highest Peak of Accidents at Speed limit 30 is 369k of which is 65% of Total Accidents <br>\n",
    "- Fatal Accidents Highest point is at Speed limit 60 unlike other Severity Types (Serious, Slight) <br>\n",
    "</p>\n"
   ]
  },
  {
   "cell_type": "markdown",
   "metadata": {},
   "source": [
    "### Seasonality: Time, Day, Month, Year\n"
   ]
  },
  {
   "cell_type": "markdown",
   "metadata": {},
   "source": [
    "<p> Prepping the Data to get Seasonal values </p>"
   ]
  },
  {
   "cell_type": "code",
   "execution_count": 12,
   "metadata": {
    "scrolled": false
   },
   "outputs": [],
   "source": [
    "#Seasonality, Dict Data\n",
    "dotw_dic = pd.read_csv('Day_of_Week.csv')\n",
    "\n",
    "#Convert Date Object to Datetime \n",
    "ukData['Date'] = pd.to_datetime(ukData['Date'], format='%Y-%m-%d')\n",
    "ukData['Time'] = pd.to_datetime(ukData['Time'], format='%H:%M:%S')\n",
    "\n",
    "#Get the Year only from Date column\n",
    "ukData['Year'] = ukData.Date.dt.year\n",
    "\n",
    "#Get the Month only from Month Column\n",
    "ukData['Month'] = ukData.Date.dt.strftime('%b')\n",
    "\n",
    "#Get the Time in Hour by hours column covert to Int\n",
    "ukData['Hour'] = ukData.Time.dt.hour.fillna(0).astype(int)\n",
    "\n",
    "#Create an instance with the relevant columns to Analyse different seasonal Data\n",
    "season = ukData[['ID','Date', 'Year', 'Month','Day_of_Week','Hour','Accident_Severity_Label']]"
   ]
  },
  {
   "cell_type": "code",
   "execution_count": 13,
   "metadata": {
    "scrolled": false
   },
   "outputs": [
    {
     "data": {
      "text/html": [
       "<div>\n",
       "<style scoped>\n",
       "    .dataframe tbody tr th:only-of-type {\n",
       "        vertical-align: middle;\n",
       "    }\n",
       "\n",
       "    .dataframe tbody tr th {\n",
       "        vertical-align: top;\n",
       "    }\n",
       "\n",
       "    .dataframe thead th {\n",
       "        text-align: right;\n",
       "    }\n",
       "</style>\n",
       "<table border=\"1\" class=\"dataframe\">\n",
       "  <thead>\n",
       "    <tr style=\"text-align: right;\">\n",
       "      <th></th>\n",
       "      <th>ID</th>\n",
       "      <th>Date</th>\n",
       "      <th>Year</th>\n",
       "      <th>Month</th>\n",
       "      <th>Day_of_Week</th>\n",
       "      <th>label</th>\n",
       "      <th>Hour</th>\n",
       "      <th>Accident_Severity_Label</th>\n",
       "    </tr>\n",
       "  </thead>\n",
       "  <tbody>\n",
       "    <tr>\n",
       "      <th>566299</th>\n",
       "      <td>566300</td>\n",
       "      <td>2015-02-21</td>\n",
       "      <td>2015</td>\n",
       "      <td>Feb</td>\n",
       "      <td>7</td>\n",
       "      <td>Saturday</td>\n",
       "      <td>12</td>\n",
       "      <td>Serious</td>\n",
       "    </tr>\n",
       "    <tr>\n",
       "      <th>175877</th>\n",
       "      <td>175878</td>\n",
       "      <td>2013-11-22</td>\n",
       "      <td>2013</td>\n",
       "      <td>Nov</td>\n",
       "      <td>6</td>\n",
       "      <td>Friday</td>\n",
       "      <td>14</td>\n",
       "      <td>Slight</td>\n",
       "    </tr>\n",
       "    <tr>\n",
       "      <th>447026</th>\n",
       "      <td>447027</td>\n",
       "      <td>2015-02-07</td>\n",
       "      <td>2015</td>\n",
       "      <td>Feb</td>\n",
       "      <td>7</td>\n",
       "      <td>Saturday</td>\n",
       "      <td>19</td>\n",
       "      <td>Slight</td>\n",
       "    </tr>\n",
       "    <tr>\n",
       "      <th>381766</th>\n",
       "      <td>381767</td>\n",
       "      <td>2014-06-30</td>\n",
       "      <td>2014</td>\n",
       "      <td>Jun</td>\n",
       "      <td>2</td>\n",
       "      <td>Monday</td>\n",
       "      <td>1</td>\n",
       "      <td>Slight</td>\n",
       "    </tr>\n",
       "    <tr>\n",
       "      <th>472155</th>\n",
       "      <td>472156</td>\n",
       "      <td>2015-07-04</td>\n",
       "      <td>2015</td>\n",
       "      <td>Jul</td>\n",
       "      <td>7</td>\n",
       "      <td>Saturday</td>\n",
       "      <td>14</td>\n",
       "      <td>Serious</td>\n",
       "    </tr>\n",
       "  </tbody>\n",
       "</table>\n",
       "</div>"
      ],
      "text/plain": [
       "            ID       Date  Year Month  Day_of_Week     label  Hour  \\\n",
       "566299  566300 2015-02-21  2015   Feb            7  Saturday    12   \n",
       "175877  175878 2013-11-22  2013   Nov            6    Friday    14   \n",
       "447026  447027 2015-02-07  2015   Feb            7  Saturday    19   \n",
       "381766  381767 2014-06-30  2014   Jun            2    Monday     1   \n",
       "472155  472156 2015-07-04  2015   Jul            7  Saturday    14   \n",
       "\n",
       "       Accident_Severity_Label  \n",
       "566299                 Serious  \n",
       "175877                  Slight  \n",
       "447026                  Slight  \n",
       "381766                  Slight  \n",
       "472155                 Serious  "
      ]
     },
     "execution_count": 13,
     "metadata": {},
     "output_type": "execute_result"
    }
   ],
   "source": [
    "#Merge The Dictionary file with the Season Dataframe\n",
    "season = (season.merge(dotw_dic, how ='left', left_on=['Day_of_Week'], right_on=['code'])\n",
    "          .reindex(columns=['ID','Date', 'Year', 'Month','Day_of_Week','label','Hour','Accident_Severity_Label']))\n",
    "\n",
    "#Test the Data\n",
    "season.sample(5)"
   ]
  },
  {
   "cell_type": "code",
   "execution_count": 14,
   "metadata": {
    "scrolled": false
   },
   "outputs": [
    {
     "data": {
      "text/html": [
       "<div>\n",
       "<style scoped>\n",
       "    .dataframe tbody tr th:only-of-type {\n",
       "        vertical-align: middle;\n",
       "    }\n",
       "\n",
       "    .dataframe tbody tr th {\n",
       "        vertical-align: top;\n",
       "    }\n",
       "\n",
       "    .dataframe thead th {\n",
       "        text-align: right;\n",
       "    }\n",
       "</style>\n",
       "<table border=\"1\" class=\"dataframe\">\n",
       "  <thead>\n",
       "    <tr style=\"text-align: right;\">\n",
       "      <th></th>\n",
       "      <th>ID</th>\n",
       "      <th>Date</th>\n",
       "      <th>Year</th>\n",
       "      <th>Month</th>\n",
       "      <th>Day_of_Week</th>\n",
       "      <th>Day</th>\n",
       "      <th>Hour</th>\n",
       "      <th>Accident_Severity_Label</th>\n",
       "    </tr>\n",
       "  </thead>\n",
       "  <tbody>\n",
       "    <tr>\n",
       "      <th>229577</th>\n",
       "      <td>229578</td>\n",
       "      <td>2013-11-19</td>\n",
       "      <td>2013</td>\n",
       "      <td>Nov</td>\n",
       "      <td>3</td>\n",
       "      <td>Tuesday</td>\n",
       "      <td>8</td>\n",
       "      <td>Slight</td>\n",
       "    </tr>\n",
       "    <tr>\n",
       "      <th>12721</th>\n",
       "      <td>12722</td>\n",
       "      <td>2012-06-22</td>\n",
       "      <td>2012</td>\n",
       "      <td>Jun</td>\n",
       "      <td>6</td>\n",
       "      <td>Friday</td>\n",
       "      <td>19</td>\n",
       "      <td>Slight</td>\n",
       "    </tr>\n",
       "    <tr>\n",
       "      <th>115205</th>\n",
       "      <td>115206</td>\n",
       "      <td>2012-04-08</td>\n",
       "      <td>2012</td>\n",
       "      <td>Apr</td>\n",
       "      <td>1</td>\n",
       "      <td>Sunday</td>\n",
       "      <td>11</td>\n",
       "      <td>Fatal</td>\n",
       "    </tr>\n",
       "  </tbody>\n",
       "</table>\n",
       "</div>"
      ],
      "text/plain": [
       "            ID       Date  Year Month  Day_of_Week      Day  Hour  \\\n",
       "229577  229578 2013-11-19  2013   Nov            3  Tuesday     8   \n",
       "12721    12722 2012-06-22  2012   Jun            6   Friday    19   \n",
       "115205  115206 2012-04-08  2012   Apr            1   Sunday    11   \n",
       "\n",
       "       Accident_Severity_Label  \n",
       "229577                  Slight  \n",
       "12721                   Slight  \n",
       "115205                   Fatal  "
      ]
     },
     "execution_count": 14,
     "metadata": {},
     "output_type": "execute_result"
    }
   ],
   "source": [
    "#rename label column to Day\n",
    "season =  season.rename(columns={\"label\":\"Day\"})\n",
    "#Test\n",
    "season.sample(3)"
   ]
  },
  {
   "cell_type": "markdown",
   "metadata": {},
   "source": [
    "## Time"
   ]
  },
  {
   "cell_type": "code",
   "execution_count": 15,
   "metadata": {
    "scrolled": false
   },
   "outputs": [],
   "source": [
    "#Group Data ASL against Hours\n",
    "seasongrphr = pd.crosstab(season.Hour, season.Accident_Severity_Label)"
   ]
  },
  {
   "cell_type": "code",
   "execution_count": 16,
   "metadata": {
    "scrolled": false
   },
   "outputs": [
    {
     "name": "stdout",
     "output_type": "stream",
     "text": [
      "% of Accidents by Hour\n"
     ]
    },
    {
     "data": {
      "text/plain": [
       "17    0.09\n",
       "16    0.08\n",
       "15    0.08\n",
       "8     0.07\n",
       "18    0.07\n",
       "14    0.06\n",
       "13    0.06\n",
       "12    0.06\n",
       "11    0.05\n",
       "19    0.05\n",
       "9     0.05\n",
       "10    0.05\n",
       "7     0.04\n",
       "20    0.04\n",
       "21    0.03\n",
       "22    0.02\n",
       "6     0.02\n",
       "23    0.02\n",
       "0     0.01\n",
       "1     0.01\n",
       "5     0.01\n",
       "2     0.01\n",
       "3     0.01\n",
       "4     0.01\n",
       "Name: Hour, dtype: float64"
      ]
     },
     "execution_count": 16,
     "metadata": {},
     "output_type": "execute_result"
    }
   ],
   "source": [
    "#% of accidents by hours\n",
    "print(\"% of Accidents by Hour\")\n",
    "season.Hour.value_counts(normalize=True).round(2)"
   ]
  },
  {
   "cell_type": "code",
   "execution_count": 17,
   "metadata": {
    "scrolled": false
   },
   "outputs": [
    {
     "data": {
      "application/vnd.plotly.v1+json": {
       "data": [
        {
         "line": {
          "color": "rgba(255, 153, 51, 1.0)",
          "dash": "solid",
          "shape": "linear",
          "width": 1.3
         },
         "mode": "lines",
         "name": "Fatal",
         "text": "",
         "type": "scatter",
         "uid": "7677299e-8834-11e9-bf3b-f45c8991f033",
         "x": [
          0,
          1,
          2,
          3,
          4,
          5,
          6,
          7,
          8,
          9,
          10,
          11,
          12,
          13,
          14,
          15,
          16,
          17,
          18,
          19,
          20,
          21,
          22,
          23
         ],
         "y": [
          208,
          160,
          141,
          133,
          111,
          148,
          175,
          255,
          229,
          223,
          324,
          360,
          306,
          352,
          340,
          416,
          454,
          462,
          363,
          347,
          252,
          257,
          274,
          229
         ]
        },
        {
         "line": {
          "color": "rgba(55, 128, 191, 1.0)",
          "dash": "solid",
          "shape": "linear",
          "width": 1.3
         },
         "mode": "lines",
         "name": "Serious",
         "text": "",
         "type": "scatter",
         "uid": "76772b94-8834-11e9-9329-f45c8991f033",
         "x": [
          0,
          1,
          2,
          3,
          4,
          5,
          6,
          7,
          8,
          9,
          10,
          11,
          12,
          13,
          14,
          15,
          16,
          17,
          18,
          19,
          20,
          21,
          22,
          23
         ],
         "y": [
          1500,
          1125,
          947,
          820,
          607,
          940,
          1763,
          3482,
          4783,
          3439,
          3560,
          4031,
          4495,
          4596,
          4792,
          6183,
          6677,
          7130,
          5817,
          4410,
          3276,
          2683,
          2341,
          1842
         ]
        },
        {
         "line": {
          "color": "rgba(50, 171, 96, 1.0)",
          "dash": "solid",
          "shape": "linear",
          "width": 1.3
         },
         "mode": "lines",
         "name": "Slight",
         "text": "",
         "type": "scatter",
         "uid": "76772c70-8834-11e9-b04d-f45c8991f033",
         "x": [
          0,
          1,
          2,
          3,
          4,
          5,
          6,
          7,
          8,
          9,
          10,
          11,
          12,
          13,
          14,
          15,
          16,
          17,
          18,
          19,
          20,
          21,
          22,
          23
         ],
         "y": [
          6272,
          4485,
          3468,
          2883,
          2455,
          3894,
          8918,
          21813,
          37003,
          25021,
          22296,
          25733,
          28922,
          29235,
          29473,
          37555,
          39591,
          44253,
          34327,
          24426,
          17587,
          13254,
          11423,
          8564
         ]
        }
       ],
       "layout": {
        "autosize": true,
        "legend": {
         "bgcolor": "#F5F6F9",
         "font": {
          "color": "#4D5663"
         }
        },
        "paper_bgcolor": "#F5F6F9",
        "plot_bgcolor": "#F5F6F9",
        "title": "Accident Severity By Time",
        "titlefont": {
         "color": "#4D5663"
        },
        "xaxis": {
         "autorange": true,
         "gridcolor": "#E1E5ED",
         "range": [
          0,
          23
         ],
         "showgrid": true,
         "tickfont": {
          "color": "#4D5663"
         },
         "title": "Time of Day",
         "titlefont": {
          "color": "#4D5663"
         },
         "type": "linear",
         "zerolinecolor": "#E1E5ED"
        },
        "yaxis": {
         "autorange": true,
         "gridcolor": "#E1E5ED",
         "range": [
          -2341.3333333333335,
          46705.333333333336
         ],
         "showgrid": true,
         "tickfont": {
          "color": "#4D5663"
         },
         "title": "No. of Accidents",
         "titlefont": {
          "color": "#4D5663"
         },
         "type": "linear",
         "zerolinecolor": "#E1E5ED"
        }
       }
      },
      "image/png": "[encoded data removed]",
      "text/html": [
       "<div id=\"0c3eb697-aeb5-4b2d-872a-c536293b935a\" style=\"height: 525px; width: 100%;\" class=\"plotly-graph-div\"></div><script type=\"text/javascript\">require([\"plotly\"], function(Plotly) { window.PLOTLYENV=window.PLOTLYENV || {};window.PLOTLYENV.BASE_URL=\"https://plot.ly\";Plotly.newPlot(\"0c3eb697-aeb5-4b2d-872a-c536293b935a\", [{\"line\": {\"color\": \"rgba(255, 153, 51, 1.0)\", \"dash\": \"solid\", \"shape\": \"linear\", \"width\": 1.3}, \"mode\": \"lines\", \"name\": \"Fatal\", \"text\": \"\", \"x\": [0, 1, 2, 3, 4, 5, 6, 7, 8, 9, 10, 11, 12, 13, 14, 15, 16, 17, 18, 19, 20, 21, 22, 23], \"y\": [208, 160, 141, 133, 111, 148, 175, 255, 229, 223, 324, 360, 306, 352, 340, 416, 454, 462, 363, 347, 252, 257, 274, 229], \"type\": \"scatter\", \"uid\": \"767ad136-8834-11e9-96ab-f45c8991f033\"}, {\"line\": {\"color\": \"rgba(55, 128, 191, 1.0)\", \"dash\": \"solid\", \"shape\": \"linear\", \"width\": 1.3}, \"mode\": \"lines\", \"name\": \"Serious\", \"text\": \"\", \"x\": [0, 1, 2, 3, 4, 5, 6, 7, 8, 9, 10, 11, 12, 13, 14, 15, 16, 17, 18, 19, 20, 21, 22, 23], \"y\": [1500, 1125, 947, 820, 607, 940, 1763, 3482, 4783, 3439, 3560, 4031, 4495, 4596, 4792, 6183, 6677, 7130, 5817, 4410, 3276, 2683, 2341, 1842], \"type\": \"scatter\", \"uid\": \"767ad280-8834-11e9-9fb5-f45c8991f033\"}, {\"line\": {\"color\": \"rgba(50, 171, 96, 1.0)\", \"dash\": \"solid\", \"shape\": \"linear\", \"width\": 1.3}, \"mode\": \"lines\", \"name\": \"Slight\", \"text\": \"\", \"x\": [0, 1, 2, 3, 4, 5, 6, 7, 8, 9, 10, 11, 12, 13, 14, 15, 16, 17, 18, 19, 20, 21, 22, 23], \"y\": [6272, 4485, 3468, 2883, 2455, 3894, 8918, 21813, 37003, 25021, 22296, 25733, 28922, 29235, 29473, 37555, 39591, 44253, 34327, 24426, 17587, 13254, 11423, 8564], \"type\": \"scatter\", \"uid\": \"767ad334-8834-11e9-9744-f45c8991f033\"}], {\"legend\": {\"bgcolor\": \"#F5F6F9\", \"font\": {\"color\": \"#4D5663\"}}, \"paper_bgcolor\": \"#F5F6F9\", \"plot_bgcolor\": \"#F5F6F9\", \"title\": \"Accident Severity By Time\", \"titlefont\": {\"color\": \"#4D5663\"}, \"xaxis\": {\"gridcolor\": \"#E1E5ED\", \"showgrid\": true, \"tickfont\": {\"color\": \"#4D5663\"}, \"title\": \"Time of Day\", \"titlefont\": {\"color\": \"#4D5663\"}, \"zerolinecolor\": \"#E1E5ED\"}, \"yaxis\": {\"gridcolor\": \"#E1E5ED\", \"showgrid\": true, \"tickfont\": {\"color\": \"#4D5663\"}, \"title\": \"No. of Accidents\", \"titlefont\": {\"color\": \"#4D5663\"}, \"zerolinecolor\": \"#E1E5ED\"}}, {\"showLink\": true, \"linkText\": \"Export to plot.ly\"})});</script>"
      ],
      "text/vnd.plotly.v1+html": [
       "<div id=\"0c3eb697-aeb5-4b2d-872a-c536293b935a\" style=\"height: 525px; width: 100%;\" class=\"plotly-graph-div\"></div><script type=\"text/javascript\">require([\"plotly\"], function(Plotly) { window.PLOTLYENV=window.PLOTLYENV || {};window.PLOTLYENV.BASE_URL=\"https://plot.ly\";Plotly.newPlot(\"0c3eb697-aeb5-4b2d-872a-c536293b935a\", [{\"line\": {\"color\": \"rgba(255, 153, 51, 1.0)\", \"dash\": \"solid\", \"shape\": \"linear\", \"width\": 1.3}, \"mode\": \"lines\", \"name\": \"Fatal\", \"text\": \"\", \"x\": [0, 1, 2, 3, 4, 5, 6, 7, 8, 9, 10, 11, 12, 13, 14, 15, 16, 17, 18, 19, 20, 21, 22, 23], \"y\": [208, 160, 141, 133, 111, 148, 175, 255, 229, 223, 324, 360, 306, 352, 340, 416, 454, 462, 363, 347, 252, 257, 274, 229], \"type\": \"scatter\", \"uid\": \"767ad136-8834-11e9-96ab-f45c8991f033\"}, {\"line\": {\"color\": \"rgba(55, 128, 191, 1.0)\", \"dash\": \"solid\", \"shape\": \"linear\", \"width\": 1.3}, \"mode\": \"lines\", \"name\": \"Serious\", \"text\": \"\", \"x\": [0, 1, 2, 3, 4, 5, 6, 7, 8, 9, 10, 11, 12, 13, 14, 15, 16, 17, 18, 19, 20, 21, 22, 23], \"y\": [1500, 1125, 947, 820, 607, 940, 1763, 3482, 4783, 3439, 3560, 4031, 4495, 4596, 4792, 6183, 6677, 7130, 5817, 4410, 3276, 2683, 2341, 1842], \"type\": \"scatter\", \"uid\": \"767ad280-8834-11e9-9fb5-f45c8991f033\"}, {\"line\": {\"color\": \"rgba(50, 171, 96, 1.0)\", \"dash\": \"solid\", \"shape\": \"linear\", \"width\": 1.3}, \"mode\": \"lines\", \"name\": \"Slight\", \"text\": \"\", \"x\": [0, 1, 2, 3, 4, 5, 6, 7, 8, 9, 10, 11, 12, 13, 14, 15, 16, 17, 18, 19, 20, 21, 22, 23], \"y\": [6272, 4485, 3468, 2883, 2455, 3894, 8918, 21813, 37003, 25021, 22296, 25733, 28922, 29235, 29473, 37555, 39591, 44253, 34327, 24426, 17587, 13254, 11423, 8564], \"type\": \"scatter\", \"uid\": \"767ad334-8834-11e9-9744-f45c8991f033\"}], {\"legend\": {\"bgcolor\": \"#F5F6F9\", \"font\": {\"color\": \"#4D5663\"}}, \"paper_bgcolor\": \"#F5F6F9\", \"plot_bgcolor\": \"#F5F6F9\", \"title\": \"Accident Severity By Time\", \"titlefont\": {\"color\": \"#4D5663\"}, \"xaxis\": {\"gridcolor\": \"#E1E5ED\", \"showgrid\": true, \"tickfont\": {\"color\": \"#4D5663\"}, \"title\": \"Time of Day\", \"titlefont\": {\"color\": \"#4D5663\"}, \"zerolinecolor\": \"#E1E5ED\"}, \"yaxis\": {\"gridcolor\": \"#E1E5ED\", \"showgrid\": true, \"tickfont\": {\"color\": \"#4D5663\"}, \"title\": \"No. of Accidents\", \"titlefont\": {\"color\": \"#4D5663\"}, \"zerolinecolor\": \"#E1E5ED\"}}, {\"showLink\": true, \"linkText\": \"Export to plot.ly\"})});</script>"
      ]
     },
     "metadata": {},
     "output_type": "display_data"
    }
   ],
   "source": [
    "#Plot Hour against ASL\n",
    "seasongrphr.iplot(kind='line', xTitle='Time of Day', yTitle='No. of Accidents', title='Accident Severity By Time')"
   ]
  },
  {
   "cell_type": "markdown",
   "metadata": {},
   "source": [
    "<p> \n",
    "- Most dangerous times to Drive would be at 8am and 3-6pm based on volume <br>\n",
    "- Highest No. Accident occurs at 5pm accounting for 9% for all accidents  <br>\n",
    "</p>"
   ]
  },
  {
   "cell_type": "markdown",
   "metadata": {},
   "source": [
    "### Day"
   ]
  },
  {
   "cell_type": "code",
   "execution_count": 18,
   "metadata": {
    "scrolled": false
   },
   "outputs": [
    {
     "data": {
      "text/html": [
       "<style  type=\"text/css\" >\n",
       "    #T_768b0428_8834_11e9_af6a_f45c8991f033row5_col1 {\n",
       "            background-color:  yellow;\n",
       "        }    #T_768b0428_8834_11e9_af6a_f45c8991f033row5_col2 {\n",
       "            background-color:  yellow;\n",
       "        }    #T_768b0428_8834_11e9_af6a_f45c8991f033row6_col0 {\n",
       "            background-color:  yellow;\n",
       "        }</style>  \n",
       "<table id=\"T_768b0428_8834_11e9_af6a_f45c8991f033\" > \n",
       "<thead>    <tr> \n",
       "        <th class=\"index_name level0\" >Accident_Severity_Label</th> \n",
       "        <th class=\"col_heading level0 col0\" >Fatal</th> \n",
       "        <th class=\"col_heading level0 col1\" >Serious</th> \n",
       "        <th class=\"col_heading level0 col2\" >Slight</th> \n",
       "    </tr>    <tr> \n",
       "        <th class=\"index_name level0\" >Day</th> \n",
       "        <th class=\"blank\" ></th> \n",
       "        <th class=\"blank\" ></th> \n",
       "        <th class=\"blank\" ></th> \n",
       "    </tr></thead> \n",
       "<tbody>    <tr> \n",
       "        <th id=\"T_768b0428_8834_11e9_af6a_f45c8991f033level0_row0\" class=\"row_heading level0 row0\" >Sunday</th> \n",
       "        <td id=\"T_768b0428_8834_11e9_af6a_f45c8991f033row0_col0\" class=\"data row0 col0\" >1041</td> \n",
       "        <td id=\"T_768b0428_8834_11e9_af6a_f45c8991f033row0_col1\" class=\"data row0 col1\" >10322</td> \n",
       "        <td id=\"T_768b0428_8834_11e9_af6a_f45c8991f033row0_col2\" class=\"data row0 col2\" >50545</td> \n",
       "    </tr>    <tr> \n",
       "        <th id=\"T_768b0428_8834_11e9_af6a_f45c8991f033level0_row1\" class=\"row_heading level0 row1\" >Monday</th> \n",
       "        <td id=\"T_768b0428_8834_11e9_af6a_f45c8991f033row1_col0\" class=\"data row1 col0\" >848</td> \n",
       "        <td id=\"T_768b0428_8834_11e9_af6a_f45c8991f033row1_col1\" class=\"data row1 col1\" >11057</td> \n",
       "        <td id=\"T_768b0428_8834_11e9_af6a_f45c8991f033row1_col2\" class=\"data row1 col2\" >69961</td> \n",
       "    </tr>    <tr> \n",
       "        <th id=\"T_768b0428_8834_11e9_af6a_f45c8991f033level0_row2\" class=\"row_heading level0 row2\" >Tuesday</th> \n",
       "        <td id=\"T_768b0428_8834_11e9_af6a_f45c8991f033row2_col0\" class=\"data row2 col0\" >853</td> \n",
       "        <td id=\"T_768b0428_8834_11e9_af6a_f45c8991f033row2_col1\" class=\"data row2 col1\" >11750</td> \n",
       "        <td id=\"T_768b0428_8834_11e9_af6a_f45c8991f033row2_col2\" class=\"data row2 col2\" >74064</td> \n",
       "    </tr>    <tr> \n",
       "        <th id=\"T_768b0428_8834_11e9_af6a_f45c8991f033level0_row3\" class=\"row_heading level0 row3\" >Wednesday</th> \n",
       "        <td id=\"T_768b0428_8834_11e9_af6a_f45c8991f033row3_col0\" class=\"data row3 col0\" >823</td> \n",
       "        <td id=\"T_768b0428_8834_11e9_af6a_f45c8991f033row3_col1\" class=\"data row3 col1\" >11685</td> \n",
       "        <td id=\"T_768b0428_8834_11e9_af6a_f45c8991f033row3_col2\" class=\"data row3 col2\" >73528</td> \n",
       "    </tr>    <tr> \n",
       "        <th id=\"T_768b0428_8834_11e9_af6a_f45c8991f033level0_row4\" class=\"row_heading level0 row4\" >Thursday</th> \n",
       "        <td id=\"T_768b0428_8834_11e9_af6a_f45c8991f033row4_col0\" class=\"data row4 col0\" >859</td> \n",
       "        <td id=\"T_768b0428_8834_11e9_af6a_f45c8991f033row4_col1\" class=\"data row4 col1\" >11862</td> \n",
       "        <td id=\"T_768b0428_8834_11e9_af6a_f45c8991f033row4_col2\" class=\"data row4 col2\" >74058</td> \n",
       "    </tr>    <tr> \n",
       "        <th id=\"T_768b0428_8834_11e9_af6a_f45c8991f033level0_row5\" class=\"row_heading level0 row5\" >Friday</th> \n",
       "        <td id=\"T_768b0428_8834_11e9_af6a_f45c8991f033row5_col0\" class=\"data row5 col0\" >993</td> \n",
       "        <td id=\"T_768b0428_8834_11e9_af6a_f45c8991f033row5_col1\" class=\"data row5 col1\" >12950</td> \n",
       "        <td id=\"T_768b0428_8834_11e9_af6a_f45c8991f033row5_col2\" class=\"data row5 col2\" >78946</td> \n",
       "    </tr>    <tr> \n",
       "        <th id=\"T_768b0428_8834_11e9_af6a_f45c8991f033level0_row6\" class=\"row_heading level0 row6\" >Saturday</th> \n",
       "        <td id=\"T_768b0428_8834_11e9_af6a_f45c8991f033row6_col0\" class=\"data row6 col0\" >1102</td> \n",
       "        <td id=\"T_768b0428_8834_11e9_af6a_f45c8991f033row6_col1\" class=\"data row6 col1\" >11613</td> \n",
       "        <td id=\"T_768b0428_8834_11e9_af6a_f45c8991f033row6_col2\" class=\"data row6 col2\" >61749</td> \n",
       "    </tr></tbody> \n",
       "</table> "
      ],
      "text/plain": [
       "<pandas.io.formats.style.Styler at 0x1a15e5d7f0>"
      ]
     },
     "execution_count": 18,
     "metadata": {},
     "output_type": "execute_result"
    }
   ],
   "source": [
    "#Group ASL by Day\n",
    "seasongrpday = (season.groupby(['Accident_Severity_Label','Day'])['Accident_Severity_Label'].agg('count')\n",
    "                .unstack('Accident_Severity_Label').reindex(['Sunday','Monday','Tuesday','Wednesday',\n",
    "                                                                  'Thursday','Friday','Saturday']))\n",
    "#Highlight Max Values\n",
    "seasongrpday.style.highlight_max(color='yellow')"
   ]
  },
  {
   "cell_type": "code",
   "execution_count": 19,
   "metadata": {},
   "outputs": [
    {
     "data": {
      "text/html": [
       "<div>\n",
       "<style scoped>\n",
       "    .dataframe tbody tr th:only-of-type {\n",
       "        vertical-align: middle;\n",
       "    }\n",
       "\n",
       "    .dataframe tbody tr th {\n",
       "        vertical-align: top;\n",
       "    }\n",
       "\n",
       "    .dataframe thead th {\n",
       "        text-align: right;\n",
       "    }\n",
       "</style>\n",
       "<table border=\"1\" class=\"dataframe\">\n",
       "  <thead>\n",
       "    <tr style=\"text-align: right;\">\n",
       "      <th>Accident_Severity_Label</th>\n",
       "      <th>Fatal</th>\n",
       "      <th>Serious</th>\n",
       "      <th>Slight</th>\n",
       "    </tr>\n",
       "    <tr>\n",
       "      <th>Day</th>\n",
       "      <th></th>\n",
       "      <th></th>\n",
       "      <th></th>\n",
       "    </tr>\n",
       "  </thead>\n",
       "  <tbody>\n",
       "    <tr>\n",
       "      <th>Monday</th>\n",
       "      <td>848</td>\n",
       "      <td>11057</td>\n",
       "      <td>69961</td>\n",
       "    </tr>\n",
       "    <tr>\n",
       "      <th>Tuesday</th>\n",
       "      <td>853</td>\n",
       "      <td>11750</td>\n",
       "      <td>74064</td>\n",
       "    </tr>\n",
       "    <tr>\n",
       "      <th>Wednesday</th>\n",
       "      <td>823</td>\n",
       "      <td>11685</td>\n",
       "      <td>73528</td>\n",
       "    </tr>\n",
       "    <tr>\n",
       "      <th>Thursday</th>\n",
       "      <td>859</td>\n",
       "      <td>11862</td>\n",
       "      <td>74058</td>\n",
       "    </tr>\n",
       "    <tr>\n",
       "      <th>Friday</th>\n",
       "      <td>993</td>\n",
       "      <td>12950</td>\n",
       "      <td>78946</td>\n",
       "    </tr>\n",
       "    <tr>\n",
       "      <th>Saturday</th>\n",
       "      <td>1102</td>\n",
       "      <td>11613</td>\n",
       "      <td>61749</td>\n",
       "    </tr>\n",
       "    <tr>\n",
       "      <th>Sunday</th>\n",
       "      <td>1041</td>\n",
       "      <td>10322</td>\n",
       "      <td>50545</td>\n",
       "    </tr>\n",
       "  </tbody>\n",
       "</table>\n",
       "</div>"
      ],
      "text/plain": [
       "Accident_Severity_Label  Fatal  Serious  Slight\n",
       "Day                                            \n",
       "Monday                     848    11057   69961\n",
       "Tuesday                    853    11750   74064\n",
       "Wednesday                  823    11685   73528\n",
       "Thursday                   859    11862   74058\n",
       "Friday                     993    12950   78946\n",
       "Saturday                  1102    11613   61749\n",
       "Sunday                    1041    10322   50545"
      ]
     },
     "execution_count": 19,
     "metadata": {},
     "output_type": "execute_result"
    }
   ],
   "source": [
    "seasonPerday = pd.crosstab(season.Day,season.Accident_Severity_Label).reindex(['Monday','Tuesday','Wednesday',\n",
    "                                                                  'Thursday','Friday','Saturday','Sunday'])\n",
    "\n",
    "seasonPerday"
   ]
  },
  {
   "cell_type": "code",
   "execution_count": 45,
   "metadata": {
    "scrolled": false
   },
   "outputs": [
    {
     "name": "stdout",
     "output_type": "stream",
     "text": [
      "No. of Accident Year, Day\n"
     ]
    },
    {
     "data": {
      "text/plain": [
       "Year  Day      \n",
       "2012  Friday       23511\n",
       "      Thursday     22334\n",
       "      Wednesday    21997\n",
       "      Tuesday      21661\n",
       "      Monday       20910\n",
       "      Saturday     19302\n",
       "      Sunday       15856\n",
       "2013  Friday       23044\n",
       "      Tuesday      21257\n",
       "      Thursday     21186\n",
       "      Wednesday    20461\n",
       "      Monday       19831\n",
       "      Saturday     18027\n",
       "      Sunday       14854\n",
       "2014  Friday       23960\n",
       "      Tuesday      22318\n",
       "      Wednesday    22210\n",
       "      Thursday     21780\n",
       "      Monday       21093\n",
       "      Saturday     19021\n",
       "      Sunday       15940\n",
       "2015  Friday       22374\n",
       "      Thursday     21479\n",
       "      Tuesday      21431\n",
       "      Wednesday    21368\n",
       "      Monday       20032\n",
       "      Saturday     18114\n",
       "      Sunday       15258\n",
       "Name: Day, dtype: int64"
      ]
     },
     "execution_count": 45,
     "metadata": {},
     "output_type": "execute_result"
    }
   ],
   "source": [
    "#Group Day by ASL then Normalize, Covert to % and Highlight Max % values\n",
    "seasongrpdayPer=((pd.crosstab(season['Day'],season['Accident_Severity_Label'],normalize='columns')\n",
    "     .reindex(['Sunday','Monday','Tuesday','Wednesday','Thursday','Friday','Saturday'])*100)\n",
    "     .style.format('{0:,.0f}%')\n",
    "     .highlight_max(color='yellow'))\n",
    "\n",
    "# seasongrpdayPer\n",
    "print('No. of Accident Year, Day')\n",
    "season.Day.groupby(season.Year).value_counts()"
   ]
  },
  {
   "cell_type": "code",
   "execution_count": 155,
   "metadata": {
    "scrolled": false
   },
   "outputs": [
    {
     "data": {
      "application/vnd.plotly.v1+json": {
       "data": [
        {
         "marker": {
          "color": "rgba(255, 153, 51, 0.6)",
          "line": {
           "color": "rgba(255, 153, 51, 1.0)",
           "width": 1
          }
         },
         "name": "Fatal",
         "orientation": "h",
         "text": "",
         "type": "bar",
         "uid": "eeddba68-8854-11e9-8bba-f45c8991f033",
         "x": [
          848,
          853,
          823,
          859,
          993,
          1102,
          1041
         ],
         "y": [
          "Monday",
          "Tuesday",
          "Wednesday",
          "Thursday",
          "Friday",
          "Saturday",
          "Sunday"
         ]
        },
        {
         "marker": {
          "color": "rgba(55, 128, 191, 0.6)",
          "line": {
           "color": "rgba(55, 128, 191, 1.0)",
           "width": 1
          }
         },
         "name": "Serious",
         "orientation": "h",
         "text": "",
         "type": "bar",
         "uid": "eeddbcd8-8854-11e9-bfb8-f45c8991f033",
         "x": [
          11057,
          11750,
          11685,
          11862,
          12950,
          11613,
          10322
         ],
         "y": [
          "Monday",
          "Tuesday",
          "Wednesday",
          "Thursday",
          "Friday",
          "Saturday",
          "Sunday"
         ]
        },
        {
         "marker": {
          "color": "rgba(50, 171, 96, 0.6)",
          "line": {
           "color": "rgba(50, 171, 96, 1.0)",
           "width": 1
          }
         },
         "name": "Slight",
         "orientation": "h",
         "text": "",
         "type": "bar",
         "uid": "eeddbe34-8854-11e9-bb26-f45c8991f033",
         "x": [
          69961,
          74064,
          73528,
          74058,
          78946,
          61749,
          50545
         ],
         "y": [
          "Monday",
          "Tuesday",
          "Wednesday",
          "Thursday",
          "Friday",
          "Saturday",
          "Sunday"
         ]
        }
       ],
       "layout": {
        "autosize": true,
        "barmode": "stack",
        "legend": {
         "bgcolor": "#F5F6F9",
         "font": {
          "color": "#4D5663"
         },
         "traceorder": "normal"
        },
        "paper_bgcolor": "#F5F6F9",
        "plot_bgcolor": "#F5F6F9",
        "title": "Accident Severity by Day",
        "titlefont": {
         "color": "#4D5663"
        },
        "xaxis": {
         "autorange": true,
         "gridcolor": "#E1E5ED",
         "range": [
          0,
          97777.8947368421
         ],
         "showgrid": true,
         "tickfont": {
          "color": "#4D5663"
         },
         "title": "No. of Accidents",
         "titlefont": {
          "color": "#4D5663"
         },
         "type": "linear",
         "zerolinecolor": "#E1E5ED"
        },
        "yaxis": {
         "autorange": true,
         "gridcolor": "#E1E5ED",
         "range": [
          -0.5,
          6.5
         ],
         "showgrid": true,
         "tickfont": {
          "color": "#4D5663"
         },
         "title": "Day",
         "titlefont": {
          "color": "#4D5663"
         },
         "type": "category",
         "zerolinecolor": "#E1E5ED"
        }
       }
      },
      "image/png": "[encoded data removed]",
      "text/html": [
       "<div id=\"85b19ea6-e479-46ea-abad-ed64ea614396\" style=\"height: 525px; width: 100%;\" class=\"plotly-graph-div\"></div><script type=\"text/javascript\">require([\"plotly\"], function(Plotly) { window.PLOTLYENV=window.PLOTLYENV || {};window.PLOTLYENV.BASE_URL=\"https://plot.ly\";Plotly.newPlot(\"85b19ea6-e479-46ea-abad-ed64ea614396\", [{\"marker\": {\"color\": \"rgba(255, 153, 51, 0.6)\", \"line\": {\"color\": \"rgba(255, 153, 51, 1.0)\", \"width\": 1}}, \"name\": \"Fatal\", \"orientation\": \"h\", \"text\": \"\", \"x\": [848, 853, 823, 859, 993, 1102, 1041], \"y\": [\"Monday\", \"Tuesday\", \"Wednesday\", \"Thursday\", \"Friday\", \"Saturday\", \"Sunday\"], \"type\": \"bar\", \"uid\": \"eee0eb54-8854-11e9-82dc-f45c8991f033\"}, {\"marker\": {\"color\": \"rgba(55, 128, 191, 0.6)\", \"line\": {\"color\": \"rgba(55, 128, 191, 1.0)\", \"width\": 1}}, \"name\": \"Serious\", \"orientation\": \"h\", \"text\": \"\", \"x\": [11057, 11750, 11685, 11862, 12950, 11613, 10322], \"y\": [\"Monday\", \"Tuesday\", \"Wednesday\", \"Thursday\", \"Friday\", \"Saturday\", \"Sunday\"], \"type\": \"bar\", \"uid\": \"eee0ed28-8854-11e9-bac6-f45c8991f033\"}, {\"marker\": {\"color\": \"rgba(50, 171, 96, 0.6)\", \"line\": {\"color\": \"rgba(50, 171, 96, 1.0)\", \"width\": 1}}, \"name\": \"Slight\", \"orientation\": \"h\", \"text\": \"\", \"x\": [69961, 74064, 73528, 74058, 78946, 61749, 50545], \"y\": [\"Monday\", \"Tuesday\", \"Wednesday\", \"Thursday\", \"Friday\", \"Saturday\", \"Sunday\"], \"type\": \"bar\", \"uid\": \"eee0ede8-8854-11e9-9365-f45c8991f033\"}], {\"barmode\": \"stack\", \"legend\": {\"bgcolor\": \"#F5F6F9\", \"font\": {\"color\": \"#4D5663\"}, \"traceorder\": \"normal\"}, \"paper_bgcolor\": \"#F5F6F9\", \"plot_bgcolor\": \"#F5F6F9\", \"title\": \"Accident Severity by Day\", \"titlefont\": {\"color\": \"#4D5663\"}, \"xaxis\": {\"gridcolor\": \"#E1E5ED\", \"showgrid\": true, \"tickfont\": {\"color\": \"#4D5663\"}, \"title\": \"No. of Accidents\", \"titlefont\": {\"color\": \"#4D5663\"}, \"zerolinecolor\": \"#E1E5ED\"}, \"yaxis\": {\"gridcolor\": \"#E1E5ED\", \"showgrid\": true, \"tickfont\": {\"color\": \"#4D5663\"}, \"title\": \"Day\", \"titlefont\": {\"color\": \"#4D5663\"}, \"zerolinecolor\": \"#E1E5ED\"}}, {\"showLink\": true, \"linkText\": \"Export to plot.ly\"})});</script>"
      ],
      "text/vnd.plotly.v1+html": [
       "<div id=\"85b19ea6-e479-46ea-abad-ed64ea614396\" style=\"height: 525px; width: 100%;\" class=\"plotly-graph-div\"></div><script type=\"text/javascript\">require([\"plotly\"], function(Plotly) { window.PLOTLYENV=window.PLOTLYENV || {};window.PLOTLYENV.BASE_URL=\"https://plot.ly\";Plotly.newPlot(\"85b19ea6-e479-46ea-abad-ed64ea614396\", [{\"marker\": {\"color\": \"rgba(255, 153, 51, 0.6)\", \"line\": {\"color\": \"rgba(255, 153, 51, 1.0)\", \"width\": 1}}, \"name\": \"Fatal\", \"orientation\": \"h\", \"text\": \"\", \"x\": [848, 853, 823, 859, 993, 1102, 1041], \"y\": [\"Monday\", \"Tuesday\", \"Wednesday\", \"Thursday\", \"Friday\", \"Saturday\", \"Sunday\"], \"type\": \"bar\", \"uid\": \"eee0eb54-8854-11e9-82dc-f45c8991f033\"}, {\"marker\": {\"color\": \"rgba(55, 128, 191, 0.6)\", \"line\": {\"color\": \"rgba(55, 128, 191, 1.0)\", \"width\": 1}}, \"name\": \"Serious\", \"orientation\": \"h\", \"text\": \"\", \"x\": [11057, 11750, 11685, 11862, 12950, 11613, 10322], \"y\": [\"Monday\", \"Tuesday\", \"Wednesday\", \"Thursday\", \"Friday\", \"Saturday\", \"Sunday\"], \"type\": \"bar\", \"uid\": \"eee0ed28-8854-11e9-bac6-f45c8991f033\"}, {\"marker\": {\"color\": \"rgba(50, 171, 96, 0.6)\", \"line\": {\"color\": \"rgba(50, 171, 96, 1.0)\", \"width\": 1}}, \"name\": \"Slight\", \"orientation\": \"h\", \"text\": \"\", \"x\": [69961, 74064, 73528, 74058, 78946, 61749, 50545], \"y\": [\"Monday\", \"Tuesday\", \"Wednesday\", \"Thursday\", \"Friday\", \"Saturday\", \"Sunday\"], \"type\": \"bar\", \"uid\": \"eee0ede8-8854-11e9-9365-f45c8991f033\"}], {\"barmode\": \"stack\", \"legend\": {\"bgcolor\": \"#F5F6F9\", \"font\": {\"color\": \"#4D5663\"}, \"traceorder\": \"normal\"}, \"paper_bgcolor\": \"#F5F6F9\", \"plot_bgcolor\": \"#F5F6F9\", \"title\": \"Accident Severity by Day\", \"titlefont\": {\"color\": \"#4D5663\"}, \"xaxis\": {\"gridcolor\": \"#E1E5ED\", \"showgrid\": true, \"tickfont\": {\"color\": \"#4D5663\"}, \"title\": \"No. of Accidents\", \"titlefont\": {\"color\": \"#4D5663\"}, \"zerolinecolor\": \"#E1E5ED\"}, \"yaxis\": {\"gridcolor\": \"#E1E5ED\", \"showgrid\": true, \"tickfont\": {\"color\": \"#4D5663\"}, \"title\": \"Day\", \"titlefont\": {\"color\": \"#4D5663\"}, \"zerolinecolor\": \"#E1E5ED\"}}, {\"showLink\": true, \"linkText\": \"Export to plot.ly\"})});</script>"
      ]
     },
     "metadata": {},
     "output_type": "display_data"
    }
   ],
   "source": [
    "seasonPerday.iplot(kind='barh', barmode='stack',\n",
    "                   title='Accident Severity by Day',\n",
    "                   yTitle='Day',\n",
    "                   xTitle='No. of Accidents')"
   ]
  },
  {
   "cell_type": "markdown",
   "metadata": {},
   "source": [
    "<p> \n",
    "- Friday has the highest No. of Accidents at 92k Overall and is the highest in Serious and Slight Accident Types <br>\n",
    "- Saturday has the most Fatal Accidents at 1.1k <br>\n",
    "- Weekends have a higher trend in Fatal Accidents, Weekdays have a higher trend in Slight and Serious Accident Types <br>\n",
    "</p>"
   ]
  },
  {
   "cell_type": "markdown",
   "metadata": {},
   "source": [
    "## Month"
   ]
  },
  {
   "cell_type": "code",
   "execution_count": 22,
   "metadata": {
    "scrolled": false
   },
   "outputs": [
    {
     "data": {
      "text/html": [
       "<style  type=\"text/css\" >\n",
       "    #T_76e649b6_8834_11e9_9325_f45c8991f033row6_col1 {\n",
       "            background-color:  yellow;\n",
       "        }    #T_76e649b6_8834_11e9_9325_f45c8991f033row9_col2 {\n",
       "            background-color:  yellow;\n",
       "        }    #T_76e649b6_8834_11e9_9325_f45c8991f033row11_col0 {\n",
       "            background-color:  yellow;\n",
       "        }</style>  \n",
       "<table id=\"T_76e649b6_8834_11e9_9325_f45c8991f033\" > \n",
       "<thead>    <tr> \n",
       "        <th class=\"index_name level0\" >Accident_Severity_Label</th> \n",
       "        <th class=\"col_heading level0 col0\" >Fatal</th> \n",
       "        <th class=\"col_heading level0 col1\" >Serious</th> \n",
       "        <th class=\"col_heading level0 col2\" >Slight</th> \n",
       "    </tr>    <tr> \n",
       "        <th class=\"index_name level0\" >Month</th> \n",
       "        <th class=\"blank\" ></th> \n",
       "        <th class=\"blank\" ></th> \n",
       "        <th class=\"blank\" ></th> \n",
       "    </tr></thead> \n",
       "<tbody>    <tr> \n",
       "        <th id=\"T_76e649b6_8834_11e9_9325_f45c8991f033level0_row0\" class=\"row_heading level0 row0\" >Jan</th> \n",
       "        <td id=\"T_76e649b6_8834_11e9_9325_f45c8991f033row0_col0\" class=\"data row0 col0\" >505</td> \n",
       "        <td id=\"T_76e649b6_8834_11e9_9325_f45c8991f033row0_col1\" class=\"data row0 col1\" >6065</td> \n",
       "        <td id=\"T_76e649b6_8834_11e9_9325_f45c8991f033row0_col2\" class=\"data row0 col2\" >39179</td> \n",
       "    </tr>    <tr> \n",
       "        <th id=\"T_76e649b6_8834_11e9_9325_f45c8991f033level0_row1\" class=\"row_heading level0 row1\" >Feb</th> \n",
       "        <td id=\"T_76e649b6_8834_11e9_9325_f45c8991f033row1_col0\" class=\"data row1 col0\" >433</td> \n",
       "        <td id=\"T_76e649b6_8834_11e9_9325_f45c8991f033row1_col1\" class=\"data row1 col1\" >5622</td> \n",
       "        <td id=\"T_76e649b6_8834_11e9_9325_f45c8991f033row1_col2\" class=\"data row1 col2\" >35593</td> \n",
       "    </tr>    <tr> \n",
       "        <th id=\"T_76e649b6_8834_11e9_9325_f45c8991f033level0_row2\" class=\"row_heading level0 row2\" >Mar</th> \n",
       "        <td id=\"T_76e649b6_8834_11e9_9325_f45c8991f033row2_col0\" class=\"data row2 col0\" >488</td> \n",
       "        <td id=\"T_76e649b6_8834_11e9_9325_f45c8991f033row2_col1\" class=\"data row2 col1\" >6295</td> \n",
       "        <td id=\"T_76e649b6_8834_11e9_9325_f45c8991f033row2_col2\" class=\"data row2 col2\" >38526</td> \n",
       "    </tr>    <tr> \n",
       "        <th id=\"T_76e649b6_8834_11e9_9325_f45c8991f033level0_row3\" class=\"row_heading level0 row3\" >Apr</th> \n",
       "        <td id=\"T_76e649b6_8834_11e9_9325_f45c8991f033row3_col0\" class=\"data row3 col0\" >501</td> \n",
       "        <td id=\"T_76e649b6_8834_11e9_9325_f45c8991f033row3_col1\" class=\"data row3 col1\" >6070</td> \n",
       "        <td id=\"T_76e649b6_8834_11e9_9325_f45c8991f033row3_col2\" class=\"data row3 col2\" >36093</td> \n",
       "    </tr>    <tr> \n",
       "        <th id=\"T_76e649b6_8834_11e9_9325_f45c8991f033level0_row4\" class=\"row_heading level0 row4\" >May</th> \n",
       "        <td id=\"T_76e649b6_8834_11e9_9325_f45c8991f033row4_col0\" class=\"data row4 col0\" >550</td> \n",
       "        <td id=\"T_76e649b6_8834_11e9_9325_f45c8991f033row4_col1\" class=\"data row4 col1\" >7141</td> \n",
       "        <td id=\"T_76e649b6_8834_11e9_9325_f45c8991f033row4_col2\" class=\"data row4 col2\" >39941</td> \n",
       "    </tr>    <tr> \n",
       "        <th id=\"T_76e649b6_8834_11e9_9325_f45c8991f033level0_row5\" class=\"row_heading level0 row5\" >Jun</th> \n",
       "        <td id=\"T_76e649b6_8834_11e9_9325_f45c8991f033row5_col0\" class=\"data row5 col0\" >530</td> \n",
       "        <td id=\"T_76e649b6_8834_11e9_9325_f45c8991f033row5_col1\" class=\"data row5 col1\" >7028</td> \n",
       "        <td id=\"T_76e649b6_8834_11e9_9325_f45c8991f033row5_col2\" class=\"data row5 col2\" >40345</td> \n",
       "    </tr>    <tr> \n",
       "        <th id=\"T_76e649b6_8834_11e9_9325_f45c8991f033level0_row6\" class=\"row_heading level0 row6\" >Jul</th> \n",
       "        <td id=\"T_76e649b6_8834_11e9_9325_f45c8991f033row6_col0\" class=\"data row6 col0\" >583</td> \n",
       "        <td id=\"T_76e649b6_8834_11e9_9325_f45c8991f033row6_col1\" class=\"data row6 col1\" >7603</td> \n",
       "        <td id=\"T_76e649b6_8834_11e9_9325_f45c8991f033row6_col2\" class=\"data row6 col2\" >43441</td> \n",
       "    </tr>    <tr> \n",
       "        <th id=\"T_76e649b6_8834_11e9_9325_f45c8991f033level0_row7\" class=\"row_heading level0 row7\" >Aug</th> \n",
       "        <td id=\"T_76e649b6_8834_11e9_9325_f45c8991f033row7_col0\" class=\"data row7 col0\" >570</td> \n",
       "        <td id=\"T_76e649b6_8834_11e9_9325_f45c8991f033row7_col1\" class=\"data row7 col1\" >7129</td> \n",
       "        <td id=\"T_76e649b6_8834_11e9_9325_f45c8991f033row7_col2\" class=\"data row7 col2\" >39531</td> \n",
       "    </tr>    <tr> \n",
       "        <th id=\"T_76e649b6_8834_11e9_9325_f45c8991f033level0_row8\" class=\"row_heading level0 row8\" >Sep</th> \n",
       "        <td id=\"T_76e649b6_8834_11e9_9325_f45c8991f033row8_col0\" class=\"data row8 col0\" >564</td> \n",
       "        <td id=\"T_76e649b6_8834_11e9_9325_f45c8991f033row8_col1\" class=\"data row8 col1\" >7229</td> \n",
       "        <td id=\"T_76e649b6_8834_11e9_9325_f45c8991f033row8_col2\" class=\"data row8 col2\" >41318</td> \n",
       "    </tr>    <tr> \n",
       "        <th id=\"T_76e649b6_8834_11e9_9325_f45c8991f033level0_row9\" class=\"row_heading level0 row9\" >Oct</th> \n",
       "        <td id=\"T_76e649b6_8834_11e9_9325_f45c8991f033row9_col0\" class=\"data row9 col0\" >564</td> \n",
       "        <td id=\"T_76e649b6_8834_11e9_9325_f45c8991f033row9_col1\" class=\"data row9 col1\" >7284</td> \n",
       "        <td id=\"T_76e649b6_8834_11e9_9325_f45c8991f033row9_col2\" class=\"data row9 col2\" >44453</td> \n",
       "    </tr>    <tr> \n",
       "        <th id=\"T_76e649b6_8834_11e9_9325_f45c8991f033level0_row10\" class=\"row_heading level0 row10\" >Nov</th> \n",
       "        <td id=\"T_76e649b6_8834_11e9_9325_f45c8991f033row10_col0\" class=\"data row10 col0\" >577</td> \n",
       "        <td id=\"T_76e649b6_8834_11e9_9325_f45c8991f033row10_col1\" class=\"data row10 col1\" >7186</td> \n",
       "        <td id=\"T_76e649b6_8834_11e9_9325_f45c8991f033row10_col2\" class=\"data row10 col2\" >44334</td> \n",
       "    </tr>    <tr> \n",
       "        <th id=\"T_76e649b6_8834_11e9_9325_f45c8991f033level0_row11\" class=\"row_heading level0 row11\" >Dec</th> \n",
       "        <td id=\"T_76e649b6_8834_11e9_9325_f45c8991f033row11_col0\" class=\"data row11 col0\" >654</td> \n",
       "        <td id=\"T_76e649b6_8834_11e9_9325_f45c8991f033row11_col1\" class=\"data row11 col1\" >6587</td> \n",
       "        <td id=\"T_76e649b6_8834_11e9_9325_f45c8991f033row11_col2\" class=\"data row11 col2\" >40097</td> \n",
       "    </tr></tbody> \n",
       "</table> "
      ],
      "text/plain": [
       "<pandas.io.formats.style.Styler at 0x1a12944ba8>"
      ]
     },
     "execution_count": 22,
     "metadata": {},
     "output_type": "execute_result"
    }
   ],
   "source": [
    "#Group ASL by Month\n",
    "seasongrpmonth = (season.groupby(['Accident_Severity_Label','Month'])['ID'].agg('count')\n",
    "                                  .unstack('Accident_Severity_Label')\n",
    "                                  .reindex(['Jan','Feb','Mar','Apr','May','Jun','Jul','Aug','Sep','Oct','Nov','Dec']))\n",
    "#Highlight Max Values\n",
    "seasongrpmonth.style.highlight_max(color='yellow')"
   ]
  },
  {
   "cell_type": "code",
   "execution_count": 23,
   "metadata": {
    "scrolled": false
   },
   "outputs": [
    {
     "data": {
      "text/html": [
       "<style  type=\"text/css\" >\n",
       "    #T_76f73c08_8834_11e9_a287_f45c8991f033row6_col1 {\n",
       "            background-color:  yellow;\n",
       "        }    #T_76f73c08_8834_11e9_a287_f45c8991f033row9_col2 {\n",
       "            background-color:  yellow;\n",
       "        }    #T_76f73c08_8834_11e9_a287_f45c8991f033row11_col0 {\n",
       "            background-color:  yellow;\n",
       "        }</style>  \n",
       "<table id=\"T_76f73c08_8834_11e9_a287_f45c8991f033\" > \n",
       "<thead>    <tr> \n",
       "        <th class=\"index_name level0\" >Accident_Severity_Label</th> \n",
       "        <th class=\"col_heading level0 col0\" >Fatal</th> \n",
       "        <th class=\"col_heading level0 col1\" >Serious</th> \n",
       "        <th class=\"col_heading level0 col2\" >Slight</th> \n",
       "    </tr>    <tr> \n",
       "        <th class=\"index_name level0\" >Month</th> \n",
       "        <th class=\"blank\" ></th> \n",
       "        <th class=\"blank\" ></th> \n",
       "        <th class=\"blank\" ></th> \n",
       "    </tr></thead> \n",
       "<tbody>    <tr> \n",
       "        <th id=\"T_76f73c08_8834_11e9_a287_f45c8991f033level0_row0\" class=\"row_heading level0 row0\" >Jan</th> \n",
       "        <td id=\"T_76f73c08_8834_11e9_a287_f45c8991f033row0_col0\" class=\"data row0 col0\" >8%</td> \n",
       "        <td id=\"T_76f73c08_8834_11e9_a287_f45c8991f033row0_col1\" class=\"data row0 col1\" >7%</td> \n",
       "        <td id=\"T_76f73c08_8834_11e9_a287_f45c8991f033row0_col2\" class=\"data row0 col2\" >8%</td> \n",
       "    </tr>    <tr> \n",
       "        <th id=\"T_76f73c08_8834_11e9_a287_f45c8991f033level0_row1\" class=\"row_heading level0 row1\" >Feb</th> \n",
       "        <td id=\"T_76f73c08_8834_11e9_a287_f45c8991f033row1_col0\" class=\"data row1 col0\" >7%</td> \n",
       "        <td id=\"T_76f73c08_8834_11e9_a287_f45c8991f033row1_col1\" class=\"data row1 col1\" >7%</td> \n",
       "        <td id=\"T_76f73c08_8834_11e9_a287_f45c8991f033row1_col2\" class=\"data row1 col2\" >7%</td> \n",
       "    </tr>    <tr> \n",
       "        <th id=\"T_76f73c08_8834_11e9_a287_f45c8991f033level0_row2\" class=\"row_heading level0 row2\" >Mar</th> \n",
       "        <td id=\"T_76f73c08_8834_11e9_a287_f45c8991f033row2_col0\" class=\"data row2 col0\" >7%</td> \n",
       "        <td id=\"T_76f73c08_8834_11e9_a287_f45c8991f033row2_col1\" class=\"data row2 col1\" >8%</td> \n",
       "        <td id=\"T_76f73c08_8834_11e9_a287_f45c8991f033row2_col2\" class=\"data row2 col2\" >8%</td> \n",
       "    </tr>    <tr> \n",
       "        <th id=\"T_76f73c08_8834_11e9_a287_f45c8991f033level0_row3\" class=\"row_heading level0 row3\" >Apr</th> \n",
       "        <td id=\"T_76f73c08_8834_11e9_a287_f45c8991f033row3_col0\" class=\"data row3 col0\" >8%</td> \n",
       "        <td id=\"T_76f73c08_8834_11e9_a287_f45c8991f033row3_col1\" class=\"data row3 col1\" >7%</td> \n",
       "        <td id=\"T_76f73c08_8834_11e9_a287_f45c8991f033row3_col2\" class=\"data row3 col2\" >7%</td> \n",
       "    </tr>    <tr> \n",
       "        <th id=\"T_76f73c08_8834_11e9_a287_f45c8991f033level0_row4\" class=\"row_heading level0 row4\" >May</th> \n",
       "        <td id=\"T_76f73c08_8834_11e9_a287_f45c8991f033row4_col0\" class=\"data row4 col0\" >8%</td> \n",
       "        <td id=\"T_76f73c08_8834_11e9_a287_f45c8991f033row4_col1\" class=\"data row4 col1\" >9%</td> \n",
       "        <td id=\"T_76f73c08_8834_11e9_a287_f45c8991f033row4_col2\" class=\"data row4 col2\" >8%</td> \n",
       "    </tr>    <tr> \n",
       "        <th id=\"T_76f73c08_8834_11e9_a287_f45c8991f033level0_row5\" class=\"row_heading level0 row5\" >Jun</th> \n",
       "        <td id=\"T_76f73c08_8834_11e9_a287_f45c8991f033row5_col0\" class=\"data row5 col0\" >8%</td> \n",
       "        <td id=\"T_76f73c08_8834_11e9_a287_f45c8991f033row5_col1\" class=\"data row5 col1\" >9%</td> \n",
       "        <td id=\"T_76f73c08_8834_11e9_a287_f45c8991f033row5_col2\" class=\"data row5 col2\" >8%</td> \n",
       "    </tr>    <tr> \n",
       "        <th id=\"T_76f73c08_8834_11e9_a287_f45c8991f033level0_row6\" class=\"row_heading level0 row6\" >Jul</th> \n",
       "        <td id=\"T_76f73c08_8834_11e9_a287_f45c8991f033row6_col0\" class=\"data row6 col0\" >9%</td> \n",
       "        <td id=\"T_76f73c08_8834_11e9_a287_f45c8991f033row6_col1\" class=\"data row6 col1\" >9%</td> \n",
       "        <td id=\"T_76f73c08_8834_11e9_a287_f45c8991f033row6_col2\" class=\"data row6 col2\" >9%</td> \n",
       "    </tr>    <tr> \n",
       "        <th id=\"T_76f73c08_8834_11e9_a287_f45c8991f033level0_row7\" class=\"row_heading level0 row7\" >Aug</th> \n",
       "        <td id=\"T_76f73c08_8834_11e9_a287_f45c8991f033row7_col0\" class=\"data row7 col0\" >9%</td> \n",
       "        <td id=\"T_76f73c08_8834_11e9_a287_f45c8991f033row7_col1\" class=\"data row7 col1\" >9%</td> \n",
       "        <td id=\"T_76f73c08_8834_11e9_a287_f45c8991f033row7_col2\" class=\"data row7 col2\" >8%</td> \n",
       "    </tr>    <tr> \n",
       "        <th id=\"T_76f73c08_8834_11e9_a287_f45c8991f033level0_row8\" class=\"row_heading level0 row8\" >Sep</th> \n",
       "        <td id=\"T_76f73c08_8834_11e9_a287_f45c8991f033row8_col0\" class=\"data row8 col0\" >9%</td> \n",
       "        <td id=\"T_76f73c08_8834_11e9_a287_f45c8991f033row8_col1\" class=\"data row8 col1\" >9%</td> \n",
       "        <td id=\"T_76f73c08_8834_11e9_a287_f45c8991f033row8_col2\" class=\"data row8 col2\" >9%</td> \n",
       "    </tr>    <tr> \n",
       "        <th id=\"T_76f73c08_8834_11e9_a287_f45c8991f033level0_row9\" class=\"row_heading level0 row9\" >Oct</th> \n",
       "        <td id=\"T_76f73c08_8834_11e9_a287_f45c8991f033row9_col0\" class=\"data row9 col0\" >9%</td> \n",
       "        <td id=\"T_76f73c08_8834_11e9_a287_f45c8991f033row9_col1\" class=\"data row9 col1\" >9%</td> \n",
       "        <td id=\"T_76f73c08_8834_11e9_a287_f45c8991f033row9_col2\" class=\"data row9 col2\" >9%</td> \n",
       "    </tr>    <tr> \n",
       "        <th id=\"T_76f73c08_8834_11e9_a287_f45c8991f033level0_row10\" class=\"row_heading level0 row10\" >Nov</th> \n",
       "        <td id=\"T_76f73c08_8834_11e9_a287_f45c8991f033row10_col0\" class=\"data row10 col0\" >9%</td> \n",
       "        <td id=\"T_76f73c08_8834_11e9_a287_f45c8991f033row10_col1\" class=\"data row10 col1\" >9%</td> \n",
       "        <td id=\"T_76f73c08_8834_11e9_a287_f45c8991f033row10_col2\" class=\"data row10 col2\" >9%</td> \n",
       "    </tr>    <tr> \n",
       "        <th id=\"T_76f73c08_8834_11e9_a287_f45c8991f033level0_row11\" class=\"row_heading level0 row11\" >Dec</th> \n",
       "        <td id=\"T_76f73c08_8834_11e9_a287_f45c8991f033row11_col0\" class=\"data row11 col0\" >10%</td> \n",
       "        <td id=\"T_76f73c08_8834_11e9_a287_f45c8991f033row11_col1\" class=\"data row11 col1\" >8%</td> \n",
       "        <td id=\"T_76f73c08_8834_11e9_a287_f45c8991f033row11_col2\" class=\"data row11 col2\" >8%</td> \n",
       "    </tr></tbody> \n",
       "</table> "
      ],
      "text/plain": [
       "<pandas.io.formats.style.Styler at 0x1a1339d278>"
      ]
     },
     "execution_count": 23,
     "metadata": {},
     "output_type": "execute_result"
    }
   ],
   "source": [
    "#Group ASL and Month & Normalize by ASL\n",
    "((pd.crosstab(season['Month'],season['Accident_Severity_Label'],normalize='columns')*100)\n",
    "    .reindex(['Jan','Feb','Mar','Apr','May','Jun','Jul','Aug','Sep','Oct','Nov','Dec']).style.format('{0:,.0f}%')\n",
    "    .highlight_max(color='yellow'))"
   ]
  },
  {
   "cell_type": "code",
   "execution_count": 70,
   "metadata": {},
   "outputs": [
    {
     "data": {
      "text/plain": [
       "Oct    9.165821\n",
       "Nov    9.130070\n",
       "Jul    9.047702\n",
       "Sep    8.606769\n",
       "Jun    8.395066\n",
       "May    8.347573\n",
       "Dec    8.296049\n",
       "Aug    8.277121\n",
       "Jan    8.017574\n",
       "Mar    7.940464\n",
       "Apr    7.476924\n",
       "Feb    7.298868\n",
       "Name: Month, dtype: float64"
      ]
     },
     "execution_count": 70,
     "metadata": {},
     "output_type": "execute_result"
    }
   ],
   "source": [
    "(season.Month.value_counts(normalize=True)*100)"
   ]
  },
  {
   "cell_type": "code",
   "execution_count": 58,
   "metadata": {
    "scrolled": false
   },
   "outputs": [
    {
     "data": {
      "application/vnd.plotly.v1+json": {
       "data": [
        {
         "marker": {
          "color": "rgba(255, 153, 51, 0.6)",
          "line": {
           "color": "rgba(255, 153, 51, 1.0)",
           "width": 1
          }
         },
         "name": "Fatal",
         "orientation": "h",
         "text": "",
         "type": "bar",
         "uid": "b543ff22-8835-11e9-a54b-f45c8991f033",
         "visible": true,
         "x": [
          505,
          433,
          488,
          501,
          550,
          530,
          583,
          570,
          564,
          564,
          577,
          654
         ],
         "y": [
          "Jan",
          "Feb",
          "Mar",
          "Apr",
          "May",
          "Jun",
          "Jul",
          "Aug",
          "Sep",
          "Oct",
          "Nov",
          "Dec"
         ]
        },
        {
         "marker": {
          "color": "rgba(55, 128, 191, 0.6)",
          "line": {
           "color": "rgba(55, 128, 191, 1.0)",
           "width": 1
          }
         },
         "name": "Serious",
         "orientation": "h",
         "text": "",
         "type": "bar",
         "uid": "b54400e4-8835-11e9-a504-f45c8991f033",
         "visible": true,
         "x": [
          6065,
          5622,
          6295,
          6070,
          7141,
          7028,
          7603,
          7129,
          7229,
          7284,
          7186,
          6587
         ],
         "y": [
          "Jan",
          "Feb",
          "Mar",
          "Apr",
          "May",
          "Jun",
          "Jul",
          "Aug",
          "Sep",
          "Oct",
          "Nov",
          "Dec"
         ]
        },
        {
         "marker": {
          "color": "rgba(50, 171, 96, 0.6)",
          "line": {
           "color": "rgba(50, 171, 96, 1.0)",
           "width": 1
          }
         },
         "name": "Slight",
         "orientation": "h",
         "text": "",
         "type": "bar",
         "uid": "b54401ac-8835-11e9-99a7-f45c8991f033",
         "visible": true,
         "x": [
          39179,
          35593,
          38526,
          36093,
          39941,
          40345,
          43441,
          39531,
          41318,
          44453,
          44334,
          40097
         ],
         "y": [
          "Jan",
          "Feb",
          "Mar",
          "Apr",
          "May",
          "Jun",
          "Jul",
          "Aug",
          "Sep",
          "Oct",
          "Nov",
          "Dec"
         ]
        }
       ],
       "layout": {
        "autosize": true,
        "barmode": "stack",
        "legend": {
         "bgcolor": "#F5F6F9",
         "font": {
          "color": "#4D5663"
         },
         "traceorder": "normal"
        },
        "paper_bgcolor": "#F5F6F9",
        "plot_bgcolor": "#F5F6F9",
        "title": "Accident Severity By Month",
        "titlefont": {
         "color": "#4D5663"
        },
        "xaxis": {
         "autorange": true,
         "gridcolor": "#E1E5ED",
         "range": [
          0,
          55053.68421052631
         ],
         "showgrid": true,
         "tickfont": {
          "color": "#4D5663"
         },
         "title": "No. of Accidents",
         "titlefont": {
          "color": "#4D5663"
         },
         "type": "linear",
         "zerolinecolor": "#E1E5ED"
        },
        "yaxis": {
         "autorange": true,
         "gridcolor": "#E1E5ED",
         "range": [
          -0.5,
          11.5
         ],
         "showgrid": true,
         "tickfont": {
          "color": "#4D5663"
         },
         "title": "Month",
         "titlefont": {
          "color": "#4D5663"
         },
         "type": "category",
         "zerolinecolor": "#E1E5ED"
        }
       }
      },
      "image/png": "[encoded data removed]",
      "text/html": [
       "<div id=\"ae5185d7-2e8c-48d0-8a3b-6289602974dc\" style=\"height: 525px; width: 100%;\" class=\"plotly-graph-div\"></div><script type=\"text/javascript\">require([\"plotly\"], function(Plotly) { window.PLOTLYENV=window.PLOTLYENV || {};window.PLOTLYENV.BASE_URL=\"https://plot.ly\";Plotly.newPlot(\"ae5185d7-2e8c-48d0-8a3b-6289602974dc\", [{\"marker\": {\"color\": \"rgba(255, 153, 51, 0.6)\", \"line\": {\"color\": \"rgba(255, 153, 51, 1.0)\", \"width\": 1}}, \"name\": \"Fatal\", \"orientation\": \"h\", \"text\": \"\", \"x\": [505, 433, 488, 501, 550, 530, 583, 570, 564, 564, 577, 654], \"y\": [\"Jan\", \"Feb\", \"Mar\", \"Apr\", \"May\", \"Jun\", \"Jul\", \"Aug\", \"Sep\", \"Oct\", \"Nov\", \"Dec\"], \"type\": \"bar\", \"uid\": \"b547abd8-8835-11e9-bd0c-f45c8991f033\"}, {\"marker\": {\"color\": \"rgba(55, 128, 191, 0.6)\", \"line\": {\"color\": \"rgba(55, 128, 191, 1.0)\", \"width\": 1}}, \"name\": \"Serious\", \"orientation\": \"h\", \"text\": \"\", \"x\": [6065, 5622, 6295, 6070, 7141, 7028, 7603, 7129, 7229, 7284, 7186, 6587], \"y\": [\"Jan\", \"Feb\", \"Mar\", \"Apr\", \"May\", \"Jun\", \"Jul\", \"Aug\", \"Sep\", \"Oct\", \"Nov\", \"Dec\"], \"type\": \"bar\", \"uid\": \"b547ad66-8835-11e9-9746-f45c8991f033\"}, {\"marker\": {\"color\": \"rgba(50, 171, 96, 0.6)\", \"line\": {\"color\": \"rgba(50, 171, 96, 1.0)\", \"width\": 1}}, \"name\": \"Slight\", \"orientation\": \"h\", \"text\": \"\", \"x\": [39179, 35593, 38526, 36093, 39941, 40345, 43441, 39531, 41318, 44453, 44334, 40097], \"y\": [\"Jan\", \"Feb\", \"Mar\", \"Apr\", \"May\", \"Jun\", \"Jul\", \"Aug\", \"Sep\", \"Oct\", \"Nov\", \"Dec\"], \"type\": \"bar\", \"uid\": \"b547ae1a-8835-11e9-b20b-f45c8991f033\"}], {\"barmode\": \"stack\", \"legend\": {\"bgcolor\": \"#F5F6F9\", \"font\": {\"color\": \"#4D5663\"}, \"traceorder\": \"normal\"}, \"paper_bgcolor\": \"#F5F6F9\", \"plot_bgcolor\": \"#F5F6F9\", \"title\": \"Accident Severity By Month\", \"titlefont\": {\"color\": \"#4D5663\"}, \"xaxis\": {\"gridcolor\": \"#E1E5ED\", \"showgrid\": true, \"tickfont\": {\"color\": \"#4D5663\"}, \"title\": \"No. of Accidents\", \"titlefont\": {\"color\": \"#4D5663\"}, \"zerolinecolor\": \"#E1E5ED\"}, \"yaxis\": {\"gridcolor\": \"#E1E5ED\", \"showgrid\": true, \"tickfont\": {\"color\": \"#4D5663\"}, \"title\": \"Month\", \"titlefont\": {\"color\": \"#4D5663\"}, \"zerolinecolor\": \"#E1E5ED\"}}, {\"showLink\": true, \"linkText\": \"Export to plot.ly\"})});</script>"
      ],
      "text/vnd.plotly.v1+html": [
       "<div id=\"ae5185d7-2e8c-48d0-8a3b-6289602974dc\" style=\"height: 525px; width: 100%;\" class=\"plotly-graph-div\"></div><script type=\"text/javascript\">require([\"plotly\"], function(Plotly) { window.PLOTLYENV=window.PLOTLYENV || {};window.PLOTLYENV.BASE_URL=\"https://plot.ly\";Plotly.newPlot(\"ae5185d7-2e8c-48d0-8a3b-6289602974dc\", [{\"marker\": {\"color\": \"rgba(255, 153, 51, 0.6)\", \"line\": {\"color\": \"rgba(255, 153, 51, 1.0)\", \"width\": 1}}, \"name\": \"Fatal\", \"orientation\": \"h\", \"text\": \"\", \"x\": [505, 433, 488, 501, 550, 530, 583, 570, 564, 564, 577, 654], \"y\": [\"Jan\", \"Feb\", \"Mar\", \"Apr\", \"May\", \"Jun\", \"Jul\", \"Aug\", \"Sep\", \"Oct\", \"Nov\", \"Dec\"], \"type\": \"bar\", \"uid\": \"b547abd8-8835-11e9-bd0c-f45c8991f033\"}, {\"marker\": {\"color\": \"rgba(55, 128, 191, 0.6)\", \"line\": {\"color\": \"rgba(55, 128, 191, 1.0)\", \"width\": 1}}, \"name\": \"Serious\", \"orientation\": \"h\", \"text\": \"\", \"x\": [6065, 5622, 6295, 6070, 7141, 7028, 7603, 7129, 7229, 7284, 7186, 6587], \"y\": [\"Jan\", \"Feb\", \"Mar\", \"Apr\", \"May\", \"Jun\", \"Jul\", \"Aug\", \"Sep\", \"Oct\", \"Nov\", \"Dec\"], \"type\": \"bar\", \"uid\": \"b547ad66-8835-11e9-9746-f45c8991f033\"}, {\"marker\": {\"color\": \"rgba(50, 171, 96, 0.6)\", \"line\": {\"color\": \"rgba(50, 171, 96, 1.0)\", \"width\": 1}}, \"name\": \"Slight\", \"orientation\": \"h\", \"text\": \"\", \"x\": [39179, 35593, 38526, 36093, 39941, 40345, 43441, 39531, 41318, 44453, 44334, 40097], \"y\": [\"Jan\", \"Feb\", \"Mar\", \"Apr\", \"May\", \"Jun\", \"Jul\", \"Aug\", \"Sep\", \"Oct\", \"Nov\", \"Dec\"], \"type\": \"bar\", \"uid\": \"b547ae1a-8835-11e9-b20b-f45c8991f033\"}], {\"barmode\": \"stack\", \"legend\": {\"bgcolor\": \"#F5F6F9\", \"font\": {\"color\": \"#4D5663\"}, \"traceorder\": \"normal\"}, \"paper_bgcolor\": \"#F5F6F9\", \"plot_bgcolor\": \"#F5F6F9\", \"title\": \"Accident Severity By Month\", \"titlefont\": {\"color\": \"#4D5663\"}, \"xaxis\": {\"gridcolor\": \"#E1E5ED\", \"showgrid\": true, \"tickfont\": {\"color\": \"#4D5663\"}, \"title\": \"No. of Accidents\", \"titlefont\": {\"color\": \"#4D5663\"}, \"zerolinecolor\": \"#E1E5ED\"}, \"yaxis\": {\"gridcolor\": \"#E1E5ED\", \"showgrid\": true, \"tickfont\": {\"color\": \"#4D5663\"}, \"title\": \"Month\", \"titlefont\": {\"color\": \"#4D5663\"}, \"zerolinecolor\": \"#E1E5ED\"}}, {\"showLink\": true, \"linkText\": \"Export to plot.ly\"})});</script>"
      ]
     },
     "metadata": {},
     "output_type": "display_data"
    }
   ],
   "source": [
    "seasongrpmonth.iplot(kind='barh', barmode='stack',title='Accident Severity By Month',xTitle='No. of Accidents',\n",
    "                     yTitle='Month')"
   ]
  },
  {
   "cell_type": "markdown",
   "metadata": {},
   "source": [
    "<p> \n",
    "- October 52.3k (9.16%) , November 52k (9.13%) , July 51.6k (9.04%) are the top 3 Months that have highest accidents <br>\n",
    "- Highest No. Fatal Accidents Occur in Dec 654 <br>\n",
    "</p>"
   ]
  },
  {
   "cell_type": "markdown",
   "metadata": {},
   "source": [
    "## Year"
   ]
  },
  {
   "cell_type": "code",
   "execution_count": 25,
   "metadata": {
    "scrolled": false
   },
   "outputs": [
    {
     "data": {
      "text/html": [
       "<style  type=\"text/css\" >\n",
       "    #T_770cfeee_8834_11e9_85c3_f45c8991f033row0_col1 {\n",
       "            background-color:  yellow;\n",
       "            : ;\n",
       "        }    #T_770cfeee_8834_11e9_85c3_f45c8991f033row1_col0 {\n",
       "            : ;\n",
       "            background-color:  lightgreen;\n",
       "        }    #T_770cfeee_8834_11e9_85c3_f45c8991f033row1_col1 {\n",
       "            : ;\n",
       "            background-color:  lightgreen;\n",
       "        }    #T_770cfeee_8834_11e9_85c3_f45c8991f033row1_col2 {\n",
       "            : ;\n",
       "            background-color:  lightgreen;\n",
       "        }    #T_770cfeee_8834_11e9_85c3_f45c8991f033row2_col0 {\n",
       "            background-color:  yellow;\n",
       "            : ;\n",
       "        }    #T_770cfeee_8834_11e9_85c3_f45c8991f033row2_col2 {\n",
       "            background-color:  yellow;\n",
       "            : ;\n",
       "        }</style>  \n",
       "<table id=\"T_770cfeee_8834_11e9_85c3_f45c8991f033\" > \n",
       "<thead>    <tr> \n",
       "        <th class=\"index_name level0\" >Accident_Severity_Label</th> \n",
       "        <th class=\"col_heading level0 col0\" >Fatal</th> \n",
       "        <th class=\"col_heading level0 col1\" >Serious</th> \n",
       "        <th class=\"col_heading level0 col2\" >Slight</th> \n",
       "    </tr>    <tr> \n",
       "        <th class=\"index_name level0\" >Year</th> \n",
       "        <th class=\"blank\" ></th> \n",
       "        <th class=\"blank\" ></th> \n",
       "        <th class=\"blank\" ></th> \n",
       "    </tr></thead> \n",
       "<tbody>    <tr> \n",
       "        <th id=\"T_770cfeee_8834_11e9_85c3_f45c8991f033level0_row0\" class=\"row_heading level0 row0\" >2012</th> \n",
       "        <td id=\"T_770cfeee_8834_11e9_85c3_f45c8991f033row0_col0\" class=\"data row0 col0\" >1637</td> \n",
       "        <td id=\"T_770cfeee_8834_11e9_85c3_f45c8991f033row0_col1\" class=\"data row0 col1\" >20901</td> \n",
       "        <td id=\"T_770cfeee_8834_11e9_85c3_f45c8991f033row0_col2\" class=\"data row0 col2\" >123033</td> \n",
       "    </tr>    <tr> \n",
       "        <th id=\"T_770cfeee_8834_11e9_85c3_f45c8991f033level0_row1\" class=\"row_heading level0 row1\" >2013</th> \n",
       "        <td id=\"T_770cfeee_8834_11e9_85c3_f45c8991f033row1_col0\" class=\"data row1 col0\" >1608</td> \n",
       "        <td id=\"T_770cfeee_8834_11e9_85c3_f45c8991f033row1_col1\" class=\"data row1 col1\" >19624</td> \n",
       "        <td id=\"T_770cfeee_8834_11e9_85c3_f45c8991f033row1_col2\" class=\"data row1 col2\" >117428</td> \n",
       "    </tr>    <tr> \n",
       "        <th id=\"T_770cfeee_8834_11e9_85c3_f45c8991f033level0_row2\" class=\"row_heading level0 row2\" >2014</th> \n",
       "        <td id=\"T_770cfeee_8834_11e9_85c3_f45c8991f033row2_col0\" class=\"data row2 col0\" >1658</td> \n",
       "        <td id=\"T_770cfeee_8834_11e9_85c3_f45c8991f033row2_col1\" class=\"data row2 col1\" >20676</td> \n",
       "        <td id=\"T_770cfeee_8834_11e9_85c3_f45c8991f033row2_col2\" class=\"data row2 col2\" >123988</td> \n",
       "    </tr>    <tr> \n",
       "        <th id=\"T_770cfeee_8834_11e9_85c3_f45c8991f033level0_row3\" class=\"row_heading level0 row3\" >2015</th> \n",
       "        <td id=\"T_770cfeee_8834_11e9_85c3_f45c8991f033row3_col0\" class=\"data row3 col0\" >1616</td> \n",
       "        <td id=\"T_770cfeee_8834_11e9_85c3_f45c8991f033row3_col1\" class=\"data row3 col1\" >20038</td> \n",
       "        <td id=\"T_770cfeee_8834_11e9_85c3_f45c8991f033row3_col2\" class=\"data row3 col2\" >118402</td> \n",
       "    </tr></tbody> \n",
       "</table> "
      ],
      "text/plain": [
       "<pandas.io.formats.style.Styler at 0x1a127dbd30>"
      ]
     },
     "execution_count": 25,
     "metadata": {},
     "output_type": "execute_result"
    }
   ],
   "source": [
    "#Group Data ASL against Year\n",
    "seasongrpyear = (season.groupby(['Accident_Severity_Label','Year'])['ID'].agg('count')\n",
    "                 .unstack('Accident_Severity_Label'))\n",
    "\n",
    "#Highlight Max Values\n",
    "seasongrpyear.style.highlight_max(color='yellow').highlight_min(color='lightgreen')"
   ]
  },
  {
   "cell_type": "code",
   "execution_count": 100,
   "metadata": {},
   "outputs": [
    {
     "data": {
      "text/plain": [
       "2012    145571\n",
       "2013    138660\n",
       "2014    146322\n",
       "2015    140056\n",
       "Name: Year, dtype: int64"
      ]
     },
     "execution_count": 100,
     "metadata": {},
     "output_type": "execute_result"
    }
   ],
   "source": [
    "season.Year.value_counts().sort_index()"
   ]
  },
  {
   "cell_type": "code",
   "execution_count": 26,
   "metadata": {
    "scrolled": false
   },
   "outputs": [
    {
     "data": {
      "application/vnd.plotly.v1+json": {
       "data": [
        {
         "marker": {
          "color": "rgba(255, 153, 51, 0.6)",
          "line": {
           "color": "rgba(255, 153, 51, 1.0)",
           "width": 1
          }
         },
         "name": "Fatal",
         "orientation": "h",
         "text": "",
         "type": "bar",
         "uid": "77127ea8-8834-11e9-bc0e-f45c8991f033",
         "visible": true,
         "x": [
          1637,
          1608,
          1658,
          1616
         ],
         "y": [
          2012,
          2013,
          2014,
          2015
         ]
        },
        {
         "marker": {
          "color": "rgba(55, 128, 191, 0.6)",
          "line": {
           "color": "rgba(55, 128, 191, 1.0)",
           "width": 1
          }
         },
         "name": "Serious",
         "orientation": "h",
         "text": "",
         "type": "bar",
         "uid": "77128058-8834-11e9-ac8f-f45c8991f033",
         "visible": true,
         "x": [
          20901,
          19624,
          20676,
          20038
         ],
         "y": [
          2012,
          2013,
          2014,
          2015
         ]
        },
        {
         "marker": {
          "color": "rgba(50, 171, 96, 0.6)",
          "line": {
           "color": "rgba(50, 171, 96, 1.0)",
           "width": 1
          }
         },
         "name": "Slight",
         "orientation": "h",
         "text": "",
         "type": "bar",
         "uid": "77128118-8834-11e9-84b7-f45c8991f033",
         "visible": true,
         "x": [
          123033,
          117428,
          123988,
          118402
         ],
         "y": [
          2012,
          2013,
          2014,
          2015
         ]
        }
       ],
       "layout": {
        "autosize": true,
        "legend": {
         "bgcolor": "#F5F6F9",
         "font": {
          "color": "#4D5663"
         }
        },
        "paper_bgcolor": "#F5F6F9",
        "plot_bgcolor": "#F5F6F9",
        "title": "Accident Severity By Year",
        "titlefont": {
         "color": "#4D5663"
        },
        "xaxis": {
         "autorange": true,
         "gridcolor": "#E1E5ED",
         "range": [
          0,
          130513.68421052632
         ],
         "showgrid": true,
         "tickfont": {
          "color": "#4D5663"
         },
         "title": "No of Accidents",
         "titlefont": {
          "color": "#4D5663"
         },
         "type": "linear",
         "zerolinecolor": "#E1E5ED"
        },
        "yaxis": {
         "autorange": true,
         "gridcolor": "#E1E5ED",
         "range": [
          2011.5,
          2015.5
         ],
         "showgrid": true,
         "tickfont": {
          "color": "#4D5663"
         },
         "title": "Year",
         "titlefont": {
          "color": "#4D5663"
         },
         "type": "linear",
         "zerolinecolor": "#E1E5ED"
        }
       }
      },
      "image/png": "[encoded data removed]",
      "text/html": [
       "<div id=\"b3078af1-b913-457a-b27f-a67b52fbb984\" style=\"height: 525px; width: 100%;\" class=\"plotly-graph-div\"></div><script type=\"text/javascript\">require([\"plotly\"], function(Plotly) { window.PLOTLYENV=window.PLOTLYENV || {};window.PLOTLYENV.BASE_URL=\"https://plot.ly\";Plotly.newPlot(\"b3078af1-b913-457a-b27f-a67b52fbb984\", [{\"marker\": {\"color\": \"rgba(255, 153, 51, 0.6)\", \"line\": {\"color\": \"rgba(255, 153, 51, 1.0)\", \"width\": 1}}, \"name\": \"Fatal\", \"orientation\": \"h\", \"text\": \"\", \"x\": [1637, 1608, 1658, 1616], \"y\": [2012, 2013, 2014, 2015], \"type\": \"bar\", \"uid\": \"7715d968-8834-11e9-b296-f45c8991f033\"}, {\"marker\": {\"color\": \"rgba(55, 128, 191, 0.6)\", \"line\": {\"color\": \"rgba(55, 128, 191, 1.0)\", \"width\": 1}}, \"name\": \"Serious\", \"orientation\": \"h\", \"text\": \"\", \"x\": [20901, 19624, 20676, 20038], \"y\": [2012, 2013, 2014, 2015], \"type\": \"bar\", \"uid\": \"7715db36-8834-11e9-a2b5-f45c8991f033\"}, {\"marker\": {\"color\": \"rgba(50, 171, 96, 0.6)\", \"line\": {\"color\": \"rgba(50, 171, 96, 1.0)\", \"width\": 1}}, \"name\": \"Slight\", \"orientation\": \"h\", \"text\": \"\", \"x\": [123033, 117428, 123988, 118402], \"y\": [2012, 2013, 2014, 2015], \"type\": \"bar\", \"uid\": \"7715dbfe-8834-11e9-b999-f45c8991f033\"}], {\"legend\": {\"bgcolor\": \"#F5F6F9\", \"font\": {\"color\": \"#4D5663\"}}, \"paper_bgcolor\": \"#F5F6F9\", \"plot_bgcolor\": \"#F5F6F9\", \"title\": \"Accident Severity By Year\", \"titlefont\": {\"color\": \"#4D5663\"}, \"xaxis\": {\"gridcolor\": \"#E1E5ED\", \"showgrid\": true, \"tickfont\": {\"color\": \"#4D5663\"}, \"title\": \"No of Accidents\", \"titlefont\": {\"color\": \"#4D5663\"}, \"zerolinecolor\": \"#E1E5ED\"}, \"yaxis\": {\"gridcolor\": \"#E1E5ED\", \"showgrid\": true, \"tickfont\": {\"color\": \"#4D5663\"}, \"title\": \"Year\", \"titlefont\": {\"color\": \"#4D5663\"}, \"zerolinecolor\": \"#E1E5ED\"}}, {\"showLink\": true, \"linkText\": \"Export to plot.ly\"})});</script>"
      ],
      "text/vnd.plotly.v1+html": [
       "<div id=\"b3078af1-b913-457a-b27f-a67b52fbb984\" style=\"height: 525px; width: 100%;\" class=\"plotly-graph-div\"></div><script type=\"text/javascript\">require([\"plotly\"], function(Plotly) { window.PLOTLYENV=window.PLOTLYENV || {};window.PLOTLYENV.BASE_URL=\"https://plot.ly\";Plotly.newPlot(\"b3078af1-b913-457a-b27f-a67b52fbb984\", [{\"marker\": {\"color\": \"rgba(255, 153, 51, 0.6)\", \"line\": {\"color\": \"rgba(255, 153, 51, 1.0)\", \"width\": 1}}, \"name\": \"Fatal\", \"orientation\": \"h\", \"text\": \"\", \"x\": [1637, 1608, 1658, 1616], \"y\": [2012, 2013, 2014, 2015], \"type\": \"bar\", \"uid\": \"7715d968-8834-11e9-b296-f45c8991f033\"}, {\"marker\": {\"color\": \"rgba(55, 128, 191, 0.6)\", \"line\": {\"color\": \"rgba(55, 128, 191, 1.0)\", \"width\": 1}}, \"name\": \"Serious\", \"orientation\": \"h\", \"text\": \"\", \"x\": [20901, 19624, 20676, 20038], \"y\": [2012, 2013, 2014, 2015], \"type\": \"bar\", \"uid\": \"7715db36-8834-11e9-a2b5-f45c8991f033\"}, {\"marker\": {\"color\": \"rgba(50, 171, 96, 0.6)\", \"line\": {\"color\": \"rgba(50, 171, 96, 1.0)\", \"width\": 1}}, \"name\": \"Slight\", \"orientation\": \"h\", \"text\": \"\", \"x\": [123033, 117428, 123988, 118402], \"y\": [2012, 2013, 2014, 2015], \"type\": \"bar\", \"uid\": \"7715dbfe-8834-11e9-b999-f45c8991f033\"}], {\"legend\": {\"bgcolor\": \"#F5F6F9\", \"font\": {\"color\": \"#4D5663\"}}, \"paper_bgcolor\": \"#F5F6F9\", \"plot_bgcolor\": \"#F5F6F9\", \"title\": \"Accident Severity By Year\", \"titlefont\": {\"color\": \"#4D5663\"}, \"xaxis\": {\"gridcolor\": \"#E1E5ED\", \"showgrid\": true, \"tickfont\": {\"color\": \"#4D5663\"}, \"title\": \"No of Accidents\", \"titlefont\": {\"color\": \"#4D5663\"}, \"zerolinecolor\": \"#E1E5ED\"}, \"yaxis\": {\"gridcolor\": \"#E1E5ED\", \"showgrid\": true, \"tickfont\": {\"color\": \"#4D5663\"}, \"title\": \"Year\", \"titlefont\": {\"color\": \"#4D5663\"}, \"zerolinecolor\": \"#E1E5ED\"}}, {\"showLink\": true, \"linkText\": \"Export to plot.ly\"})});</script>"
      ]
     },
     "metadata": {},
     "output_type": "display_data"
    }
   ],
   "source": [
    "seasongrpyear.iplot(kind='barh', xTitle='No of Accidents', yTitle='Year',title='Accident Severity By Year')"
   ]
  },
  {
   "cell_type": "markdown",
   "metadata": {},
   "source": [
    "<p> \n",
    "- 2014 has the Highest No. of Accidents by Year totalling 146k <br>\n",
    "- 2013 has the Lowest No. of Accidents by Year totalling 138k <br>\n",
    "- No Trend in Overall No. of Accidents By Year and ASL <br>\n",
    "</p>\n",
    "    \n",
    "    "
   ]
  },
  {
   "cell_type": "markdown",
   "metadata": {},
   "source": [
    "<br>"
   ]
  },
  {
   "cell_type": "markdown",
   "metadata": {},
   "source": [
    "## External Factors"
   ]
  },
  {
   "cell_type": "code",
   "execution_count": 27,
   "metadata": {
    "scrolled": false
   },
   "outputs": [],
   "source": [
    "#External Factors Dict's Import\n",
    "road_dic = pd.read_csv('Road_Type.csv')\n",
    "light_dic = pd.read_csv('Light_Conditions.csv')"
   ]
  },
  {
   "cell_type": "code",
   "execution_count": 28,
   "metadata": {
    "scrolled": false
   },
   "outputs": [
    {
     "data": {
      "text/html": [
       "<div>\n",
       "<style scoped>\n",
       "    .dataframe tbody tr th:only-of-type {\n",
       "        vertical-align: middle;\n",
       "    }\n",
       "\n",
       "    .dataframe tbody tr th {\n",
       "        vertical-align: top;\n",
       "    }\n",
       "\n",
       "    .dataframe thead th {\n",
       "        text-align: right;\n",
       "    }\n",
       "</style>\n",
       "<table border=\"1\" class=\"dataframe\">\n",
       "  <thead>\n",
       "    <tr style=\"text-align: right;\">\n",
       "      <th></th>\n",
       "      <th>ID</th>\n",
       "      <th>Light_Conditions</th>\n",
       "      <th>Road_Type</th>\n",
       "      <th>Accident_Severity_Label</th>\n",
       "    </tr>\n",
       "  </thead>\n",
       "  <tbody>\n",
       "    <tr>\n",
       "      <th>219851</th>\n",
       "      <td>219852</td>\n",
       "      <td>1</td>\n",
       "      <td>2</td>\n",
       "      <td>Slight</td>\n",
       "    </tr>\n",
       "    <tr>\n",
       "      <th>378021</th>\n",
       "      <td>378022</td>\n",
       "      <td>1</td>\n",
       "      <td>3</td>\n",
       "      <td>Serious</td>\n",
       "    </tr>\n",
       "    <tr>\n",
       "      <th>300924</th>\n",
       "      <td>300925</td>\n",
       "      <td>4</td>\n",
       "      <td>6</td>\n",
       "      <td>Slight</td>\n",
       "    </tr>\n",
       "    <tr>\n",
       "      <th>204406</th>\n",
       "      <td>204407</td>\n",
       "      <td>1</td>\n",
       "      <td>6</td>\n",
       "      <td>Slight</td>\n",
       "    </tr>\n",
       "    <tr>\n",
       "      <th>340141</th>\n",
       "      <td>340142</td>\n",
       "      <td>1</td>\n",
       "      <td>6</td>\n",
       "      <td>Slight</td>\n",
       "    </tr>\n",
       "  </tbody>\n",
       "</table>\n",
       "</div>"
      ],
      "text/plain": [
       "            ID  Light_Conditions  Road_Type Accident_Severity_Label\n",
       "219851  219852                 1          2                  Slight\n",
       "378021  378022                 1          3                 Serious\n",
       "300924  300925                 4          6                  Slight\n",
       "204406  204407                 1          6                  Slight\n",
       "340141  340142                 1          6                  Slight"
      ]
     },
     "execution_count": 28,
     "metadata": {},
     "output_type": "execute_result"
    }
   ],
   "source": [
    "#Create an instance of the ukData and assign to ext_fac to reduce columns\n",
    "ext_fac = ukData[['ID','Light_Conditions','Road_Type','Accident_Severity_Label']]\n",
    "ext_fac.sample(5)"
   ]
  },
  {
   "cell_type": "code",
   "execution_count": 29,
   "metadata": {
    "scrolled": false
   },
   "outputs": [
    {
     "data": {
      "text/html": [
       "<div>\n",
       "<style scoped>\n",
       "    .dataframe tbody tr th:only-of-type {\n",
       "        vertical-align: middle;\n",
       "    }\n",
       "\n",
       "    .dataframe tbody tr th {\n",
       "        vertical-align: top;\n",
       "    }\n",
       "\n",
       "    .dataframe thead th {\n",
       "        text-align: right;\n",
       "    }\n",
       "</style>\n",
       "<table border=\"1\" class=\"dataframe\">\n",
       "  <thead>\n",
       "    <tr style=\"text-align: right;\">\n",
       "      <th></th>\n",
       "      <th>ID</th>\n",
       "      <th>Light_Conditions</th>\n",
       "      <th>Road_Type</th>\n",
       "      <th>Accident_Severity_Label</th>\n",
       "      <th>code</th>\n",
       "      <th>Road</th>\n",
       "    </tr>\n",
       "  </thead>\n",
       "  <tbody>\n",
       "    <tr>\n",
       "      <th>0</th>\n",
       "      <td>1</td>\n",
       "      <td>4</td>\n",
       "      <td>6</td>\n",
       "      <td>Slight</td>\n",
       "      <td>6</td>\n",
       "      <td>Single carriageway</td>\n",
       "    </tr>\n",
       "    <tr>\n",
       "      <th>1</th>\n",
       "      <td>2</td>\n",
       "      <td>4</td>\n",
       "      <td>6</td>\n",
       "      <td>Slight</td>\n",
       "      <td>6</td>\n",
       "      <td>Single carriageway</td>\n",
       "    </tr>\n",
       "    <tr>\n",
       "      <th>2</th>\n",
       "      <td>3</td>\n",
       "      <td>1</td>\n",
       "      <td>2</td>\n",
       "      <td>Slight</td>\n",
       "      <td>2</td>\n",
       "      <td>One way street</td>\n",
       "    </tr>\n",
       "    <tr>\n",
       "      <th>3</th>\n",
       "      <td>4</td>\n",
       "      <td>1</td>\n",
       "      <td>6</td>\n",
       "      <td>Slight</td>\n",
       "      <td>6</td>\n",
       "      <td>Single carriageway</td>\n",
       "    </tr>\n",
       "    <tr>\n",
       "      <th>4</th>\n",
       "      <td>5</td>\n",
       "      <td>4</td>\n",
       "      <td>6</td>\n",
       "      <td>Slight</td>\n",
       "      <td>6</td>\n",
       "      <td>Single carriageway</td>\n",
       "    </tr>\n",
       "  </tbody>\n",
       "</table>\n",
       "</div>"
      ],
      "text/plain": [
       "   ID  Light_Conditions  Road_Type Accident_Severity_Label  code  \\\n",
       "0   1                 4          6                  Slight     6   \n",
       "1   2                 4          6                  Slight     6   \n",
       "2   3                 1          2                  Slight     2   \n",
       "3   4                 1          6                  Slight     6   \n",
       "4   5                 4          6                  Slight     6   \n",
       "\n",
       "                 Road  \n",
       "0  Single carriageway  \n",
       "1  Single carriageway  \n",
       "2      One way street  \n",
       "3  Single carriageway  \n",
       "4  Single carriageway  "
      ]
     },
     "execution_count": 29,
     "metadata": {},
     "output_type": "execute_result"
    }
   ],
   "source": [
    "#Merge Data with Road_Type Dic File\n",
    "ext_fac = (ext_fac.merge(road_dic, how ='left', left_on=['Road_Type'], right_on=['code']))\n",
    "ext_fac = ext_fac.rename(columns={'label':'Road'})\n",
    "ext_fac.head()"
   ]
  },
  {
   "cell_type": "code",
   "execution_count": 30,
   "metadata": {
    "scrolled": false
   },
   "outputs": [
    {
     "data": {
      "text/html": [
       "<div>\n",
       "<style scoped>\n",
       "    .dataframe tbody tr th:only-of-type {\n",
       "        vertical-align: middle;\n",
       "    }\n",
       "\n",
       "    .dataframe tbody tr th {\n",
       "        vertical-align: top;\n",
       "    }\n",
       "\n",
       "    .dataframe thead th {\n",
       "        text-align: right;\n",
       "    }\n",
       "</style>\n",
       "<table border=\"1\" class=\"dataframe\">\n",
       "  <thead>\n",
       "    <tr style=\"text-align: right;\">\n",
       "      <th></th>\n",
       "      <th>ID</th>\n",
       "      <th>Light_Conditions</th>\n",
       "      <th>Road_Type</th>\n",
       "      <th>Accident_Severity_Label</th>\n",
       "      <th>code_x</th>\n",
       "      <th>Road</th>\n",
       "      <th>code_y</th>\n",
       "      <th>Light</th>\n",
       "    </tr>\n",
       "  </thead>\n",
       "  <tbody>\n",
       "    <tr>\n",
       "      <th>0</th>\n",
       "      <td>1</td>\n",
       "      <td>4</td>\n",
       "      <td>6</td>\n",
       "      <td>Slight</td>\n",
       "      <td>6</td>\n",
       "      <td>Single carriageway</td>\n",
       "      <td>4</td>\n",
       "      <td>Darkness - lights lit</td>\n",
       "    </tr>\n",
       "    <tr>\n",
       "      <th>1</th>\n",
       "      <td>2</td>\n",
       "      <td>4</td>\n",
       "      <td>6</td>\n",
       "      <td>Slight</td>\n",
       "      <td>6</td>\n",
       "      <td>Single carriageway</td>\n",
       "      <td>4</td>\n",
       "      <td>Darkness - lights lit</td>\n",
       "    </tr>\n",
       "    <tr>\n",
       "      <th>2</th>\n",
       "      <td>3</td>\n",
       "      <td>1</td>\n",
       "      <td>2</td>\n",
       "      <td>Slight</td>\n",
       "      <td>2</td>\n",
       "      <td>One way street</td>\n",
       "      <td>1</td>\n",
       "      <td>Daylight</td>\n",
       "    </tr>\n",
       "    <tr>\n",
       "      <th>3</th>\n",
       "      <td>4</td>\n",
       "      <td>1</td>\n",
       "      <td>6</td>\n",
       "      <td>Slight</td>\n",
       "      <td>6</td>\n",
       "      <td>Single carriageway</td>\n",
       "      <td>1</td>\n",
       "      <td>Daylight</td>\n",
       "    </tr>\n",
       "    <tr>\n",
       "      <th>4</th>\n",
       "      <td>5</td>\n",
       "      <td>4</td>\n",
       "      <td>6</td>\n",
       "      <td>Slight</td>\n",
       "      <td>6</td>\n",
       "      <td>Single carriageway</td>\n",
       "      <td>4</td>\n",
       "      <td>Darkness - lights lit</td>\n",
       "    </tr>\n",
       "  </tbody>\n",
       "</table>\n",
       "</div>"
      ],
      "text/plain": [
       "   ID  Light_Conditions  Road_Type Accident_Severity_Label  code_x  \\\n",
       "0   1                 4          6                  Slight       6   \n",
       "1   2                 4          6                  Slight       6   \n",
       "2   3                 1          2                  Slight       2   \n",
       "3   4                 1          6                  Slight       6   \n",
       "4   5                 4          6                  Slight       6   \n",
       "\n",
       "                 Road  code_y                  Light  \n",
       "0  Single carriageway       4  Darkness - lights lit  \n",
       "1  Single carriageway       4  Darkness - lights lit  \n",
       "2      One way street       1               Daylight  \n",
       "3  Single carriageway       1               Daylight  \n",
       "4  Single carriageway       4  Darkness - lights lit  "
      ]
     },
     "execution_count": 30,
     "metadata": {},
     "output_type": "execute_result"
    }
   ],
   "source": [
    "#Merge Data with Light Conditions\n",
    "ext_fac = (ext_fac.merge(light_dic, how='left', left_on=['Light_Conditions'], right_on=['code']))\n",
    "ext_fac = ext_fac.rename(columns={'label':'Light'})\n",
    "ext_fac.head()"
   ]
  },
  {
   "cell_type": "markdown",
   "metadata": {},
   "source": [
    "##### View the Dic Data for Road and Light Factors"
   ]
  },
  {
   "cell_type": "code",
   "execution_count": 31,
   "metadata": {
    "scrolled": false
   },
   "outputs": [
    {
     "data": {
      "text/html": [
       "<div>\n",
       "<style scoped>\n",
       "    .dataframe tbody tr th:only-of-type {\n",
       "        vertical-align: middle;\n",
       "    }\n",
       "\n",
       "    .dataframe tbody tr th {\n",
       "        vertical-align: top;\n",
       "    }\n",
       "\n",
       "    .dataframe thead th {\n",
       "        text-align: right;\n",
       "    }\n",
       "</style>\n",
       "<table border=\"1\" class=\"dataframe\">\n",
       "  <thead>\n",
       "    <tr style=\"text-align: right;\">\n",
       "      <th></th>\n",
       "      <th>ID</th>\n",
       "      <th>Accident_Severity_Label</th>\n",
       "      <th>Road</th>\n",
       "      <th>Light</th>\n",
       "    </tr>\n",
       "  </thead>\n",
       "  <tbody>\n",
       "    <tr>\n",
       "      <th>0</th>\n",
       "      <td>1</td>\n",
       "      <td>Slight</td>\n",
       "      <td>Single carriageway</td>\n",
       "      <td>Darkness - lights lit</td>\n",
       "    </tr>\n",
       "    <tr>\n",
       "      <th>1</th>\n",
       "      <td>2</td>\n",
       "      <td>Slight</td>\n",
       "      <td>Single carriageway</td>\n",
       "      <td>Darkness - lights lit</td>\n",
       "    </tr>\n",
       "    <tr>\n",
       "      <th>2</th>\n",
       "      <td>3</td>\n",
       "      <td>Slight</td>\n",
       "      <td>One way street</td>\n",
       "      <td>Daylight</td>\n",
       "    </tr>\n",
       "    <tr>\n",
       "      <th>3</th>\n",
       "      <td>4</td>\n",
       "      <td>Slight</td>\n",
       "      <td>Single carriageway</td>\n",
       "      <td>Daylight</td>\n",
       "    </tr>\n",
       "    <tr>\n",
       "      <th>4</th>\n",
       "      <td>5</td>\n",
       "      <td>Slight</td>\n",
       "      <td>Single carriageway</td>\n",
       "      <td>Darkness - lights lit</td>\n",
       "    </tr>\n",
       "  </tbody>\n",
       "</table>\n",
       "</div>"
      ],
      "text/plain": [
       "   ID Accident_Severity_Label                Road                  Light\n",
       "0   1                  Slight  Single carriageway  Darkness - lights lit\n",
       "1   2                  Slight  Single carriageway  Darkness - lights lit\n",
       "2   3                  Slight      One way street               Daylight\n",
       "3   4                  Slight  Single carriageway               Daylight\n",
       "4   5                  Slight  Single carriageway  Darkness - lights lit"
      ]
     },
     "execution_count": 31,
     "metadata": {},
     "output_type": "execute_result"
    }
   ],
   "source": [
    "#Create Instance with Columns being used for Groupby\n",
    "ext_fac_fin = ext_fac.reindex(columns=['ID','Accident_Severity_Label','Road','Light'])\n",
    "#Test\n",
    "ext_fac_fin.head()"
   ]
  },
  {
   "cell_type": "code",
   "execution_count": 109,
   "metadata": {
    "scrolled": false
   },
   "outputs": [
    {
     "data": {
      "text/html": [
       "<div>\n",
       "<style scoped>\n",
       "    .dataframe tbody tr th:only-of-type {\n",
       "        vertical-align: middle;\n",
       "    }\n",
       "\n",
       "    .dataframe tbody tr th {\n",
       "        vertical-align: top;\n",
       "    }\n",
       "\n",
       "    .dataframe thead th {\n",
       "        text-align: right;\n",
       "    }\n",
       "</style>\n",
       "<table border=\"1\" class=\"dataframe\">\n",
       "  <thead>\n",
       "    <tr style=\"text-align: right;\">\n",
       "      <th></th>\n",
       "      <th>Accident_Severity_Label</th>\n",
       "      <th>Fatal</th>\n",
       "      <th>Serious</th>\n",
       "      <th>Slight</th>\n",
       "      <th>Total</th>\n",
       "    </tr>\n",
       "    <tr>\n",
       "      <th>Road</th>\n",
       "      <th>Light</th>\n",
       "      <th></th>\n",
       "      <th></th>\n",
       "      <th></th>\n",
       "      <th></th>\n",
       "    </tr>\n",
       "  </thead>\n",
       "  <tbody>\n",
       "    <tr>\n",
       "      <th rowspan=\"5\" valign=\"top\">Dual carriageway</th>\n",
       "      <th>Darkness - lighting unknown</th>\n",
       "      <td>24</td>\n",
       "      <td>122</td>\n",
       "      <td>992</td>\n",
       "      <td>1138</td>\n",
       "    </tr>\n",
       "    <tr>\n",
       "      <th>Darkness - lights lit</th>\n",
       "      <td>274</td>\n",
       "      <td>2244</td>\n",
       "      <td>13623</td>\n",
       "      <td>16141</td>\n",
       "    </tr>\n",
       "    <tr>\n",
       "      <th>Darkness - lights unlit</th>\n",
       "      <td>17</td>\n",
       "      <td>83</td>\n",
       "      <td>469</td>\n",
       "      <td>569</td>\n",
       "    </tr>\n",
       "    <tr>\n",
       "      <th>Darkness - no lighting</th>\n",
       "      <td>305</td>\n",
       "      <td>993</td>\n",
       "      <td>4727</td>\n",
       "      <td>6025</td>\n",
       "    </tr>\n",
       "    <tr>\n",
       "      <th>Daylight</th>\n",
       "      <td>638</td>\n",
       "      <td>6675</td>\n",
       "      <td>50226</td>\n",
       "      <td>57539</td>\n",
       "    </tr>\n",
       "    <tr>\n",
       "      <th rowspan=\"5\" valign=\"top\">One way street</th>\n",
       "      <th>Darkness - lighting unknown</th>\n",
       "      <td>2</td>\n",
       "      <td>17</td>\n",
       "      <td>104</td>\n",
       "      <td>123</td>\n",
       "    </tr>\n",
       "    <tr>\n",
       "      <th>Darkness - lights lit</th>\n",
       "      <td>21</td>\n",
       "      <td>402</td>\n",
       "      <td>2355</td>\n",
       "      <td>2778</td>\n",
       "    </tr>\n",
       "    <tr>\n",
       "      <th>Darkness - lights unlit</th>\n",
       "      <td>0</td>\n",
       "      <td>5</td>\n",
       "      <td>50</td>\n",
       "      <td>55</td>\n",
       "    </tr>\n",
       "    <tr>\n",
       "      <th>Darkness - no lighting</th>\n",
       "      <td>3</td>\n",
       "      <td>14</td>\n",
       "      <td>51</td>\n",
       "      <td>68</td>\n",
       "    </tr>\n",
       "    <tr>\n",
       "      <th>Daylight</th>\n",
       "      <td>46</td>\n",
       "      <td>1093</td>\n",
       "      <td>7136</td>\n",
       "      <td>8275</td>\n",
       "    </tr>\n",
       "    <tr>\n",
       "      <th rowspan=\"5\" valign=\"top\">Roundabout</th>\n",
       "      <th>Darkness - lighting unknown</th>\n",
       "      <td>2</td>\n",
       "      <td>60</td>\n",
       "      <td>537</td>\n",
       "      <td>599</td>\n",
       "    </tr>\n",
       "    <tr>\n",
       "      <th>Darkness - lights lit</th>\n",
       "      <td>32</td>\n",
       "      <td>982</td>\n",
       "      <td>8287</td>\n",
       "      <td>9301</td>\n",
       "    </tr>\n",
       "    <tr>\n",
       "      <th>Darkness - lights unlit</th>\n",
       "      <td>1</td>\n",
       "      <td>25</td>\n",
       "      <td>205</td>\n",
       "      <td>231</td>\n",
       "    </tr>\n",
       "    <tr>\n",
       "      <th>Darkness - no lighting</th>\n",
       "      <td>2</td>\n",
       "      <td>26</td>\n",
       "      <td>143</td>\n",
       "      <td>171</td>\n",
       "    </tr>\n",
       "    <tr>\n",
       "      <th>Daylight</th>\n",
       "      <td>65</td>\n",
       "      <td>2828</td>\n",
       "      <td>26301</td>\n",
       "      <td>29194</td>\n",
       "    </tr>\n",
       "    <tr>\n",
       "      <th rowspan=\"5\" valign=\"top\">Single carriageway</th>\n",
       "      <th>Darkness - lighting unknown</th>\n",
       "      <td>57</td>\n",
       "      <td>941</td>\n",
       "      <td>5219</td>\n",
       "      <td>6217</td>\n",
       "    </tr>\n",
       "    <tr>\n",
       "      <th>Darkness - lights lit</th>\n",
       "      <td>930</td>\n",
       "      <td>12883</td>\n",
       "      <td>67566</td>\n",
       "      <td>81379</td>\n",
       "    </tr>\n",
       "    <tr>\n",
       "      <th>Darkness - lights unlit</th>\n",
       "      <td>47</td>\n",
       "      <td>393</td>\n",
       "      <td>1785</td>\n",
       "      <td>2225</td>\n",
       "    </tr>\n",
       "    <tr>\n",
       "      <th>Darkness - no lighting</th>\n",
       "      <td>859</td>\n",
       "      <td>4888</td>\n",
       "      <td>16867</td>\n",
       "      <td>22614</td>\n",
       "    </tr>\n",
       "    <tr>\n",
       "      <th>Daylight</th>\n",
       "      <td>3136</td>\n",
       "      <td>45702</td>\n",
       "      <td>268795</td>\n",
       "      <td>317633</td>\n",
       "    </tr>\n",
       "    <tr>\n",
       "      <th rowspan=\"5\" valign=\"top\">Slip road</th>\n",
       "      <th>Darkness - lighting unknown</th>\n",
       "      <td>1</td>\n",
       "      <td>6</td>\n",
       "      <td>92</td>\n",
       "      <td>99</td>\n",
       "    </tr>\n",
       "    <tr>\n",
       "      <th>Darkness - lights lit</th>\n",
       "      <td>11</td>\n",
       "      <td>119</td>\n",
       "      <td>1017</td>\n",
       "      <td>1147</td>\n",
       "    </tr>\n",
       "    <tr>\n",
       "      <th>Darkness - lights unlit</th>\n",
       "      <td>0</td>\n",
       "      <td>1</td>\n",
       "      <td>34</td>\n",
       "      <td>35</td>\n",
       "    </tr>\n",
       "    <tr>\n",
       "      <th>Darkness - no lighting</th>\n",
       "      <td>9</td>\n",
       "      <td>46</td>\n",
       "      <td>276</td>\n",
       "      <td>331</td>\n",
       "    </tr>\n",
       "    <tr>\n",
       "      <th>Daylight</th>\n",
       "      <td>16</td>\n",
       "      <td>407</td>\n",
       "      <td>3938</td>\n",
       "      <td>4361</td>\n",
       "    </tr>\n",
       "    <tr>\n",
       "      <th rowspan=\"5\" valign=\"top\">Unknown</th>\n",
       "      <th>Darkness - lighting unknown</th>\n",
       "      <td>1</td>\n",
       "      <td>10</td>\n",
       "      <td>73</td>\n",
       "      <td>84</td>\n",
       "    </tr>\n",
       "    <tr>\n",
       "      <th>Darkness - lights lit</th>\n",
       "      <td>3</td>\n",
       "      <td>48</td>\n",
       "      <td>276</td>\n",
       "      <td>327</td>\n",
       "    </tr>\n",
       "    <tr>\n",
       "      <th>Darkness - lights unlit</th>\n",
       "      <td>0</td>\n",
       "      <td>3</td>\n",
       "      <td>14</td>\n",
       "      <td>17</td>\n",
       "    </tr>\n",
       "    <tr>\n",
       "      <th>Darkness - no lighting</th>\n",
       "      <td>2</td>\n",
       "      <td>16</td>\n",
       "      <td>93</td>\n",
       "      <td>111</td>\n",
       "    </tr>\n",
       "    <tr>\n",
       "      <th>Daylight</th>\n",
       "      <td>15</td>\n",
       "      <td>207</td>\n",
       "      <td>1600</td>\n",
       "      <td>1822</td>\n",
       "    </tr>\n",
       "    <tr>\n",
       "      <th>Total</th>\n",
       "      <th></th>\n",
       "      <td>6519</td>\n",
       "      <td>81239</td>\n",
       "      <td>482851</td>\n",
       "      <td>570609</td>\n",
       "    </tr>\n",
       "  </tbody>\n",
       "</table>\n",
       "</div>"
      ],
      "text/plain": [
       "Accident_Severity_Label                         Fatal  Serious  Slight   Total\n",
       "Road               Light                                                      \n",
       "Dual carriageway   Darkness - lighting unknown     24      122     992    1138\n",
       "                   Darkness - lights lit          274     2244   13623   16141\n",
       "                   Darkness - lights unlit         17       83     469     569\n",
       "                   Darkness - no lighting         305      993    4727    6025\n",
       "                   Daylight                       638     6675   50226   57539\n",
       "One way street     Darkness - lighting unknown      2       17     104     123\n",
       "                   Darkness - lights lit           21      402    2355    2778\n",
       "                   Darkness - lights unlit          0        5      50      55\n",
       "                   Darkness - no lighting           3       14      51      68\n",
       "                   Daylight                        46     1093    7136    8275\n",
       "Roundabout         Darkness - lighting unknown      2       60     537     599\n",
       "                   Darkness - lights lit           32      982    8287    9301\n",
       "                   Darkness - lights unlit          1       25     205     231\n",
       "                   Darkness - no lighting           2       26     143     171\n",
       "                   Daylight                        65     2828   26301   29194\n",
       "Single carriageway Darkness - lighting unknown     57      941    5219    6217\n",
       "                   Darkness - lights lit          930    12883   67566   81379\n",
       "                   Darkness - lights unlit         47      393    1785    2225\n",
       "                   Darkness - no lighting         859     4888   16867   22614\n",
       "                   Daylight                      3136    45702  268795  317633\n",
       "Slip road          Darkness - lighting unknown      1        6      92      99\n",
       "                   Darkness - lights lit           11      119    1017    1147\n",
       "                   Darkness - lights unlit          0        1      34      35\n",
       "                   Darkness - no lighting           9       46     276     331\n",
       "                   Daylight                        16      407    3938    4361\n",
       "Unknown            Darkness - lighting unknown      1       10      73      84\n",
       "                   Darkness - lights lit            3       48     276     327\n",
       "                   Darkness - lights unlit          0        3      14      17\n",
       "                   Darkness - no lighting           2       16      93     111\n",
       "                   Daylight                        15      207    1600    1822\n",
       "Total                                            6519    81239  482851  570609"
      ]
     },
     "execution_count": 109,
     "metadata": {},
     "output_type": "execute_result"
    }
   ],
   "source": [
    "#Group Road, Light against ASL\n",
    "ext_fac_plt = pd.crosstab([ext_fac_fin['Road'],ext_fac_fin['Light']],ext_fac_fin['Accident_Severity_Label'],\n",
    "                          margins=True, margins_name='Total')\n",
    "ext_fac_plt"
   ]
  },
  {
   "cell_type": "code",
   "execution_count": 146,
   "metadata": {},
   "outputs": [
    {
     "data": {
      "application/vnd.plotly.v1+json": {
       "data": [
        {
         "line": {
          "color": "rgba(255, 153, 51, 1.0)",
          "dash": "solid",
          "shape": "linear",
          "width": 1.3
         },
         "mode": "lines",
         "name": "Darkness - lighting unknown",
         "text": "",
         "type": "scatter",
         "uid": "6512a0c6-884e-11e9-87fa-f45c8991f033",
         "visible": true,
         "x": [
          0,
          1,
          2,
          3,
          4,
          5,
          6,
          7,
          8,
          9,
          10,
          11,
          12,
          13,
          14,
          15,
          16,
          17,
          18,
          19,
          20,
          21,
          22,
          23
         ],
         "y": [
          298,
          236,
          174,
          153,
          155,
          225,
          406,
          478,
          40,
          11,
          10,
          16,
          18,
          11,
          11,
          60,
          416,
          1268,
          1066,
          951,
          760,
          610,
          505,
          382
         ]
        },
        {
         "line": {
          "color": "rgba(55, 128, 191, 1.0)",
          "dash": "solid",
          "shape": "linear",
          "width": 1.3
         },
         "mode": "lines",
         "name": "Darkness - lights lit",
         "text": "",
         "type": "scatter",
         "uid": "6512a262-884e-11e9-96c3-f45c8991f033",
         "visible": true,
         "x": [
          0,
          1,
          2,
          3,
          4,
          5,
          6,
          7,
          8,
          9,
          10,
          11,
          12,
          13,
          14,
          15,
          16,
          17,
          18,
          19,
          20,
          21,
          22,
          23
         ],
         "y": [
          5653,
          3992,
          3168,
          2599,
          1865,
          2084,
          2818,
          2197,
          221,
          53,
          45,
          54,
          57,
          32,
          56,
          684,
          6468,
          13094,
          13664,
          12262,
          11358,
          10895,
          10076,
          7678
         ]
        },
        {
         "line": {
          "color": "rgba(50, 171, 96, 1.0)",
          "dash": "solid",
          "shape": "linear",
          "width": 1.3
         },
         "mode": "lines",
         "name": "Darkness - lights unlit",
         "text": "",
         "type": "scatter",
         "uid": "6512a314-884e-11e9-806d-f45c8991f033",
         "visible": true,
         "x": [
          0,
          1,
          2,
          3,
          4,
          5,
          6,
          7,
          8,
          9,
          10,
          11,
          12,
          13,
          14,
          15,
          16,
          17,
          18,
          19,
          20,
          21,
          22,
          23
         ],
         "y": [
          138,
          112,
          100,
          80,
          63,
          84,
          122,
          147,
          108,
          48,
          45,
          48,
          36,
          60,
          60,
          108,
          242,
          327,
          255,
          250,
          221,
          171,
          171,
          136
         ]
        },
        {
         "line": {
          "color": "rgba(128, 0, 128, 1.0)",
          "dash": "solid",
          "shape": "linear",
          "width": 1.3
         },
         "mode": "lines",
         "name": "Darkness - no lighting",
         "text": "",
         "type": "scatter",
         "uid": "6512a3a8-884e-11e9-8edf-f45c8991f033",
         "visible": true,
         "x": [
          0,
          1,
          2,
          3,
          4,
          5,
          6,
          7,
          8,
          9,
          10,
          11,
          12,
          13,
          14,
          15,
          16,
          17,
          18,
          19,
          20,
          21,
          22,
          23
         ],
         "y": [
          1633,
          1274,
          997,
          841,
          661,
          906,
          1291,
          824,
          100,
          19,
          28,
          22,
          21,
          22,
          21,
          210,
          1510,
          3088,
          2998,
          2613,
          2505,
          2709,
          2780,
          2247
         ]
        },
        {
         "line": {
          "color": "rgba(219, 64, 82, 1.0)",
          "dash": "solid",
          "shape": "linear",
          "width": 1.3
         },
         "mode": "lines",
         "name": "Daylight",
         "text": "",
         "type": "scatter",
         "uid": "6512a436-884e-11e9-9c19-f45c8991f033",
         "visible": true,
         "x": [
          0,
          1,
          2,
          3,
          4,
          5,
          6,
          7,
          8,
          9,
          10,
          11,
          12,
          13,
          14,
          15,
          16,
          17,
          18,
          19,
          20,
          21,
          22,
          23
         ],
         "y": [
          258,
          156,
          117,
          163,
          429,
          1683,
          6219,
          21904,
          41546,
          28552,
          26052,
          29984,
          33591,
          34058,
          34457,
          43092,
          38086,
          34068,
          22524,
          13107,
          6271,
          1809,
          506,
          192
         ]
        }
       ],
       "layout": {
        "autosize": true,
        "legend": {
         "bgcolor": "#F5F6F9",
         "font": {
          "color": "#4D5663"
         }
        },
        "paper_bgcolor": "#F5F6F9",
        "plot_bgcolor": "#F5F6F9",
        "title": "Light by Time",
        "titlefont": {
         "color": "#4D5663"
        },
        "xaxis": {
         "autorange": true,
         "gridcolor": "#E1E5ED",
         "range": [
          0,
          23
         ],
         "showgrid": true,
         "tickfont": {
          "color": "#4D5663"
         },
         "title": "Time",
         "titlefont": {
          "color": "#4D5663"
         },
         "type": "linear",
         "zerolinecolor": "#E1E5ED"
        },
        "yaxis": {
         "autorange": true,
         "gridcolor": "#E1E5ED",
         "range": [
          -2383.4444444444443,
          45485.444444444445
         ],
         "showgrid": true,
         "tickfont": {
          "color": "#4D5663"
         },
         "title": "No. of Accidents",
         "titlefont": {
          "color": "#4D5663"
         },
         "type": "linear",
         "zerolinecolor": "#E1E5ED"
        }
       }
      },
      "image/png": "[encoded data removed]",
      "text/html": [
       "<div id=\"95264105-f554-4f78-ac5e-4da65931c862\" style=\"height: 525px; width: 100%;\" class=\"plotly-graph-div\"></div><script type=\"text/javascript\">require([\"plotly\"], function(Plotly) { window.PLOTLYENV=window.PLOTLYENV || {};window.PLOTLYENV.BASE_URL=\"https://plot.ly\";Plotly.newPlot(\"95264105-f554-4f78-ac5e-4da65931c862\", [{\"line\": {\"color\": \"rgba(255, 153, 51, 1.0)\", \"dash\": \"solid\", \"shape\": \"linear\", \"width\": 1.3}, \"mode\": \"lines\", \"name\": \"Darkness - lighting unknown\", \"text\": \"\", \"x\": [0, 1, 2, 3, 4, 5, 6, 7, 8, 9, 10, 11, 12, 13, 14, 15, 16, 17, 18, 19, 20, 21, 22, 23], \"y\": [298, 236, 174, 153, 155, 225, 406, 478, 40, 11, 10, 16, 18, 11, 11, 60, 416, 1268, 1066, 951, 760, 610, 505, 382], \"type\": \"scatter\", \"uid\": \"6516fb62-884e-11e9-bb17-f45c8991f033\"}, {\"line\": {\"color\": \"rgba(55, 128, 191, 1.0)\", \"dash\": \"solid\", \"shape\": \"linear\", \"width\": 1.3}, \"mode\": \"lines\", \"name\": \"Darkness - lights lit\", \"text\": \"\", \"x\": [0, 1, 2, 3, 4, 5, 6, 7, 8, 9, 10, 11, 12, 13, 14, 15, 16, 17, 18, 19, 20, 21, 22, 23], \"y\": [5653, 3992, 3168, 2599, 1865, 2084, 2818, 2197, 221, 53, 45, 54, 57, 32, 56, 684, 6468, 13094, 13664, 12262, 11358, 10895, 10076, 7678], \"type\": \"scatter\", \"uid\": \"6516fcfa-884e-11e9-bbd0-f45c8991f033\"}, {\"line\": {\"color\": \"rgba(50, 171, 96, 1.0)\", \"dash\": \"solid\", \"shape\": \"linear\", \"width\": 1.3}, \"mode\": \"lines\", \"name\": \"Darkness - lights unlit\", \"text\": \"\", \"x\": [0, 1, 2, 3, 4, 5, 6, 7, 8, 9, 10, 11, 12, 13, 14, 15, 16, 17, 18, 19, 20, 21, 22, 23], \"y\": [138, 112, 100, 80, 63, 84, 122, 147, 108, 48, 45, 48, 36, 60, 60, 108, 242, 327, 255, 250, 221, 171, 171, 136], \"type\": \"scatter\", \"uid\": \"6516fda6-884e-11e9-8fad-f45c8991f033\"}, {\"line\": {\"color\": \"rgba(128, 0, 128, 1.0)\", \"dash\": \"solid\", \"shape\": \"linear\", \"width\": 1.3}, \"mode\": \"lines\", \"name\": \"Darkness - no lighting\", \"text\": \"\", \"x\": [0, 1, 2, 3, 4, 5, 6, 7, 8, 9, 10, 11, 12, 13, 14, 15, 16, 17, 18, 19, 20, 21, 22, 23], \"y\": [1633, 1274, 997, 841, 661, 906, 1291, 824, 100, 19, 28, 22, 21, 22, 21, 210, 1510, 3088, 2998, 2613, 2505, 2709, 2780, 2247], \"type\": \"scatter\", \"uid\": \"6516fe3a-884e-11e9-8661-f45c8991f033\"}, {\"line\": {\"color\": \"rgba(219, 64, 82, 1.0)\", \"dash\": \"solid\", \"shape\": \"linear\", \"width\": 1.3}, \"mode\": \"lines\", \"name\": \"Daylight\", \"text\": \"\", \"x\": [0, 1, 2, 3, 4, 5, 6, 7, 8, 9, 10, 11, 12, 13, 14, 15, 16, 17, 18, 19, 20, 21, 22, 23], \"y\": [258, 156, 117, 163, 429, 1683, 6219, 21904, 41546, 28552, 26052, 29984, 33591, 34058, 34457, 43092, 38086, 34068, 22524, 13107, 6271, 1809, 506, 192], \"type\": \"scatter\", \"uid\": \"6516febe-884e-11e9-b69c-f45c8991f033\"}], {\"legend\": {\"bgcolor\": \"#F5F6F9\", \"font\": {\"color\": \"#4D5663\"}}, \"paper_bgcolor\": \"#F5F6F9\", \"plot_bgcolor\": \"#F5F6F9\", \"title\": \"Light by Time\", \"titlefont\": {\"color\": \"#4D5663\"}, \"xaxis\": {\"gridcolor\": \"#E1E5ED\", \"showgrid\": true, \"tickfont\": {\"color\": \"#4D5663\"}, \"title\": \"Time\", \"titlefont\": {\"color\": \"#4D5663\"}, \"zerolinecolor\": \"#E1E5ED\"}, \"yaxis\": {\"gridcolor\": \"#E1E5ED\", \"showgrid\": true, \"tickfont\": {\"color\": \"#4D5663\"}, \"title\": \"No. of Accidents\", \"titlefont\": {\"color\": \"#4D5663\"}, \"zerolinecolor\": \"#E1E5ED\"}}, {\"showLink\": true, \"linkText\": \"Export to plot.ly\"})});</script>"
      ],
      "text/vnd.plotly.v1+html": [
       "<div id=\"95264105-f554-4f78-ac5e-4da65931c862\" style=\"height: 525px; width: 100%;\" class=\"plotly-graph-div\"></div><script type=\"text/javascript\">require([\"plotly\"], function(Plotly) { window.PLOTLYENV=window.PLOTLYENV || {};window.PLOTLYENV.BASE_URL=\"https://plot.ly\";Plotly.newPlot(\"95264105-f554-4f78-ac5e-4da65931c862\", [{\"line\": {\"color\": \"rgba(255, 153, 51, 1.0)\", \"dash\": \"solid\", \"shape\": \"linear\", \"width\": 1.3}, \"mode\": \"lines\", \"name\": \"Darkness - lighting unknown\", \"text\": \"\", \"x\": [0, 1, 2, 3, 4, 5, 6, 7, 8, 9, 10, 11, 12, 13, 14, 15, 16, 17, 18, 19, 20, 21, 22, 23], \"y\": [298, 236, 174, 153, 155, 225, 406, 478, 40, 11, 10, 16, 18, 11, 11, 60, 416, 1268, 1066, 951, 760, 610, 505, 382], \"type\": \"scatter\", \"uid\": \"6516fb62-884e-11e9-bb17-f45c8991f033\"}, {\"line\": {\"color\": \"rgba(55, 128, 191, 1.0)\", \"dash\": \"solid\", \"shape\": \"linear\", \"width\": 1.3}, \"mode\": \"lines\", \"name\": \"Darkness - lights lit\", \"text\": \"\", \"x\": [0, 1, 2, 3, 4, 5, 6, 7, 8, 9, 10, 11, 12, 13, 14, 15, 16, 17, 18, 19, 20, 21, 22, 23], \"y\": [5653, 3992, 3168, 2599, 1865, 2084, 2818, 2197, 221, 53, 45, 54, 57, 32, 56, 684, 6468, 13094, 13664, 12262, 11358, 10895, 10076, 7678], \"type\": \"scatter\", \"uid\": \"6516fcfa-884e-11e9-bbd0-f45c8991f033\"}, {\"line\": {\"color\": \"rgba(50, 171, 96, 1.0)\", \"dash\": \"solid\", \"shape\": \"linear\", \"width\": 1.3}, \"mode\": \"lines\", \"name\": \"Darkness - lights unlit\", \"text\": \"\", \"x\": [0, 1, 2, 3, 4, 5, 6, 7, 8, 9, 10, 11, 12, 13, 14, 15, 16, 17, 18, 19, 20, 21, 22, 23], \"y\": [138, 112, 100, 80, 63, 84, 122, 147, 108, 48, 45, 48, 36, 60, 60, 108, 242, 327, 255, 250, 221, 171, 171, 136], \"type\": \"scatter\", \"uid\": \"6516fda6-884e-11e9-8fad-f45c8991f033\"}, {\"line\": {\"color\": \"rgba(128, 0, 128, 1.0)\", \"dash\": \"solid\", \"shape\": \"linear\", \"width\": 1.3}, \"mode\": \"lines\", \"name\": \"Darkness - no lighting\", \"text\": \"\", \"x\": [0, 1, 2, 3, 4, 5, 6, 7, 8, 9, 10, 11, 12, 13, 14, 15, 16, 17, 18, 19, 20, 21, 22, 23], \"y\": [1633, 1274, 997, 841, 661, 906, 1291, 824, 100, 19, 28, 22, 21, 22, 21, 210, 1510, 3088, 2998, 2613, 2505, 2709, 2780, 2247], \"type\": \"scatter\", \"uid\": \"6516fe3a-884e-11e9-8661-f45c8991f033\"}, {\"line\": {\"color\": \"rgba(219, 64, 82, 1.0)\", \"dash\": \"solid\", \"shape\": \"linear\", \"width\": 1.3}, \"mode\": \"lines\", \"name\": \"Daylight\", \"text\": \"\", \"x\": [0, 1, 2, 3, 4, 5, 6, 7, 8, 9, 10, 11, 12, 13, 14, 15, 16, 17, 18, 19, 20, 21, 22, 23], \"y\": [258, 156, 117, 163, 429, 1683, 6219, 21904, 41546, 28552, 26052, 29984, 33591, 34058, 34457, 43092, 38086, 34068, 22524, 13107, 6271, 1809, 506, 192], \"type\": \"scatter\", \"uid\": \"6516febe-884e-11e9-b69c-f45c8991f033\"}], {\"legend\": {\"bgcolor\": \"#F5F6F9\", \"font\": {\"color\": \"#4D5663\"}}, \"paper_bgcolor\": \"#F5F6F9\", \"plot_bgcolor\": \"#F5F6F9\", \"title\": \"Light by Time\", \"titlefont\": {\"color\": \"#4D5663\"}, \"xaxis\": {\"gridcolor\": \"#E1E5ED\", \"showgrid\": true, \"tickfont\": {\"color\": \"#4D5663\"}, \"title\": \"Time\", \"titlefont\": {\"color\": \"#4D5663\"}, \"zerolinecolor\": \"#E1E5ED\"}, \"yaxis\": {\"gridcolor\": \"#E1E5ED\", \"showgrid\": true, \"tickfont\": {\"color\": \"#4D5663\"}, \"title\": \"No. of Accidents\", \"titlefont\": {\"color\": \"#4D5663\"}, \"zerolinecolor\": \"#E1E5ED\"}}, {\"showLink\": true, \"linkText\": \"Export to plot.ly\"})});</script>"
      ]
     },
     "metadata": {},
     "output_type": "display_data"
    }
   ],
   "source": [
    "season.Hour.groupby([ext_fac_fin.Light]).value_counts().unstack('Light').iplot(kind='line',title='Light by Time'\n",
    "                                                                               , yTitle='No. of Accidents', xTitle='Time')"
   ]
  },
  {
   "cell_type": "markdown",
   "metadata": {},
   "source": [
    "<p> \n",
    "- Inverse relationship with Darkness and Daylight in No of Accidents <br>\n",
    "- Daylight Accidents Peaks at 8am and 3pm which is the opposite of Darkness Accidents <br>\n",
    "- Accidents in Darkness start to rise after 3pm, peaking at 6pm <br>\n",
    "</p>"
   ]
  },
  {
   "cell_type": "code",
   "execution_count": 144,
   "metadata": {},
   "outputs": [
    {
     "name": "stdout",
     "output_type": "stream",
     "text": [
      "Road Types %\n"
     ]
    },
    {
     "data": {
      "text/plain": [
       "Single carriageway    0.753700\n",
       "Dual carriageway      0.142676\n",
       "Roundabout            0.069217\n",
       "One way street        0.019802\n",
       "Slip road             0.010468\n",
       "Unknown               0.004138\n",
       "Name: Road, dtype: float64"
      ]
     },
     "execution_count": 144,
     "metadata": {},
     "output_type": "execute_result"
    }
   ],
   "source": [
    "print('Road Types %')\n",
    "ext_fac_fin.Road.value_counts(normalize=True)"
   ]
  },
  {
   "cell_type": "code",
   "execution_count": 33,
   "metadata": {
    "scrolled": false
   },
   "outputs": [
    {
     "data": {
      "text/plain": [
       "Text(0.5,1,'Accident Severity By External Factors')"
      ]
     },
     "execution_count": 33,
     "metadata": {},
     "output_type": "execute_result"
    },
    {
     "data": {
      "image/png": "[encoded data removed]",
      "text/plain": [
       "<matplotlib.figure.Figure at 0x1a12979b70>"
      ]
     },
     "metadata": {},
     "output_type": "display_data"
    }
   ],
   "source": [
    "#Plot a HeatMap of Road,Light and ASL\n",
    "f, ax = plt.subplots(figsize=(10, 15))\n",
    "sns.heatmap(ext_fac_plt,cmap='Blues', annot=True, cbar=True, fmt='0,g', ax=ax, linewidths=0.5,vmax=570000) \n",
    "ax.set_title('Accident Severity By External Factors', loc='center',fontsize=20)"
   ]
  },
  {
   "cell_type": "markdown",
   "metadata": {},
   "source": [
    "<p> \n",
    "- Single Carriageway Roads in  Daylight (317k) and Lights Lit conditions (81K) had the highest no. of accidents <br>\n",
    "- Carriageways/Roundabout Road Types have a major influnce in no. of accidents making up 90% of Total Accidents <br>\n",
    "</p>"
   ]
  },
  {
   "cell_type": "markdown",
   "metadata": {},
   "source": [
    "## Geographic\n"
   ]
  },
  {
   "cell_type": "code",
   "execution_count": 34,
   "metadata": {
    "scrolled": false
   },
   "outputs": [
    {
     "data": {
      "text/html": [
       "<div>\n",
       "<style scoped>\n",
       "    .dataframe tbody tr th:only-of-type {\n",
       "        vertical-align: middle;\n",
       "    }\n",
       "\n",
       "    .dataframe tbody tr th {\n",
       "        vertical-align: top;\n",
       "    }\n",
       "\n",
       "    .dataframe thead th {\n",
       "        text-align: right;\n",
       "    }\n",
       "</style>\n",
       "<table border=\"1\" class=\"dataframe\">\n",
       "  <thead>\n",
       "    <tr style=\"text-align: right;\">\n",
       "      <th></th>\n",
       "      <th>code</th>\n",
       "      <th>label</th>\n",
       "    </tr>\n",
       "  </thead>\n",
       "  <tbody>\n",
       "    <tr>\n",
       "      <th>0</th>\n",
       "      <td>1</td>\n",
       "      <td>Urban</td>\n",
       "    </tr>\n",
       "    <tr>\n",
       "      <th>1</th>\n",
       "      <td>2</td>\n",
       "      <td>Rural</td>\n",
       "    </tr>\n",
       "    <tr>\n",
       "      <th>2</th>\n",
       "      <td>3</td>\n",
       "      <td>Unallocated</td>\n",
       "    </tr>\n",
       "  </tbody>\n",
       "</table>\n",
       "</div>"
      ],
      "text/plain": [
       "   code        label\n",
       "0     1        Urban\n",
       "1     2        Rural\n",
       "2     3  Unallocated"
      ]
     },
     "execution_count": 34,
     "metadata": {},
     "output_type": "execute_result"
    }
   ],
   "source": [
    "#Geography Dictionary assign to a variable\n",
    "urban_rural_dic = pd.read_csv('Urban_Rural.csv')\n",
    "urban_rural_dic.head(3)"
   ]
  },
  {
   "cell_type": "code",
   "execution_count": 35,
   "metadata": {
    "scrolled": false
   },
   "outputs": [
    {
     "data": {
      "text/html": [
       "<div>\n",
       "<style scoped>\n",
       "    .dataframe tbody tr th:only-of-type {\n",
       "        vertical-align: middle;\n",
       "    }\n",
       "\n",
       "    .dataframe tbody tr th {\n",
       "        vertical-align: top;\n",
       "    }\n",
       "\n",
       "    .dataframe thead th {\n",
       "        text-align: right;\n",
       "    }\n",
       "</style>\n",
       "<table border=\"1\" class=\"dataframe\">\n",
       "  <thead>\n",
       "    <tr style=\"text-align: right;\">\n",
       "      <th></th>\n",
       "      <th>ID</th>\n",
       "      <th>Urban_or_Rural_Area</th>\n",
       "      <th>Accident_Severity_Label</th>\n",
       "    </tr>\n",
       "  </thead>\n",
       "  <tbody>\n",
       "    <tr>\n",
       "      <th>139089</th>\n",
       "      <td>139090</td>\n",
       "      <td>2</td>\n",
       "      <td>Slight</td>\n",
       "    </tr>\n",
       "    <tr>\n",
       "      <th>416113</th>\n",
       "      <td>416114</td>\n",
       "      <td>2</td>\n",
       "      <td>Slight</td>\n",
       "    </tr>\n",
       "    <tr>\n",
       "      <th>106072</th>\n",
       "      <td>106073</td>\n",
       "      <td>2</td>\n",
       "      <td>Slight</td>\n",
       "    </tr>\n",
       "    <tr>\n",
       "      <th>341195</th>\n",
       "      <td>341196</td>\n",
       "      <td>1</td>\n",
       "      <td>Slight</td>\n",
       "    </tr>\n",
       "    <tr>\n",
       "      <th>346994</th>\n",
       "      <td>346995</td>\n",
       "      <td>1</td>\n",
       "      <td>Slight</td>\n",
       "    </tr>\n",
       "  </tbody>\n",
       "</table>\n",
       "</div>"
      ],
      "text/plain": [
       "            ID  Urban_or_Rural_Area Accident_Severity_Label\n",
       "139089  139090                    2                  Slight\n",
       "416113  416114                    2                  Slight\n",
       "106072  106073                    2                  Slight\n",
       "341195  341196                    1                  Slight\n",
       "346994  346995                    1                  Slight"
      ]
     },
     "execution_count": 35,
     "metadata": {},
     "output_type": "execute_result"
    }
   ],
   "source": [
    "#Create an instance of ukData \n",
    "geo_area = ukData[['ID','Urban_or_Rural_Area','Accident_Severity_Label']]\n",
    "#Test\n",
    "geo_area.sample(5)"
   ]
  },
  {
   "cell_type": "code",
   "execution_count": 36,
   "metadata": {
    "scrolled": false
   },
   "outputs": [
    {
     "data": {
      "text/html": [
       "<div>\n",
       "<style scoped>\n",
       "    .dataframe tbody tr th:only-of-type {\n",
       "        vertical-align: middle;\n",
       "    }\n",
       "\n",
       "    .dataframe tbody tr th {\n",
       "        vertical-align: top;\n",
       "    }\n",
       "\n",
       "    .dataframe thead th {\n",
       "        text-align: right;\n",
       "    }\n",
       "</style>\n",
       "<table border=\"1\" class=\"dataframe\">\n",
       "  <thead>\n",
       "    <tr style=\"text-align: right;\">\n",
       "      <th></th>\n",
       "      <th>ID</th>\n",
       "      <th>Urban_or_Rural_Area</th>\n",
       "      <th>Accident_Severity_Label</th>\n",
       "      <th>code</th>\n",
       "      <th>label</th>\n",
       "    </tr>\n",
       "  </thead>\n",
       "  <tbody>\n",
       "    <tr>\n",
       "      <th>505840</th>\n",
       "      <td>505841</td>\n",
       "      <td>2</td>\n",
       "      <td>Slight</td>\n",
       "      <td>2</td>\n",
       "      <td>Rural</td>\n",
       "    </tr>\n",
       "    <tr>\n",
       "      <th>416433</th>\n",
       "      <td>416434</td>\n",
       "      <td>2</td>\n",
       "      <td>Slight</td>\n",
       "      <td>2</td>\n",
       "      <td>Rural</td>\n",
       "    </tr>\n",
       "    <tr>\n",
       "      <th>566873</th>\n",
       "      <td>566874</td>\n",
       "      <td>1</td>\n",
       "      <td>Slight</td>\n",
       "      <td>1</td>\n",
       "      <td>Urban</td>\n",
       "    </tr>\n",
       "    <tr>\n",
       "      <th>557504</th>\n",
       "      <td>557505</td>\n",
       "      <td>2</td>\n",
       "      <td>Slight</td>\n",
       "      <td>2</td>\n",
       "      <td>Rural</td>\n",
       "    </tr>\n",
       "    <tr>\n",
       "      <th>91153</th>\n",
       "      <td>91154</td>\n",
       "      <td>2</td>\n",
       "      <td>Slight</td>\n",
       "      <td>2</td>\n",
       "      <td>Rural</td>\n",
       "    </tr>\n",
       "  </tbody>\n",
       "</table>\n",
       "</div>"
      ],
      "text/plain": [
       "            ID  Urban_or_Rural_Area Accident_Severity_Label  code  label\n",
       "505840  505841                    2                  Slight     2  Rural\n",
       "416433  416434                    2                  Slight     2  Rural\n",
       "566873  566874                    1                  Slight     1  Urban\n",
       "557504  557505                    2                  Slight     2  Rural\n",
       "91153    91154                    2                  Slight     2  Rural"
      ]
     },
     "execution_count": 36,
     "metadata": {},
     "output_type": "execute_result"
    }
   ],
   "source": [
    "#Merge Data to Dic Values\n",
    "geo_area = geo_area.merge(urban_rural_dic,how='left',left_on=['Urban_or_Rural_Area'], right_on=['code'])\n",
    "#Test\n",
    "geo_area.sample(5)"
   ]
  },
  {
   "cell_type": "code",
   "execution_count": 37,
   "metadata": {
    "scrolled": false
   },
   "outputs": [],
   "source": [
    "#Rename Label as Geography\n",
    "geo_area = (geo_area.rename(columns={'label':'Geography'})\n",
    "            .reindex(columns=['ID','Accident_Severity_Label','Geography']))"
   ]
  },
  {
   "cell_type": "code",
   "execution_count": 38,
   "metadata": {
    "scrolled": false
   },
   "outputs": [
    {
     "data": {
      "text/html": [
       "<div>\n",
       "<style scoped>\n",
       "    .dataframe tbody tr th:only-of-type {\n",
       "        vertical-align: middle;\n",
       "    }\n",
       "\n",
       "    .dataframe tbody tr th {\n",
       "        vertical-align: top;\n",
       "    }\n",
       "\n",
       "    .dataframe thead th {\n",
       "        text-align: right;\n",
       "    }\n",
       "</style>\n",
       "<table border=\"1\" class=\"dataframe\">\n",
       "  <thead>\n",
       "    <tr style=\"text-align: right;\">\n",
       "      <th>Accident_Severity_Label</th>\n",
       "      <th>Fatal</th>\n",
       "      <th>Serious</th>\n",
       "      <th>Slight</th>\n",
       "    </tr>\n",
       "    <tr>\n",
       "      <th>Geography</th>\n",
       "      <th></th>\n",
       "      <th></th>\n",
       "      <th></th>\n",
       "    </tr>\n",
       "  </thead>\n",
       "  <tbody>\n",
       "    <tr>\n",
       "      <th>Rural</th>\n",
       "      <td>4165</td>\n",
       "      <td>33546</td>\n",
       "      <td>159177</td>\n",
       "    </tr>\n",
       "    <tr>\n",
       "      <th>Urban</th>\n",
       "      <td>2354</td>\n",
       "      <td>47693</td>\n",
       "      <td>323674</td>\n",
       "    </tr>\n",
       "  </tbody>\n",
       "</table>\n",
       "</div>"
      ],
      "text/plain": [
       "Accident_Severity_Label  Fatal  Serious  Slight\n",
       "Geography                                      \n",
       "Rural                     4165    33546  159177\n",
       "Urban                     2354    47693  323674"
      ]
     },
     "execution_count": 38,
     "metadata": {},
     "output_type": "execute_result"
    }
   ],
   "source": [
    "#Group ASL by Geography\n",
    "geo_area_plt = pd.crosstab(geo_area['Geography'],geo_area['Accident_Severity_Label'],margins=False)\n",
    "geo_area_plt"
   ]
  },
  {
   "cell_type": "code",
   "execution_count": 39,
   "metadata": {
    "scrolled": false
   },
   "outputs": [],
   "source": [
    "#group ASL by Geo in % Terms based on ASL eg. 64% of fatal accidents are in rural areas\n",
    "geo_area_plt_per = pd.crosstab(geo_area['Geography'],geo_area['Accident_Severity_Label'],normalize='columns')\n",
    "\n",
    "#group ASL by Geo via Count\n",
    "geo_area_plt = pd.crosstab(geo_area['Geography'],geo_area['Accident_Severity_Label'])\n"
   ]
  },
  {
   "cell_type": "code",
   "execution_count": 40,
   "metadata": {
    "scrolled": false
   },
   "outputs": [
    {
     "data": {
      "text/html": [
       "<style  type=\"text/css\" >\n",
       "    #T_7875135c_8834_11e9_aa93_f45c8991f033row0_col0 {\n",
       "            background-color:  yellow;\n",
       "        }    #T_7875135c_8834_11e9_aa93_f45c8991f033row1_col1 {\n",
       "            background-color:  yellow;\n",
       "        }    #T_7875135c_8834_11e9_aa93_f45c8991f033row1_col2 {\n",
       "            background-color:  yellow;\n",
       "        }</style>  \n",
       "<table id=\"T_7875135c_8834_11e9_aa93_f45c8991f033\" > \n",
       "<thead>    <tr> \n",
       "        <th class=\"index_name level0\" >Accident_Severity_Label</th> \n",
       "        <th class=\"col_heading level0 col0\" >Fatal</th> \n",
       "        <th class=\"col_heading level0 col1\" >Serious</th> \n",
       "        <th class=\"col_heading level0 col2\" >Slight</th> \n",
       "    </tr>    <tr> \n",
       "        <th class=\"index_name level0\" >Geography</th> \n",
       "        <th class=\"blank\" ></th> \n",
       "        <th class=\"blank\" ></th> \n",
       "        <th class=\"blank\" ></th> \n",
       "    </tr></thead> \n",
       "<tbody>    <tr> \n",
       "        <th id=\"T_7875135c_8834_11e9_aa93_f45c8991f033level0_row0\" class=\"row_heading level0 row0\" >Rural</th> \n",
       "        <td id=\"T_7875135c_8834_11e9_aa93_f45c8991f033row0_col0\" class=\"data row0 col0\" >4165</td> \n",
       "        <td id=\"T_7875135c_8834_11e9_aa93_f45c8991f033row0_col1\" class=\"data row0 col1\" >33546</td> \n",
       "        <td id=\"T_7875135c_8834_11e9_aa93_f45c8991f033row0_col2\" class=\"data row0 col2\" >159177</td> \n",
       "    </tr>    <tr> \n",
       "        <th id=\"T_7875135c_8834_11e9_aa93_f45c8991f033level0_row1\" class=\"row_heading level0 row1\" >Urban</th> \n",
       "        <td id=\"T_7875135c_8834_11e9_aa93_f45c8991f033row1_col0\" class=\"data row1 col0\" >2354</td> \n",
       "        <td id=\"T_7875135c_8834_11e9_aa93_f45c8991f033row1_col1\" class=\"data row1 col1\" >47693</td> \n",
       "        <td id=\"T_7875135c_8834_11e9_aa93_f45c8991f033row1_col2\" class=\"data row1 col2\" >323674</td> \n",
       "    </tr></tbody> \n",
       "</table> "
      ],
      "text/plain": [
       "<pandas.io.formats.style.Styler at 0x1a13351438>"
      ]
     },
     "execution_count": 40,
     "metadata": {},
     "output_type": "execute_result"
    }
   ],
   "source": [
    "#View by Count\n",
    "geo_area_plt.style.highlight_max(color='yellow')"
   ]
  },
  {
   "cell_type": "code",
   "execution_count": 41,
   "metadata": {
    "scrolled": false
   },
   "outputs": [
    {
     "data": {
      "text/html": [
       "<style  type=\"text/css\" >\n",
       "    #T_7876e042_8834_11e9_96ae_f45c8991f033row0_col0 {\n",
       "            background-color:  yellow;\n",
       "        }    #T_7876e042_8834_11e9_96ae_f45c8991f033row1_col1 {\n",
       "            background-color:  yellow;\n",
       "        }    #T_7876e042_8834_11e9_96ae_f45c8991f033row1_col2 {\n",
       "            background-color:  yellow;\n",
       "        }</style>  \n",
       "<table id=\"T_7876e042_8834_11e9_96ae_f45c8991f033\" > \n",
       "<thead>    <tr> \n",
       "        <th class=\"index_name level0\" >Accident_Severity_Label</th> \n",
       "        <th class=\"col_heading level0 col0\" >Fatal</th> \n",
       "        <th class=\"col_heading level0 col1\" >Serious</th> \n",
       "        <th class=\"col_heading level0 col2\" >Slight</th> \n",
       "    </tr>    <tr> \n",
       "        <th class=\"index_name level0\" >Geography</th> \n",
       "        <th class=\"blank\" ></th> \n",
       "        <th class=\"blank\" ></th> \n",
       "        <th class=\"blank\" ></th> \n",
       "    </tr></thead> \n",
       "<tbody>    <tr> \n",
       "        <th id=\"T_7876e042_8834_11e9_96ae_f45c8991f033level0_row0\" class=\"row_heading level0 row0\" >Rural</th> \n",
       "        <td id=\"T_7876e042_8834_11e9_96ae_f45c8991f033row0_col0\" class=\"data row0 col0\" >64%</td> \n",
       "        <td id=\"T_7876e042_8834_11e9_96ae_f45c8991f033row0_col1\" class=\"data row0 col1\" >41%</td> \n",
       "        <td id=\"T_7876e042_8834_11e9_96ae_f45c8991f033row0_col2\" class=\"data row0 col2\" >33%</td> \n",
       "    </tr>    <tr> \n",
       "        <th id=\"T_7876e042_8834_11e9_96ae_f45c8991f033level0_row1\" class=\"row_heading level0 row1\" >Urban</th> \n",
       "        <td id=\"T_7876e042_8834_11e9_96ae_f45c8991f033row1_col0\" class=\"data row1 col0\" >36%</td> \n",
       "        <td id=\"T_7876e042_8834_11e9_96ae_f45c8991f033row1_col1\" class=\"data row1 col1\" >59%</td> \n",
       "        <td id=\"T_7876e042_8834_11e9_96ae_f45c8991f033row1_col2\" class=\"data row1 col2\" >67%</td> \n",
       "    </tr></tbody> \n",
       "</table> "
      ],
      "text/plain": [
       "<pandas.io.formats.style.Styler at 0x1a14579f60>"
      ]
     },
     "execution_count": 41,
     "metadata": {},
     "output_type": "execute_result"
    }
   ],
   "source": [
    "#ASL by Geo in % Terms based on ASL eg. 64% of fatal accidents are in rural areas\n",
    "(geo_area_plt_per*100).style.format('{0:,.0f}%').highlight_max(color='yellow')"
   ]
  },
  {
   "cell_type": "code",
   "execution_count": 153,
   "metadata": {},
   "outputs": [
    {
     "data": {
      "application/vnd.plotly.v1+json": {
       "data": [
        {
         "marker": {
          "color": "rgba(255, 153, 51, 0.6)",
          "line": {
           "color": "rgba(255, 153, 51, 1.0)",
           "width": 1
          }
         },
         "name": "Fatal",
         "orientation": "h",
         "text": "",
         "type": "bar",
         "uid": "b8d2c292-8851-11e9-9584-f45c8991f033",
         "visible": true,
         "x": [
          0.6389016720355882,
          0.3610983279644117
         ],
         "y": [
          "Rural",
          "Urban"
         ]
        },
        {
         "marker": {
          "color": "rgba(55, 128, 191, 0.6)",
          "line": {
           "color": "rgba(55, 128, 191, 1.0)",
           "width": 1
          }
         },
         "name": "Serious",
         "orientation": "h",
         "text": "",
         "type": "bar",
         "uid": "b8d2c440-8851-11e9-a6b1-f45c8991f033",
         "visible": true,
         "x": [
          0.41292975048929703,
          0.587070249510703
         ],
         "y": [
          "Rural",
          "Urban"
         ]
        },
        {
         "marker": {
          "color": "rgba(50, 171, 96, 0.6)",
          "line": {
           "color": "rgba(50, 171, 96, 1.0)",
           "width": 1
          }
         },
         "name": "Slight",
         "orientation": "h",
         "text": "",
         "type": "bar",
         "uid": "b8d2c508-8851-11e9-8fd6-f45c8991f033",
         "visible": true,
         "x": [
          0.32966070278408866,
          0.6703392972159113
         ],
         "y": [
          "Rural",
          "Urban"
         ]
        }
       ],
       "layout": {
        "autosize": true,
        "legend": {
         "bgcolor": "#F5F6F9",
         "font": {
          "color": "#4D5663"
         }
        },
        "paper_bgcolor": "#F5F6F9",
        "plot_bgcolor": "#F5F6F9",
        "title": "Accident Severity by Geography",
        "titlefont": {
         "color": "#4D5663"
        },
        "xaxis": {
         "autorange": true,
         "gridcolor": "#E1E5ED",
         "range": [
          0,
          0.7056203128588541
         ],
         "showgrid": true,
         "tickfont": {
          "color": "#4D5663"
         },
         "title": "% of Accident Severity",
         "titlefont": {
          "color": "#4D5663"
         },
         "type": "linear",
         "zerolinecolor": "#E1E5ED"
        },
        "yaxis": {
         "autorange": true,
         "gridcolor": "#E1E5ED",
         "range": [
          -0.5,
          1.5
         ],
         "showgrid": true,
         "tickfont": {
          "color": "#4D5663"
         },
         "title": "Geography",
         "titlefont": {
          "color": "#4D5663"
         },
         "type": "category",
         "zerolinecolor": "#E1E5ED"
        }
       }
      },
      "image/png": "[encoded data removed]",
      "text/html": [
       "<div id=\"24c4dcb0-adfe-4e28-948c-02de0f9baec8\" style=\"height: 525px; width: 100%;\" class=\"plotly-graph-div\"></div><script type=\"text/javascript\">require([\"plotly\"], function(Plotly) { window.PLOTLYENV=window.PLOTLYENV || {};window.PLOTLYENV.BASE_URL=\"https://plot.ly\";Plotly.newPlot(\"24c4dcb0-adfe-4e28-948c-02de0f9baec8\", [{\"marker\": {\"color\": \"rgba(255, 153, 51, 0.6)\", \"line\": {\"color\": \"rgba(255, 153, 51, 1.0)\", \"width\": 1}}, \"name\": \"Fatal\", \"orientation\": \"h\", \"text\": \"\", \"x\": [0.6389016720355882, 0.3610983279644117], \"y\": [\"Rural\", \"Urban\"], \"type\": \"bar\", \"uid\": \"b8d62e00-8851-11e9-b4df-f45c8991f033\"}, {\"marker\": {\"color\": \"rgba(55, 128, 191, 0.6)\", \"line\": {\"color\": \"rgba(55, 128, 191, 1.0)\", \"width\": 1}}, \"name\": \"Serious\", \"orientation\": \"h\", \"text\": \"\", \"x\": [0.41292975048929703, 0.587070249510703], \"y\": [\"Rural\", \"Urban\"], \"type\": \"bar\", \"uid\": \"b8d62f90-8851-11e9-97a3-f45c8991f033\"}, {\"marker\": {\"color\": \"rgba(50, 171, 96, 0.6)\", \"line\": {\"color\": \"rgba(50, 171, 96, 1.0)\", \"width\": 1}}, \"name\": \"Slight\", \"orientation\": \"h\", \"text\": \"\", \"x\": [0.32966070278408866, 0.6703392972159113], \"y\": [\"Rural\", \"Urban\"], \"type\": \"bar\", \"uid\": \"b8d6303a-8851-11e9-bc1f-f45c8991f033\"}], {\"legend\": {\"bgcolor\": \"#F5F6F9\", \"font\": {\"color\": \"#4D5663\"}}, \"paper_bgcolor\": \"#F5F6F9\", \"plot_bgcolor\": \"#F5F6F9\", \"title\": \"Accident Severity by Geography\", \"titlefont\": {\"color\": \"#4D5663\"}, \"xaxis\": {\"gridcolor\": \"#E1E5ED\", \"showgrid\": true, \"tickfont\": {\"color\": \"#4D5663\"}, \"title\": \"% of Accident Severity\", \"titlefont\": {\"color\": \"#4D5663\"}, \"zerolinecolor\": \"#E1E5ED\"}, \"yaxis\": {\"gridcolor\": \"#E1E5ED\", \"showgrid\": true, \"tickfont\": {\"color\": \"#4D5663\"}, \"title\": \"Geography\", \"titlefont\": {\"color\": \"#4D5663\"}, \"zerolinecolor\": \"#E1E5ED\"}}, {\"showLink\": true, \"linkText\": \"Export to plot.ly\"})});</script>"
      ],
      "text/vnd.plotly.v1+html": [
       "<div id=\"24c4dcb0-adfe-4e28-948c-02de0f9baec8\" style=\"height: 525px; width: 100%;\" class=\"plotly-graph-div\"></div><script type=\"text/javascript\">require([\"plotly\"], function(Plotly) { window.PLOTLYENV=window.PLOTLYENV || {};window.PLOTLYENV.BASE_URL=\"https://plot.ly\";Plotly.newPlot(\"24c4dcb0-adfe-4e28-948c-02de0f9baec8\", [{\"marker\": {\"color\": \"rgba(255, 153, 51, 0.6)\", \"line\": {\"color\": \"rgba(255, 153, 51, 1.0)\", \"width\": 1}}, \"name\": \"Fatal\", \"orientation\": \"h\", \"text\": \"\", \"x\": [0.6389016720355882, 0.3610983279644117], \"y\": [\"Rural\", \"Urban\"], \"type\": \"bar\", \"uid\": \"b8d62e00-8851-11e9-b4df-f45c8991f033\"}, {\"marker\": {\"color\": \"rgba(55, 128, 191, 0.6)\", \"line\": {\"color\": \"rgba(55, 128, 191, 1.0)\", \"width\": 1}}, \"name\": \"Serious\", \"orientation\": \"h\", \"text\": \"\", \"x\": [0.41292975048929703, 0.587070249510703], \"y\": [\"Rural\", \"Urban\"], \"type\": \"bar\", \"uid\": \"b8d62f90-8851-11e9-97a3-f45c8991f033\"}, {\"marker\": {\"color\": \"rgba(50, 171, 96, 0.6)\", \"line\": {\"color\": \"rgba(50, 171, 96, 1.0)\", \"width\": 1}}, \"name\": \"Slight\", \"orientation\": \"h\", \"text\": \"\", \"x\": [0.32966070278408866, 0.6703392972159113], \"y\": [\"Rural\", \"Urban\"], \"type\": \"bar\", \"uid\": \"b8d6303a-8851-11e9-bc1f-f45c8991f033\"}], {\"legend\": {\"bgcolor\": \"#F5F6F9\", \"font\": {\"color\": \"#4D5663\"}}, \"paper_bgcolor\": \"#F5F6F9\", \"plot_bgcolor\": \"#F5F6F9\", \"title\": \"Accident Severity by Geography\", \"titlefont\": {\"color\": \"#4D5663\"}, \"xaxis\": {\"gridcolor\": \"#E1E5ED\", \"showgrid\": true, \"tickfont\": {\"color\": \"#4D5663\"}, \"title\": \"% of Accident Severity\", \"titlefont\": {\"color\": \"#4D5663\"}, \"zerolinecolor\": \"#E1E5ED\"}, \"yaxis\": {\"gridcolor\": \"#E1E5ED\", \"showgrid\": true, \"tickfont\": {\"color\": \"#4D5663\"}, \"title\": \"Geography\", \"titlefont\": {\"color\": \"#4D5663\"}, \"zerolinecolor\": \"#E1E5ED\"}}, {\"showLink\": true, \"linkText\": \"Export to plot.ly\"})});</script>"
      ]
     },
     "metadata": {},
     "output_type": "display_data"
    }
   ],
   "source": [
    "geo_area_plt_per.iplot(kind='barh',title='Accident Severity by Geography',xTitle='% of Accident Severity',yTitle='Geography')"
   ]
  },
  {
   "cell_type": "markdown",
   "metadata": {},
   "source": [
    "<p> \n",
    "- 64% of Fatal accidents have occurred in Rural Areas <br>\n",
    "- 59% of Serious accidents occur in Urban Areas <br>\n",
    "- 67% of Slight accidents occur in Urban Areas <br>\n",
    "</p>"
   ]
  },
  {
   "cell_type": "code",
   "execution_count": 43,
   "metadata": {
    "scrolled": false
   },
   "outputs": [
    {
     "data": {
      "application/vnd.plotly.v1+json": {
       "data": [
        {
         "marker": {
          "color": "rgba(255, 153, 51, 0.6)",
          "line": {
           "color": "rgba(255, 153, 51, 1.0)",
           "width": 1
          }
         },
         "name": "Fatal",
         "orientation": "h",
         "text": "",
         "type": "bar",
         "uid": "78885c46-8834-11e9-ac94-f45c8991f033",
         "visible": true,
         "x": [
          4165,
          2354
         ],
         "y": [
          "Rural",
          "Urban"
         ]
        },
        {
         "marker": {
          "color": "rgba(55, 128, 191, 0.6)",
          "line": {
           "color": "rgba(55, 128, 191, 1.0)",
           "width": 1
          }
         },
         "name": "Serious",
         "orientation": "h",
         "text": "",
         "type": "bar",
         "uid": "78885e1c-8834-11e9-8a1f-f45c8991f033",
         "visible": true,
         "x": [
          33546,
          47693
         ],
         "y": [
          "Rural",
          "Urban"
         ]
        },
        {
         "marker": {
          "color": "rgba(50, 171, 96, 0.6)",
          "line": {
           "color": "rgba(50, 171, 96, 1.0)",
           "width": 1
          }
         },
         "name": "Slight",
         "orientation": "h",
         "text": "",
         "type": "bar",
         "uid": "78885eda-8834-11e9-afdd-f45c8991f033",
         "visible": true,
         "x": [
          159177,
          323674
         ],
         "y": [
          "Rural",
          "Urban"
         ]
        }
       ],
       "layout": {
        "autosize": true,
        "legend": {
         "bgcolor": "#F5F6F9",
         "font": {
          "color": "#4D5663"
         }
        },
        "paper_bgcolor": "#F5F6F9",
        "plot_bgcolor": "#F5F6F9",
        "title": "Accident Severity by Geography",
        "titlefont": {
         "color": "#4D5663"
        },
        "xaxis": {
         "autorange": true,
         "gridcolor": "#E1E5ED",
         "range": [
          0,
          340709.4736842105
         ],
         "showgrid": true,
         "tickfont": {
          "color": "#4D5663"
         },
         "title": "No. of Accidents",
         "titlefont": {
          "color": "#4D5663"
         },
         "type": "linear",
         "zerolinecolor": "#E1E5ED"
        },
        "yaxis": {
         "autorange": true,
         "gridcolor": "#E1E5ED",
         "range": [
          -0.5,
          1.5
         ],
         "showgrid": true,
         "tickfont": {
          "color": "#4D5663"
         },
         "title": "Geography",
         "titlefont": {
          "color": "#4D5663"
         },
         "type": "category",
         "zerolinecolor": "#E1E5ED"
        }
       }
      },
      "image/png": "[encoded data removed]",
      "text/html": [
       "<div id=\"1f34478d-fede-4922-b610-894781fbe1cd\" style=\"height: 525px; width: 100%;\" class=\"plotly-graph-div\"></div><script type=\"text/javascript\">require([\"plotly\"], function(Plotly) { window.PLOTLYENV=window.PLOTLYENV || {};window.PLOTLYENV.BASE_URL=\"https://plot.ly\";Plotly.newPlot(\"1f34478d-fede-4922-b610-894781fbe1cd\", [{\"marker\": {\"color\": \"rgba(255, 153, 51, 0.6)\", \"line\": {\"color\": \"rgba(255, 153, 51, 1.0)\", \"width\": 1}}, \"name\": \"Fatal\", \"orientation\": \"h\", \"text\": \"\", \"x\": [4165, 2354], \"y\": [\"Rural\", \"Urban\"], \"type\": \"bar\", \"uid\": \"788bae8c-8834-11e9-889d-f45c8991f033\"}, {\"marker\": {\"color\": \"rgba(55, 128, 191, 0.6)\", \"line\": {\"color\": \"rgba(55, 128, 191, 1.0)\", \"width\": 1}}, \"name\": \"Serious\", \"orientation\": \"h\", \"text\": \"\", \"x\": [33546, 47693], \"y\": [\"Rural\", \"Urban\"], \"type\": \"bar\", \"uid\": \"788bafd8-8834-11e9-a792-f45c8991f033\"}, {\"marker\": {\"color\": \"rgba(50, 171, 96, 0.6)\", \"line\": {\"color\": \"rgba(50, 171, 96, 1.0)\", \"width\": 1}}, \"name\": \"Slight\", \"orientation\": \"h\", \"text\": \"\", \"x\": [159177, 323674], \"y\": [\"Rural\", \"Urban\"], \"type\": \"bar\", \"uid\": \"788bb094-8834-11e9-91de-f45c8991f033\"}], {\"legend\": {\"bgcolor\": \"#F5F6F9\", \"font\": {\"color\": \"#4D5663\"}}, \"paper_bgcolor\": \"#F5F6F9\", \"plot_bgcolor\": \"#F5F6F9\", \"title\": \"Accident Severity by Geography\", \"titlefont\": {\"color\": \"#4D5663\"}, \"xaxis\": {\"gridcolor\": \"#E1E5ED\", \"showgrid\": true, \"tickfont\": {\"color\": \"#4D5663\"}, \"title\": \"No. of Accidents\", \"titlefont\": {\"color\": \"#4D5663\"}, \"zerolinecolor\": \"#E1E5ED\"}, \"yaxis\": {\"gridcolor\": \"#E1E5ED\", \"showgrid\": true, \"tickfont\": {\"color\": \"#4D5663\"}, \"title\": \"Geography\", \"titlefont\": {\"color\": \"#4D5663\"}, \"zerolinecolor\": \"#E1E5ED\"}}, {\"showLink\": true, \"linkText\": \"Export to plot.ly\"})});</script>"
      ],
      "text/vnd.plotly.v1+html": [
       "<div id=\"1f34478d-fede-4922-b610-894781fbe1cd\" style=\"height: 525px; width: 100%;\" class=\"plotly-graph-div\"></div><script type=\"text/javascript\">require([\"plotly\"], function(Plotly) { window.PLOTLYENV=window.PLOTLYENV || {};window.PLOTLYENV.BASE_URL=\"https://plot.ly\";Plotly.newPlot(\"1f34478d-fede-4922-b610-894781fbe1cd\", [{\"marker\": {\"color\": \"rgba(255, 153, 51, 0.6)\", \"line\": {\"color\": \"rgba(255, 153, 51, 1.0)\", \"width\": 1}}, \"name\": \"Fatal\", \"orientation\": \"h\", \"text\": \"\", \"x\": [4165, 2354], \"y\": [\"Rural\", \"Urban\"], \"type\": \"bar\", \"uid\": \"788bae8c-8834-11e9-889d-f45c8991f033\"}, {\"marker\": {\"color\": \"rgba(55, 128, 191, 0.6)\", \"line\": {\"color\": \"rgba(55, 128, 191, 1.0)\", \"width\": 1}}, \"name\": \"Serious\", \"orientation\": \"h\", \"text\": \"\", \"x\": [33546, 47693], \"y\": [\"Rural\", \"Urban\"], \"type\": \"bar\", \"uid\": \"788bafd8-8834-11e9-a792-f45c8991f033\"}, {\"marker\": {\"color\": \"rgba(50, 171, 96, 0.6)\", \"line\": {\"color\": \"rgba(50, 171, 96, 1.0)\", \"width\": 1}}, \"name\": \"Slight\", \"orientation\": \"h\", \"text\": \"\", \"x\": [159177, 323674], \"y\": [\"Rural\", \"Urban\"], \"type\": \"bar\", \"uid\": \"788bb094-8834-11e9-91de-f45c8991f033\"}], {\"legend\": {\"bgcolor\": \"#F5F6F9\", \"font\": {\"color\": \"#4D5663\"}}, \"paper_bgcolor\": \"#F5F6F9\", \"plot_bgcolor\": \"#F5F6F9\", \"title\": \"Accident Severity by Geography\", \"titlefont\": {\"color\": \"#4D5663\"}, \"xaxis\": {\"gridcolor\": \"#E1E5ED\", \"showgrid\": true, \"tickfont\": {\"color\": \"#4D5663\"}, \"title\": \"No. of Accidents\", \"titlefont\": {\"color\": \"#4D5663\"}, \"zerolinecolor\": \"#E1E5ED\"}, \"yaxis\": {\"gridcolor\": \"#E1E5ED\", \"showgrid\": true, \"tickfont\": {\"color\": \"#4D5663\"}, \"title\": \"Geography\", \"titlefont\": {\"color\": \"#4D5663\"}, \"zerolinecolor\": \"#E1E5ED\"}}, {\"showLink\": true, \"linkText\": \"Export to plot.ly\"})});</script>"
      ]
     },
     "metadata": {},
     "output_type": "display_data"
    }
   ],
   "source": [
    "geo_area_plt.iplot(kind='barh',title='Accident Severity by Geography',xTitle='No. of Accidents',yTitle='Geography')"
   ]
  },
  {
   "cell_type": "markdown",
   "metadata": {},
   "source": [
    "<p> \n",
    "- Fatal Accidents have occurred more in Rural than Urban Areas <br>\n",
    "- Serious and Slight Accidents occur more in Urban areas than Rural <br>\n",
    "</p>"
   ]
  }
 ],
 "metadata": {
  "celltoolbar": "Tags",
  "kernelspec": {
   "display_name": "Python 3",
   "language": "python",
   "name": "python3"
  },
  "language_info": {
   "codemirror_mode": {
    "name": "ipython",
    "version": 3
   },
   "file_extension": ".py",
   "mimetype": "text/x-python",
   "name": "python",
   "nbconvert_exporter": "python",
   "pygments_lexer": "ipython3",
   "version": "3.6.4"
  }
 },
 "nbformat": 4,
 "nbformat_minor": 2
}
